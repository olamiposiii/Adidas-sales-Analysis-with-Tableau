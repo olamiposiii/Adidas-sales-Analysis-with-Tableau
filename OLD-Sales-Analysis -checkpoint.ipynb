{
 "cells": [
  {
   "cell_type": "code",
   "execution_count": 1,
   "id": "482a278d",
   "metadata": {},
   "outputs": [
    {
     "name": "stdout",
     "output_type": "stream",
     "text": [
      "Requirement already satisfied: plotly in c:\\users\\padwa\\appdata\\local\\programs\\python\\python310\\lib\\site-packages (5.14.1)\n",
      "Requirement already satisfied: tenacity>=6.2.0 in c:\\users\\padwa\\appdata\\local\\programs\\python\\python310\\lib\\site-packages (from plotly) (8.2.2)\n",
      "Requirement already satisfied: packaging in c:\\users\\padwa\\appdata\\roaming\\python\\python310\\site-packages (from plotly) (23.0)\n",
      "Note: you may need to restart the kernel to use updated packages.\n"
     ]
    }
   ],
   "source": [
    "pip install plotly"
   ]
  },
  {
   "cell_type": "code",
   "execution_count": 2,
   "id": "15a61afc",
   "metadata": {},
   "outputs": [],
   "source": [
    "import pandas as pd\n",
    "import matplotlib.pyplot as plt\n",
    "import plotly.express as px\n",
    "import plotly.graph_objects as go\n",
    "import seaborn as sns"
   ]
  },
  {
   "cell_type": "code",
   "execution_count": 3,
   "id": "9507335a",
   "metadata": {},
   "outputs": [
    {
     "data": {
      "text/html": [
       "<div>\n",
       "<style scoped>\n",
       "    .dataframe tbody tr th:only-of-type {\n",
       "        vertical-align: middle;\n",
       "    }\n",
       "\n",
       "    .dataframe tbody tr th {\n",
       "        vertical-align: top;\n",
       "    }\n",
       "\n",
       "    .dataframe thead th {\n",
       "        text-align: right;\n",
       "    }\n",
       "</style>\n",
       "<table border=\"1\" class=\"dataframe\">\n",
       "  <thead>\n",
       "    <tr style=\"text-align: right;\">\n",
       "      <th></th>\n",
       "      <th>Retailer</th>\n",
       "      <th>Retailer ID</th>\n",
       "      <th>Invoice Date</th>\n",
       "      <th>Region</th>\n",
       "      <th>State</th>\n",
       "      <th>City</th>\n",
       "      <th>Product</th>\n",
       "      <th>Price per Unit</th>\n",
       "      <th>Units Sold</th>\n",
       "      <th>Total Sales</th>\n",
       "      <th>Operating Profit</th>\n",
       "      <th>Operating Margin</th>\n",
       "      <th>Sales Method</th>\n",
       "    </tr>\n",
       "  </thead>\n",
       "  <tbody>\n",
       "    <tr>\n",
       "      <th>0</th>\n",
       "      <td>Foot Locker</td>\n",
       "      <td>1185732</td>\n",
       "      <td>2020-01-01</td>\n",
       "      <td>Northeast</td>\n",
       "      <td>New York</td>\n",
       "      <td>New York</td>\n",
       "      <td>Men's Street Footwear</td>\n",
       "      <td>50.0</td>\n",
       "      <td>1200</td>\n",
       "      <td>600000.0</td>\n",
       "      <td>300000.0</td>\n",
       "      <td>0.50</td>\n",
       "      <td>In-store</td>\n",
       "    </tr>\n",
       "    <tr>\n",
       "      <th>1</th>\n",
       "      <td>Foot Locker</td>\n",
       "      <td>1185732</td>\n",
       "      <td>2020-01-02</td>\n",
       "      <td>Northeast</td>\n",
       "      <td>New York</td>\n",
       "      <td>New York</td>\n",
       "      <td>Men's Athletic Footwear</td>\n",
       "      <td>50.0</td>\n",
       "      <td>1000</td>\n",
       "      <td>500000.0</td>\n",
       "      <td>150000.0</td>\n",
       "      <td>0.30</td>\n",
       "      <td>In-store</td>\n",
       "    </tr>\n",
       "    <tr>\n",
       "      <th>2</th>\n",
       "      <td>Foot Locker</td>\n",
       "      <td>1185732</td>\n",
       "      <td>2020-01-03</td>\n",
       "      <td>Northeast</td>\n",
       "      <td>New York</td>\n",
       "      <td>New York</td>\n",
       "      <td>Women's Street Footwear</td>\n",
       "      <td>40.0</td>\n",
       "      <td>1000</td>\n",
       "      <td>400000.0</td>\n",
       "      <td>140000.0</td>\n",
       "      <td>0.35</td>\n",
       "      <td>In-store</td>\n",
       "    </tr>\n",
       "    <tr>\n",
       "      <th>3</th>\n",
       "      <td>Foot Locker</td>\n",
       "      <td>1185732</td>\n",
       "      <td>2020-01-04</td>\n",
       "      <td>Northeast</td>\n",
       "      <td>New York</td>\n",
       "      <td>New York</td>\n",
       "      <td>Women's Athletic Footwear</td>\n",
       "      <td>45.0</td>\n",
       "      <td>850</td>\n",
       "      <td>382500.0</td>\n",
       "      <td>133875.0</td>\n",
       "      <td>0.35</td>\n",
       "      <td>In-store</td>\n",
       "    </tr>\n",
       "    <tr>\n",
       "      <th>4</th>\n",
       "      <td>Foot Locker</td>\n",
       "      <td>1185732</td>\n",
       "      <td>2020-01-05</td>\n",
       "      <td>Northeast</td>\n",
       "      <td>New York</td>\n",
       "      <td>New York</td>\n",
       "      <td>Men's Apparel</td>\n",
       "      <td>60.0</td>\n",
       "      <td>900</td>\n",
       "      <td>540000.0</td>\n",
       "      <td>162000.0</td>\n",
       "      <td>0.30</td>\n",
       "      <td>In-store</td>\n",
       "    </tr>\n",
       "  </tbody>\n",
       "</table>\n",
       "</div>"
      ],
      "text/plain": [
       "      Retailer  Retailer ID Invoice Date     Region     State      City  \\\n",
       "0  Foot Locker      1185732   2020-01-01  Northeast  New York  New York   \n",
       "1  Foot Locker      1185732   2020-01-02  Northeast  New York  New York   \n",
       "2  Foot Locker      1185732   2020-01-03  Northeast  New York  New York   \n",
       "3  Foot Locker      1185732   2020-01-04  Northeast  New York  New York   \n",
       "4  Foot Locker      1185732   2020-01-05  Northeast  New York  New York   \n",
       "\n",
       "                     Product  Price per Unit  Units Sold  Total Sales  \\\n",
       "0      Men's Street Footwear            50.0        1200     600000.0   \n",
       "1    Men's Athletic Footwear            50.0        1000     500000.0   \n",
       "2    Women's Street Footwear            40.0        1000     400000.0   \n",
       "3  Women's Athletic Footwear            45.0         850     382500.0   \n",
       "4              Men's Apparel            60.0         900     540000.0   \n",
       "\n",
       "   Operating Profit  Operating Margin Sales Method  \n",
       "0          300000.0              0.50     In-store  \n",
       "1          150000.0              0.30     In-store  \n",
       "2          140000.0              0.35     In-store  \n",
       "3          133875.0              0.35     In-store  \n",
       "4          162000.0              0.30     In-store  "
      ]
     },
     "execution_count": 3,
     "metadata": {},
     "output_type": "execute_result"
    }
   ],
   "source": [
    "df = pd.read_excel(r'C:\\Users\\padwa\\Downloads\\Adidas Sales US\\Adidas US Sales Datasets.xlsx')\n",
    "df.head()"
   ]
  },
  {
   "cell_type": "markdown",
   "id": "22d443e3",
   "metadata": {},
   "source": [
    "Business problems that can be solved using this dataset:\n",
    "1) Sales Performance Analysis: By examining trends in total sales and units sold we can identify which products are performing well and which are underperforming. This analysis can guide inventory management and marketing strategies.\n",
    "2) Regional Market Analysis: Using the regions data we can identify which stores are performing good and which are performing poor. \n",
    "3) Profit Margin analysis: We can identify how profit margins affect sales. (does high margin equal high sale)\n",
    "4) Efficiency of Sales Methods: By analyzing sales method like in-store and online we can find out which is best effective.\n",
    "5) Price optimization: We can find out if only a certin price range affects sales volume.\n",
    "6) Product Portfolio Optimization I: Understanding which products are most profitable location wise.\n",
    "7) Product Portfolio Optimization II: Understanding which products are worst performing regardless of the location.\n",
    "8) Market Expansion Opportunities: Finding out the best and worst performing store location wise.\n",
    "9) Time Series Analysis: Observe the sales trend over time to find out if there exists any monthly trend.\n",
    "10) Predictive Sales Analysis: Make a Prediction of monthly sales"
   ]
  },
  {
   "cell_type": "code",
   "execution_count": 51,
   "id": "b2d05f39",
   "metadata": {},
   "outputs": [],
   "source": [
    "# 1) Sales Performance Analysis: By examining trends in total sales and units sold we can identify which products are performing well and which are underperforming. This analysis can guide inventory management and marketing strategies."
   ]
  },
  {
   "cell_type": "code",
   "execution_count": null,
   "id": "6f3152e3",
   "metadata": {},
   "outputs": [],
   "source": []
  },
  {
   "cell_type": "markdown",
   "id": "3c64adf3",
   "metadata": {},
   "source": [
    "### 1.Sales Performance Analysis: \n",
    "By examining trends in total sales and units sold we can identify which products are performing well and which are underperforming. This analysis can guide inventory management and marketing strategies."
   ]
  },
  {
   "cell_type": "code",
   "execution_count": 4,
   "id": "f5aee477",
   "metadata": {},
   "outputs": [
    {
     "data": {
      "text/plain": [
       "array([\"Men's Street Footwear\", \"Men's Athletic Footwear\",\n",
       "       \"Women's Street Footwear\", \"Women's Athletic Footwear\",\n",
       "       \"Men's Apparel\", \"Women's Apparel\"], dtype=object)"
      ]
     },
     "execution_count": 4,
     "metadata": {},
     "output_type": "execute_result"
    }
   ],
   "source": [
    "#finding all the unique products \n",
    "df['Product'].unique()"
   ]
  },
  {
   "cell_type": "code",
   "execution_count": 5,
   "metadata": {},
   "outputs": [],
   "source": [
    "# Convert 'Invoice Date' from 'm/dd/yyyy' to datetime\n",
    "df['Invoice Date'] = pd.to_datetime(df['Invoice Date'], format='%m/%d/%Y')"
   ]
  },
  {
   "cell_type": "markdown",
   "metadata": {},
   "source": [
    "#### 1.1 Product vs. Total Sales"
   ]
  },
  {
   "cell_type": "markdown",
   "metadata": {},
   "source": [
    "##### 1.1.1 Product vs. Total Sales (Graphical)"
   ]
  },
  {
   "cell_type": "code",
   "execution_count": 6,
   "id": "619bc74d",
   "metadata": {},
   "outputs": [
    {
     "data": {
      "application/vnd.plotly.v1+json": {
       "config": {
        "plotlyServerURL": "https://plot.ly"
       },
       "data": [
        {
         "alignmentgroup": "True",
         "hovertemplate": "Product=%{x}<br>Total Sales=%{marker.color}<extra></extra>",
         "legendgroup": "",
         "marker": {
          "color": [
           208826244,
           179038860,
           153673680.00000003,
           128002813.00000001,
           123728632,
           106631896
          ],
          "coloraxis": "coloraxis",
          "pattern": {
           "shape": ""
          }
         },
         "name": "",
         "offsetgroup": "",
         "orientation": "v",
         "showlegend": false,
         "textposition": "auto",
         "type": "bar",
         "x": [
          "Men's Street Footwear",
          "Women's Apparel",
          "Men's Athletic Footwear",
          "Women's Street Footwear",
          "Men's Apparel",
          "Women's Athletic Footwear"
         ],
         "xaxis": "x",
         "y": [
          208826244,
          179038860,
          153673680.00000003,
          128002813.00000001,
          123728632,
          106631896
         ],
         "yaxis": "y"
        }
       ],
       "layout": {
        "barmode": "relative",
        "coloraxis": {
         "colorbar": {
          "title": {
           "text": "Total Sales"
          }
         },
         "colorscale": [
          [
           0,
           "#0d0887"
          ],
          [
           0.1111111111111111,
           "#46039f"
          ],
          [
           0.2222222222222222,
           "#7201a8"
          ],
          [
           0.3333333333333333,
           "#9c179e"
          ],
          [
           0.4444444444444444,
           "#bd3786"
          ],
          [
           0.5555555555555556,
           "#d8576b"
          ],
          [
           0.6666666666666666,
           "#ed7953"
          ],
          [
           0.7777777777777778,
           "#fb9f3a"
          ],
          [
           0.8888888888888888,
           "#fdca26"
          ],
          [
           1,
           "#f0f921"
          ]
         ]
        },
        "height": 500,
        "legend": {
         "tracegroupgap": 0
        },
        "margin": {
         "t": 60
        },
        "template": {
         "data": {
          "bar": [
           {
            "error_x": {
             "color": "#2a3f5f"
            },
            "error_y": {
             "color": "#2a3f5f"
            },
            "marker": {
             "line": {
              "color": "#E5ECF6",
              "width": 0.5
             },
             "pattern": {
              "fillmode": "overlay",
              "size": 10,
              "solidity": 0.2
             }
            },
            "type": "bar"
           }
          ],
          "barpolar": [
           {
            "marker": {
             "line": {
              "color": "#E5ECF6",
              "width": 0.5
             },
             "pattern": {
              "fillmode": "overlay",
              "size": 10,
              "solidity": 0.2
             }
            },
            "type": "barpolar"
           }
          ],
          "carpet": [
           {
            "aaxis": {
             "endlinecolor": "#2a3f5f",
             "gridcolor": "white",
             "linecolor": "white",
             "minorgridcolor": "white",
             "startlinecolor": "#2a3f5f"
            },
            "baxis": {
             "endlinecolor": "#2a3f5f",
             "gridcolor": "white",
             "linecolor": "white",
             "minorgridcolor": "white",
             "startlinecolor": "#2a3f5f"
            },
            "type": "carpet"
           }
          ],
          "choropleth": [
           {
            "colorbar": {
             "outlinewidth": 0,
             "ticks": ""
            },
            "type": "choropleth"
           }
          ],
          "contour": [
           {
            "colorbar": {
             "outlinewidth": 0,
             "ticks": ""
            },
            "colorscale": [
             [
              0,
              "#0d0887"
             ],
             [
              0.1111111111111111,
              "#46039f"
             ],
             [
              0.2222222222222222,
              "#7201a8"
             ],
             [
              0.3333333333333333,
              "#9c179e"
             ],
             [
              0.4444444444444444,
              "#bd3786"
             ],
             [
              0.5555555555555556,
              "#d8576b"
             ],
             [
              0.6666666666666666,
              "#ed7953"
             ],
             [
              0.7777777777777778,
              "#fb9f3a"
             ],
             [
              0.8888888888888888,
              "#fdca26"
             ],
             [
              1,
              "#f0f921"
             ]
            ],
            "type": "contour"
           }
          ],
          "contourcarpet": [
           {
            "colorbar": {
             "outlinewidth": 0,
             "ticks": ""
            },
            "type": "contourcarpet"
           }
          ],
          "heatmap": [
           {
            "colorbar": {
             "outlinewidth": 0,
             "ticks": ""
            },
            "colorscale": [
             [
              0,
              "#0d0887"
             ],
             [
              0.1111111111111111,
              "#46039f"
             ],
             [
              0.2222222222222222,
              "#7201a8"
             ],
             [
              0.3333333333333333,
              "#9c179e"
             ],
             [
              0.4444444444444444,
              "#bd3786"
             ],
             [
              0.5555555555555556,
              "#d8576b"
             ],
             [
              0.6666666666666666,
              "#ed7953"
             ],
             [
              0.7777777777777778,
              "#fb9f3a"
             ],
             [
              0.8888888888888888,
              "#fdca26"
             ],
             [
              1,
              "#f0f921"
             ]
            ],
            "type": "heatmap"
           }
          ],
          "heatmapgl": [
           {
            "colorbar": {
             "outlinewidth": 0,
             "ticks": ""
            },
            "colorscale": [
             [
              0,
              "#0d0887"
             ],
             [
              0.1111111111111111,
              "#46039f"
             ],
             [
              0.2222222222222222,
              "#7201a8"
             ],
             [
              0.3333333333333333,
              "#9c179e"
             ],
             [
              0.4444444444444444,
              "#bd3786"
             ],
             [
              0.5555555555555556,
              "#d8576b"
             ],
             [
              0.6666666666666666,
              "#ed7953"
             ],
             [
              0.7777777777777778,
              "#fb9f3a"
             ],
             [
              0.8888888888888888,
              "#fdca26"
             ],
             [
              1,
              "#f0f921"
             ]
            ],
            "type": "heatmapgl"
           }
          ],
          "histogram": [
           {
            "marker": {
             "pattern": {
              "fillmode": "overlay",
              "size": 10,
              "solidity": 0.2
             }
            },
            "type": "histogram"
           }
          ],
          "histogram2d": [
           {
            "colorbar": {
             "outlinewidth": 0,
             "ticks": ""
            },
            "colorscale": [
             [
              0,
              "#0d0887"
             ],
             [
              0.1111111111111111,
              "#46039f"
             ],
             [
              0.2222222222222222,
              "#7201a8"
             ],
             [
              0.3333333333333333,
              "#9c179e"
             ],
             [
              0.4444444444444444,
              "#bd3786"
             ],
             [
              0.5555555555555556,
              "#d8576b"
             ],
             [
              0.6666666666666666,
              "#ed7953"
             ],
             [
              0.7777777777777778,
              "#fb9f3a"
             ],
             [
              0.8888888888888888,
              "#fdca26"
             ],
             [
              1,
              "#f0f921"
             ]
            ],
            "type": "histogram2d"
           }
          ],
          "histogram2dcontour": [
           {
            "colorbar": {
             "outlinewidth": 0,
             "ticks": ""
            },
            "colorscale": [
             [
              0,
              "#0d0887"
             ],
             [
              0.1111111111111111,
              "#46039f"
             ],
             [
              0.2222222222222222,
              "#7201a8"
             ],
             [
              0.3333333333333333,
              "#9c179e"
             ],
             [
              0.4444444444444444,
              "#bd3786"
             ],
             [
              0.5555555555555556,
              "#d8576b"
             ],
             [
              0.6666666666666666,
              "#ed7953"
             ],
             [
              0.7777777777777778,
              "#fb9f3a"
             ],
             [
              0.8888888888888888,
              "#fdca26"
             ],
             [
              1,
              "#f0f921"
             ]
            ],
            "type": "histogram2dcontour"
           }
          ],
          "mesh3d": [
           {
            "colorbar": {
             "outlinewidth": 0,
             "ticks": ""
            },
            "type": "mesh3d"
           }
          ],
          "parcoords": [
           {
            "line": {
             "colorbar": {
              "outlinewidth": 0,
              "ticks": ""
             }
            },
            "type": "parcoords"
           }
          ],
          "pie": [
           {
            "automargin": true,
            "type": "pie"
           }
          ],
          "scatter": [
           {
            "fillpattern": {
             "fillmode": "overlay",
             "size": 10,
             "solidity": 0.2
            },
            "type": "scatter"
           }
          ],
          "scatter3d": [
           {
            "line": {
             "colorbar": {
              "outlinewidth": 0,
              "ticks": ""
             }
            },
            "marker": {
             "colorbar": {
              "outlinewidth": 0,
              "ticks": ""
             }
            },
            "type": "scatter3d"
           }
          ],
          "scattercarpet": [
           {
            "marker": {
             "colorbar": {
              "outlinewidth": 0,
              "ticks": ""
             }
            },
            "type": "scattercarpet"
           }
          ],
          "scattergeo": [
           {
            "marker": {
             "colorbar": {
              "outlinewidth": 0,
              "ticks": ""
             }
            },
            "type": "scattergeo"
           }
          ],
          "scattergl": [
           {
            "marker": {
             "colorbar": {
              "outlinewidth": 0,
              "ticks": ""
             }
            },
            "type": "scattergl"
           }
          ],
          "scattermapbox": [
           {
            "marker": {
             "colorbar": {
              "outlinewidth": 0,
              "ticks": ""
             }
            },
            "type": "scattermapbox"
           }
          ],
          "scatterpolar": [
           {
            "marker": {
             "colorbar": {
              "outlinewidth": 0,
              "ticks": ""
             }
            },
            "type": "scatterpolar"
           }
          ],
          "scatterpolargl": [
           {
            "marker": {
             "colorbar": {
              "outlinewidth": 0,
              "ticks": ""
             }
            },
            "type": "scatterpolargl"
           }
          ],
          "scatterternary": [
           {
            "marker": {
             "colorbar": {
              "outlinewidth": 0,
              "ticks": ""
             }
            },
            "type": "scatterternary"
           }
          ],
          "surface": [
           {
            "colorbar": {
             "outlinewidth": 0,
             "ticks": ""
            },
            "colorscale": [
             [
              0,
              "#0d0887"
             ],
             [
              0.1111111111111111,
              "#46039f"
             ],
             [
              0.2222222222222222,
              "#7201a8"
             ],
             [
              0.3333333333333333,
              "#9c179e"
             ],
             [
              0.4444444444444444,
              "#bd3786"
             ],
             [
              0.5555555555555556,
              "#d8576b"
             ],
             [
              0.6666666666666666,
              "#ed7953"
             ],
             [
              0.7777777777777778,
              "#fb9f3a"
             ],
             [
              0.8888888888888888,
              "#fdca26"
             ],
             [
              1,
              "#f0f921"
             ]
            ],
            "type": "surface"
           }
          ],
          "table": [
           {
            "cells": {
             "fill": {
              "color": "#EBF0F8"
             },
             "line": {
              "color": "white"
             }
            },
            "header": {
             "fill": {
              "color": "#C8D4E3"
             },
             "line": {
              "color": "white"
             }
            },
            "type": "table"
           }
          ]
         },
         "layout": {
          "annotationdefaults": {
           "arrowcolor": "#2a3f5f",
           "arrowhead": 0,
           "arrowwidth": 1
          },
          "autotypenumbers": "strict",
          "coloraxis": {
           "colorbar": {
            "outlinewidth": 0,
            "ticks": ""
           }
          },
          "colorscale": {
           "diverging": [
            [
             0,
             "#8e0152"
            ],
            [
             0.1,
             "#c51b7d"
            ],
            [
             0.2,
             "#de77ae"
            ],
            [
             0.3,
             "#f1b6da"
            ],
            [
             0.4,
             "#fde0ef"
            ],
            [
             0.5,
             "#f7f7f7"
            ],
            [
             0.6,
             "#e6f5d0"
            ],
            [
             0.7,
             "#b8e186"
            ],
            [
             0.8,
             "#7fbc41"
            ],
            [
             0.9,
             "#4d9221"
            ],
            [
             1,
             "#276419"
            ]
           ],
           "sequential": [
            [
             0,
             "#0d0887"
            ],
            [
             0.1111111111111111,
             "#46039f"
            ],
            [
             0.2222222222222222,
             "#7201a8"
            ],
            [
             0.3333333333333333,
             "#9c179e"
            ],
            [
             0.4444444444444444,
             "#bd3786"
            ],
            [
             0.5555555555555556,
             "#d8576b"
            ],
            [
             0.6666666666666666,
             "#ed7953"
            ],
            [
             0.7777777777777778,
             "#fb9f3a"
            ],
            [
             0.8888888888888888,
             "#fdca26"
            ],
            [
             1,
             "#f0f921"
            ]
           ],
           "sequentialminus": [
            [
             0,
             "#0d0887"
            ],
            [
             0.1111111111111111,
             "#46039f"
            ],
            [
             0.2222222222222222,
             "#7201a8"
            ],
            [
             0.3333333333333333,
             "#9c179e"
            ],
            [
             0.4444444444444444,
             "#bd3786"
            ],
            [
             0.5555555555555556,
             "#d8576b"
            ],
            [
             0.6666666666666666,
             "#ed7953"
            ],
            [
             0.7777777777777778,
             "#fb9f3a"
            ],
            [
             0.8888888888888888,
             "#fdca26"
            ],
            [
             1,
             "#f0f921"
            ]
           ]
          },
          "colorway": [
           "#636efa",
           "#EF553B",
           "#00cc96",
           "#ab63fa",
           "#FFA15A",
           "#19d3f3",
           "#FF6692",
           "#B6E880",
           "#FF97FF",
           "#FECB52"
          ],
          "font": {
           "color": "#2a3f5f"
          },
          "geo": {
           "bgcolor": "white",
           "lakecolor": "white",
           "landcolor": "#E5ECF6",
           "showlakes": true,
           "showland": true,
           "subunitcolor": "white"
          },
          "hoverlabel": {
           "align": "left"
          },
          "hovermode": "closest",
          "mapbox": {
           "style": "light"
          },
          "paper_bgcolor": "white",
          "plot_bgcolor": "#E5ECF6",
          "polar": {
           "angularaxis": {
            "gridcolor": "white",
            "linecolor": "white",
            "ticks": ""
           },
           "bgcolor": "#E5ECF6",
           "radialaxis": {
            "gridcolor": "white",
            "linecolor": "white",
            "ticks": ""
           }
          },
          "scene": {
           "xaxis": {
            "backgroundcolor": "#E5ECF6",
            "gridcolor": "white",
            "gridwidth": 2,
            "linecolor": "white",
            "showbackground": true,
            "ticks": "",
            "zerolinecolor": "white"
           },
           "yaxis": {
            "backgroundcolor": "#E5ECF6",
            "gridcolor": "white",
            "gridwidth": 2,
            "linecolor": "white",
            "showbackground": true,
            "ticks": "",
            "zerolinecolor": "white"
           },
           "zaxis": {
            "backgroundcolor": "#E5ECF6",
            "gridcolor": "white",
            "gridwidth": 2,
            "linecolor": "white",
            "showbackground": true,
            "ticks": "",
            "zerolinecolor": "white"
           }
          },
          "shapedefaults": {
           "line": {
            "color": "#2a3f5f"
           }
          },
          "ternary": {
           "aaxis": {
            "gridcolor": "white",
            "linecolor": "white",
            "ticks": ""
           },
           "baxis": {
            "gridcolor": "white",
            "linecolor": "white",
            "ticks": ""
           },
           "bgcolor": "#E5ECF6",
           "caxis": {
            "gridcolor": "white",
            "linecolor": "white",
            "ticks": ""
           }
          },
          "title": {
           "x": 0.05
          },
          "xaxis": {
           "automargin": true,
           "gridcolor": "white",
           "linecolor": "white",
           "ticks": "",
           "title": {
            "standoff": 15
           },
           "zerolinecolor": "white",
           "zerolinewidth": 2
          },
          "yaxis": {
           "automargin": true,
           "gridcolor": "white",
           "linecolor": "white",
           "ticks": "",
           "title": {
            "standoff": 15
           },
           "zerolinecolor": "white",
           "zerolinewidth": 2
          }
         }
        },
        "xaxis": {
         "anchor": "y",
         "domain": [
          0,
          1
         ],
         "title": {
          "text": "Product"
         }
        },
        "yaxis": {
         "anchor": "x",
         "domain": [
          0,
          1
         ],
         "title": {
          "text": "Total Sales"
         }
        }
       }
      }
     },
     "metadata": {},
     "output_type": "display_data"
    }
   ],
   "source": [
    "descending_total_sales_df = df.groupby('Product')['Total Sales'].sum().reset_index()\n",
    "descending_total_sales_df = descending_total_sales_df.sort_values(by='Total Sales', ascending=False)\n",
    "\n",
    "fig = px.bar(descending_total_sales_df, x='Product', y='Total Sales', color = 'Total Sales', height = 500)\n",
    "fig.show()"
   ]
  },
  {
   "cell_type": "markdown",
   "metadata": {},
   "source": [
    "##### 1.1.2 Product vs Total Sales (Tabular)"
   ]
  },
  {
   "cell_type": "code",
   "execution_count": 7,
   "metadata": {},
   "outputs": [
    {
     "data": {
      "text/html": [
       "<div>\n",
       "<style scoped>\n",
       "    .dataframe tbody tr th:only-of-type {\n",
       "        vertical-align: middle;\n",
       "    }\n",
       "\n",
       "    .dataframe tbody tr th {\n",
       "        vertical-align: top;\n",
       "    }\n",
       "\n",
       "    .dataframe thead th {\n",
       "        text-align: right;\n",
       "    }\n",
       "</style>\n",
       "<table border=\"1\" class=\"dataframe\">\n",
       "  <thead>\n",
       "    <tr style=\"text-align: right;\">\n",
       "      <th></th>\n",
       "      <th>Product</th>\n",
       "      <th>Total Sales (Mil $)</th>\n",
       "    </tr>\n",
       "  </thead>\n",
       "  <tbody>\n",
       "    <tr>\n",
       "      <th>0</th>\n",
       "      <td>Men's Apparel</td>\n",
       "      <td>123.73</td>\n",
       "    </tr>\n",
       "    <tr>\n",
       "      <th>1</th>\n",
       "      <td>Men's Athletic Footwear</td>\n",
       "      <td>153.67</td>\n",
       "    </tr>\n",
       "    <tr>\n",
       "      <th>2</th>\n",
       "      <td>Men's Street Footwear</td>\n",
       "      <td>208.83</td>\n",
       "    </tr>\n",
       "    <tr>\n",
       "      <th>3</th>\n",
       "      <td>Women's Apparel</td>\n",
       "      <td>179.04</td>\n",
       "    </tr>\n",
       "    <tr>\n",
       "      <th>4</th>\n",
       "      <td>Women's Athletic Footwear</td>\n",
       "      <td>106.63</td>\n",
       "    </tr>\n",
       "  </tbody>\n",
       "</table>\n",
       "</div>"
      ],
      "text/plain": [
       "                     Product  Total Sales (Mil $)\n",
       "0              Men's Apparel               123.73\n",
       "1    Men's Athletic Footwear               153.67\n",
       "2      Men's Street Footwear               208.83\n",
       "3            Women's Apparel               179.04\n",
       "4  Women's Athletic Footwear               106.63"
      ]
     },
     "execution_count": 7,
     "metadata": {},
     "output_type": "execute_result"
    }
   ],
   "source": [
    "descending_total_sales_df = df.groupby('Product')['Total Sales'].sum().reset_index()\n",
    "\n",
    "# Converting 'Total Profit' from scientific notation to millions and round to 2 decimal places\n",
    "descending_total_sales_df['Total Sales'] = round(descending_total_sales_df['Total Sales'] / 1e6, 2)\n",
    "\n",
    "# Renaming the 'Total Profit'\n",
    "descending_total_sales_df = descending_total_sales_df.rename(columns={\"Total Sales\": \"Total Sales (Mil $)\"})\n",
    "\n",
    "descending_total_sales_df.head()\n"
   ]
  },
  {
   "cell_type": "markdown",
   "metadata": {},
   "source": [
    "#### 1.2 Product vs. Total Profit"
   ]
  },
  {
   "cell_type": "markdown",
   "metadata": {},
   "source": [
    "##### 1.2.1 Product vs. Total Profit (Graphical)"
   ]
  },
  {
   "cell_type": "code",
   "execution_count": 8,
   "metadata": {},
   "outputs": [
    {
     "data": {
      "text/plain": [
       "0    300000.0\n",
       "1    350000.0\n",
       "Name: Total Profit, dtype: float64"
      ]
     },
     "execution_count": 8,
     "metadata": {},
     "output_type": "execute_result"
    }
   ],
   "source": [
    "df['Total Profit'] = df['Total Sales'] - df['Operating Profit']\n",
    "df['Total Profit'].head(2)\n",
    "\n",
    "# We found out the total profit, but this profit is for individual product and NOT for the product category."
   ]
  },
  {
   "cell_type": "code",
   "execution_count": 9,
   "id": "e70ac682",
   "metadata": {},
   "outputs": [
    {
     "data": {
      "application/vnd.plotly.v1+json": {
       "config": {
        "plotlyServerURL": "https://plot.ly"
       },
       "data": [
        {
         "alignmentgroup": "True",
         "hovertemplate": "Product=%{x}<br>Total Profit=%{y}<extra></extra>",
         "legendgroup": "Men's Street Footwear",
         "marker": {
          "color": "#636efa",
          "pattern": {
           "shape": ""
          }
         },
         "name": "Men's Street Footwear",
         "offsetgroup": "Men's Street Footwear",
         "orientation": "v",
         "showlegend": true,
         "textposition": "auto",
         "texttemplate": "%{y}",
         "type": "bar",
         "x": [
          "Men's Street Footwear"
         ],
         "xaxis": "x",
         "y": [
          126023983.38000001
         ],
         "yaxis": "y"
        },
        {
         "alignmentgroup": "True",
         "hovertemplate": "Product=%{x}<br>Total Profit=%{y}<extra></extra>",
         "legendgroup": "Women's Apparel",
         "marker": {
          "color": "#EF553B",
          "pattern": {
           "shape": ""
          }
         },
         "name": "Women's Apparel",
         "offsetgroup": "Women's Apparel",
         "orientation": "v",
         "showlegend": true,
         "textposition": "auto",
         "texttemplate": "%{y}",
         "type": "bar",
         "x": [
          "Women's Apparel"
         ],
         "xaxis": "x",
         "y": [
          110387889.44
         ],
         "yaxis": "y"
        },
        {
         "alignmentgroup": "True",
         "hovertemplate": "Product=%{x}<br>Total Profit=%{y}<extra></extra>",
         "legendgroup": "Men's Athletic Footwear",
         "marker": {
          "color": "#00cc96",
          "pattern": {
           "shape": ""
          }
         },
         "name": "Men's Athletic Footwear",
         "offsetgroup": "Men's Athletic Footwear",
         "orientation": "v",
         "showlegend": true,
         "textposition": "auto",
         "texttemplate": "%{y}",
         "type": "bar",
         "x": [
          "Men's Athletic Footwear"
         ],
         "xaxis": "x",
         "y": [
          101826791.81000002
         ],
         "yaxis": "y"
        },
        {
         "alignmentgroup": "True",
         "hovertemplate": "Product=%{x}<br>Total Profit=%{y}<extra></extra>",
         "legendgroup": "Women's Street Footwear",
         "marker": {
          "color": "#ab63fa",
          "pattern": {
           "shape": ""
          }
         },
         "name": "Women's Street Footwear",
         "offsetgroup": "Women's Street Footwear",
         "orientation": "v",
         "showlegend": true,
         "textposition": "auto",
         "texttemplate": "%{y}",
         "type": "bar",
         "x": [
          "Women's Street Footwear"
         ],
         "xaxis": "x",
         "y": [
          82906986.19000001
         ],
         "yaxis": "y"
        },
        {
         "alignmentgroup": "True",
         "hovertemplate": "Product=%{x}<br>Total Profit=%{y}<extra></extra>",
         "legendgroup": "Men's Apparel",
         "marker": {
          "color": "#FFA15A",
          "pattern": {
           "shape": ""
          }
         },
         "name": "Men's Apparel",
         "offsetgroup": "Men's Apparel",
         "orientation": "v",
         "showlegend": true,
         "textposition": "auto",
         "texttemplate": "%{y}",
         "type": "bar",
         "x": [
          "Men's Apparel"
         ],
         "xaxis": "x",
         "y": [
          78965601.67
         ],
         "yaxis": "y"
        },
        {
         "alignmentgroup": "True",
         "hovertemplate": "Product=%{x}<br>Total Profit=%{y}<extra></extra>",
         "legendgroup": "Women's Athletic Footwear",
         "marker": {
          "color": "#19d3f3",
          "pattern": {
           "shape": ""
          }
         },
         "name": "Women's Athletic Footwear",
         "offsetgroup": "Women's Athletic Footwear",
         "orientation": "v",
         "showlegend": true,
         "textposition": "auto",
         "texttemplate": "%{y}",
         "type": "bar",
         "x": [
          "Women's Athletic Footwear"
         ],
         "xaxis": "x",
         "y": [
          67656111.06
         ],
         "yaxis": "y"
        }
       ],
       "layout": {
        "barmode": "relative",
        "legend": {
         "title": {
          "text": "Product"
         },
         "tracegroupgap": 0
        },
        "template": {
         "data": {
          "bar": [
           {
            "error_x": {
             "color": "#2a3f5f"
            },
            "error_y": {
             "color": "#2a3f5f"
            },
            "marker": {
             "line": {
              "color": "#E5ECF6",
              "width": 0.5
             },
             "pattern": {
              "fillmode": "overlay",
              "size": 10,
              "solidity": 0.2
             }
            },
            "type": "bar"
           }
          ],
          "barpolar": [
           {
            "marker": {
             "line": {
              "color": "#E5ECF6",
              "width": 0.5
             },
             "pattern": {
              "fillmode": "overlay",
              "size": 10,
              "solidity": 0.2
             }
            },
            "type": "barpolar"
           }
          ],
          "carpet": [
           {
            "aaxis": {
             "endlinecolor": "#2a3f5f",
             "gridcolor": "white",
             "linecolor": "white",
             "minorgridcolor": "white",
             "startlinecolor": "#2a3f5f"
            },
            "baxis": {
             "endlinecolor": "#2a3f5f",
             "gridcolor": "white",
             "linecolor": "white",
             "minorgridcolor": "white",
             "startlinecolor": "#2a3f5f"
            },
            "type": "carpet"
           }
          ],
          "choropleth": [
           {
            "colorbar": {
             "outlinewidth": 0,
             "ticks": ""
            },
            "type": "choropleth"
           }
          ],
          "contour": [
           {
            "colorbar": {
             "outlinewidth": 0,
             "ticks": ""
            },
            "colorscale": [
             [
              0,
              "#0d0887"
             ],
             [
              0.1111111111111111,
              "#46039f"
             ],
             [
              0.2222222222222222,
              "#7201a8"
             ],
             [
              0.3333333333333333,
              "#9c179e"
             ],
             [
              0.4444444444444444,
              "#bd3786"
             ],
             [
              0.5555555555555556,
              "#d8576b"
             ],
             [
              0.6666666666666666,
              "#ed7953"
             ],
             [
              0.7777777777777778,
              "#fb9f3a"
             ],
             [
              0.8888888888888888,
              "#fdca26"
             ],
             [
              1,
              "#f0f921"
             ]
            ],
            "type": "contour"
           }
          ],
          "contourcarpet": [
           {
            "colorbar": {
             "outlinewidth": 0,
             "ticks": ""
            },
            "type": "contourcarpet"
           }
          ],
          "heatmap": [
           {
            "colorbar": {
             "outlinewidth": 0,
             "ticks": ""
            },
            "colorscale": [
             [
              0,
              "#0d0887"
             ],
             [
              0.1111111111111111,
              "#46039f"
             ],
             [
              0.2222222222222222,
              "#7201a8"
             ],
             [
              0.3333333333333333,
              "#9c179e"
             ],
             [
              0.4444444444444444,
              "#bd3786"
             ],
             [
              0.5555555555555556,
              "#d8576b"
             ],
             [
              0.6666666666666666,
              "#ed7953"
             ],
             [
              0.7777777777777778,
              "#fb9f3a"
             ],
             [
              0.8888888888888888,
              "#fdca26"
             ],
             [
              1,
              "#f0f921"
             ]
            ],
            "type": "heatmap"
           }
          ],
          "heatmapgl": [
           {
            "colorbar": {
             "outlinewidth": 0,
             "ticks": ""
            },
            "colorscale": [
             [
              0,
              "#0d0887"
             ],
             [
              0.1111111111111111,
              "#46039f"
             ],
             [
              0.2222222222222222,
              "#7201a8"
             ],
             [
              0.3333333333333333,
              "#9c179e"
             ],
             [
              0.4444444444444444,
              "#bd3786"
             ],
             [
              0.5555555555555556,
              "#d8576b"
             ],
             [
              0.6666666666666666,
              "#ed7953"
             ],
             [
              0.7777777777777778,
              "#fb9f3a"
             ],
             [
              0.8888888888888888,
              "#fdca26"
             ],
             [
              1,
              "#f0f921"
             ]
            ],
            "type": "heatmapgl"
           }
          ],
          "histogram": [
           {
            "marker": {
             "pattern": {
              "fillmode": "overlay",
              "size": 10,
              "solidity": 0.2
             }
            },
            "type": "histogram"
           }
          ],
          "histogram2d": [
           {
            "colorbar": {
             "outlinewidth": 0,
             "ticks": ""
            },
            "colorscale": [
             [
              0,
              "#0d0887"
             ],
             [
              0.1111111111111111,
              "#46039f"
             ],
             [
              0.2222222222222222,
              "#7201a8"
             ],
             [
              0.3333333333333333,
              "#9c179e"
             ],
             [
              0.4444444444444444,
              "#bd3786"
             ],
             [
              0.5555555555555556,
              "#d8576b"
             ],
             [
              0.6666666666666666,
              "#ed7953"
             ],
             [
              0.7777777777777778,
              "#fb9f3a"
             ],
             [
              0.8888888888888888,
              "#fdca26"
             ],
             [
              1,
              "#f0f921"
             ]
            ],
            "type": "histogram2d"
           }
          ],
          "histogram2dcontour": [
           {
            "colorbar": {
             "outlinewidth": 0,
             "ticks": ""
            },
            "colorscale": [
             [
              0,
              "#0d0887"
             ],
             [
              0.1111111111111111,
              "#46039f"
             ],
             [
              0.2222222222222222,
              "#7201a8"
             ],
             [
              0.3333333333333333,
              "#9c179e"
             ],
             [
              0.4444444444444444,
              "#bd3786"
             ],
             [
              0.5555555555555556,
              "#d8576b"
             ],
             [
              0.6666666666666666,
              "#ed7953"
             ],
             [
              0.7777777777777778,
              "#fb9f3a"
             ],
             [
              0.8888888888888888,
              "#fdca26"
             ],
             [
              1,
              "#f0f921"
             ]
            ],
            "type": "histogram2dcontour"
           }
          ],
          "mesh3d": [
           {
            "colorbar": {
             "outlinewidth": 0,
             "ticks": ""
            },
            "type": "mesh3d"
           }
          ],
          "parcoords": [
           {
            "line": {
             "colorbar": {
              "outlinewidth": 0,
              "ticks": ""
             }
            },
            "type": "parcoords"
           }
          ],
          "pie": [
           {
            "automargin": true,
            "type": "pie"
           }
          ],
          "scatter": [
           {
            "fillpattern": {
             "fillmode": "overlay",
             "size": 10,
             "solidity": 0.2
            },
            "type": "scatter"
           }
          ],
          "scatter3d": [
           {
            "line": {
             "colorbar": {
              "outlinewidth": 0,
              "ticks": ""
             }
            },
            "marker": {
             "colorbar": {
              "outlinewidth": 0,
              "ticks": ""
             }
            },
            "type": "scatter3d"
           }
          ],
          "scattercarpet": [
           {
            "marker": {
             "colorbar": {
              "outlinewidth": 0,
              "ticks": ""
             }
            },
            "type": "scattercarpet"
           }
          ],
          "scattergeo": [
           {
            "marker": {
             "colorbar": {
              "outlinewidth": 0,
              "ticks": ""
             }
            },
            "type": "scattergeo"
           }
          ],
          "scattergl": [
           {
            "marker": {
             "colorbar": {
              "outlinewidth": 0,
              "ticks": ""
             }
            },
            "type": "scattergl"
           }
          ],
          "scattermapbox": [
           {
            "marker": {
             "colorbar": {
              "outlinewidth": 0,
              "ticks": ""
             }
            },
            "type": "scattermapbox"
           }
          ],
          "scatterpolar": [
           {
            "marker": {
             "colorbar": {
              "outlinewidth": 0,
              "ticks": ""
             }
            },
            "type": "scatterpolar"
           }
          ],
          "scatterpolargl": [
           {
            "marker": {
             "colorbar": {
              "outlinewidth": 0,
              "ticks": ""
             }
            },
            "type": "scatterpolargl"
           }
          ],
          "scatterternary": [
           {
            "marker": {
             "colorbar": {
              "outlinewidth": 0,
              "ticks": ""
             }
            },
            "type": "scatterternary"
           }
          ],
          "surface": [
           {
            "colorbar": {
             "outlinewidth": 0,
             "ticks": ""
            },
            "colorscale": [
             [
              0,
              "#0d0887"
             ],
             [
              0.1111111111111111,
              "#46039f"
             ],
             [
              0.2222222222222222,
              "#7201a8"
             ],
             [
              0.3333333333333333,
              "#9c179e"
             ],
             [
              0.4444444444444444,
              "#bd3786"
             ],
             [
              0.5555555555555556,
              "#d8576b"
             ],
             [
              0.6666666666666666,
              "#ed7953"
             ],
             [
              0.7777777777777778,
              "#fb9f3a"
             ],
             [
              0.8888888888888888,
              "#fdca26"
             ],
             [
              1,
              "#f0f921"
             ]
            ],
            "type": "surface"
           }
          ],
          "table": [
           {
            "cells": {
             "fill": {
              "color": "#EBF0F8"
             },
             "line": {
              "color": "white"
             }
            },
            "header": {
             "fill": {
              "color": "#C8D4E3"
             },
             "line": {
              "color": "white"
             }
            },
            "type": "table"
           }
          ]
         },
         "layout": {
          "annotationdefaults": {
           "arrowcolor": "#2a3f5f",
           "arrowhead": 0,
           "arrowwidth": 1
          },
          "autotypenumbers": "strict",
          "coloraxis": {
           "colorbar": {
            "outlinewidth": 0,
            "ticks": ""
           }
          },
          "colorscale": {
           "diverging": [
            [
             0,
             "#8e0152"
            ],
            [
             0.1,
             "#c51b7d"
            ],
            [
             0.2,
             "#de77ae"
            ],
            [
             0.3,
             "#f1b6da"
            ],
            [
             0.4,
             "#fde0ef"
            ],
            [
             0.5,
             "#f7f7f7"
            ],
            [
             0.6,
             "#e6f5d0"
            ],
            [
             0.7,
             "#b8e186"
            ],
            [
             0.8,
             "#7fbc41"
            ],
            [
             0.9,
             "#4d9221"
            ],
            [
             1,
             "#276419"
            ]
           ],
           "sequential": [
            [
             0,
             "#0d0887"
            ],
            [
             0.1111111111111111,
             "#46039f"
            ],
            [
             0.2222222222222222,
             "#7201a8"
            ],
            [
             0.3333333333333333,
             "#9c179e"
            ],
            [
             0.4444444444444444,
             "#bd3786"
            ],
            [
             0.5555555555555556,
             "#d8576b"
            ],
            [
             0.6666666666666666,
             "#ed7953"
            ],
            [
             0.7777777777777778,
             "#fb9f3a"
            ],
            [
             0.8888888888888888,
             "#fdca26"
            ],
            [
             1,
             "#f0f921"
            ]
           ],
           "sequentialminus": [
            [
             0,
             "#0d0887"
            ],
            [
             0.1111111111111111,
             "#46039f"
            ],
            [
             0.2222222222222222,
             "#7201a8"
            ],
            [
             0.3333333333333333,
             "#9c179e"
            ],
            [
             0.4444444444444444,
             "#bd3786"
            ],
            [
             0.5555555555555556,
             "#d8576b"
            ],
            [
             0.6666666666666666,
             "#ed7953"
            ],
            [
             0.7777777777777778,
             "#fb9f3a"
            ],
            [
             0.8888888888888888,
             "#fdca26"
            ],
            [
             1,
             "#f0f921"
            ]
           ]
          },
          "colorway": [
           "#636efa",
           "#EF553B",
           "#00cc96",
           "#ab63fa",
           "#FFA15A",
           "#19d3f3",
           "#FF6692",
           "#B6E880",
           "#FF97FF",
           "#FECB52"
          ],
          "font": {
           "color": "#2a3f5f"
          },
          "geo": {
           "bgcolor": "white",
           "lakecolor": "white",
           "landcolor": "#E5ECF6",
           "showlakes": true,
           "showland": true,
           "subunitcolor": "white"
          },
          "hoverlabel": {
           "align": "left"
          },
          "hovermode": "closest",
          "mapbox": {
           "style": "light"
          },
          "paper_bgcolor": "white",
          "plot_bgcolor": "#E5ECF6",
          "polar": {
           "angularaxis": {
            "gridcolor": "white",
            "linecolor": "white",
            "ticks": ""
           },
           "bgcolor": "#E5ECF6",
           "radialaxis": {
            "gridcolor": "white",
            "linecolor": "white",
            "ticks": ""
           }
          },
          "scene": {
           "xaxis": {
            "backgroundcolor": "#E5ECF6",
            "gridcolor": "white",
            "gridwidth": 2,
            "linecolor": "white",
            "showbackground": true,
            "ticks": "",
            "zerolinecolor": "white"
           },
           "yaxis": {
            "backgroundcolor": "#E5ECF6",
            "gridcolor": "white",
            "gridwidth": 2,
            "linecolor": "white",
            "showbackground": true,
            "ticks": "",
            "zerolinecolor": "white"
           },
           "zaxis": {
            "backgroundcolor": "#E5ECF6",
            "gridcolor": "white",
            "gridwidth": 2,
            "linecolor": "white",
            "showbackground": true,
            "ticks": "",
            "zerolinecolor": "white"
           }
          },
          "shapedefaults": {
           "line": {
            "color": "#2a3f5f"
           }
          },
          "ternary": {
           "aaxis": {
            "gridcolor": "white",
            "linecolor": "white",
            "ticks": ""
           },
           "baxis": {
            "gridcolor": "white",
            "linecolor": "white",
            "ticks": ""
           },
           "bgcolor": "#E5ECF6",
           "caxis": {
            "gridcolor": "white",
            "linecolor": "white",
            "ticks": ""
           }
          },
          "title": {
           "x": 0.05
          },
          "xaxis": {
           "automargin": true,
           "gridcolor": "white",
           "linecolor": "white",
           "ticks": "",
           "title": {
            "standoff": 15
           },
           "zerolinecolor": "white",
           "zerolinewidth": 2
          },
          "yaxis": {
           "automargin": true,
           "gridcolor": "white",
           "linecolor": "white",
           "ticks": "",
           "title": {
            "standoff": 15
           },
           "zerolinecolor": "white",
           "zerolinewidth": 2
          }
         }
        },
        "title": {
         "text": "Total Profit for each product"
        },
        "xaxis": {
         "anchor": "y",
         "categoryarray": [
          "Men's Street Footwear",
          "Women's Apparel",
          "Men's Athletic Footwear",
          "Women's Street Footwear",
          "Men's Apparel",
          "Women's Athletic Footwear"
         ],
         "categoryorder": "array",
         "domain": [
          0,
          1
         ],
         "title": {
          "text": "Product"
         }
        },
        "yaxis": {
         "anchor": "x",
         "domain": [
          0,
          1
         ],
         "title": {
          "text": "Total Profit"
         }
        }
       }
      }
     },
     "metadata": {},
     "output_type": "display_data"
    }
   ],
   "source": [
    "#1.2 Here we are using the 'group by' function to group each product (category) with the total (sum) sales that the product has made.\n",
    "sum_sales_per_product = df.groupby('Product')[['Total Sales', 'Total Profit']].sum().reset_index()\n",
    "\n",
    "sum_sales_per_product = sum_sales_per_product.sort_values(by='Total Sales', ascending=False)\n",
    "\n",
    "fig = px.bar(sum_sales_per_product, x=\"Product\", y=\"Total Profit\", color=\"Product\", text_auto=True, \n",
    "             title=\"Total Profit for each product\")\n",
    "\n",
    "fig.show()"
   ]
  },
  {
   "cell_type": "markdown",
   "metadata": {},
   "source": [
    "##### 1.2.2 Product vs. Total Profit (Tabular)"
   ]
  },
  {
   "cell_type": "code",
   "execution_count": 10,
   "metadata": {},
   "outputs": [
    {
     "data": {
      "text/html": [
       "<div>\n",
       "<style scoped>\n",
       "    .dataframe tbody tr th:only-of-type {\n",
       "        vertical-align: middle;\n",
       "    }\n",
       "\n",
       "    .dataframe tbody tr th {\n",
       "        vertical-align: top;\n",
       "    }\n",
       "\n",
       "    .dataframe thead th {\n",
       "        text-align: right;\n",
       "    }\n",
       "</style>\n",
       "<table border=\"1\" class=\"dataframe\">\n",
       "  <thead>\n",
       "    <tr style=\"text-align: right;\">\n",
       "      <th></th>\n",
       "      <th>Product</th>\n",
       "      <th>Total Profit (Mil $)</th>\n",
       "    </tr>\n",
       "  </thead>\n",
       "  <tbody>\n",
       "    <tr>\n",
       "      <th>0</th>\n",
       "      <td>Men's Apparel</td>\n",
       "      <td>78.966</td>\n",
       "    </tr>\n",
       "    <tr>\n",
       "      <th>1</th>\n",
       "      <td>Men's Athletic Footwear</td>\n",
       "      <td>101.827</td>\n",
       "    </tr>\n",
       "    <tr>\n",
       "      <th>2</th>\n",
       "      <td>Men's Street Footwear</td>\n",
       "      <td>126.024</td>\n",
       "    </tr>\n",
       "    <tr>\n",
       "      <th>3</th>\n",
       "      <td>Women's Apparel</td>\n",
       "      <td>110.388</td>\n",
       "    </tr>\n",
       "    <tr>\n",
       "      <th>4</th>\n",
       "      <td>Women's Athletic Footwear</td>\n",
       "      <td>67.656</td>\n",
       "    </tr>\n",
       "  </tbody>\n",
       "</table>\n",
       "</div>"
      ],
      "text/plain": [
       "                     Product  Total Profit (Mil $)\n",
       "0              Men's Apparel                78.966\n",
       "1    Men's Athletic Footwear               101.827\n",
       "2      Men's Street Footwear               126.024\n",
       "3            Women's Apparel               110.388\n",
       "4  Women's Athletic Footwear                67.656"
      ]
     },
     "execution_count": 10,
     "metadata": {},
     "output_type": "execute_result"
    }
   ],
   "source": [
    "sum_sales_per_product = df.groupby('Product')['Total Profit'].sum().reset_index()\n",
    "#Converting the from scientific notation to millions and round of 3 decimals\n",
    "sum_sales_per_product['Total Profit'] = round(sum_sales_per_product['Total Profit'] / 1e6, 3)\n",
    "#Rename the column\n",
    "sum_sales_per_product = sum_sales_per_product.rename(columns={\"Total Profit\" : \"Total Profit (Mil $)\"})\n",
    "sum_sales_per_product.head()"
   ]
  },
  {
   "cell_type": "markdown",
   "metadata": {},
   "source": [
    "#### 1.3 Units Sold vs Product"
   ]
  },
  {
   "cell_type": "markdown",
   "metadata": {},
   "source": [
    "##### 1.3.1 Units Sold vs Product (Graphical)"
   ]
  },
  {
   "cell_type": "code",
   "execution_count": 11,
   "metadata": {},
   "outputs": [
    {
     "data": {
      "application/vnd.plotly.v1+json": {
       "config": {
        "plotlyServerURL": "https://plot.ly"
       },
       "data": [
        {
         "alignmentgroup": "True",
         "hovertemplate": "Product=%{x}<br>Units Sold=%{y}<extra></extra>",
         "legendgroup": "Men's Street Footwear",
         "marker": {
          "color": "#636efa",
          "pattern": {
           "shape": ""
          }
         },
         "name": "Men's Street Footwear",
         "offsetgroup": "Men's Street Footwear",
         "orientation": "v",
         "showlegend": true,
         "textposition": "auto",
         "texttemplate": "%{y}",
         "type": "bar",
         "x": [
          "Men's Street Footwear"
         ],
         "xaxis": "x",
         "y": [
          593320
         ],
         "yaxis": "y"
        },
        {
         "alignmentgroup": "True",
         "hovertemplate": "Product=%{x}<br>Units Sold=%{y}<extra></extra>",
         "legendgroup": "Men's Athletic Footwear",
         "marker": {
          "color": "#EF553B",
          "pattern": {
           "shape": ""
          }
         },
         "name": "Men's Athletic Footwear",
         "offsetgroup": "Men's Athletic Footwear",
         "orientation": "v",
         "showlegend": true,
         "textposition": "auto",
         "texttemplate": "%{y}",
         "type": "bar",
         "x": [
          "Men's Athletic Footwear"
         ],
         "xaxis": "x",
         "y": [
          435526
         ],
         "yaxis": "y"
        },
        {
         "alignmentgroup": "True",
         "hovertemplate": "Product=%{x}<br>Units Sold=%{y}<extra></extra>",
         "legendgroup": "Women's Apparel",
         "marker": {
          "color": "#00cc96",
          "pattern": {
           "shape": ""
          }
         },
         "name": "Women's Apparel",
         "offsetgroup": "Women's Apparel",
         "orientation": "v",
         "showlegend": true,
         "textposition": "auto",
         "texttemplate": "%{y}",
         "type": "bar",
         "x": [
          "Women's Apparel"
         ],
         "xaxis": "x",
         "y": [
          433827
         ],
         "yaxis": "y"
        },
        {
         "alignmentgroup": "True",
         "hovertemplate": "Product=%{x}<br>Units Sold=%{y}<extra></extra>",
         "legendgroup": "Women's Street Footwear",
         "marker": {
          "color": "#ab63fa",
          "pattern": {
           "shape": ""
          }
         },
         "name": "Women's Street Footwear",
         "offsetgroup": "Women's Street Footwear",
         "orientation": "v",
         "showlegend": true,
         "textposition": "auto",
         "texttemplate": "%{y}",
         "type": "bar",
         "x": [
          "Women's Street Footwear"
         ],
         "xaxis": "x",
         "y": [
          392269
         ],
         "yaxis": "y"
        },
        {
         "alignmentgroup": "True",
         "hovertemplate": "Product=%{x}<br>Units Sold=%{y}<extra></extra>",
         "legendgroup": "Women's Athletic Footwear",
         "marker": {
          "color": "#FFA15A",
          "pattern": {
           "shape": ""
          }
         },
         "name": "Women's Athletic Footwear",
         "offsetgroup": "Women's Athletic Footwear",
         "orientation": "v",
         "showlegend": true,
         "textposition": "auto",
         "texttemplate": "%{y}",
         "type": "bar",
         "x": [
          "Women's Athletic Footwear"
         ],
         "xaxis": "x",
         "y": [
          317236
         ],
         "yaxis": "y"
        },
        {
         "alignmentgroup": "True",
         "hovertemplate": "Product=%{x}<br>Units Sold=%{y}<extra></extra>",
         "legendgroup": "Men's Apparel",
         "marker": {
          "color": "#19d3f3",
          "pattern": {
           "shape": ""
          }
         },
         "name": "Men's Apparel",
         "offsetgroup": "Men's Apparel",
         "orientation": "v",
         "showlegend": true,
         "textposition": "auto",
         "texttemplate": "%{y}",
         "type": "bar",
         "x": [
          "Men's Apparel"
         ],
         "xaxis": "x",
         "y": [
          306683
         ],
         "yaxis": "y"
        }
       ],
       "layout": {
        "barmode": "relative",
        "legend": {
         "title": {
          "text": "Product"
         },
         "tracegroupgap": 0
        },
        "template": {
         "data": {
          "bar": [
           {
            "error_x": {
             "color": "#2a3f5f"
            },
            "error_y": {
             "color": "#2a3f5f"
            },
            "marker": {
             "line": {
              "color": "#E5ECF6",
              "width": 0.5
             },
             "pattern": {
              "fillmode": "overlay",
              "size": 10,
              "solidity": 0.2
             }
            },
            "type": "bar"
           }
          ],
          "barpolar": [
           {
            "marker": {
             "line": {
              "color": "#E5ECF6",
              "width": 0.5
             },
             "pattern": {
              "fillmode": "overlay",
              "size": 10,
              "solidity": 0.2
             }
            },
            "type": "barpolar"
           }
          ],
          "carpet": [
           {
            "aaxis": {
             "endlinecolor": "#2a3f5f",
             "gridcolor": "white",
             "linecolor": "white",
             "minorgridcolor": "white",
             "startlinecolor": "#2a3f5f"
            },
            "baxis": {
             "endlinecolor": "#2a3f5f",
             "gridcolor": "white",
             "linecolor": "white",
             "minorgridcolor": "white",
             "startlinecolor": "#2a3f5f"
            },
            "type": "carpet"
           }
          ],
          "choropleth": [
           {
            "colorbar": {
             "outlinewidth": 0,
             "ticks": ""
            },
            "type": "choropleth"
           }
          ],
          "contour": [
           {
            "colorbar": {
             "outlinewidth": 0,
             "ticks": ""
            },
            "colorscale": [
             [
              0,
              "#0d0887"
             ],
             [
              0.1111111111111111,
              "#46039f"
             ],
             [
              0.2222222222222222,
              "#7201a8"
             ],
             [
              0.3333333333333333,
              "#9c179e"
             ],
             [
              0.4444444444444444,
              "#bd3786"
             ],
             [
              0.5555555555555556,
              "#d8576b"
             ],
             [
              0.6666666666666666,
              "#ed7953"
             ],
             [
              0.7777777777777778,
              "#fb9f3a"
             ],
             [
              0.8888888888888888,
              "#fdca26"
             ],
             [
              1,
              "#f0f921"
             ]
            ],
            "type": "contour"
           }
          ],
          "contourcarpet": [
           {
            "colorbar": {
             "outlinewidth": 0,
             "ticks": ""
            },
            "type": "contourcarpet"
           }
          ],
          "heatmap": [
           {
            "colorbar": {
             "outlinewidth": 0,
             "ticks": ""
            },
            "colorscale": [
             [
              0,
              "#0d0887"
             ],
             [
              0.1111111111111111,
              "#46039f"
             ],
             [
              0.2222222222222222,
              "#7201a8"
             ],
             [
              0.3333333333333333,
              "#9c179e"
             ],
             [
              0.4444444444444444,
              "#bd3786"
             ],
             [
              0.5555555555555556,
              "#d8576b"
             ],
             [
              0.6666666666666666,
              "#ed7953"
             ],
             [
              0.7777777777777778,
              "#fb9f3a"
             ],
             [
              0.8888888888888888,
              "#fdca26"
             ],
             [
              1,
              "#f0f921"
             ]
            ],
            "type": "heatmap"
           }
          ],
          "heatmapgl": [
           {
            "colorbar": {
             "outlinewidth": 0,
             "ticks": ""
            },
            "colorscale": [
             [
              0,
              "#0d0887"
             ],
             [
              0.1111111111111111,
              "#46039f"
             ],
             [
              0.2222222222222222,
              "#7201a8"
             ],
             [
              0.3333333333333333,
              "#9c179e"
             ],
             [
              0.4444444444444444,
              "#bd3786"
             ],
             [
              0.5555555555555556,
              "#d8576b"
             ],
             [
              0.6666666666666666,
              "#ed7953"
             ],
             [
              0.7777777777777778,
              "#fb9f3a"
             ],
             [
              0.8888888888888888,
              "#fdca26"
             ],
             [
              1,
              "#f0f921"
             ]
            ],
            "type": "heatmapgl"
           }
          ],
          "histogram": [
           {
            "marker": {
             "pattern": {
              "fillmode": "overlay",
              "size": 10,
              "solidity": 0.2
             }
            },
            "type": "histogram"
           }
          ],
          "histogram2d": [
           {
            "colorbar": {
             "outlinewidth": 0,
             "ticks": ""
            },
            "colorscale": [
             [
              0,
              "#0d0887"
             ],
             [
              0.1111111111111111,
              "#46039f"
             ],
             [
              0.2222222222222222,
              "#7201a8"
             ],
             [
              0.3333333333333333,
              "#9c179e"
             ],
             [
              0.4444444444444444,
              "#bd3786"
             ],
             [
              0.5555555555555556,
              "#d8576b"
             ],
             [
              0.6666666666666666,
              "#ed7953"
             ],
             [
              0.7777777777777778,
              "#fb9f3a"
             ],
             [
              0.8888888888888888,
              "#fdca26"
             ],
             [
              1,
              "#f0f921"
             ]
            ],
            "type": "histogram2d"
           }
          ],
          "histogram2dcontour": [
           {
            "colorbar": {
             "outlinewidth": 0,
             "ticks": ""
            },
            "colorscale": [
             [
              0,
              "#0d0887"
             ],
             [
              0.1111111111111111,
              "#46039f"
             ],
             [
              0.2222222222222222,
              "#7201a8"
             ],
             [
              0.3333333333333333,
              "#9c179e"
             ],
             [
              0.4444444444444444,
              "#bd3786"
             ],
             [
              0.5555555555555556,
              "#d8576b"
             ],
             [
              0.6666666666666666,
              "#ed7953"
             ],
             [
              0.7777777777777778,
              "#fb9f3a"
             ],
             [
              0.8888888888888888,
              "#fdca26"
             ],
             [
              1,
              "#f0f921"
             ]
            ],
            "type": "histogram2dcontour"
           }
          ],
          "mesh3d": [
           {
            "colorbar": {
             "outlinewidth": 0,
             "ticks": ""
            },
            "type": "mesh3d"
           }
          ],
          "parcoords": [
           {
            "line": {
             "colorbar": {
              "outlinewidth": 0,
              "ticks": ""
             }
            },
            "type": "parcoords"
           }
          ],
          "pie": [
           {
            "automargin": true,
            "type": "pie"
           }
          ],
          "scatter": [
           {
            "fillpattern": {
             "fillmode": "overlay",
             "size": 10,
             "solidity": 0.2
            },
            "type": "scatter"
           }
          ],
          "scatter3d": [
           {
            "line": {
             "colorbar": {
              "outlinewidth": 0,
              "ticks": ""
             }
            },
            "marker": {
             "colorbar": {
              "outlinewidth": 0,
              "ticks": ""
             }
            },
            "type": "scatter3d"
           }
          ],
          "scattercarpet": [
           {
            "marker": {
             "colorbar": {
              "outlinewidth": 0,
              "ticks": ""
             }
            },
            "type": "scattercarpet"
           }
          ],
          "scattergeo": [
           {
            "marker": {
             "colorbar": {
              "outlinewidth": 0,
              "ticks": ""
             }
            },
            "type": "scattergeo"
           }
          ],
          "scattergl": [
           {
            "marker": {
             "colorbar": {
              "outlinewidth": 0,
              "ticks": ""
             }
            },
            "type": "scattergl"
           }
          ],
          "scattermapbox": [
           {
            "marker": {
             "colorbar": {
              "outlinewidth": 0,
              "ticks": ""
             }
            },
            "type": "scattermapbox"
           }
          ],
          "scatterpolar": [
           {
            "marker": {
             "colorbar": {
              "outlinewidth": 0,
              "ticks": ""
             }
            },
            "type": "scatterpolar"
           }
          ],
          "scatterpolargl": [
           {
            "marker": {
             "colorbar": {
              "outlinewidth": 0,
              "ticks": ""
             }
            },
            "type": "scatterpolargl"
           }
          ],
          "scatterternary": [
           {
            "marker": {
             "colorbar": {
              "outlinewidth": 0,
              "ticks": ""
             }
            },
            "type": "scatterternary"
           }
          ],
          "surface": [
           {
            "colorbar": {
             "outlinewidth": 0,
             "ticks": ""
            },
            "colorscale": [
             [
              0,
              "#0d0887"
             ],
             [
              0.1111111111111111,
              "#46039f"
             ],
             [
              0.2222222222222222,
              "#7201a8"
             ],
             [
              0.3333333333333333,
              "#9c179e"
             ],
             [
              0.4444444444444444,
              "#bd3786"
             ],
             [
              0.5555555555555556,
              "#d8576b"
             ],
             [
              0.6666666666666666,
              "#ed7953"
             ],
             [
              0.7777777777777778,
              "#fb9f3a"
             ],
             [
              0.8888888888888888,
              "#fdca26"
             ],
             [
              1,
              "#f0f921"
             ]
            ],
            "type": "surface"
           }
          ],
          "table": [
           {
            "cells": {
             "fill": {
              "color": "#EBF0F8"
             },
             "line": {
              "color": "white"
             }
            },
            "header": {
             "fill": {
              "color": "#C8D4E3"
             },
             "line": {
              "color": "white"
             }
            },
            "type": "table"
           }
          ]
         },
         "layout": {
          "annotationdefaults": {
           "arrowcolor": "#2a3f5f",
           "arrowhead": 0,
           "arrowwidth": 1
          },
          "autotypenumbers": "strict",
          "coloraxis": {
           "colorbar": {
            "outlinewidth": 0,
            "ticks": ""
           }
          },
          "colorscale": {
           "diverging": [
            [
             0,
             "#8e0152"
            ],
            [
             0.1,
             "#c51b7d"
            ],
            [
             0.2,
             "#de77ae"
            ],
            [
             0.3,
             "#f1b6da"
            ],
            [
             0.4,
             "#fde0ef"
            ],
            [
             0.5,
             "#f7f7f7"
            ],
            [
             0.6,
             "#e6f5d0"
            ],
            [
             0.7,
             "#b8e186"
            ],
            [
             0.8,
             "#7fbc41"
            ],
            [
             0.9,
             "#4d9221"
            ],
            [
             1,
             "#276419"
            ]
           ],
           "sequential": [
            [
             0,
             "#0d0887"
            ],
            [
             0.1111111111111111,
             "#46039f"
            ],
            [
             0.2222222222222222,
             "#7201a8"
            ],
            [
             0.3333333333333333,
             "#9c179e"
            ],
            [
             0.4444444444444444,
             "#bd3786"
            ],
            [
             0.5555555555555556,
             "#d8576b"
            ],
            [
             0.6666666666666666,
             "#ed7953"
            ],
            [
             0.7777777777777778,
             "#fb9f3a"
            ],
            [
             0.8888888888888888,
             "#fdca26"
            ],
            [
             1,
             "#f0f921"
            ]
           ],
           "sequentialminus": [
            [
             0,
             "#0d0887"
            ],
            [
             0.1111111111111111,
             "#46039f"
            ],
            [
             0.2222222222222222,
             "#7201a8"
            ],
            [
             0.3333333333333333,
             "#9c179e"
            ],
            [
             0.4444444444444444,
             "#bd3786"
            ],
            [
             0.5555555555555556,
             "#d8576b"
            ],
            [
             0.6666666666666666,
             "#ed7953"
            ],
            [
             0.7777777777777778,
             "#fb9f3a"
            ],
            [
             0.8888888888888888,
             "#fdca26"
            ],
            [
             1,
             "#f0f921"
            ]
           ]
          },
          "colorway": [
           "#636efa",
           "#EF553B",
           "#00cc96",
           "#ab63fa",
           "#FFA15A",
           "#19d3f3",
           "#FF6692",
           "#B6E880",
           "#FF97FF",
           "#FECB52"
          ],
          "font": {
           "color": "#2a3f5f"
          },
          "geo": {
           "bgcolor": "white",
           "lakecolor": "white",
           "landcolor": "#E5ECF6",
           "showlakes": true,
           "showland": true,
           "subunitcolor": "white"
          },
          "hoverlabel": {
           "align": "left"
          },
          "hovermode": "closest",
          "mapbox": {
           "style": "light"
          },
          "paper_bgcolor": "white",
          "plot_bgcolor": "#E5ECF6",
          "polar": {
           "angularaxis": {
            "gridcolor": "white",
            "linecolor": "white",
            "ticks": ""
           },
           "bgcolor": "#E5ECF6",
           "radialaxis": {
            "gridcolor": "white",
            "linecolor": "white",
            "ticks": ""
           }
          },
          "scene": {
           "xaxis": {
            "backgroundcolor": "#E5ECF6",
            "gridcolor": "white",
            "gridwidth": 2,
            "linecolor": "white",
            "showbackground": true,
            "ticks": "",
            "zerolinecolor": "white"
           },
           "yaxis": {
            "backgroundcolor": "#E5ECF6",
            "gridcolor": "white",
            "gridwidth": 2,
            "linecolor": "white",
            "showbackground": true,
            "ticks": "",
            "zerolinecolor": "white"
           },
           "zaxis": {
            "backgroundcolor": "#E5ECF6",
            "gridcolor": "white",
            "gridwidth": 2,
            "linecolor": "white",
            "showbackground": true,
            "ticks": "",
            "zerolinecolor": "white"
           }
          },
          "shapedefaults": {
           "line": {
            "color": "#2a3f5f"
           }
          },
          "ternary": {
           "aaxis": {
            "gridcolor": "white",
            "linecolor": "white",
            "ticks": ""
           },
           "baxis": {
            "gridcolor": "white",
            "linecolor": "white",
            "ticks": ""
           },
           "bgcolor": "#E5ECF6",
           "caxis": {
            "gridcolor": "white",
            "linecolor": "white",
            "ticks": ""
           }
          },
          "title": {
           "x": 0.05
          },
          "xaxis": {
           "automargin": true,
           "gridcolor": "white",
           "linecolor": "white",
           "ticks": "",
           "title": {
            "standoff": 15
           },
           "zerolinecolor": "white",
           "zerolinewidth": 2
          },
          "yaxis": {
           "automargin": true,
           "gridcolor": "white",
           "linecolor": "white",
           "ticks": "",
           "title": {
            "standoff": 15
           },
           "zerolinecolor": "white",
           "zerolinewidth": 2
          }
         }
        },
        "title": {
         "text": "Units Sold for each product"
        },
        "xaxis": {
         "anchor": "y",
         "categoryarray": [
          "Men's Street Footwear",
          "Men's Athletic Footwear",
          "Women's Apparel",
          "Women's Street Footwear",
          "Women's Athletic Footwear",
          "Men's Apparel"
         ],
         "categoryorder": "array",
         "domain": [
          0,
          1
         ],
         "title": {
          "text": "Product"
         }
        },
        "yaxis": {
         "anchor": "x",
         "domain": [
          0,
          1
         ],
         "title": {
          "text": "Units Sold"
         }
        }
       }
      }
     },
     "metadata": {},
     "output_type": "display_data"
    }
   ],
   "source": [
    "# Here we are using the 'group by' function to group each product (category) with the Units Sold of the product.\n",
    "units_sold_per_product = df.groupby('Product')[['Units Sold']].sum().reset_index()\n",
    "\n",
    "units_sold_per_product = units_sold_per_product.sort_values(by='Units Sold', ascending=False)\n",
    "\n",
    "fig = px.bar(units_sold_per_product, x=\"Product\", y=\"Units Sold\", color=\"Product\", text_auto=True, \n",
    "             title=\"Units Sold for each product\")\n",
    "\n",
    "fig.show()"
   ]
  },
  {
   "cell_type": "markdown",
   "metadata": {},
   "source": [
    "##### 1.3.2 Units Sold vs Product (Tablular)"
   ]
  },
  {
   "cell_type": "code",
   "execution_count": 12,
   "metadata": {},
   "outputs": [
    {
     "data": {
      "text/html": [
       "<div>\n",
       "<style scoped>\n",
       "    .dataframe tbody tr th:only-of-type {\n",
       "        vertical-align: middle;\n",
       "    }\n",
       "\n",
       "    .dataframe tbody tr th {\n",
       "        vertical-align: top;\n",
       "    }\n",
       "\n",
       "    .dataframe thead th {\n",
       "        text-align: right;\n",
       "    }\n",
       "</style>\n",
       "<table border=\"1\" class=\"dataframe\">\n",
       "  <thead>\n",
       "    <tr style=\"text-align: right;\">\n",
       "      <th></th>\n",
       "      <th>Product</th>\n",
       "      <th>Units Sold</th>\n",
       "    </tr>\n",
       "  </thead>\n",
       "  <tbody>\n",
       "    <tr>\n",
       "      <th>0</th>\n",
       "      <td>Men's Apparel</td>\n",
       "      <td>306683</td>\n",
       "    </tr>\n",
       "    <tr>\n",
       "      <th>1</th>\n",
       "      <td>Men's Athletic Footwear</td>\n",
       "      <td>435526</td>\n",
       "    </tr>\n",
       "    <tr>\n",
       "      <th>2</th>\n",
       "      <td>Men's Street Footwear</td>\n",
       "      <td>593320</td>\n",
       "    </tr>\n",
       "    <tr>\n",
       "      <th>3</th>\n",
       "      <td>Women's Apparel</td>\n",
       "      <td>433827</td>\n",
       "    </tr>\n",
       "    <tr>\n",
       "      <th>4</th>\n",
       "      <td>Women's Athletic Footwear</td>\n",
       "      <td>317236</td>\n",
       "    </tr>\n",
       "  </tbody>\n",
       "</table>\n",
       "</div>"
      ],
      "text/plain": [
       "                     Product  Units Sold\n",
       "0              Men's Apparel      306683\n",
       "1    Men's Athletic Footwear      435526\n",
       "2      Men's Street Footwear      593320\n",
       "3            Women's Apparel      433827\n",
       "4  Women's Athletic Footwear      317236"
      ]
     },
     "execution_count": 12,
     "metadata": {},
     "output_type": "execute_result"
    }
   ],
   "source": [
    "units_sold_per_product = df.groupby('Product')['Units Sold'].sum().reset_index()\n",
    "\n",
    "#Rename the column\n",
    "units_sold_per_product = units_sold_per_product.rename(columns={\"Units Sold\" : \"Units Sold\"})\n",
    "units_sold_per_product.head()"
   ]
  },
  {
   "cell_type": "markdown",
   "metadata": {},
   "source": [
    "#### 1.4 Comparison of Total Profit vs. Total Sales by Product"
   ]
  },
  {
   "cell_type": "markdown",
   "metadata": {},
   "source": [
    "##### 1.4.1 Comparison of Total Profit vs. Total Sales by Product (Graphical)"
   ]
  },
  {
   "cell_type": "code",
   "execution_count": 13,
   "metadata": {},
   "outputs": [
    {
     "data": {
      "application/vnd.plotly.v1+json": {
       "config": {
        "plotlyServerURL": "https://plot.ly"
       },
       "data": [
        {
         "alignmentgroup": "True",
         "hovertemplate": "Type=Total Profit<br>Product=%{x}<br>Total Profit vs. Total Sales=%{y}<extra></extra>",
         "legendgroup": "Total Profit",
         "marker": {
          "color": "#636efa",
          "pattern": {
           "shape": ""
          }
         },
         "name": "Total Profit",
         "offsetgroup": "Total Profit",
         "orientation": "v",
         "showlegend": true,
         "textposition": "auto",
         "type": "bar",
         "x": [
          "Men's Street Footwear",
          "Women's Apparel",
          "Men's Athletic Footwear",
          "Women's Street Footwear",
          "Men's Apparel",
          "Women's Athletic Footwear"
         ],
         "xaxis": "x",
         "y": [
          126023983.38000001,
          110387889.44,
          101826791.81000002,
          82906986.19000001,
          78965601.67,
          67656111.06
         ],
         "yaxis": "y"
        },
        {
         "alignmentgroup": "True",
         "hovertemplate": "Type=Total Sales<br>Product=%{x}<br>Total Profit vs. Total Sales=%{y}<extra></extra>",
         "legendgroup": "Total Sales",
         "marker": {
          "color": "#EF553B",
          "pattern": {
           "shape": ""
          }
         },
         "name": "Total Sales",
         "offsetgroup": "Total Sales",
         "orientation": "v",
         "showlegend": true,
         "textposition": "auto",
         "type": "bar",
         "x": [
          "Men's Street Footwear",
          "Women's Apparel",
          "Men's Athletic Footwear",
          "Women's Street Footwear",
          "Men's Apparel",
          "Women's Athletic Footwear"
         ],
         "xaxis": "x",
         "y": [
          208826244,
          179038860,
          153673680.00000003,
          128002813.00000001,
          123728632,
          106631896
         ],
         "yaxis": "y"
        }
       ],
       "layout": {
        "barmode": "relative",
        "legend": {
         "title": {
          "text": "Type"
         },
         "tracegroupgap": 0
        },
        "template": {
         "data": {
          "bar": [
           {
            "error_x": {
             "color": "#2a3f5f"
            },
            "error_y": {
             "color": "#2a3f5f"
            },
            "marker": {
             "line": {
              "color": "#E5ECF6",
              "width": 0.5
             },
             "pattern": {
              "fillmode": "overlay",
              "size": 10,
              "solidity": 0.2
             }
            },
            "type": "bar"
           }
          ],
          "barpolar": [
           {
            "marker": {
             "line": {
              "color": "#E5ECF6",
              "width": 0.5
             },
             "pattern": {
              "fillmode": "overlay",
              "size": 10,
              "solidity": 0.2
             }
            },
            "type": "barpolar"
           }
          ],
          "carpet": [
           {
            "aaxis": {
             "endlinecolor": "#2a3f5f",
             "gridcolor": "white",
             "linecolor": "white",
             "minorgridcolor": "white",
             "startlinecolor": "#2a3f5f"
            },
            "baxis": {
             "endlinecolor": "#2a3f5f",
             "gridcolor": "white",
             "linecolor": "white",
             "minorgridcolor": "white",
             "startlinecolor": "#2a3f5f"
            },
            "type": "carpet"
           }
          ],
          "choropleth": [
           {
            "colorbar": {
             "outlinewidth": 0,
             "ticks": ""
            },
            "type": "choropleth"
           }
          ],
          "contour": [
           {
            "colorbar": {
             "outlinewidth": 0,
             "ticks": ""
            },
            "colorscale": [
             [
              0,
              "#0d0887"
             ],
             [
              0.1111111111111111,
              "#46039f"
             ],
             [
              0.2222222222222222,
              "#7201a8"
             ],
             [
              0.3333333333333333,
              "#9c179e"
             ],
             [
              0.4444444444444444,
              "#bd3786"
             ],
             [
              0.5555555555555556,
              "#d8576b"
             ],
             [
              0.6666666666666666,
              "#ed7953"
             ],
             [
              0.7777777777777778,
              "#fb9f3a"
             ],
             [
              0.8888888888888888,
              "#fdca26"
             ],
             [
              1,
              "#f0f921"
             ]
            ],
            "type": "contour"
           }
          ],
          "contourcarpet": [
           {
            "colorbar": {
             "outlinewidth": 0,
             "ticks": ""
            },
            "type": "contourcarpet"
           }
          ],
          "heatmap": [
           {
            "colorbar": {
             "outlinewidth": 0,
             "ticks": ""
            },
            "colorscale": [
             [
              0,
              "#0d0887"
             ],
             [
              0.1111111111111111,
              "#46039f"
             ],
             [
              0.2222222222222222,
              "#7201a8"
             ],
             [
              0.3333333333333333,
              "#9c179e"
             ],
             [
              0.4444444444444444,
              "#bd3786"
             ],
             [
              0.5555555555555556,
              "#d8576b"
             ],
             [
              0.6666666666666666,
              "#ed7953"
             ],
             [
              0.7777777777777778,
              "#fb9f3a"
             ],
             [
              0.8888888888888888,
              "#fdca26"
             ],
             [
              1,
              "#f0f921"
             ]
            ],
            "type": "heatmap"
           }
          ],
          "heatmapgl": [
           {
            "colorbar": {
             "outlinewidth": 0,
             "ticks": ""
            },
            "colorscale": [
             [
              0,
              "#0d0887"
             ],
             [
              0.1111111111111111,
              "#46039f"
             ],
             [
              0.2222222222222222,
              "#7201a8"
             ],
             [
              0.3333333333333333,
              "#9c179e"
             ],
             [
              0.4444444444444444,
              "#bd3786"
             ],
             [
              0.5555555555555556,
              "#d8576b"
             ],
             [
              0.6666666666666666,
              "#ed7953"
             ],
             [
              0.7777777777777778,
              "#fb9f3a"
             ],
             [
              0.8888888888888888,
              "#fdca26"
             ],
             [
              1,
              "#f0f921"
             ]
            ],
            "type": "heatmapgl"
           }
          ],
          "histogram": [
           {
            "marker": {
             "pattern": {
              "fillmode": "overlay",
              "size": 10,
              "solidity": 0.2
             }
            },
            "type": "histogram"
           }
          ],
          "histogram2d": [
           {
            "colorbar": {
             "outlinewidth": 0,
             "ticks": ""
            },
            "colorscale": [
             [
              0,
              "#0d0887"
             ],
             [
              0.1111111111111111,
              "#46039f"
             ],
             [
              0.2222222222222222,
              "#7201a8"
             ],
             [
              0.3333333333333333,
              "#9c179e"
             ],
             [
              0.4444444444444444,
              "#bd3786"
             ],
             [
              0.5555555555555556,
              "#d8576b"
             ],
             [
              0.6666666666666666,
              "#ed7953"
             ],
             [
              0.7777777777777778,
              "#fb9f3a"
             ],
             [
              0.8888888888888888,
              "#fdca26"
             ],
             [
              1,
              "#f0f921"
             ]
            ],
            "type": "histogram2d"
           }
          ],
          "histogram2dcontour": [
           {
            "colorbar": {
             "outlinewidth": 0,
             "ticks": ""
            },
            "colorscale": [
             [
              0,
              "#0d0887"
             ],
             [
              0.1111111111111111,
              "#46039f"
             ],
             [
              0.2222222222222222,
              "#7201a8"
             ],
             [
              0.3333333333333333,
              "#9c179e"
             ],
             [
              0.4444444444444444,
              "#bd3786"
             ],
             [
              0.5555555555555556,
              "#d8576b"
             ],
             [
              0.6666666666666666,
              "#ed7953"
             ],
             [
              0.7777777777777778,
              "#fb9f3a"
             ],
             [
              0.8888888888888888,
              "#fdca26"
             ],
             [
              1,
              "#f0f921"
             ]
            ],
            "type": "histogram2dcontour"
           }
          ],
          "mesh3d": [
           {
            "colorbar": {
             "outlinewidth": 0,
             "ticks": ""
            },
            "type": "mesh3d"
           }
          ],
          "parcoords": [
           {
            "line": {
             "colorbar": {
              "outlinewidth": 0,
              "ticks": ""
             }
            },
            "type": "parcoords"
           }
          ],
          "pie": [
           {
            "automargin": true,
            "type": "pie"
           }
          ],
          "scatter": [
           {
            "fillpattern": {
             "fillmode": "overlay",
             "size": 10,
             "solidity": 0.2
            },
            "type": "scatter"
           }
          ],
          "scatter3d": [
           {
            "line": {
             "colorbar": {
              "outlinewidth": 0,
              "ticks": ""
             }
            },
            "marker": {
             "colorbar": {
              "outlinewidth": 0,
              "ticks": ""
             }
            },
            "type": "scatter3d"
           }
          ],
          "scattercarpet": [
           {
            "marker": {
             "colorbar": {
              "outlinewidth": 0,
              "ticks": ""
             }
            },
            "type": "scattercarpet"
           }
          ],
          "scattergeo": [
           {
            "marker": {
             "colorbar": {
              "outlinewidth": 0,
              "ticks": ""
             }
            },
            "type": "scattergeo"
           }
          ],
          "scattergl": [
           {
            "marker": {
             "colorbar": {
              "outlinewidth": 0,
              "ticks": ""
             }
            },
            "type": "scattergl"
           }
          ],
          "scattermapbox": [
           {
            "marker": {
             "colorbar": {
              "outlinewidth": 0,
              "ticks": ""
             }
            },
            "type": "scattermapbox"
           }
          ],
          "scatterpolar": [
           {
            "marker": {
             "colorbar": {
              "outlinewidth": 0,
              "ticks": ""
             }
            },
            "type": "scatterpolar"
           }
          ],
          "scatterpolargl": [
           {
            "marker": {
             "colorbar": {
              "outlinewidth": 0,
              "ticks": ""
             }
            },
            "type": "scatterpolargl"
           }
          ],
          "scatterternary": [
           {
            "marker": {
             "colorbar": {
              "outlinewidth": 0,
              "ticks": ""
             }
            },
            "type": "scatterternary"
           }
          ],
          "surface": [
           {
            "colorbar": {
             "outlinewidth": 0,
             "ticks": ""
            },
            "colorscale": [
             [
              0,
              "#0d0887"
             ],
             [
              0.1111111111111111,
              "#46039f"
             ],
             [
              0.2222222222222222,
              "#7201a8"
             ],
             [
              0.3333333333333333,
              "#9c179e"
             ],
             [
              0.4444444444444444,
              "#bd3786"
             ],
             [
              0.5555555555555556,
              "#d8576b"
             ],
             [
              0.6666666666666666,
              "#ed7953"
             ],
             [
              0.7777777777777778,
              "#fb9f3a"
             ],
             [
              0.8888888888888888,
              "#fdca26"
             ],
             [
              1,
              "#f0f921"
             ]
            ],
            "type": "surface"
           }
          ],
          "table": [
           {
            "cells": {
             "fill": {
              "color": "#EBF0F8"
             },
             "line": {
              "color": "white"
             }
            },
            "header": {
             "fill": {
              "color": "#C8D4E3"
             },
             "line": {
              "color": "white"
             }
            },
            "type": "table"
           }
          ]
         },
         "layout": {
          "annotationdefaults": {
           "arrowcolor": "#2a3f5f",
           "arrowhead": 0,
           "arrowwidth": 1
          },
          "autotypenumbers": "strict",
          "coloraxis": {
           "colorbar": {
            "outlinewidth": 0,
            "ticks": ""
           }
          },
          "colorscale": {
           "diverging": [
            [
             0,
             "#8e0152"
            ],
            [
             0.1,
             "#c51b7d"
            ],
            [
             0.2,
             "#de77ae"
            ],
            [
             0.3,
             "#f1b6da"
            ],
            [
             0.4,
             "#fde0ef"
            ],
            [
             0.5,
             "#f7f7f7"
            ],
            [
             0.6,
             "#e6f5d0"
            ],
            [
             0.7,
             "#b8e186"
            ],
            [
             0.8,
             "#7fbc41"
            ],
            [
             0.9,
             "#4d9221"
            ],
            [
             1,
             "#276419"
            ]
           ],
           "sequential": [
            [
             0,
             "#0d0887"
            ],
            [
             0.1111111111111111,
             "#46039f"
            ],
            [
             0.2222222222222222,
             "#7201a8"
            ],
            [
             0.3333333333333333,
             "#9c179e"
            ],
            [
             0.4444444444444444,
             "#bd3786"
            ],
            [
             0.5555555555555556,
             "#d8576b"
            ],
            [
             0.6666666666666666,
             "#ed7953"
            ],
            [
             0.7777777777777778,
             "#fb9f3a"
            ],
            [
             0.8888888888888888,
             "#fdca26"
            ],
            [
             1,
             "#f0f921"
            ]
           ],
           "sequentialminus": [
            [
             0,
             "#0d0887"
            ],
            [
             0.1111111111111111,
             "#46039f"
            ],
            [
             0.2222222222222222,
             "#7201a8"
            ],
            [
             0.3333333333333333,
             "#9c179e"
            ],
            [
             0.4444444444444444,
             "#bd3786"
            ],
            [
             0.5555555555555556,
             "#d8576b"
            ],
            [
             0.6666666666666666,
             "#ed7953"
            ],
            [
             0.7777777777777778,
             "#fb9f3a"
            ],
            [
             0.8888888888888888,
             "#fdca26"
            ],
            [
             1,
             "#f0f921"
            ]
           ]
          },
          "colorway": [
           "#636efa",
           "#EF553B",
           "#00cc96",
           "#ab63fa",
           "#FFA15A",
           "#19d3f3",
           "#FF6692",
           "#B6E880",
           "#FF97FF",
           "#FECB52"
          ],
          "font": {
           "color": "#2a3f5f"
          },
          "geo": {
           "bgcolor": "white",
           "lakecolor": "white",
           "landcolor": "#E5ECF6",
           "showlakes": true,
           "showland": true,
           "subunitcolor": "white"
          },
          "hoverlabel": {
           "align": "left"
          },
          "hovermode": "closest",
          "mapbox": {
           "style": "light"
          },
          "paper_bgcolor": "white",
          "plot_bgcolor": "#E5ECF6",
          "polar": {
           "angularaxis": {
            "gridcolor": "white",
            "linecolor": "white",
            "ticks": ""
           },
           "bgcolor": "#E5ECF6",
           "radialaxis": {
            "gridcolor": "white",
            "linecolor": "white",
            "ticks": ""
           }
          },
          "scene": {
           "xaxis": {
            "backgroundcolor": "#E5ECF6",
            "gridcolor": "white",
            "gridwidth": 2,
            "linecolor": "white",
            "showbackground": true,
            "ticks": "",
            "zerolinecolor": "white"
           },
           "yaxis": {
            "backgroundcolor": "#E5ECF6",
            "gridcolor": "white",
            "gridwidth": 2,
            "linecolor": "white",
            "showbackground": true,
            "ticks": "",
            "zerolinecolor": "white"
           },
           "zaxis": {
            "backgroundcolor": "#E5ECF6",
            "gridcolor": "white",
            "gridwidth": 2,
            "linecolor": "white",
            "showbackground": true,
            "ticks": "",
            "zerolinecolor": "white"
           }
          },
          "shapedefaults": {
           "line": {
            "color": "#2a3f5f"
           }
          },
          "ternary": {
           "aaxis": {
            "gridcolor": "white",
            "linecolor": "white",
            "ticks": ""
           },
           "baxis": {
            "gridcolor": "white",
            "linecolor": "white",
            "ticks": ""
           },
           "bgcolor": "#E5ECF6",
           "caxis": {
            "gridcolor": "white",
            "linecolor": "white",
            "ticks": ""
           }
          },
          "title": {
           "x": 0.05
          },
          "xaxis": {
           "automargin": true,
           "gridcolor": "white",
           "linecolor": "white",
           "ticks": "",
           "title": {
            "standoff": 15
           },
           "zerolinecolor": "white",
           "zerolinewidth": 2
          },
          "yaxis": {
           "automargin": true,
           "gridcolor": "white",
           "linecolor": "white",
           "ticks": "",
           "title": {
            "standoff": 15
           },
           "zerolinecolor": "white",
           "zerolinewidth": 2
          }
         }
        },
        "title": {
         "text": "Comparison of Total Profit vs Total Sales by Product"
        },
        "xaxis": {
         "anchor": "y",
         "domain": [
          0,
          1
         ],
         "title": {
          "text": "Product"
         }
        },
        "yaxis": {
         "anchor": "x",
         "domain": [
          0,
          1
         ],
         "title": {
          "text": "Total Profit vs. Total Sales"
         }
        }
       }
      }
     },
     "metadata": {},
     "output_type": "display_data"
    }
   ],
   "source": [
    "sum_sales_per_product = df.groupby('Product')[['Total Sales', 'Total Profit']].sum().reset_index()\n",
    "sum_sales_per_product = sum_sales_per_product.sort_values(by='Total Sales', ascending=False)\n",
    "sum_sales_per_product.head()\n",
    "\n",
    "fig = px.bar(sum_sales_per_product, x=\"Product\", y=[\"Total Profit\", \"Total Sales\"],\n",
    "             title=\"Comparison of Total Profit vs Total Sales by Product\",\n",
    "             labels={\"value\": \"Total Profit vs. Total Sales\", \"variable\": \"Type\"}\n",
    "            )\n",
    "fig.show()"
   ]
  },
  {
   "cell_type": "markdown",
   "metadata": {},
   "source": [
    "##### 1.4.2 Comparison of Total Profit and Total Sales and Units Sold by Product (Graphical)"
   ]
  },
  {
   "cell_type": "code",
   "execution_count": 14,
   "metadata": {},
   "outputs": [
    {
     "data": {
      "application/vnd.plotly.v1+json": {
       "config": {
        "plotlyServerURL": "https://plot.ly"
       },
       "data": [
        {
         "alignmentgroup": "True",
         "hovertemplate": "Type=Total Profit<br>Product=%{x}<br>Amount=%{y}<extra></extra>",
         "legendgroup": "Total Profit",
         "marker": {
          "color": "#636efa",
          "pattern": {
           "shape": ""
          }
         },
         "name": "Total Profit",
         "offsetgroup": "Total Profit",
         "orientation": "v",
         "showlegend": true,
         "textposition": "auto",
         "type": "bar",
         "x": [
          "Men's Street Footwear",
          "Women's Apparel",
          "Men's Athletic Footwear",
          "Women's Street Footwear",
          "Men's Apparel",
          "Women's Athletic Footwear"
         ],
         "xaxis": "x",
         "y": [
          126023983.38000001,
          110387889.44,
          101826791.81000002,
          82906986.19000001,
          78965601.67,
          67656111.06
         ],
         "yaxis": "y"
        },
        {
         "alignmentgroup": "True",
         "hovertemplate": "Type=Total Sales<br>Product=%{x}<br>Amount=%{y}<extra></extra>",
         "legendgroup": "Total Sales",
         "marker": {
          "color": "#EF553B",
          "pattern": {
           "shape": ""
          }
         },
         "name": "Total Sales",
         "offsetgroup": "Total Sales",
         "orientation": "v",
         "showlegend": true,
         "textposition": "auto",
         "type": "bar",
         "x": [
          "Men's Street Footwear",
          "Women's Apparel",
          "Men's Athletic Footwear",
          "Women's Street Footwear",
          "Men's Apparel",
          "Women's Athletic Footwear"
         ],
         "xaxis": "x",
         "y": [
          208826244,
          179038860,
          153673680.00000003,
          128002813.00000001,
          123728632,
          106631896
         ],
         "yaxis": "y"
        },
        {
         "alignmentgroup": "True",
         "hovertemplate": "Type=Units Sold<br>Product=%{x}<br>Amount=%{y}<extra></extra>",
         "legendgroup": "Units Sold",
         "marker": {
          "color": "#00cc96",
          "pattern": {
           "shape": ""
          }
         },
         "name": "Units Sold",
         "offsetgroup": "Units Sold",
         "orientation": "v",
         "showlegend": true,
         "textposition": "auto",
         "type": "bar",
         "x": [
          "Men's Street Footwear",
          "Women's Apparel",
          "Men's Athletic Footwear",
          "Women's Street Footwear",
          "Men's Apparel",
          "Women's Athletic Footwear"
         ],
         "xaxis": "x",
         "y": [
          593320,
          433827,
          435526,
          392269,
          306683,
          317236
         ],
         "yaxis": "y"
        }
       ],
       "layout": {
        "barmode": "group",
        "legend": {
         "title": {
          "text": "Type"
         },
         "tracegroupgap": 0
        },
        "template": {
         "data": {
          "bar": [
           {
            "error_x": {
             "color": "#2a3f5f"
            },
            "error_y": {
             "color": "#2a3f5f"
            },
            "marker": {
             "line": {
              "color": "#E5ECF6",
              "width": 0.5
             },
             "pattern": {
              "fillmode": "overlay",
              "size": 10,
              "solidity": 0.2
             }
            },
            "type": "bar"
           }
          ],
          "barpolar": [
           {
            "marker": {
             "line": {
              "color": "#E5ECF6",
              "width": 0.5
             },
             "pattern": {
              "fillmode": "overlay",
              "size": 10,
              "solidity": 0.2
             }
            },
            "type": "barpolar"
           }
          ],
          "carpet": [
           {
            "aaxis": {
             "endlinecolor": "#2a3f5f",
             "gridcolor": "white",
             "linecolor": "white",
             "minorgridcolor": "white",
             "startlinecolor": "#2a3f5f"
            },
            "baxis": {
             "endlinecolor": "#2a3f5f",
             "gridcolor": "white",
             "linecolor": "white",
             "minorgridcolor": "white",
             "startlinecolor": "#2a3f5f"
            },
            "type": "carpet"
           }
          ],
          "choropleth": [
           {
            "colorbar": {
             "outlinewidth": 0,
             "ticks": ""
            },
            "type": "choropleth"
           }
          ],
          "contour": [
           {
            "colorbar": {
             "outlinewidth": 0,
             "ticks": ""
            },
            "colorscale": [
             [
              0,
              "#0d0887"
             ],
             [
              0.1111111111111111,
              "#46039f"
             ],
             [
              0.2222222222222222,
              "#7201a8"
             ],
             [
              0.3333333333333333,
              "#9c179e"
             ],
             [
              0.4444444444444444,
              "#bd3786"
             ],
             [
              0.5555555555555556,
              "#d8576b"
             ],
             [
              0.6666666666666666,
              "#ed7953"
             ],
             [
              0.7777777777777778,
              "#fb9f3a"
             ],
             [
              0.8888888888888888,
              "#fdca26"
             ],
             [
              1,
              "#f0f921"
             ]
            ],
            "type": "contour"
           }
          ],
          "contourcarpet": [
           {
            "colorbar": {
             "outlinewidth": 0,
             "ticks": ""
            },
            "type": "contourcarpet"
           }
          ],
          "heatmap": [
           {
            "colorbar": {
             "outlinewidth": 0,
             "ticks": ""
            },
            "colorscale": [
             [
              0,
              "#0d0887"
             ],
             [
              0.1111111111111111,
              "#46039f"
             ],
             [
              0.2222222222222222,
              "#7201a8"
             ],
             [
              0.3333333333333333,
              "#9c179e"
             ],
             [
              0.4444444444444444,
              "#bd3786"
             ],
             [
              0.5555555555555556,
              "#d8576b"
             ],
             [
              0.6666666666666666,
              "#ed7953"
             ],
             [
              0.7777777777777778,
              "#fb9f3a"
             ],
             [
              0.8888888888888888,
              "#fdca26"
             ],
             [
              1,
              "#f0f921"
             ]
            ],
            "type": "heatmap"
           }
          ],
          "heatmapgl": [
           {
            "colorbar": {
             "outlinewidth": 0,
             "ticks": ""
            },
            "colorscale": [
             [
              0,
              "#0d0887"
             ],
             [
              0.1111111111111111,
              "#46039f"
             ],
             [
              0.2222222222222222,
              "#7201a8"
             ],
             [
              0.3333333333333333,
              "#9c179e"
             ],
             [
              0.4444444444444444,
              "#bd3786"
             ],
             [
              0.5555555555555556,
              "#d8576b"
             ],
             [
              0.6666666666666666,
              "#ed7953"
             ],
             [
              0.7777777777777778,
              "#fb9f3a"
             ],
             [
              0.8888888888888888,
              "#fdca26"
             ],
             [
              1,
              "#f0f921"
             ]
            ],
            "type": "heatmapgl"
           }
          ],
          "histogram": [
           {
            "marker": {
             "pattern": {
              "fillmode": "overlay",
              "size": 10,
              "solidity": 0.2
             }
            },
            "type": "histogram"
           }
          ],
          "histogram2d": [
           {
            "colorbar": {
             "outlinewidth": 0,
             "ticks": ""
            },
            "colorscale": [
             [
              0,
              "#0d0887"
             ],
             [
              0.1111111111111111,
              "#46039f"
             ],
             [
              0.2222222222222222,
              "#7201a8"
             ],
             [
              0.3333333333333333,
              "#9c179e"
             ],
             [
              0.4444444444444444,
              "#bd3786"
             ],
             [
              0.5555555555555556,
              "#d8576b"
             ],
             [
              0.6666666666666666,
              "#ed7953"
             ],
             [
              0.7777777777777778,
              "#fb9f3a"
             ],
             [
              0.8888888888888888,
              "#fdca26"
             ],
             [
              1,
              "#f0f921"
             ]
            ],
            "type": "histogram2d"
           }
          ],
          "histogram2dcontour": [
           {
            "colorbar": {
             "outlinewidth": 0,
             "ticks": ""
            },
            "colorscale": [
             [
              0,
              "#0d0887"
             ],
             [
              0.1111111111111111,
              "#46039f"
             ],
             [
              0.2222222222222222,
              "#7201a8"
             ],
             [
              0.3333333333333333,
              "#9c179e"
             ],
             [
              0.4444444444444444,
              "#bd3786"
             ],
             [
              0.5555555555555556,
              "#d8576b"
             ],
             [
              0.6666666666666666,
              "#ed7953"
             ],
             [
              0.7777777777777778,
              "#fb9f3a"
             ],
             [
              0.8888888888888888,
              "#fdca26"
             ],
             [
              1,
              "#f0f921"
             ]
            ],
            "type": "histogram2dcontour"
           }
          ],
          "mesh3d": [
           {
            "colorbar": {
             "outlinewidth": 0,
             "ticks": ""
            },
            "type": "mesh3d"
           }
          ],
          "parcoords": [
           {
            "line": {
             "colorbar": {
              "outlinewidth": 0,
              "ticks": ""
             }
            },
            "type": "parcoords"
           }
          ],
          "pie": [
           {
            "automargin": true,
            "type": "pie"
           }
          ],
          "scatter": [
           {
            "fillpattern": {
             "fillmode": "overlay",
             "size": 10,
             "solidity": 0.2
            },
            "type": "scatter"
           }
          ],
          "scatter3d": [
           {
            "line": {
             "colorbar": {
              "outlinewidth": 0,
              "ticks": ""
             }
            },
            "marker": {
             "colorbar": {
              "outlinewidth": 0,
              "ticks": ""
             }
            },
            "type": "scatter3d"
           }
          ],
          "scattercarpet": [
           {
            "marker": {
             "colorbar": {
              "outlinewidth": 0,
              "ticks": ""
             }
            },
            "type": "scattercarpet"
           }
          ],
          "scattergeo": [
           {
            "marker": {
             "colorbar": {
              "outlinewidth": 0,
              "ticks": ""
             }
            },
            "type": "scattergeo"
           }
          ],
          "scattergl": [
           {
            "marker": {
             "colorbar": {
              "outlinewidth": 0,
              "ticks": ""
             }
            },
            "type": "scattergl"
           }
          ],
          "scattermapbox": [
           {
            "marker": {
             "colorbar": {
              "outlinewidth": 0,
              "ticks": ""
             }
            },
            "type": "scattermapbox"
           }
          ],
          "scatterpolar": [
           {
            "marker": {
             "colorbar": {
              "outlinewidth": 0,
              "ticks": ""
             }
            },
            "type": "scatterpolar"
           }
          ],
          "scatterpolargl": [
           {
            "marker": {
             "colorbar": {
              "outlinewidth": 0,
              "ticks": ""
             }
            },
            "type": "scatterpolargl"
           }
          ],
          "scatterternary": [
           {
            "marker": {
             "colorbar": {
              "outlinewidth": 0,
              "ticks": ""
             }
            },
            "type": "scatterternary"
           }
          ],
          "surface": [
           {
            "colorbar": {
             "outlinewidth": 0,
             "ticks": ""
            },
            "colorscale": [
             [
              0,
              "#0d0887"
             ],
             [
              0.1111111111111111,
              "#46039f"
             ],
             [
              0.2222222222222222,
              "#7201a8"
             ],
             [
              0.3333333333333333,
              "#9c179e"
             ],
             [
              0.4444444444444444,
              "#bd3786"
             ],
             [
              0.5555555555555556,
              "#d8576b"
             ],
             [
              0.6666666666666666,
              "#ed7953"
             ],
             [
              0.7777777777777778,
              "#fb9f3a"
             ],
             [
              0.8888888888888888,
              "#fdca26"
             ],
             [
              1,
              "#f0f921"
             ]
            ],
            "type": "surface"
           }
          ],
          "table": [
           {
            "cells": {
             "fill": {
              "color": "#EBF0F8"
             },
             "line": {
              "color": "white"
             }
            },
            "header": {
             "fill": {
              "color": "#C8D4E3"
             },
             "line": {
              "color": "white"
             }
            },
            "type": "table"
           }
          ]
         },
         "layout": {
          "annotationdefaults": {
           "arrowcolor": "#2a3f5f",
           "arrowhead": 0,
           "arrowwidth": 1
          },
          "autotypenumbers": "strict",
          "coloraxis": {
           "colorbar": {
            "outlinewidth": 0,
            "ticks": ""
           }
          },
          "colorscale": {
           "diverging": [
            [
             0,
             "#8e0152"
            ],
            [
             0.1,
             "#c51b7d"
            ],
            [
             0.2,
             "#de77ae"
            ],
            [
             0.3,
             "#f1b6da"
            ],
            [
             0.4,
             "#fde0ef"
            ],
            [
             0.5,
             "#f7f7f7"
            ],
            [
             0.6,
             "#e6f5d0"
            ],
            [
             0.7,
             "#b8e186"
            ],
            [
             0.8,
             "#7fbc41"
            ],
            [
             0.9,
             "#4d9221"
            ],
            [
             1,
             "#276419"
            ]
           ],
           "sequential": [
            [
             0,
             "#0d0887"
            ],
            [
             0.1111111111111111,
             "#46039f"
            ],
            [
             0.2222222222222222,
             "#7201a8"
            ],
            [
             0.3333333333333333,
             "#9c179e"
            ],
            [
             0.4444444444444444,
             "#bd3786"
            ],
            [
             0.5555555555555556,
             "#d8576b"
            ],
            [
             0.6666666666666666,
             "#ed7953"
            ],
            [
             0.7777777777777778,
             "#fb9f3a"
            ],
            [
             0.8888888888888888,
             "#fdca26"
            ],
            [
             1,
             "#f0f921"
            ]
           ],
           "sequentialminus": [
            [
             0,
             "#0d0887"
            ],
            [
             0.1111111111111111,
             "#46039f"
            ],
            [
             0.2222222222222222,
             "#7201a8"
            ],
            [
             0.3333333333333333,
             "#9c179e"
            ],
            [
             0.4444444444444444,
             "#bd3786"
            ],
            [
             0.5555555555555556,
             "#d8576b"
            ],
            [
             0.6666666666666666,
             "#ed7953"
            ],
            [
             0.7777777777777778,
             "#fb9f3a"
            ],
            [
             0.8888888888888888,
             "#fdca26"
            ],
            [
             1,
             "#f0f921"
            ]
           ]
          },
          "colorway": [
           "#636efa",
           "#EF553B",
           "#00cc96",
           "#ab63fa",
           "#FFA15A",
           "#19d3f3",
           "#FF6692",
           "#B6E880",
           "#FF97FF",
           "#FECB52"
          ],
          "font": {
           "color": "#2a3f5f"
          },
          "geo": {
           "bgcolor": "white",
           "lakecolor": "white",
           "landcolor": "#E5ECF6",
           "showlakes": true,
           "showland": true,
           "subunitcolor": "white"
          },
          "hoverlabel": {
           "align": "left"
          },
          "hovermode": "closest",
          "mapbox": {
           "style": "light"
          },
          "paper_bgcolor": "white",
          "plot_bgcolor": "#E5ECF6",
          "polar": {
           "angularaxis": {
            "gridcolor": "white",
            "linecolor": "white",
            "ticks": ""
           },
           "bgcolor": "#E5ECF6",
           "radialaxis": {
            "gridcolor": "white",
            "linecolor": "white",
            "ticks": ""
           }
          },
          "scene": {
           "xaxis": {
            "backgroundcolor": "#E5ECF6",
            "gridcolor": "white",
            "gridwidth": 2,
            "linecolor": "white",
            "showbackground": true,
            "ticks": "",
            "zerolinecolor": "white"
           },
           "yaxis": {
            "backgroundcolor": "#E5ECF6",
            "gridcolor": "white",
            "gridwidth": 2,
            "linecolor": "white",
            "showbackground": true,
            "ticks": "",
            "zerolinecolor": "white"
           },
           "zaxis": {
            "backgroundcolor": "#E5ECF6",
            "gridcolor": "white",
            "gridwidth": 2,
            "linecolor": "white",
            "showbackground": true,
            "ticks": "",
            "zerolinecolor": "white"
           }
          },
          "shapedefaults": {
           "line": {
            "color": "#2a3f5f"
           }
          },
          "ternary": {
           "aaxis": {
            "gridcolor": "white",
            "linecolor": "white",
            "ticks": ""
           },
           "baxis": {
            "gridcolor": "white",
            "linecolor": "white",
            "ticks": ""
           },
           "bgcolor": "#E5ECF6",
           "caxis": {
            "gridcolor": "white",
            "linecolor": "white",
            "ticks": ""
           }
          },
          "title": {
           "x": 0.05
          },
          "xaxis": {
           "automargin": true,
           "gridcolor": "white",
           "linecolor": "white",
           "ticks": "",
           "title": {
            "standoff": 15
           },
           "zerolinecolor": "white",
           "zerolinewidth": 2
          },
          "yaxis": {
           "automargin": true,
           "gridcolor": "white",
           "linecolor": "white",
           "ticks": "",
           "title": {
            "standoff": 15
           },
           "zerolinecolor": "white",
           "zerolinewidth": 2
          }
         }
        },
        "title": {
         "text": "Comparison of Total Profit, Total Sales, and Units Sold by Product"
        },
        "xaxis": {
         "anchor": "y",
         "domain": [
          0,
          1
         ],
         "title": {
          "text": "Product"
         }
        },
        "yaxis": {
         "anchor": "x",
         "domain": [
          0,
          1
         ],
         "title": {
          "text": "Amount"
         }
        }
       }
      }
     },
     "metadata": {},
     "output_type": "display_data"
    }
   ],
   "source": [
    "#Trial: To add total units sold in the above graph\n",
    "\n",
    "sum_sales_per_product = df.groupby('Product')[['Total Sales', 'Total Profit', 'Units Sold']].sum().reset_index()\n",
    "sum_sales_per_product = sum_sales_per_product.sort_values(by='Total Sales', ascending=False)\n",
    "\n",
    "# Reshaping the Df into a long format\n",
    "long_df = sum_sales_per_product.melt(id_vars='Product', \n",
    "                                     value_vars=['Total Profit', 'Total Sales', 'Units Sold'],\n",
    "                                     var_name='Metric', value_name='Value')\n",
    "\n",
    "# Grouped bar chart\n",
    "fig = px.bar(long_df, x='Product', y='Value', color='Metric', barmode='group',\n",
    "             title=\"Comparison of Total Profit, Total Sales, and Units Sold by Product\",\n",
    "             labels={\"Value\": \"Amount\", \"Metric\": \"Type\"})\n",
    "\n",
    "fig.show()"
   ]
  },
  {
   "cell_type": "markdown",
   "metadata": {},
   "source": [
    "↑↑↑ This above graph is not insightful becasue the \"Units sold\" are very low in comparison to the \"Total Profit\" and \"Total sales\". Thus it is not visible on the graph and is not helpful."
   ]
  },
  {
   "cell_type": "code",
   "execution_count": 15,
   "metadata": {},
   "outputs": [
    {
     "data": {
      "application/vnd.plotly.v1+json": {
       "config": {
        "plotlyServerURL": "https://plot.ly"
       },
       "data": [
        {
         "name": "Total Sales",
         "type": "bar",
         "x": [
          "Men's Street Footwear",
          "Women's Apparel",
          "Men's Athletic Footwear",
          "Women's Street Footwear",
          "Men's Apparel",
          "Women's Athletic Footwear"
         ],
         "y": [
          208826244,
          179038860,
          153673680.00000003,
          128002813.00000001,
          123728632,
          106631896
         ]
        },
        {
         "name": "Total Profit",
         "type": "bar",
         "x": [
          "Men's Street Footwear",
          "Women's Apparel",
          "Men's Athletic Footwear",
          "Women's Street Footwear",
          "Men's Apparel",
          "Women's Athletic Footwear"
         ],
         "y": [
          126023983.38000001,
          110387889.44,
          101826791.81000002,
          82906986.19000001,
          78965601.67,
          67656111.06
         ]
        },
        {
         "name": "Units Sold",
         "type": "scatter",
         "x": [
          "Men's Street Footwear",
          "Women's Apparel",
          "Men's Athletic Footwear",
          "Women's Street Footwear",
          "Men's Apparel",
          "Women's Athletic Footwear"
         ],
         "y": [
          593320,
          433827,
          435526,
          392269,
          306683,
          317236
         ],
         "yaxis": "y2"
        }
       ],
       "layout": {
        "barmode": "group",
        "template": {
         "data": {
          "bar": [
           {
            "error_x": {
             "color": "#2a3f5f"
            },
            "error_y": {
             "color": "#2a3f5f"
            },
            "marker": {
             "line": {
              "color": "#E5ECF6",
              "width": 0.5
             },
             "pattern": {
              "fillmode": "overlay",
              "size": 10,
              "solidity": 0.2
             }
            },
            "type": "bar"
           }
          ],
          "barpolar": [
           {
            "marker": {
             "line": {
              "color": "#E5ECF6",
              "width": 0.5
             },
             "pattern": {
              "fillmode": "overlay",
              "size": 10,
              "solidity": 0.2
             }
            },
            "type": "barpolar"
           }
          ],
          "carpet": [
           {
            "aaxis": {
             "endlinecolor": "#2a3f5f",
             "gridcolor": "white",
             "linecolor": "white",
             "minorgridcolor": "white",
             "startlinecolor": "#2a3f5f"
            },
            "baxis": {
             "endlinecolor": "#2a3f5f",
             "gridcolor": "white",
             "linecolor": "white",
             "minorgridcolor": "white",
             "startlinecolor": "#2a3f5f"
            },
            "type": "carpet"
           }
          ],
          "choropleth": [
           {
            "colorbar": {
             "outlinewidth": 0,
             "ticks": ""
            },
            "type": "choropleth"
           }
          ],
          "contour": [
           {
            "colorbar": {
             "outlinewidth": 0,
             "ticks": ""
            },
            "colorscale": [
             [
              0,
              "#0d0887"
             ],
             [
              0.1111111111111111,
              "#46039f"
             ],
             [
              0.2222222222222222,
              "#7201a8"
             ],
             [
              0.3333333333333333,
              "#9c179e"
             ],
             [
              0.4444444444444444,
              "#bd3786"
             ],
             [
              0.5555555555555556,
              "#d8576b"
             ],
             [
              0.6666666666666666,
              "#ed7953"
             ],
             [
              0.7777777777777778,
              "#fb9f3a"
             ],
             [
              0.8888888888888888,
              "#fdca26"
             ],
             [
              1,
              "#f0f921"
             ]
            ],
            "type": "contour"
           }
          ],
          "contourcarpet": [
           {
            "colorbar": {
             "outlinewidth": 0,
             "ticks": ""
            },
            "type": "contourcarpet"
           }
          ],
          "heatmap": [
           {
            "colorbar": {
             "outlinewidth": 0,
             "ticks": ""
            },
            "colorscale": [
             [
              0,
              "#0d0887"
             ],
             [
              0.1111111111111111,
              "#46039f"
             ],
             [
              0.2222222222222222,
              "#7201a8"
             ],
             [
              0.3333333333333333,
              "#9c179e"
             ],
             [
              0.4444444444444444,
              "#bd3786"
             ],
             [
              0.5555555555555556,
              "#d8576b"
             ],
             [
              0.6666666666666666,
              "#ed7953"
             ],
             [
              0.7777777777777778,
              "#fb9f3a"
             ],
             [
              0.8888888888888888,
              "#fdca26"
             ],
             [
              1,
              "#f0f921"
             ]
            ],
            "type": "heatmap"
           }
          ],
          "heatmapgl": [
           {
            "colorbar": {
             "outlinewidth": 0,
             "ticks": ""
            },
            "colorscale": [
             [
              0,
              "#0d0887"
             ],
             [
              0.1111111111111111,
              "#46039f"
             ],
             [
              0.2222222222222222,
              "#7201a8"
             ],
             [
              0.3333333333333333,
              "#9c179e"
             ],
             [
              0.4444444444444444,
              "#bd3786"
             ],
             [
              0.5555555555555556,
              "#d8576b"
             ],
             [
              0.6666666666666666,
              "#ed7953"
             ],
             [
              0.7777777777777778,
              "#fb9f3a"
             ],
             [
              0.8888888888888888,
              "#fdca26"
             ],
             [
              1,
              "#f0f921"
             ]
            ],
            "type": "heatmapgl"
           }
          ],
          "histogram": [
           {
            "marker": {
             "pattern": {
              "fillmode": "overlay",
              "size": 10,
              "solidity": 0.2
             }
            },
            "type": "histogram"
           }
          ],
          "histogram2d": [
           {
            "colorbar": {
             "outlinewidth": 0,
             "ticks": ""
            },
            "colorscale": [
             [
              0,
              "#0d0887"
             ],
             [
              0.1111111111111111,
              "#46039f"
             ],
             [
              0.2222222222222222,
              "#7201a8"
             ],
             [
              0.3333333333333333,
              "#9c179e"
             ],
             [
              0.4444444444444444,
              "#bd3786"
             ],
             [
              0.5555555555555556,
              "#d8576b"
             ],
             [
              0.6666666666666666,
              "#ed7953"
             ],
             [
              0.7777777777777778,
              "#fb9f3a"
             ],
             [
              0.8888888888888888,
              "#fdca26"
             ],
             [
              1,
              "#f0f921"
             ]
            ],
            "type": "histogram2d"
           }
          ],
          "histogram2dcontour": [
           {
            "colorbar": {
             "outlinewidth": 0,
             "ticks": ""
            },
            "colorscale": [
             [
              0,
              "#0d0887"
             ],
             [
              0.1111111111111111,
              "#46039f"
             ],
             [
              0.2222222222222222,
              "#7201a8"
             ],
             [
              0.3333333333333333,
              "#9c179e"
             ],
             [
              0.4444444444444444,
              "#bd3786"
             ],
             [
              0.5555555555555556,
              "#d8576b"
             ],
             [
              0.6666666666666666,
              "#ed7953"
             ],
             [
              0.7777777777777778,
              "#fb9f3a"
             ],
             [
              0.8888888888888888,
              "#fdca26"
             ],
             [
              1,
              "#f0f921"
             ]
            ],
            "type": "histogram2dcontour"
           }
          ],
          "mesh3d": [
           {
            "colorbar": {
             "outlinewidth": 0,
             "ticks": ""
            },
            "type": "mesh3d"
           }
          ],
          "parcoords": [
           {
            "line": {
             "colorbar": {
              "outlinewidth": 0,
              "ticks": ""
             }
            },
            "type": "parcoords"
           }
          ],
          "pie": [
           {
            "automargin": true,
            "type": "pie"
           }
          ],
          "scatter": [
           {
            "fillpattern": {
             "fillmode": "overlay",
             "size": 10,
             "solidity": 0.2
            },
            "type": "scatter"
           }
          ],
          "scatter3d": [
           {
            "line": {
             "colorbar": {
              "outlinewidth": 0,
              "ticks": ""
             }
            },
            "marker": {
             "colorbar": {
              "outlinewidth": 0,
              "ticks": ""
             }
            },
            "type": "scatter3d"
           }
          ],
          "scattercarpet": [
           {
            "marker": {
             "colorbar": {
              "outlinewidth": 0,
              "ticks": ""
             }
            },
            "type": "scattercarpet"
           }
          ],
          "scattergeo": [
           {
            "marker": {
             "colorbar": {
              "outlinewidth": 0,
              "ticks": ""
             }
            },
            "type": "scattergeo"
           }
          ],
          "scattergl": [
           {
            "marker": {
             "colorbar": {
              "outlinewidth": 0,
              "ticks": ""
             }
            },
            "type": "scattergl"
           }
          ],
          "scattermapbox": [
           {
            "marker": {
             "colorbar": {
              "outlinewidth": 0,
              "ticks": ""
             }
            },
            "type": "scattermapbox"
           }
          ],
          "scatterpolar": [
           {
            "marker": {
             "colorbar": {
              "outlinewidth": 0,
              "ticks": ""
             }
            },
            "type": "scatterpolar"
           }
          ],
          "scatterpolargl": [
           {
            "marker": {
             "colorbar": {
              "outlinewidth": 0,
              "ticks": ""
             }
            },
            "type": "scatterpolargl"
           }
          ],
          "scatterternary": [
           {
            "marker": {
             "colorbar": {
              "outlinewidth": 0,
              "ticks": ""
             }
            },
            "type": "scatterternary"
           }
          ],
          "surface": [
           {
            "colorbar": {
             "outlinewidth": 0,
             "ticks": ""
            },
            "colorscale": [
             [
              0,
              "#0d0887"
             ],
             [
              0.1111111111111111,
              "#46039f"
             ],
             [
              0.2222222222222222,
              "#7201a8"
             ],
             [
              0.3333333333333333,
              "#9c179e"
             ],
             [
              0.4444444444444444,
              "#bd3786"
             ],
             [
              0.5555555555555556,
              "#d8576b"
             ],
             [
              0.6666666666666666,
              "#ed7953"
             ],
             [
              0.7777777777777778,
              "#fb9f3a"
             ],
             [
              0.8888888888888888,
              "#fdca26"
             ],
             [
              1,
              "#f0f921"
             ]
            ],
            "type": "surface"
           }
          ],
          "table": [
           {
            "cells": {
             "fill": {
              "color": "#EBF0F8"
             },
             "line": {
              "color": "white"
             }
            },
            "header": {
             "fill": {
              "color": "#C8D4E3"
             },
             "line": {
              "color": "white"
             }
            },
            "type": "table"
           }
          ]
         },
         "layout": {
          "annotationdefaults": {
           "arrowcolor": "#2a3f5f",
           "arrowhead": 0,
           "arrowwidth": 1
          },
          "autotypenumbers": "strict",
          "coloraxis": {
           "colorbar": {
            "outlinewidth": 0,
            "ticks": ""
           }
          },
          "colorscale": {
           "diverging": [
            [
             0,
             "#8e0152"
            ],
            [
             0.1,
             "#c51b7d"
            ],
            [
             0.2,
             "#de77ae"
            ],
            [
             0.3,
             "#f1b6da"
            ],
            [
             0.4,
             "#fde0ef"
            ],
            [
             0.5,
             "#f7f7f7"
            ],
            [
             0.6,
             "#e6f5d0"
            ],
            [
             0.7,
             "#b8e186"
            ],
            [
             0.8,
             "#7fbc41"
            ],
            [
             0.9,
             "#4d9221"
            ],
            [
             1,
             "#276419"
            ]
           ],
           "sequential": [
            [
             0,
             "#0d0887"
            ],
            [
             0.1111111111111111,
             "#46039f"
            ],
            [
             0.2222222222222222,
             "#7201a8"
            ],
            [
             0.3333333333333333,
             "#9c179e"
            ],
            [
             0.4444444444444444,
             "#bd3786"
            ],
            [
             0.5555555555555556,
             "#d8576b"
            ],
            [
             0.6666666666666666,
             "#ed7953"
            ],
            [
             0.7777777777777778,
             "#fb9f3a"
            ],
            [
             0.8888888888888888,
             "#fdca26"
            ],
            [
             1,
             "#f0f921"
            ]
           ],
           "sequentialminus": [
            [
             0,
             "#0d0887"
            ],
            [
             0.1111111111111111,
             "#46039f"
            ],
            [
             0.2222222222222222,
             "#7201a8"
            ],
            [
             0.3333333333333333,
             "#9c179e"
            ],
            [
             0.4444444444444444,
             "#bd3786"
            ],
            [
             0.5555555555555556,
             "#d8576b"
            ],
            [
             0.6666666666666666,
             "#ed7953"
            ],
            [
             0.7777777777777778,
             "#fb9f3a"
            ],
            [
             0.8888888888888888,
             "#fdca26"
            ],
            [
             1,
             "#f0f921"
            ]
           ]
          },
          "colorway": [
           "#636efa",
           "#EF553B",
           "#00cc96",
           "#ab63fa",
           "#FFA15A",
           "#19d3f3",
           "#FF6692",
           "#B6E880",
           "#FF97FF",
           "#FECB52"
          ],
          "font": {
           "color": "#2a3f5f"
          },
          "geo": {
           "bgcolor": "white",
           "lakecolor": "white",
           "landcolor": "#E5ECF6",
           "showlakes": true,
           "showland": true,
           "subunitcolor": "white"
          },
          "hoverlabel": {
           "align": "left"
          },
          "hovermode": "closest",
          "mapbox": {
           "style": "light"
          },
          "paper_bgcolor": "white",
          "plot_bgcolor": "#E5ECF6",
          "polar": {
           "angularaxis": {
            "gridcolor": "white",
            "linecolor": "white",
            "ticks": ""
           },
           "bgcolor": "#E5ECF6",
           "radialaxis": {
            "gridcolor": "white",
            "linecolor": "white",
            "ticks": ""
           }
          },
          "scene": {
           "xaxis": {
            "backgroundcolor": "#E5ECF6",
            "gridcolor": "white",
            "gridwidth": 2,
            "linecolor": "white",
            "showbackground": true,
            "ticks": "",
            "zerolinecolor": "white"
           },
           "yaxis": {
            "backgroundcolor": "#E5ECF6",
            "gridcolor": "white",
            "gridwidth": 2,
            "linecolor": "white",
            "showbackground": true,
            "ticks": "",
            "zerolinecolor": "white"
           },
           "zaxis": {
            "backgroundcolor": "#E5ECF6",
            "gridcolor": "white",
            "gridwidth": 2,
            "linecolor": "white",
            "showbackground": true,
            "ticks": "",
            "zerolinecolor": "white"
           }
          },
          "shapedefaults": {
           "line": {
            "color": "#2a3f5f"
           }
          },
          "ternary": {
           "aaxis": {
            "gridcolor": "white",
            "linecolor": "white",
            "ticks": ""
           },
           "baxis": {
            "gridcolor": "white",
            "linecolor": "white",
            "ticks": ""
           },
           "bgcolor": "#E5ECF6",
           "caxis": {
            "gridcolor": "white",
            "linecolor": "white",
            "ticks": ""
           }
          },
          "title": {
           "x": 0.05
          },
          "xaxis": {
           "automargin": true,
           "gridcolor": "white",
           "linecolor": "white",
           "ticks": "",
           "title": {
            "standoff": 15
           },
           "zerolinecolor": "white",
           "zerolinewidth": 2
          },
          "yaxis": {
           "automargin": true,
           "gridcolor": "white",
           "linecolor": "white",
           "ticks": "",
           "title": {
            "standoff": 15
           },
           "zerolinecolor": "white",
           "zerolinewidth": 2
          }
         }
        },
        "title": {
         "text": "Comparison of Total Profit, Total Sales, and Units Sold by Product"
        },
        "xaxis": {
         "title": {
          "text": "Product"
         }
        },
        "yaxis": {
         "title": {
          "text": "Total Sales & Profit"
         }
        },
        "yaxis2": {
         "overlaying": "y",
         "side": "right",
         "title": {
          "text": "Units Sold"
         }
        }
       }
      }
     },
     "metadata": {},
     "output_type": "display_data"
    }
   ],
   "source": [
    "# Sort the Df\n",
    "sum_sales_per_product = df.groupby('Product')[['Total Sales', 'Total Profit', 'Units Sold']].sum().reset_index()\n",
    "sum_sales_per_product = sum_sales_per_product.sort_values(by='Total Sales', ascending=False)\n",
    "\n",
    "# Creating figure with secondary y-axis\n",
    "fig = go.Figure()\n",
    "\n",
    "# Add traces\n",
    "fig.add_trace(go.Bar(x=sum_sales_per_product['Product'], y=sum_sales_per_product['Total Sales'], name='Total Sales'))\n",
    "fig.add_trace(go.Bar(x=sum_sales_per_product['Product'], y=sum_sales_per_product['Total Profit'], name='Total Profit'))\n",
    "\n",
    "# Creating a secondary y-axis for 'Units Sold'\n",
    "fig.add_trace(go.Scatter(x=sum_sales_per_product['Product'], y=sum_sales_per_product['Units Sold'], name='Units Sold', yaxis='y2'))\n",
    "\n",
    "# Layout of the Graph\n",
    "fig.update_layout(\n",
    "    title=\"Comparison of Total Profit, Total Sales, and Units Sold by Product\",\n",
    "    xaxis_title=\"Product\",\n",
    "    yaxis_title=\"Total Sales & Profit\",\n",
    "    yaxis2=dict(title=\"Units Sold\", overlaying='y', side='right'),\n",
    "    barmode='group'\n",
    ")\n",
    "\n",
    "fig.show()"
   ]
  },
  {
   "cell_type": "markdown",
   "metadata": {},
   "source": [
    "##### 1.4.3 Comparison of Total Profit vs. Total Sales by Product (Tabluar)"
   ]
  },
  {
   "cell_type": "code",
   "execution_count": 16,
   "metadata": {},
   "outputs": [
    {
     "data": {
      "text/html": [
       "<div>\n",
       "<style scoped>\n",
       "    .dataframe tbody tr th:only-of-type {\n",
       "        vertical-align: middle;\n",
       "    }\n",
       "\n",
       "    .dataframe tbody tr th {\n",
       "        vertical-align: top;\n",
       "    }\n",
       "\n",
       "    .dataframe thead th {\n",
       "        text-align: right;\n",
       "    }\n",
       "</style>\n",
       "<table border=\"1\" class=\"dataframe\">\n",
       "  <thead>\n",
       "    <tr style=\"text-align: right;\">\n",
       "      <th></th>\n",
       "      <th>Product</th>\n",
       "      <th>Total Profit (Mil $)</th>\n",
       "      <th>Total Sales (Mil $)</th>\n",
       "      <th>Units Sold</th>\n",
       "    </tr>\n",
       "  </thead>\n",
       "  <tbody>\n",
       "    <tr>\n",
       "      <th>0</th>\n",
       "      <td>Men's Apparel</td>\n",
       "      <td>78.966</td>\n",
       "      <td>123.729</td>\n",
       "      <td>306683</td>\n",
       "    </tr>\n",
       "    <tr>\n",
       "      <th>1</th>\n",
       "      <td>Men's Athletic Footwear</td>\n",
       "      <td>101.827</td>\n",
       "      <td>153.674</td>\n",
       "      <td>435526</td>\n",
       "    </tr>\n",
       "    <tr>\n",
       "      <th>2</th>\n",
       "      <td>Men's Street Footwear</td>\n",
       "      <td>126.024</td>\n",
       "      <td>208.826</td>\n",
       "      <td>593320</td>\n",
       "    </tr>\n",
       "    <tr>\n",
       "      <th>3</th>\n",
       "      <td>Women's Apparel</td>\n",
       "      <td>110.388</td>\n",
       "      <td>179.039</td>\n",
       "      <td>433827</td>\n",
       "    </tr>\n",
       "    <tr>\n",
       "      <th>4</th>\n",
       "      <td>Women's Athletic Footwear</td>\n",
       "      <td>67.656</td>\n",
       "      <td>106.632</td>\n",
       "      <td>317236</td>\n",
       "    </tr>\n",
       "  </tbody>\n",
       "</table>\n",
       "</div>"
      ],
      "text/plain": [
       "                     Product  Total Profit (Mil $)  Total Sales (Mil $)  \\\n",
       "0              Men's Apparel                78.966              123.729   \n",
       "1    Men's Athletic Footwear               101.827              153.674   \n",
       "2      Men's Street Footwear               126.024              208.826   \n",
       "3            Women's Apparel               110.388              179.039   \n",
       "4  Women's Athletic Footwear                67.656              106.632   \n",
       "\n",
       "   Units Sold  \n",
       "0      306683  \n",
       "1      435526  \n",
       "2      593320  \n",
       "3      433827  \n",
       "4      317236  "
      ]
     },
     "execution_count": 16,
     "metadata": {},
     "output_type": "execute_result"
    }
   ],
   "source": [
    "sum_sales_per_product = df.groupby('Product')[['Total Profit','Total Sales', 'Units Sold']].sum().reset_index()\n",
    "\n",
    "#Converting the from scientific notation to millions and round of 3 decimals\n",
    "sum_sales_per_product['Total Profit'] = round(sum_sales_per_product['Total Profit'] / 1e6, 3)\n",
    "sum_sales_per_product['Total Sales'] = round(sum_sales_per_product['Total Sales'] / 1e6, 3)\n",
    "sum_sales_per_product['Units Sold'] = round(sum_sales_per_product['Units Sold'])\n",
    "\n",
    "#Rename the column\n",
    "sum_sales_per_product = sum_sales_per_product.rename(columns={\"Total Profit\" : \"Total Profit (Mil $)\"})\n",
    "sum_sales_per_product = sum_sales_per_product.rename(columns={\"Total Sales\" : \"Total Sales (Mil $)\"})\n",
    "sum_sales_per_product = sum_sales_per_product.rename(columns={\"Units Sold\" : \"Units Sold\"})\n",
    "sum_sales_per_product.head()"
   ]
  },
  {
   "cell_type": "markdown",
   "metadata": {},
   "source": [
    "##### Question: 1) Sales Performance Analysis: By examining trends in total sales and units sold we can identify which products are performing well and which are underperforming. This analysis can guide inventory management and marketing strategies.\n",
    "\n",
    "\n",
    "1. Top-performing products: From the table, we can identify the top-performing products in terms of total sales and units sold. For example, Men's Athletic Footwear and Men's Street Footwear have the highest total sales and units sold, respectively. This information can help businesses focus their marketing efforts and inventory management on these high-demand products.\n",
    "2. Underperforming products: On the other hand, Women's Apparel and Women's Athletic Footwear have lower total sales and units sold compared to other products. This may indicate that these products are not performing well in the market, and businesses should consider revising their strategies for these products or discontinuing them if they are not profitable.\n",
    "3. Units sold trends: The table shows that Men's Apparel, Men's Athletic Footwear, and Men's Street Footwear have an increasing trend in units sold, indicating that these products are gaining popularity over time. Conversely, Women's Apparel and Women's Athletic Footwear have a decreasing trend in units sold, suggesting that these products may be facing challenges in the market.\n",
    "4. Total Profit trends: The table shows that Men's Athletic Footwear and Men's Street Footwear have an increasing trend in total profit, indicating that these products are becoming more profitable over time. On the other hand, Women's Apparel and Women's Athletic Footwear have a decreasing trend in total profit, suggesting that these products may be facing challenges in terms of profitability.\n",
    "5. Inventory management: Based on the sales trends and profit trends, businesses can adjust their inventory management strategies to ensure they have enough stock for high-demand products while minimizing inventory for underperforming products.\n",
    "6. Marketing strategies: By identifying the top-performing products, businesses can allocate more marketing resources to these products to capitalize on their popularity and drive further growth. \n",
    "\n",
    "Additionally, businesses can analyze the marketing strategies for these high-performing products to identify best practices that can be applied to other products in their portfolio.\n",
    "\n",
    "##### In conclusion, the sales performance analysis provides valuable insights into which products are performing well and which are underperforming. This information can guide inventory management and marketing strategies to improve overall sales performance."
   ]
  },
  {
   "cell_type": "markdown",
   "metadata": {},
   "source": [
    "### 2. Regional Market Analysis:"
   ]
  },
  {
   "cell_type": "markdown",
   "metadata": {},
   "source": [
    "Using the regions data we can identify which stores are performing good and which are performing poor. "
   ]
  },
  {
   "cell_type": "code",
   "execution_count": 17,
   "metadata": {},
   "outputs": [
    {
     "data": {
      "application/vnd.plotly.v1+json": {
       "config": {
        "plotlyServerURL": "https://plot.ly"
       },
       "data": [
        {
         "alignmentgroup": "True",
         "hovertemplate": "State=Nebraska<br>Product=%{x}<br>Total Sales=%{y}<extra></extra>",
         "legendgroup": "Nebraska",
         "marker": {
          "color": "#636efa",
          "pattern": {
           "shape": ""
          }
         },
         "name": "Nebraska",
         "offsetgroup": "Nebraska",
         "orientation": "v",
         "showlegend": true,
         "textposition": "auto",
         "type": "bar",
         "x": [
          "Men's Apparel",
          "Men's Athletic Footwear",
          "Men's Street Footwear",
          "Women's Apparel",
          "Women's Athletic Footwear",
          "Women's Street Footwear"
         ],
         "xaxis": "x",
         "y": [
          530197,
          942983,
          2131074,
          1202661,
          465677,
          656446
         ],
         "yaxis": "y"
        },
        {
         "alignmentgroup": "True",
         "hovertemplate": "State=Minnesota<br>Product=%{x}<br>Total Sales=%{y}<extra></extra>",
         "legendgroup": "Minnesota",
         "marker": {
          "color": "#EF553B",
          "pattern": {
           "shape": ""
          }
         },
         "name": "Minnesota",
         "offsetgroup": "Minnesota",
         "orientation": "v",
         "showlegend": true,
         "textposition": "auto",
         "type": "bar",
         "x": [
          "Men's Apparel",
          "Men's Athletic Footwear",
          "Men's Street Footwear",
          "Women's Apparel",
          "Women's Athletic Footwear",
          "Women's Street Footwear"
         ],
         "xaxis": "x",
         "y": [
          742603.9999999999,
          1167262,
          2498746,
          1476050,
          602229,
          891177
         ],
         "yaxis": "y"
        },
        {
         "alignmentgroup": "True",
         "hovertemplate": "State=Maryland<br>Product=%{x}<br>Total Sales=%{y}<extra></extra>",
         "legendgroup": "Maryland",
         "marker": {
          "color": "#00cc96",
          "pattern": {
           "shape": ""
          }
         },
         "name": "Maryland",
         "offsetgroup": "Maryland",
         "orientation": "v",
         "showlegend": true,
         "textposition": "auto",
         "type": "bar",
         "x": [
          "Men's Apparel",
          "Men's Athletic Footwear",
          "Men's Street Footwear",
          "Women's Apparel",
          "Women's Athletic Footwear",
          "Women's Street Footwear"
         ],
         "xaxis": "x",
         "y": [
          808227,
          1198720,
          2708284,
          1604985.9999999998,
          573239,
          864603
         ],
         "yaxis": "y"
        },
        {
         "alignmentgroup": "True",
         "hovertemplate": "State=North Dakota<br>Product=%{x}<br>Total Sales=%{y}<extra></extra>",
         "legendgroup": "North Dakota",
         "marker": {
          "color": "#ab63fa",
          "pattern": {
           "shape": ""
          }
         },
         "name": "North Dakota",
         "offsetgroup": "North Dakota",
         "orientation": "v",
         "showlegend": true,
         "textposition": "auto",
         "type": "bar",
         "x": [
          "Men's Apparel",
          "Men's Athletic Footwear",
          "Men's Street Footwear",
          "Women's Apparel",
          "Women's Athletic Footwear",
          "Women's Street Footwear"
         ],
         "xaxis": "x",
         "y": [
          924794,
          1147762.0000000002,
          2557800,
          1678201,
          615834,
          811189
         ],
         "yaxis": "y"
        },
        {
         "alignmentgroup": "True",
         "hovertemplate": "State=Rhode Island<br>Product=%{x}<br>Total Sales=%{y}<extra></extra>",
         "legendgroup": "Rhode Island",
         "marker": {
          "color": "#FFA15A",
          "pattern": {
           "shape": ""
          }
         },
         "name": "Rhode Island",
         "offsetgroup": "Rhode Island",
         "orientation": "v",
         "showlegend": true,
         "textposition": "auto",
         "type": "bar",
         "x": [
          "Men's Apparel",
          "Men's Athletic Footwear",
          "Men's Street Footwear",
          "Women's Apparel",
          "Women's Athletic Footwear",
          "Women's Street Footwear"
         ],
         "xaxis": "x",
         "y": [
          928681,
          1287826,
          2814550.9999999995,
          1765791.9999999998,
          675058,
          974898
         ],
         "yaxis": "y"
        },
        {
         "alignmentgroup": "True",
         "hovertemplate": "State=Iowa<br>Product=%{x}<br>Total Sales=%{y}<extra></extra>",
         "legendgroup": "Iowa",
         "marker": {
          "color": "#19d3f3",
          "pattern": {
           "shape": ""
          }
         },
         "name": "Iowa",
         "offsetgroup": "Iowa",
         "orientation": "v",
         "showlegend": true,
         "textposition": "auto",
         "type": "bar",
         "x": [
          "Men's Apparel",
          "Men's Athletic Footwear",
          "Men's Street Footwear",
          "Women's Apparel",
          "Women's Athletic Footwear",
          "Women's Street Footwear"
         ],
         "xaxis": "x",
         "y": [
          928928,
          1088837.0000000002,
          2408907,
          1647464,
          589654,
          760221.0000000001
         ],
         "yaxis": "y"
        },
        {
         "alignmentgroup": "True",
         "hovertemplate": "State=Wisconsin<br>Product=%{x}<br>Total Sales=%{y}<extra></extra>",
         "legendgroup": "Wisconsin",
         "marker": {
          "color": "#FF6692",
          "pattern": {
           "shape": ""
          }
         },
         "name": "Wisconsin",
         "offsetgroup": "Wisconsin",
         "orientation": "v",
         "showlegend": true,
         "textposition": "auto",
         "type": "bar",
         "x": [
          "Men's Apparel",
          "Men's Athletic Footwear",
          "Men's Street Footwear",
          "Women's Apparel",
          "Women's Athletic Footwear",
          "Women's Street Footwear"
         ],
         "xaxis": "x",
         "y": [
          969692,
          1142899,
          2487006,
          1696874,
          627271,
          803727
         ],
         "yaxis": "y"
        },
        {
         "alignmentgroup": "True",
         "hovertemplate": "State=South Dakota<br>Product=%{x}<br>Total Sales=%{y}<extra></extra>",
         "legendgroup": "South Dakota",
         "marker": {
          "color": "#B6E880",
          "pattern": {
           "shape": ""
          }
         },
         "name": "South Dakota",
         "offsetgroup": "South Dakota",
         "orientation": "v",
         "showlegend": true,
         "textposition": "auto",
         "type": "bar",
         "x": [
          "Men's Apparel",
          "Men's Athletic Footwear",
          "Men's Street Footwear",
          "Women's Apparel",
          "Women's Athletic Footwear",
          "Women's Street Footwear"
         ],
         "xaxis": "x",
         "y": [
          995364,
          1284513,
          2812070,
          1786442,
          685516,
          931671
         ],
         "yaxis": "y"
        },
        {
         "alignmentgroup": "True",
         "hovertemplate": "State=Maine<br>Product=%{x}<br>Total Sales=%{y}<extra></extra>",
         "legendgroup": "Maine",
         "marker": {
          "color": "#FF97FF",
          "pattern": {
           "shape": ""
          }
         },
         "name": "Maine",
         "offsetgroup": "Maine",
         "orientation": "v",
         "showlegend": true,
         "textposition": "auto",
         "type": "bar",
         "x": [
          "Men's Apparel",
          "Men's Athletic Footwear",
          "Men's Street Footwear",
          "Women's Apparel",
          "Women's Athletic Footwear",
          "Women's Street Footwear"
         ],
         "xaxis": "x",
         "y": [
          995809.9999999999,
          1443733,
          2967882,
          1873499,
          800906,
          1114148
         ],
         "yaxis": "y"
        },
        {
         "alignmentgroup": "True",
         "hovertemplate": "State=Pennsylvania<br>Product=%{x}<br>Total Sales=%{y}<extra></extra>",
         "legendgroup": "Pennsylvania",
         "marker": {
          "color": "#FECB52",
          "pattern": {
           "shape": ""
          }
         },
         "name": "Pennsylvania",
         "offsetgroup": "Pennsylvania",
         "orientation": "v",
         "showlegend": true,
         "textposition": "auto",
         "type": "bar",
         "x": [
          "Men's Apparel",
          "Men's Athletic Footwear",
          "Men's Street Footwear",
          "Women's Apparel",
          "Women's Athletic Footwear",
          "Women's Street Footwear"
         ],
         "xaxis": "x",
         "y": [
          1055499,
          1636433.0000000002,
          3401211,
          2052631,
          926776.0000000001,
          1284969
         ],
         "yaxis": "y"
        },
        {
         "alignmentgroup": "True",
         "hovertemplate": "State=Illinois<br>Product=%{x}<br>Total Sales=%{y}<extra></extra>",
         "legendgroup": "Illinois",
         "marker": {
          "color": "#636efa",
          "pattern": {
           "shape": ""
          }
         },
         "name": "Illinois",
         "offsetgroup": "Illinois",
         "orientation": "v",
         "showlegend": true,
         "textposition": "auto",
         "type": "bar",
         "x": [
          "Men's Apparel",
          "Men's Athletic Footwear",
          "Men's Street Footwear",
          "Women's Apparel",
          "Women's Athletic Footwear",
          "Women's Street Footwear"
         ],
         "xaxis": "x",
         "y": [
          1102791,
          1560270,
          3087951,
          1960895,
          924799,
          1160782
         ],
         "yaxis": "y"
        },
        {
         "alignmentgroup": "True",
         "hovertemplate": "State=Indiana<br>Product=%{x}<br>Total Sales=%{y}<extra></extra>",
         "legendgroup": "Indiana",
         "marker": {
          "color": "#EF553B",
          "pattern": {
           "shape": ""
          }
         },
         "name": "Indiana",
         "offsetgroup": "Indiana",
         "orientation": "v",
         "showlegend": true,
         "textposition": "auto",
         "type": "bar",
         "x": [
          "Men's Apparel",
          "Men's Athletic Footwear",
          "Men's Street Footwear",
          "Women's Apparel",
          "Women's Athletic Footwear",
          "Women's Street Footwear"
         ],
         "xaxis": "x",
         "y": [
          1176101,
          1306839.0000000002,
          2709332,
          1926345,
          761383,
          956198.0000000001
         ],
         "yaxis": "y"
        },
        {
         "alignmentgroup": "True",
         "hovertemplate": "State=New Jersey<br>Product=%{x}<br>Total Sales=%{y}<extra></extra>",
         "legendgroup": "New Jersey",
         "marker": {
          "color": "#00cc96",
          "pattern": {
           "shape": ""
          }
         },
         "name": "New Jersey",
         "offsetgroup": "New Jersey",
         "orientation": "v",
         "showlegend": true,
         "textposition": "auto",
         "type": "bar",
         "x": [
          "Men's Apparel",
          "Men's Athletic Footwear",
          "Men's Street Footwear",
          "Women's Apparel",
          "Women's Athletic Footwear",
          "Women's Street Footwear"
         ],
         "xaxis": "x",
         "y": [
          1223812,
          1528073,
          3050074.9999999995,
          2042490.9999999998,
          902362,
          1187433
         ],
         "yaxis": "y"
        },
        {
         "alignmentgroup": "True",
         "hovertemplate": "State=Kentucky<br>Product=%{x}<br>Total Sales=%{y}<extra></extra>",
         "legendgroup": "Kentucky",
         "marker": {
          "color": "#ab63fa",
          "pattern": {
           "shape": ""
          }
         },
         "name": "Kentucky",
         "offsetgroup": "Kentucky",
         "orientation": "v",
         "showlegend": true,
         "textposition": "auto",
         "type": "bar",
         "x": [
          "Men's Apparel",
          "Men's Athletic Footwear",
          "Men's Street Footwear",
          "Women's Apparel",
          "Women's Athletic Footwear",
          "Women's Street Footwear"
         ],
         "xaxis": "x",
         "y": [
          1282324,
          1576409.0000000002,
          3098870,
          2047736,
          905788,
          1161721.0000000002
         ],
         "yaxis": "y"
        },
        {
         "alignmentgroup": "True",
         "hovertemplate": "State=Massachusetts<br>Product=%{x}<br>Total Sales=%{y}<extra></extra>",
         "legendgroup": "Massachusetts",
         "marker": {
          "color": "#FFA15A",
          "pattern": {
           "shape": ""
          }
         },
         "name": "Massachusetts",
         "offsetgroup": "Massachusetts",
         "orientation": "v",
         "showlegend": true,
         "textposition": "auto",
         "type": "bar",
         "x": [
          "Men's Apparel",
          "Men's Athletic Footwear",
          "Men's Street Footwear",
          "Women's Apparel",
          "Women's Athletic Footwear",
          "Women's Street Footwear"
         ],
         "xaxis": "x",
         "y": [
          1318803,
          1689916,
          3362582,
          2230253,
          1147928,
          1327328
         ],
         "yaxis": "y"
        },
        {
         "alignmentgroup": "True",
         "hovertemplate": "State=Kansas<br>Product=%{x}<br>Total Sales=%{y}<extra></extra>",
         "legendgroup": "Kansas",
         "marker": {
          "color": "#19d3f3",
          "pattern": {
           "shape": ""
          }
         },
         "name": "Kansas",
         "offsetgroup": "Kansas",
         "orientation": "v",
         "showlegend": true,
         "textposition": "auto",
         "type": "bar",
         "x": [
          "Men's Apparel",
          "Men's Athletic Footwear",
          "Men's Street Footwear",
          "Women's Apparel",
          "Women's Athletic Footwear",
          "Women's Street Footwear"
         ],
         "xaxis": "x",
         "y": [
          1405053,
          1469278.0000000002,
          2883508,
          2118818,
          980045.0000000001,
          1116162.0000000002
         ],
         "yaxis": "y"
        },
        {
         "alignmentgroup": "True",
         "hovertemplate": "State=Utah<br>Product=%{x}<br>Total Sales=%{y}<extra></extra>",
         "legendgroup": "Utah",
         "marker": {
          "color": "#FF6692",
          "pattern": {
           "shape": ""
          }
         },
         "name": "Utah",
         "offsetgroup": "Utah",
         "orientation": "v",
         "showlegend": true,
         "textposition": "auto",
         "type": "bar",
         "x": [
          "Men's Apparel",
          "Men's Athletic Footwear",
          "Men's Street Footwear",
          "Women's Apparel",
          "Women's Athletic Footwear",
          "Women's Street Footwear"
         ],
         "xaxis": "x",
         "y": [
          1444612,
          1524489.0000000002,
          2534743,
          2094601,
          907760.0000000001,
          1190215.0000000002
         ],
         "yaxis": "y"
        },
        {
         "alignmentgroup": "True",
         "hovertemplate": "State=Missouri<br>Product=%{x}<br>Total Sales=%{y}<extra></extra>",
         "legendgroup": "Missouri",
         "marker": {
          "color": "#B6E880",
          "pattern": {
           "shape": ""
          }
         },
         "name": "Missouri",
         "offsetgroup": "Missouri",
         "orientation": "v",
         "showlegend": true,
         "textposition": "auto",
         "type": "bar",
         "x": [
          "Men's Apparel",
          "Men's Athletic Footwear",
          "Men's Street Footwear",
          "Women's Apparel",
          "Women's Athletic Footwear",
          "Women's Street Footwear"
         ],
         "xaxis": "x",
         "y": [
          1447557,
          1472432.0000000002,
          2737757,
          2037047,
          910098.0000000001,
          1078374.0000000002
         ],
         "yaxis": "y"
        },
        {
         "alignmentgroup": "True",
         "hovertemplate": "State=Connecticut<br>Product=%{x}<br>Total Sales=%{y}<extra></extra>",
         "legendgroup": "Connecticut",
         "marker": {
          "color": "#FF97FF",
          "pattern": {
           "shape": ""
          }
         },
         "name": "Connecticut",
         "offsetgroup": "Connecticut",
         "orientation": "v",
         "showlegend": true,
         "textposition": "auto",
         "type": "bar",
         "x": [
          "Men's Apparel",
          "Men's Athletic Footwear",
          "Men's Street Footwear",
          "Women's Apparel",
          "Women's Athletic Footwear",
          "Women's Street Footwear"
         ],
         "xaxis": "x",
         "y": [
          1478276,
          1760417,
          3422738.9999999995,
          2393722,
          1125920,
          1392374
         ],
         "yaxis": "y"
        },
        {
         "alignmentgroup": "True",
         "hovertemplate": "State=West Virginia<br>Product=%{x}<br>Total Sales=%{y}<extra></extra>",
         "legendgroup": "West Virginia",
         "marker": {
          "color": "#FECB52",
          "pattern": {
           "shape": ""
          }
         },
         "name": "West Virginia",
         "offsetgroup": "West Virginia",
         "orientation": "v",
         "showlegend": true,
         "textposition": "auto",
         "type": "bar",
         "x": [
          "Men's Apparel",
          "Men's Athletic Footwear",
          "Men's Street Footwear",
          "Women's Apparel",
          "Women's Athletic Footwear",
          "Women's Street Footwear"
         ],
         "xaxis": "x",
         "y": [
          1549975,
          1536373.0000000002,
          3014172,
          2361392,
          1051468,
          1175780
         ],
         "yaxis": "y"
        },
        {
         "alignmentgroup": "True",
         "hovertemplate": "State=Oklahoma<br>Product=%{x}<br>Total Sales=%{y}<extra></extra>",
         "legendgroup": "Oklahoma",
         "marker": {
          "color": "#636efa",
          "pattern": {
           "shape": ""
          }
         },
         "name": "Oklahoma",
         "offsetgroup": "Oklahoma",
         "orientation": "v",
         "showlegend": true,
         "textposition": "auto",
         "type": "bar",
         "x": [
          "Men's Apparel",
          "Men's Athletic Footwear",
          "Men's Street Footwear",
          "Women's Apparel",
          "Women's Athletic Footwear",
          "Women's Street Footwear"
         ],
         "xaxis": "x",
         "y": [
          1576923,
          1562870.0000000002,
          2940237,
          2276795,
          1094823,
          1169086.0000000002
         ],
         "yaxis": "y"
        },
        {
         "alignmentgroup": "True",
         "hovertemplate": "State=Delaware<br>Product=%{x}<br>Total Sales=%{y}<extra></extra>",
         "legendgroup": "Delaware",
         "marker": {
          "color": "#EF553B",
          "pattern": {
           "shape": ""
          }
         },
         "name": "Delaware",
         "offsetgroup": "Delaware",
         "orientation": "v",
         "showlegend": true,
         "textposition": "auto",
         "type": "bar",
         "x": [
          "Men's Apparel",
          "Men's Athletic Footwear",
          "Men's Street Footwear",
          "Women's Apparel",
          "Women's Athletic Footwear",
          "Women's Street Footwear"
         ],
         "xaxis": "x",
         "y": [
          1626774,
          1884159,
          3522196.9999999995,
          2520405,
          1242580,
          1502297
         ],
         "yaxis": "y"
        },
        {
         "alignmentgroup": "True",
         "hovertemplate": "State=Alaska<br>Product=%{x}<br>Total Sales=%{y}<extra></extra>",
         "legendgroup": "Alaska",
         "marker": {
          "color": "#00cc96",
          "pattern": {
           "shape": ""
          }
         },
         "name": "Alaska",
         "offsetgroup": "Alaska",
         "orientation": "v",
         "showlegend": true,
         "textposition": "auto",
         "type": "bar",
         "x": [
          "Men's Apparel",
          "Men's Athletic Footwear",
          "Men's Street Footwear",
          "Women's Apparel",
          "Women's Athletic Footwear",
          "Women's Street Footwear"
         ],
         "xaxis": "x",
         "y": [
          1677524,
          2528729.0000000005,
          4391934,
          2877499,
          1368514.0000000002,
          1908903.0000000002
         ],
         "yaxis": "y"
        },
        {
         "alignmentgroup": "True",
         "hovertemplate": "State=Vermont<br>Product=%{x}<br>Total Sales=%{y}<extra></extra>",
         "legendgroup": "Vermont",
         "marker": {
          "color": "#ab63fa",
          "pattern": {
           "shape": ""
          }
         },
         "name": "Vermont",
         "offsetgroup": "Vermont",
         "orientation": "v",
         "showlegend": true,
         "textposition": "auto",
         "type": "bar",
         "x": [
          "Men's Apparel",
          "Men's Athletic Footwear",
          "Men's Street Footwear",
          "Women's Apparel",
          "Women's Athletic Footwear",
          "Women's Street Footwear"
         ],
         "xaxis": "x",
         "y": [
          1862696,
          2240175,
          4120637,
          2859057,
          1447437,
          1822921
         ],
         "yaxis": "y"
        },
        {
         "alignmentgroup": "True",
         "hovertemplate": "State=Arizona<br>Product=%{x}<br>Total Sales=%{y}<extra></extra>",
         "legendgroup": "Arizona",
         "marker": {
          "color": "#FFA15A",
          "pattern": {
           "shape": ""
          }
         },
         "name": "Arizona",
         "offsetgroup": "Arizona",
         "orientation": "v",
         "showlegend": true,
         "textposition": "auto",
         "type": "bar",
         "x": [
          "Men's Apparel",
          "Men's Athletic Footwear",
          "Men's Street Footwear",
          "Women's Apparel",
          "Women's Athletic Footwear",
          "Women's Street Footwear"
         ],
         "xaxis": "x",
         "y": [
          1890308.0000000002,
          3104701.0000000005,
          3200441,
          3050663,
          1951203.0000000002,
          2584905.0000000005
         ],
         "yaxis": "y"
        },
        {
         "alignmentgroup": "True",
         "hovertemplate": "State=Arkansas<br>Product=%{x}<br>Total Sales=%{y}<extra></extra>",
         "legendgroup": "Arkansas",
         "marker": {
          "color": "#19d3f3",
          "pattern": {
           "shape": ""
          }
         },
         "name": "Arkansas",
         "offsetgroup": "Arkansas",
         "orientation": "v",
         "showlegend": true,
         "textposition": "auto",
         "type": "bar",
         "x": [
          "Men's Apparel",
          "Men's Athletic Footwear",
          "Men's Street Footwear",
          "Women's Apparel",
          "Women's Athletic Footwear",
          "Women's Street Footwear"
         ],
         "xaxis": "x",
         "y": [
          1991980,
          1860850.0000000002,
          3283057,
          2688058,
          1390752.0000000002,
          1424650.0000000002
         ],
         "yaxis": "y"
        },
        {
         "alignmentgroup": "True",
         "hovertemplate": "State=Montana<br>Product=%{x}<br>Total Sales=%{y}<extra></extra>",
         "legendgroup": "Montana",
         "marker": {
          "color": "#FF6692",
          "pattern": {
           "shape": ""
          }
         },
         "name": "Montana",
         "offsetgroup": "Montana",
         "orientation": "v",
         "showlegend": true,
         "textposition": "auto",
         "type": "bar",
         "x": [
          "Men's Apparel",
          "Men's Athletic Footwear",
          "Men's Street Footwear",
          "Women's Apparel",
          "Women's Athletic Footwear",
          "Women's Street Footwear"
         ],
         "xaxis": "x",
         "y": [
          2013005.9999999998,
          3051104,
          3017295,
          3108558,
          2030648,
          2490275
         ],
         "yaxis": "y"
        },
        {
         "alignmentgroup": "True",
         "hovertemplate": "State=New Hampshire<br>Product=%{x}<br>Total Sales=%{y}<extra></extra>",
         "legendgroup": "New Hampshire",
         "marker": {
          "color": "#B6E880",
          "pattern": {
           "shape": ""
          }
         },
         "name": "New Hampshire",
         "offsetgroup": "New Hampshire",
         "orientation": "v",
         "showlegend": true,
         "textposition": "auto",
         "type": "bar",
         "x": [
          "Men's Apparel",
          "Men's Athletic Footwear",
          "Men's Street Footwear",
          "Women's Apparel",
          "Women's Athletic Footwear",
          "Women's Street Footwear"
         ],
         "xaxis": "x",
         "y": [
          2187140,
          2537288.0000000005,
          4584048,
          3258353,
          1728405.0000000002,
          2116433.0000000005
         ],
         "yaxis": "y"
        },
        {
         "alignmentgroup": "True",
         "hovertemplate": "State=Alabama<br>Product=%{x}<br>Total Sales=%{y}<extra></extra>",
         "legendgroup": "Alabama",
         "marker": {
          "color": "#FF97FF",
          "pattern": {
           "shape": ""
          }
         },
         "name": "Alabama",
         "offsetgroup": "Alabama",
         "orientation": "v",
         "showlegend": true,
         "textposition": "auto",
         "type": "bar",
         "x": [
          "Men's Apparel",
          "Men's Athletic Footwear",
          "Men's Street Footwear",
          "Women's Apparel",
          "Women's Athletic Footwear",
          "Women's Street Footwear"
         ],
         "xaxis": "x",
         "y": [
          2211662,
          3251234.0000000005,
          2959681,
          3776190,
          2274558,
          3160099
         ],
         "yaxis": "y"
        },
        {
         "alignmentgroup": "True",
         "hovertemplate": "State=Tennessee<br>Product=%{x}<br>Total Sales=%{y}<extra></extra>",
         "legendgroup": "Tennessee",
         "marker": {
          "color": "#FECB52",
          "pattern": {
           "shape": ""
          }
         },
         "name": "Tennessee",
         "offsetgroup": "Tennessee",
         "orientation": "v",
         "showlegend": true,
         "textposition": "auto",
         "type": "bar",
         "x": [
          "Men's Apparel",
          "Men's Athletic Footwear",
          "Men's Street Footwear",
          "Women's Apparel",
          "Women's Athletic Footwear",
          "Women's Street Footwear"
         ],
         "xaxis": "x",
         "y": [
          2304072,
          3374069,
          3062624,
          3839810,
          2305471,
          3181394
         ],
         "yaxis": "y"
        },
        {
         "alignmentgroup": "True",
         "hovertemplate": "State=Idaho<br>Product=%{x}<br>Total Sales=%{y}<extra></extra>",
         "legendgroup": "Idaho",
         "marker": {
          "color": "#636efa",
          "pattern": {
           "shape": ""
          }
         },
         "name": "Idaho",
         "offsetgroup": "Idaho",
         "orientation": "v",
         "showlegend": true,
         "textposition": "auto",
         "type": "bar",
         "x": [
          "Men's Apparel",
          "Men's Athletic Footwear",
          "Men's Street Footwear",
          "Women's Apparel",
          "Women's Athletic Footwear",
          "Women's Street Footwear"
         ],
         "xaxis": "x",
         "y": [
          2345721,
          3601763,
          3244994,
          4035105,
          2539126,
          3510169
         ],
         "yaxis": "y"
        },
        {
         "alignmentgroup": "True",
         "hovertemplate": "State=Georgia<br>Product=%{x}<br>Total Sales=%{y}<extra></extra>",
         "legendgroup": "Georgia",
         "marker": {
          "color": "#EF553B",
          "pattern": {
           "shape": ""
          }
         },
         "name": "Georgia",
         "offsetgroup": "Georgia",
         "orientation": "v",
         "showlegend": true,
         "textposition": "auto",
         "type": "bar",
         "x": [
          "Men's Apparel",
          "Men's Athletic Footwear",
          "Men's Street Footwear",
          "Women's Apparel",
          "Women's Athletic Footwear",
          "Women's Street Footwear"
         ],
         "xaxis": "x",
         "y": [
          2436654,
          3670750.0000000005,
          4012848.0000000005,
          3579869,
          2340832,
          2956513.0000000005
         ],
         "yaxis": "y"
        },
        {
         "alignmentgroup": "True",
         "hovertemplate": "State=Mississippi<br>Product=%{x}<br>Total Sales=%{y}<extra></extra>",
         "legendgroup": "Mississippi",
         "marker": {
          "color": "#00cc96",
          "pattern": {
           "shape": ""
          }
         },
         "name": "Mississippi",
         "offsetgroup": "Mississippi",
         "orientation": "v",
         "showlegend": true,
         "textposition": "auto",
         "type": "bar",
         "x": [
          "Men's Apparel",
          "Men's Athletic Footwear",
          "Men's Street Footwear",
          "Women's Apparel",
          "Women's Athletic Footwear",
          "Women's Street Footwear"
         ],
         "xaxis": "x",
         "y": [
          2515418,
          2341155.0000000005,
          3832905,
          3243691,
          1823905.0000000002,
          1834635.0000000002
         ],
         "yaxis": "y"
        },
        {
         "alignmentgroup": "True",
         "hovertemplate": "State=New Mexico<br>Product=%{x}<br>Total Sales=%{y}<extra></extra>",
         "legendgroup": "New Mexico",
         "marker": {
          "color": "#ab63fa",
          "pattern": {
           "shape": ""
          }
         },
         "name": "New Mexico",
         "offsetgroup": "New Mexico",
         "orientation": "v",
         "showlegend": true,
         "textposition": "auto",
         "type": "bar",
         "x": [
          "Men's Apparel",
          "Men's Athletic Footwear",
          "Men's Street Footwear",
          "Women's Apparel",
          "Women's Athletic Footwear",
          "Women's Street Footwear"
         ],
         "xaxis": "x",
         "y": [
          2528344.0000000005,
          3803130.0000000005,
          3892153.0000000005,
          3868520.0000000005,
          2582792.0000000005,
          3190077.0000000005
         ],
         "yaxis": "y"
        },
        {
         "alignmentgroup": "True",
         "hovertemplate": "State=Nevada<br>Product=%{x}<br>Total Sales=%{y}<extra></extra>",
         "legendgroup": "Nevada",
         "marker": {
          "color": "#FFA15A",
          "pattern": {
           "shape": ""
          }
         },
         "name": "Nevada",
         "offsetgroup": "Nevada",
         "orientation": "v",
         "showlegend": true,
         "textposition": "auto",
         "type": "bar",
         "x": [
          "Men's Apparel",
          "Men's Athletic Footwear",
          "Men's Street Footwear",
          "Women's Apparel",
          "Women's Athletic Footwear",
          "Women's Street Footwear"
         ],
         "xaxis": "x",
         "y": [
          2619944,
          4028739.0000000005,
          4186160,
          3979452,
          2693649,
          3350565
         ],
         "yaxis": "y"
        },
        {
         "alignmentgroup": "True",
         "hovertemplate": "State=Colorado<br>Product=%{x}<br>Total Sales=%{y}<extra></extra>",
         "legendgroup": "Colorado",
         "marker": {
          "color": "#19d3f3",
          "pattern": {
           "shape": ""
          }
         },
         "name": "Colorado",
         "offsetgroup": "Colorado",
         "orientation": "v",
         "showlegend": true,
         "textposition": "auto",
         "type": "bar",
         "x": [
          "Men's Apparel",
          "Men's Athletic Footwear",
          "Men's Street Footwear",
          "Women's Apparel",
          "Women's Athletic Footwear",
          "Women's Street Footwear"
         ],
         "xaxis": "x",
         "y": [
          2640007,
          4039815.0000000005,
          4183818.0000000005,
          3939955.0000000005,
          2799988,
          3392953
         ],
         "yaxis": "y"
        },
        {
         "alignmentgroup": "True",
         "hovertemplate": "State=Oregon<br>Product=%{x}<br>Total Sales=%{y}<extra></extra>",
         "legendgroup": "Oregon",
         "marker": {
          "color": "#FF6692",
          "pattern": {
           "shape": ""
          }
         },
         "name": "Oregon",
         "offsetgroup": "Oregon",
         "orientation": "v",
         "showlegend": true,
         "textposition": "auto",
         "type": "bar",
         "x": [
          "Men's Apparel",
          "Men's Athletic Footwear",
          "Men's Street Footwear",
          "Women's Apparel",
          "Women's Athletic Footwear",
          "Women's Street Footwear"
         ],
         "xaxis": "x",
         "y": [
          2674457,
          4174578.0000000005,
          4195935,
          3982463,
          2752205,
          3570036
         ],
         "yaxis": "y"
        },
        {
         "alignmentgroup": "True",
         "hovertemplate": "State=Virginia<br>Product=%{x}<br>Total Sales=%{y}<extra></extra>",
         "legendgroup": "Virginia",
         "marker": {
          "color": "#B6E880",
          "pattern": {
           "shape": ""
          }
         },
         "name": "Virginia",
         "offsetgroup": "Virginia",
         "orientation": "v",
         "showlegend": true,
         "textposition": "auto",
         "type": "bar",
         "x": [
          "Men's Apparel",
          "Men's Athletic Footwear",
          "Men's Street Footwear",
          "Women's Apparel",
          "Women's Athletic Footwear",
          "Women's Street Footwear"
         ],
         "xaxis": "x",
         "y": [
          2782926,
          4158491.0000000005,
          4435614,
          3975549,
          2757520,
          3464940
         ],
         "yaxis": "y"
        },
        {
         "alignmentgroup": "True",
         "hovertemplate": "State=Hawaii<br>Product=%{x}<br>Total Sales=%{y}<extra></extra>",
         "legendgroup": "Hawaii",
         "marker": {
          "color": "#FF97FF",
          "pattern": {
           "shape": ""
          }
         },
         "name": "Hawaii",
         "offsetgroup": "Hawaii",
         "orientation": "v",
         "showlegend": true,
         "textposition": "auto",
         "type": "bar",
         "x": [
          "Men's Apparel",
          "Men's Athletic Footwear",
          "Men's Street Footwear",
          "Women's Apparel",
          "Women's Athletic Footwear",
          "Women's Street Footwear"
         ],
         "xaxis": "x",
         "y": [
          2792521.0000000005,
          4342955,
          4524868,
          4106946,
          2884758,
          3630409
         ],
         "yaxis": "y"
        },
        {
         "alignmentgroup": "True",
         "hovertemplate": "State=Wyoming<br>Product=%{x}<br>Total Sales=%{y}<extra></extra>",
         "legendgroup": "Wyoming",
         "marker": {
          "color": "#FECB52",
          "pattern": {
           "shape": ""
          }
         },
         "name": "Wyoming",
         "offsetgroup": "Wyoming",
         "orientation": "v",
         "showlegend": true,
         "textposition": "auto",
         "type": "bar",
         "x": [
          "Men's Apparel",
          "Men's Athletic Footwear",
          "Men's Street Footwear",
          "Women's Apparel",
          "Women's Athletic Footwear",
          "Women's Street Footwear"
         ],
         "xaxis": "x",
         "y": [
          2875900,
          2901498.0000000005,
          4376047,
          3773586.0000000005,
          2228345,
          2422141
         ],
         "yaxis": "y"
        },
        {
         "alignmentgroup": "True",
         "hovertemplate": "State=Michigan<br>Product=%{x}<br>Total Sales=%{y}<extra></extra>",
         "legendgroup": "Michigan",
         "marker": {
          "color": "#636efa",
          "pattern": {
           "shape": ""
          }
         },
         "name": "Michigan",
         "offsetgroup": "Michigan",
         "orientation": "v",
         "showlegend": true,
         "textposition": "auto",
         "type": "bar",
         "x": [
          "Men's Apparel",
          "Men's Athletic Footwear",
          "Men's Street Footwear",
          "Women's Apparel",
          "Women's Athletic Footwear",
          "Women's Street Footwear"
         ],
         "xaxis": "x",
         "y": [
          2919107,
          2900751.0000000005,
          4526962,
          3786560,
          2166103,
          2325950
         ],
         "yaxis": "y"
        },
        {
         "alignmentgroup": "True",
         "hovertemplate": "State=Ohio<br>Product=%{x}<br>Total Sales=%{y}<extra></extra>",
         "legendgroup": "Ohio",
         "marker": {
          "color": "#EF553B",
          "pattern": {
           "shape": ""
          }
         },
         "name": "Ohio",
         "offsetgroup": "Ohio",
         "orientation": "v",
         "showlegend": true,
         "textposition": "auto",
         "type": "bar",
         "x": [
          "Men's Apparel",
          "Men's Athletic Footwear",
          "Men's Street Footwear",
          "Women's Apparel",
          "Women's Athletic Footwear",
          "Women's Street Footwear"
         ],
         "xaxis": "x",
         "y": [
          2970467,
          2770609.0000000005,
          4464402,
          3780468,
          2235911,
          2262726.0000000005
         ],
         "yaxis": "y"
        },
        {
         "alignmentgroup": "True",
         "hovertemplate": "State=Louisiana<br>Product=%{x}<br>Total Sales=%{y}<extra></extra>",
         "legendgroup": "Louisiana",
         "marker": {
          "color": "#00cc96",
          "pattern": {
           "shape": ""
          }
         },
         "name": "Louisiana",
         "offsetgroup": "Louisiana",
         "orientation": "v",
         "showlegend": true,
         "textposition": "auto",
         "type": "bar",
         "x": [
          "Men's Apparel",
          "Men's Athletic Footwear",
          "Men's Street Footwear",
          "Women's Apparel",
          "Women's Athletic Footwear",
          "Women's Street Footwear"
         ],
         "xaxis": "x",
         "y": [
          3080401,
          4607331.000000001,
          4546907,
          4444283.000000001,
          3197166.0000000005,
          3874693.0000000005
         ],
         "yaxis": "y"
        },
        {
         "alignmentgroup": "True",
         "hovertemplate": "State=Washington<br>Product=%{x}<br>Total Sales=%{y}<extra></extra>",
         "legendgroup": "Washington",
         "marker": {
          "color": "#ab63fa",
          "pattern": {
           "shape": ""
          }
         },
         "name": "Washington",
         "offsetgroup": "Washington",
         "orientation": "v",
         "showlegend": true,
         "textposition": "auto",
         "type": "bar",
         "x": [
          "Men's Apparel",
          "Men's Athletic Footwear",
          "Men's Street Footwear",
          "Women's Apparel",
          "Women's Athletic Footwear",
          "Women's Street Footwear"
         ],
         "xaxis": "x",
         "y": [
          3342563.0000000005,
          5037103.000000001,
          5421557,
          4712897,
          3587306,
          4229292
         ],
         "yaxis": "y"
        },
        {
         "alignmentgroup": "True",
         "hovertemplate": "State=North Carolina<br>Product=%{x}<br>Total Sales=%{y}<extra></extra>",
         "legendgroup": "North Carolina",
         "marker": {
          "color": "#FFA15A",
          "pattern": {
           "shape": ""
          }
         },
         "name": "North Carolina",
         "offsetgroup": "North Carolina",
         "orientation": "v",
         "showlegend": true,
         "textposition": "auto",
         "type": "bar",
         "x": [
          "Men's Apparel",
          "Men's Athletic Footwear",
          "Men's Street Footwear",
          "Women's Apparel",
          "Women's Athletic Footwear",
          "Women's Street Footwear"
         ],
         "xaxis": "x",
         "y": [
          3990466,
          3678426.0000000005,
          5438257,
          4807086,
          3002325,
          3039971.0000000005
         ],
         "yaxis": "y"
        },
        {
         "alignmentgroup": "True",
         "hovertemplate": "State=South Carolina<br>Product=%{x}<br>Total Sales=%{y}<extra></extra>",
         "legendgroup": "South Carolina",
         "marker": {
          "color": "#19d3f3",
          "pattern": {
           "shape": ""
          }
         },
         "name": "South Carolina",
         "offsetgroup": "South Carolina",
         "orientation": "v",
         "showlegend": true,
         "textposition": "auto",
         "type": "bar",
         "x": [
          "Men's Apparel",
          "Men's Athletic Footwear",
          "Men's Street Footwear",
          "Women's Apparel",
          "Women's Athletic Footwear",
          "Women's Street Footwear"
         ],
         "xaxis": "x",
         "y": [
          4914897,
          4556660.000000001,
          6465330,
          5786397,
          3744447.0000000005,
          3817906.0000000005
         ],
         "yaxis": "y"
        },
        {
         "alignmentgroup": "True",
         "hovertemplate": "State=Texas<br>Product=%{x}<br>Total Sales=%{y}<extra></extra>",
         "legendgroup": "Texas",
         "marker": {
          "color": "#FF6692",
          "pattern": {
           "shape": ""
          }
         },
         "name": "Texas",
         "offsetgroup": "Texas",
         "orientation": "v",
         "showlegend": true,
         "textposition": "auto",
         "type": "bar",
         "x": [
          "Men's Apparel",
          "Men's Athletic Footwear",
          "Men's Street Footwear",
          "Women's Apparel",
          "Women's Athletic Footwear",
          "Women's Street Footwear"
         ],
         "xaxis": "x",
         "y": [
          6022613,
          8713036,
          7819150,
          9338360,
          6334047,
          8132540
         ],
         "yaxis": "y"
        },
        {
         "alignmentgroup": "True",
         "hovertemplate": "State=California<br>Product=%{x}<br>Total Sales=%{y}<extra></extra>",
         "legendgroup": "California",
         "marker": {
          "color": "#B6E880",
          "pattern": {
           "shape": ""
          }
         },
         "name": "California",
         "offsetgroup": "California",
         "orientation": "v",
         "showlegend": true,
         "textposition": "auto",
         "type": "bar",
         "x": [
          "Men's Apparel",
          "Men's Athletic Footwear",
          "Men's Street Footwear",
          "Women's Apparel",
          "Women's Athletic Footwear",
          "Women's Street Footwear"
         ],
         "xaxis": "x",
         "y": [
          8862102,
          10918839,
          10861963,
          11769359,
          8221424,
          9540446
         ],
         "yaxis": "y"
        },
        {
         "alignmentgroup": "True",
         "hovertemplate": "State=Florida<br>Product=%{x}<br>Total Sales=%{y}<extra></extra>",
         "legendgroup": "Florida",
         "marker": {
          "color": "#FF97FF",
          "pattern": {
           "shape": ""
          }
         },
         "name": "Florida",
         "offsetgroup": "Florida",
         "orientation": "v",
         "showlegend": true,
         "textposition": "auto",
         "type": "bar",
         "x": [
          "Men's Apparel",
          "Men's Athletic Footwear",
          "Men's Street Footwear",
          "Women's Apparel",
          "Women's Athletic Footwear",
          "Women's Street Footwear"
         ],
         "xaxis": "x",
         "y": [
          9054220,
          10136284.000000002,
          12568317,
          11294524,
          7551886.000000001,
          8678483
         ],
         "yaxis": "y"
        },
        {
         "alignmentgroup": "True",
         "hovertemplate": "State=New York<br>Product=%{x}<br>Total Sales=%{y}<extra></extra>",
         "legendgroup": "New York",
         "marker": {
          "color": "#FECB52",
          "pattern": {
           "shape": ""
          }
         },
         "name": "New York",
         "offsetgroup": "New York",
         "orientation": "v",
         "showlegend": true,
         "textposition": "auto",
         "type": "bar",
         "x": [
          "Men's Apparel",
          "Men's Athletic Footwear",
          "Men's Street Footwear",
          "Women's Apparel",
          "Women's Athletic Footwear",
          "Women's Street Footwear"
         ],
         "xaxis": "x",
         "y": [
          10708719,
          10131124.000000002,
          14056646,
          12580502,
          8174059,
          8577989
         ],
         "yaxis": "y"
        }
       ],
       "layout": {
        "barmode": "group",
        "height": 500,
        "legend": {
         "title": {
          "text": "State"
         },
         "tracegroupgap": 0
        },
        "margin": {
         "t": 60
        },
        "template": {
         "data": {
          "bar": [
           {
            "error_x": {
             "color": "#2a3f5f"
            },
            "error_y": {
             "color": "#2a3f5f"
            },
            "marker": {
             "line": {
              "color": "#E5ECF6",
              "width": 0.5
             },
             "pattern": {
              "fillmode": "overlay",
              "size": 10,
              "solidity": 0.2
             }
            },
            "type": "bar"
           }
          ],
          "barpolar": [
           {
            "marker": {
             "line": {
              "color": "#E5ECF6",
              "width": 0.5
             },
             "pattern": {
              "fillmode": "overlay",
              "size": 10,
              "solidity": 0.2
             }
            },
            "type": "barpolar"
           }
          ],
          "carpet": [
           {
            "aaxis": {
             "endlinecolor": "#2a3f5f",
             "gridcolor": "white",
             "linecolor": "white",
             "minorgridcolor": "white",
             "startlinecolor": "#2a3f5f"
            },
            "baxis": {
             "endlinecolor": "#2a3f5f",
             "gridcolor": "white",
             "linecolor": "white",
             "minorgridcolor": "white",
             "startlinecolor": "#2a3f5f"
            },
            "type": "carpet"
           }
          ],
          "choropleth": [
           {
            "colorbar": {
             "outlinewidth": 0,
             "ticks": ""
            },
            "type": "choropleth"
           }
          ],
          "contour": [
           {
            "colorbar": {
             "outlinewidth": 0,
             "ticks": ""
            },
            "colorscale": [
             [
              0,
              "#0d0887"
             ],
             [
              0.1111111111111111,
              "#46039f"
             ],
             [
              0.2222222222222222,
              "#7201a8"
             ],
             [
              0.3333333333333333,
              "#9c179e"
             ],
             [
              0.4444444444444444,
              "#bd3786"
             ],
             [
              0.5555555555555556,
              "#d8576b"
             ],
             [
              0.6666666666666666,
              "#ed7953"
             ],
             [
              0.7777777777777778,
              "#fb9f3a"
             ],
             [
              0.8888888888888888,
              "#fdca26"
             ],
             [
              1,
              "#f0f921"
             ]
            ],
            "type": "contour"
           }
          ],
          "contourcarpet": [
           {
            "colorbar": {
             "outlinewidth": 0,
             "ticks": ""
            },
            "type": "contourcarpet"
           }
          ],
          "heatmap": [
           {
            "colorbar": {
             "outlinewidth": 0,
             "ticks": ""
            },
            "colorscale": [
             [
              0,
              "#0d0887"
             ],
             [
              0.1111111111111111,
              "#46039f"
             ],
             [
              0.2222222222222222,
              "#7201a8"
             ],
             [
              0.3333333333333333,
              "#9c179e"
             ],
             [
              0.4444444444444444,
              "#bd3786"
             ],
             [
              0.5555555555555556,
              "#d8576b"
             ],
             [
              0.6666666666666666,
              "#ed7953"
             ],
             [
              0.7777777777777778,
              "#fb9f3a"
             ],
             [
              0.8888888888888888,
              "#fdca26"
             ],
             [
              1,
              "#f0f921"
             ]
            ],
            "type": "heatmap"
           }
          ],
          "heatmapgl": [
           {
            "colorbar": {
             "outlinewidth": 0,
             "ticks": ""
            },
            "colorscale": [
             [
              0,
              "#0d0887"
             ],
             [
              0.1111111111111111,
              "#46039f"
             ],
             [
              0.2222222222222222,
              "#7201a8"
             ],
             [
              0.3333333333333333,
              "#9c179e"
             ],
             [
              0.4444444444444444,
              "#bd3786"
             ],
             [
              0.5555555555555556,
              "#d8576b"
             ],
             [
              0.6666666666666666,
              "#ed7953"
             ],
             [
              0.7777777777777778,
              "#fb9f3a"
             ],
             [
              0.8888888888888888,
              "#fdca26"
             ],
             [
              1,
              "#f0f921"
             ]
            ],
            "type": "heatmapgl"
           }
          ],
          "histogram": [
           {
            "marker": {
             "pattern": {
              "fillmode": "overlay",
              "size": 10,
              "solidity": 0.2
             }
            },
            "type": "histogram"
           }
          ],
          "histogram2d": [
           {
            "colorbar": {
             "outlinewidth": 0,
             "ticks": ""
            },
            "colorscale": [
             [
              0,
              "#0d0887"
             ],
             [
              0.1111111111111111,
              "#46039f"
             ],
             [
              0.2222222222222222,
              "#7201a8"
             ],
             [
              0.3333333333333333,
              "#9c179e"
             ],
             [
              0.4444444444444444,
              "#bd3786"
             ],
             [
              0.5555555555555556,
              "#d8576b"
             ],
             [
              0.6666666666666666,
              "#ed7953"
             ],
             [
              0.7777777777777778,
              "#fb9f3a"
             ],
             [
              0.8888888888888888,
              "#fdca26"
             ],
             [
              1,
              "#f0f921"
             ]
            ],
            "type": "histogram2d"
           }
          ],
          "histogram2dcontour": [
           {
            "colorbar": {
             "outlinewidth": 0,
             "ticks": ""
            },
            "colorscale": [
             [
              0,
              "#0d0887"
             ],
             [
              0.1111111111111111,
              "#46039f"
             ],
             [
              0.2222222222222222,
              "#7201a8"
             ],
             [
              0.3333333333333333,
              "#9c179e"
             ],
             [
              0.4444444444444444,
              "#bd3786"
             ],
             [
              0.5555555555555556,
              "#d8576b"
             ],
             [
              0.6666666666666666,
              "#ed7953"
             ],
             [
              0.7777777777777778,
              "#fb9f3a"
             ],
             [
              0.8888888888888888,
              "#fdca26"
             ],
             [
              1,
              "#f0f921"
             ]
            ],
            "type": "histogram2dcontour"
           }
          ],
          "mesh3d": [
           {
            "colorbar": {
             "outlinewidth": 0,
             "ticks": ""
            },
            "type": "mesh3d"
           }
          ],
          "parcoords": [
           {
            "line": {
             "colorbar": {
              "outlinewidth": 0,
              "ticks": ""
             }
            },
            "type": "parcoords"
           }
          ],
          "pie": [
           {
            "automargin": true,
            "type": "pie"
           }
          ],
          "scatter": [
           {
            "fillpattern": {
             "fillmode": "overlay",
             "size": 10,
             "solidity": 0.2
            },
            "type": "scatter"
           }
          ],
          "scatter3d": [
           {
            "line": {
             "colorbar": {
              "outlinewidth": 0,
              "ticks": ""
             }
            },
            "marker": {
             "colorbar": {
              "outlinewidth": 0,
              "ticks": ""
             }
            },
            "type": "scatter3d"
           }
          ],
          "scattercarpet": [
           {
            "marker": {
             "colorbar": {
              "outlinewidth": 0,
              "ticks": ""
             }
            },
            "type": "scattercarpet"
           }
          ],
          "scattergeo": [
           {
            "marker": {
             "colorbar": {
              "outlinewidth": 0,
              "ticks": ""
             }
            },
            "type": "scattergeo"
           }
          ],
          "scattergl": [
           {
            "marker": {
             "colorbar": {
              "outlinewidth": 0,
              "ticks": ""
             }
            },
            "type": "scattergl"
           }
          ],
          "scattermapbox": [
           {
            "marker": {
             "colorbar": {
              "outlinewidth": 0,
              "ticks": ""
             }
            },
            "type": "scattermapbox"
           }
          ],
          "scatterpolar": [
           {
            "marker": {
             "colorbar": {
              "outlinewidth": 0,
              "ticks": ""
             }
            },
            "type": "scatterpolar"
           }
          ],
          "scatterpolargl": [
           {
            "marker": {
             "colorbar": {
              "outlinewidth": 0,
              "ticks": ""
             }
            },
            "type": "scatterpolargl"
           }
          ],
          "scatterternary": [
           {
            "marker": {
             "colorbar": {
              "outlinewidth": 0,
              "ticks": ""
             }
            },
            "type": "scatterternary"
           }
          ],
          "surface": [
           {
            "colorbar": {
             "outlinewidth": 0,
             "ticks": ""
            },
            "colorscale": [
             [
              0,
              "#0d0887"
             ],
             [
              0.1111111111111111,
              "#46039f"
             ],
             [
              0.2222222222222222,
              "#7201a8"
             ],
             [
              0.3333333333333333,
              "#9c179e"
             ],
             [
              0.4444444444444444,
              "#bd3786"
             ],
             [
              0.5555555555555556,
              "#d8576b"
             ],
             [
              0.6666666666666666,
              "#ed7953"
             ],
             [
              0.7777777777777778,
              "#fb9f3a"
             ],
             [
              0.8888888888888888,
              "#fdca26"
             ],
             [
              1,
              "#f0f921"
             ]
            ],
            "type": "surface"
           }
          ],
          "table": [
           {
            "cells": {
             "fill": {
              "color": "#EBF0F8"
             },
             "line": {
              "color": "white"
             }
            },
            "header": {
             "fill": {
              "color": "#C8D4E3"
             },
             "line": {
              "color": "white"
             }
            },
            "type": "table"
           }
          ]
         },
         "layout": {
          "annotationdefaults": {
           "arrowcolor": "#2a3f5f",
           "arrowhead": 0,
           "arrowwidth": 1
          },
          "autotypenumbers": "strict",
          "coloraxis": {
           "colorbar": {
            "outlinewidth": 0,
            "ticks": ""
           }
          },
          "colorscale": {
           "diverging": [
            [
             0,
             "#8e0152"
            ],
            [
             0.1,
             "#c51b7d"
            ],
            [
             0.2,
             "#de77ae"
            ],
            [
             0.3,
             "#f1b6da"
            ],
            [
             0.4,
             "#fde0ef"
            ],
            [
             0.5,
             "#f7f7f7"
            ],
            [
             0.6,
             "#e6f5d0"
            ],
            [
             0.7,
             "#b8e186"
            ],
            [
             0.8,
             "#7fbc41"
            ],
            [
             0.9,
             "#4d9221"
            ],
            [
             1,
             "#276419"
            ]
           ],
           "sequential": [
            [
             0,
             "#0d0887"
            ],
            [
             0.1111111111111111,
             "#46039f"
            ],
            [
             0.2222222222222222,
             "#7201a8"
            ],
            [
             0.3333333333333333,
             "#9c179e"
            ],
            [
             0.4444444444444444,
             "#bd3786"
            ],
            [
             0.5555555555555556,
             "#d8576b"
            ],
            [
             0.6666666666666666,
             "#ed7953"
            ],
            [
             0.7777777777777778,
             "#fb9f3a"
            ],
            [
             0.8888888888888888,
             "#fdca26"
            ],
            [
             1,
             "#f0f921"
            ]
           ],
           "sequentialminus": [
            [
             0,
             "#0d0887"
            ],
            [
             0.1111111111111111,
             "#46039f"
            ],
            [
             0.2222222222222222,
             "#7201a8"
            ],
            [
             0.3333333333333333,
             "#9c179e"
            ],
            [
             0.4444444444444444,
             "#bd3786"
            ],
            [
             0.5555555555555556,
             "#d8576b"
            ],
            [
             0.6666666666666666,
             "#ed7953"
            ],
            [
             0.7777777777777778,
             "#fb9f3a"
            ],
            [
             0.8888888888888888,
             "#fdca26"
            ],
            [
             1,
             "#f0f921"
            ]
           ]
          },
          "colorway": [
           "#636efa",
           "#EF553B",
           "#00cc96",
           "#ab63fa",
           "#FFA15A",
           "#19d3f3",
           "#FF6692",
           "#B6E880",
           "#FF97FF",
           "#FECB52"
          ],
          "font": {
           "color": "#2a3f5f"
          },
          "geo": {
           "bgcolor": "white",
           "lakecolor": "white",
           "landcolor": "#E5ECF6",
           "showlakes": true,
           "showland": true,
           "subunitcolor": "white"
          },
          "hoverlabel": {
           "align": "left"
          },
          "hovermode": "closest",
          "mapbox": {
           "style": "light"
          },
          "paper_bgcolor": "white",
          "plot_bgcolor": "#E5ECF6",
          "polar": {
           "angularaxis": {
            "gridcolor": "white",
            "linecolor": "white",
            "ticks": ""
           },
           "bgcolor": "#E5ECF6",
           "radialaxis": {
            "gridcolor": "white",
            "linecolor": "white",
            "ticks": ""
           }
          },
          "scene": {
           "xaxis": {
            "backgroundcolor": "#E5ECF6",
            "gridcolor": "white",
            "gridwidth": 2,
            "linecolor": "white",
            "showbackground": true,
            "ticks": "",
            "zerolinecolor": "white"
           },
           "yaxis": {
            "backgroundcolor": "#E5ECF6",
            "gridcolor": "white",
            "gridwidth": 2,
            "linecolor": "white",
            "showbackground": true,
            "ticks": "",
            "zerolinecolor": "white"
           },
           "zaxis": {
            "backgroundcolor": "#E5ECF6",
            "gridcolor": "white",
            "gridwidth": 2,
            "linecolor": "white",
            "showbackground": true,
            "ticks": "",
            "zerolinecolor": "white"
           }
          },
          "shapedefaults": {
           "line": {
            "color": "#2a3f5f"
           }
          },
          "ternary": {
           "aaxis": {
            "gridcolor": "white",
            "linecolor": "white",
            "ticks": ""
           },
           "baxis": {
            "gridcolor": "white",
            "linecolor": "white",
            "ticks": ""
           },
           "bgcolor": "#E5ECF6",
           "caxis": {
            "gridcolor": "white",
            "linecolor": "white",
            "ticks": ""
           }
          },
          "title": {
           "x": 0.05
          },
          "xaxis": {
           "automargin": true,
           "gridcolor": "white",
           "linecolor": "white",
           "ticks": "",
           "title": {
            "standoff": 15
           },
           "zerolinecolor": "white",
           "zerolinewidth": 2
          },
          "yaxis": {
           "automargin": true,
           "gridcolor": "white",
           "linecolor": "white",
           "ticks": "",
           "title": {
            "standoff": 15
           },
           "zerolinecolor": "white",
           "zerolinewidth": 2
          }
         }
        },
        "title": {
         "text": "Product Sales by State"
        },
        "xaxis": {
         "anchor": "y",
         "domain": [
          0,
          1
         ],
         "title": {
          "text": "Product"
         }
        },
        "yaxis": {
         "anchor": "x",
         "domain": [
          0,
          1
         ],
         "title": {
          "text": "Total Sales"
         }
        }
       }
      }
     },
     "metadata": {},
     "output_type": "display_data"
    }
   ],
   "source": [
    "regional_sales_analysis = df.groupby(['Product', 'State'])[['Total Sales']].sum().reset_index()\n",
    "\n",
    "# Sort the values by 'Total Sales' in ascending order within each product\n",
    "regional_sales_analysis = regional_sales_analysis.sort_values(by=['Product', 'Total Sales'], ascending=[True, True])\n",
    "\n",
    "# Create bar plot\n",
    "fig = px.bar(regional_sales_analysis, x='Product', y='Total Sales', color='State', barmode='group', height=500)\n",
    "fig.update_layout(title='Product Sales by State', xaxis_title='Product', yaxis_title='Total Sales')\n",
    "fig.show()"
   ]
  },
  {
   "cell_type": "code",
   "execution_count": 18,
   "metadata": {},
   "outputs": [
    {
     "data": {
      "text/html": [
       "<div>\n",
       "<style scoped>\n",
       "    .dataframe tbody tr th:only-of-type {\n",
       "        vertical-align: middle;\n",
       "    }\n",
       "\n",
       "    .dataframe tbody tr th {\n",
       "        vertical-align: top;\n",
       "    }\n",
       "\n",
       "    .dataframe thead th {\n",
       "        text-align: right;\n",
       "    }\n",
       "</style>\n",
       "<table border=\"1\" class=\"dataframe\">\n",
       "  <thead>\n",
       "    <tr style=\"text-align: right;\">\n",
       "      <th></th>\n",
       "      <th>Product</th>\n",
       "      <th>State</th>\n",
       "      <th>Total Sales (in Mil)</th>\n",
       "    </tr>\n",
       "  </thead>\n",
       "  <tbody>\n",
       "    <tr>\n",
       "      <th>131</th>\n",
       "      <td>Men's Street Footwear</td>\n",
       "      <td>New York</td>\n",
       "      <td>14.0566</td>\n",
       "    </tr>\n",
       "    <tr>\n",
       "      <th>181</th>\n",
       "      <td>Women's Apparel</td>\n",
       "      <td>New York</td>\n",
       "      <td>12.5805</td>\n",
       "    </tr>\n",
       "    <tr>\n",
       "      <th>108</th>\n",
       "      <td>Men's Street Footwear</td>\n",
       "      <td>Florida</td>\n",
       "      <td>12.5683</td>\n",
       "    </tr>\n",
       "    <tr>\n",
       "      <th>154</th>\n",
       "      <td>Women's Apparel</td>\n",
       "      <td>California</td>\n",
       "      <td>11.7694</td>\n",
       "    </tr>\n",
       "    <tr>\n",
       "      <th>158</th>\n",
       "      <td>Women's Apparel</td>\n",
       "      <td>Florida</td>\n",
       "      <td>11.2945</td>\n",
       "    </tr>\n",
       "  </tbody>\n",
       "</table>\n",
       "</div>"
      ],
      "text/plain": [
       "                   Product       State  Total Sales (in Mil)\n",
       "131  Men's Street Footwear    New York               14.0566\n",
       "181        Women's Apparel    New York               12.5805\n",
       "108  Men's Street Footwear     Florida               12.5683\n",
       "154        Women's Apparel  California               11.7694\n",
       "158        Women's Apparel     Florida               11.2945"
      ]
     },
     "execution_count": 18,
     "metadata": {},
     "output_type": "execute_result"
    }
   ],
   "source": [
    "# Group by 'Product' and 'State' and sum the 'Total Sales'\n",
    "regional_sales_analysis = df.groupby(['Product', 'State'])[['Total Sales']].sum().reset_index()\n",
    "\n",
    "regional_sales_analysis['Total Sales'] = round(regional_sales_analysis['Total Sales'] / 1e6, 4)\n",
    "\n",
    "# Find the products and states with the highest total sales\n",
    "regional_sales_analysis = regional_sales_analysis.nlargest(5, 'Total Sales')\n",
    "#Rename\n",
    "regional_sales_analysis = regional_sales_analysis.rename(columns={\"Total Sales\" : \"Total Sales (in Mil)\"})\n",
    "\n",
    "regional_sales_analysis"
   ]
  },
  {
   "cell_type": "markdown",
   "metadata": {},
   "source": [
    "##### Question: 2) Regional Market Analysis:Using the regions data we can identify which stores are performing good and which are performing poor. \n",
    "\n",
    "1. Top Product Sales:\n",
    "    \"Men's Street Footwear\" in New York generated the highest sales of approximately 14.06 million dollars, followed closely by \"Women's Apparel\" in New York with sales of around 12.58 million dollars.\n",
    "    \"Men's Street Footwear\" in Florida and \"Women's Apparel\" in California and Florida also contributed significantly to the total sales.\n",
    "\n",
    "2. Regional Sales Analysis:\n",
    "    The sales data is primarily focused on specific products within different states, showcasing the regional performance of these products.\n",
    "    \n",
    "3. Geographical Sales Distribution:\n",
    "    New York emerges as a key market for both \"Men's Street Footwear\" and \"Women's Apparel,\" with the highest sales in the dataset.\n",
    "\n",
    "##### The top-selling products in the specified states are \"Men's Street Footwear\" in New York with sales of approximately 14.06 million dollars and \"Women's Apparel\" in New York with sales of around 12.58 million dollars. These products have demonstrated strong sales performance in the respective states, indicating a significant market demand for them."
   ]
  },
  {
   "cell_type": "markdown",
   "metadata": {},
   "source": [
    "### 3. Profit Margin Analysis:"
   ]
  },
  {
   "cell_type": "markdown",
   "metadata": {},
   "source": [
    "Identify how profit margins affect sales -> Does high margin equal high sale"
   ]
  },
  {
   "cell_type": "code",
   "execution_count": 19,
   "metadata": {},
   "outputs": [
    {
     "data": {
      "application/vnd.plotly.v1+json": {
       "config": {
        "plotlyServerURL": "https://plot.ly"
       },
       "data": [
        {
         "alignmentgroup": "True",
         "hovertemplate": "Profit Margin=%{x}<br>Total Sales=%{y}<br>Product=%{text}<extra></extra>",
         "legendgroup": "",
         "marker": {
          "color": "#636efa",
          "pattern": {
           "shape": ""
          }
         },
         "name": "",
         "offsetgroup": "",
         "orientation": "v",
         "showlegend": false,
         "text": [
          "Men's Apparel",
          "Men's Athletic Footwear",
          "Men's Street Footwear",
          "Women's Apparel",
          "Women's Athletic Footwear",
          "Women's Street Footwear"
         ],
         "textposition": "auto",
         "type": "bar",
         "x": [
          41.3225404732254,
          40.27018633540373,
          44.61304347826087,
          44.1318407960199,
          42.42446941323346,
          41.01990049751244
         ],
         "xaxis": "x",
         "y": [
          123728632,
          153673680.00000003,
          208826244,
          179038860,
          106631896,
          128002813.00000001
         ],
         "yaxis": "y"
        }
       ],
       "layout": {
        "barmode": "relative",
        "legend": {
         "tracegroupgap": 0
        },
        "template": {
         "data": {
          "bar": [
           {
            "error_x": {
             "color": "#2a3f5f"
            },
            "error_y": {
             "color": "#2a3f5f"
            },
            "marker": {
             "line": {
              "color": "#E5ECF6",
              "width": 0.5
             },
             "pattern": {
              "fillmode": "overlay",
              "size": 10,
              "solidity": 0.2
             }
            },
            "type": "bar"
           }
          ],
          "barpolar": [
           {
            "marker": {
             "line": {
              "color": "#E5ECF6",
              "width": 0.5
             },
             "pattern": {
              "fillmode": "overlay",
              "size": 10,
              "solidity": 0.2
             }
            },
            "type": "barpolar"
           }
          ],
          "carpet": [
           {
            "aaxis": {
             "endlinecolor": "#2a3f5f",
             "gridcolor": "white",
             "linecolor": "white",
             "minorgridcolor": "white",
             "startlinecolor": "#2a3f5f"
            },
            "baxis": {
             "endlinecolor": "#2a3f5f",
             "gridcolor": "white",
             "linecolor": "white",
             "minorgridcolor": "white",
             "startlinecolor": "#2a3f5f"
            },
            "type": "carpet"
           }
          ],
          "choropleth": [
           {
            "colorbar": {
             "outlinewidth": 0,
             "ticks": ""
            },
            "type": "choropleth"
           }
          ],
          "contour": [
           {
            "colorbar": {
             "outlinewidth": 0,
             "ticks": ""
            },
            "colorscale": [
             [
              0,
              "#0d0887"
             ],
             [
              0.1111111111111111,
              "#46039f"
             ],
             [
              0.2222222222222222,
              "#7201a8"
             ],
             [
              0.3333333333333333,
              "#9c179e"
             ],
             [
              0.4444444444444444,
              "#bd3786"
             ],
             [
              0.5555555555555556,
              "#d8576b"
             ],
             [
              0.6666666666666666,
              "#ed7953"
             ],
             [
              0.7777777777777778,
              "#fb9f3a"
             ],
             [
              0.8888888888888888,
              "#fdca26"
             ],
             [
              1,
              "#f0f921"
             ]
            ],
            "type": "contour"
           }
          ],
          "contourcarpet": [
           {
            "colorbar": {
             "outlinewidth": 0,
             "ticks": ""
            },
            "type": "contourcarpet"
           }
          ],
          "heatmap": [
           {
            "colorbar": {
             "outlinewidth": 0,
             "ticks": ""
            },
            "colorscale": [
             [
              0,
              "#0d0887"
             ],
             [
              0.1111111111111111,
              "#46039f"
             ],
             [
              0.2222222222222222,
              "#7201a8"
             ],
             [
              0.3333333333333333,
              "#9c179e"
             ],
             [
              0.4444444444444444,
              "#bd3786"
             ],
             [
              0.5555555555555556,
              "#d8576b"
             ],
             [
              0.6666666666666666,
              "#ed7953"
             ],
             [
              0.7777777777777778,
              "#fb9f3a"
             ],
             [
              0.8888888888888888,
              "#fdca26"
             ],
             [
              1,
              "#f0f921"
             ]
            ],
            "type": "heatmap"
           }
          ],
          "heatmapgl": [
           {
            "colorbar": {
             "outlinewidth": 0,
             "ticks": ""
            },
            "colorscale": [
             [
              0,
              "#0d0887"
             ],
             [
              0.1111111111111111,
              "#46039f"
             ],
             [
              0.2222222222222222,
              "#7201a8"
             ],
             [
              0.3333333333333333,
              "#9c179e"
             ],
             [
              0.4444444444444444,
              "#bd3786"
             ],
             [
              0.5555555555555556,
              "#d8576b"
             ],
             [
              0.6666666666666666,
              "#ed7953"
             ],
             [
              0.7777777777777778,
              "#fb9f3a"
             ],
             [
              0.8888888888888888,
              "#fdca26"
             ],
             [
              1,
              "#f0f921"
             ]
            ],
            "type": "heatmapgl"
           }
          ],
          "histogram": [
           {
            "marker": {
             "pattern": {
              "fillmode": "overlay",
              "size": 10,
              "solidity": 0.2
             }
            },
            "type": "histogram"
           }
          ],
          "histogram2d": [
           {
            "colorbar": {
             "outlinewidth": 0,
             "ticks": ""
            },
            "colorscale": [
             [
              0,
              "#0d0887"
             ],
             [
              0.1111111111111111,
              "#46039f"
             ],
             [
              0.2222222222222222,
              "#7201a8"
             ],
             [
              0.3333333333333333,
              "#9c179e"
             ],
             [
              0.4444444444444444,
              "#bd3786"
             ],
             [
              0.5555555555555556,
              "#d8576b"
             ],
             [
              0.6666666666666666,
              "#ed7953"
             ],
             [
              0.7777777777777778,
              "#fb9f3a"
             ],
             [
              0.8888888888888888,
              "#fdca26"
             ],
             [
              1,
              "#f0f921"
             ]
            ],
            "type": "histogram2d"
           }
          ],
          "histogram2dcontour": [
           {
            "colorbar": {
             "outlinewidth": 0,
             "ticks": ""
            },
            "colorscale": [
             [
              0,
              "#0d0887"
             ],
             [
              0.1111111111111111,
              "#46039f"
             ],
             [
              0.2222222222222222,
              "#7201a8"
             ],
             [
              0.3333333333333333,
              "#9c179e"
             ],
             [
              0.4444444444444444,
              "#bd3786"
             ],
             [
              0.5555555555555556,
              "#d8576b"
             ],
             [
              0.6666666666666666,
              "#ed7953"
             ],
             [
              0.7777777777777778,
              "#fb9f3a"
             ],
             [
              0.8888888888888888,
              "#fdca26"
             ],
             [
              1,
              "#f0f921"
             ]
            ],
            "type": "histogram2dcontour"
           }
          ],
          "mesh3d": [
           {
            "colorbar": {
             "outlinewidth": 0,
             "ticks": ""
            },
            "type": "mesh3d"
           }
          ],
          "parcoords": [
           {
            "line": {
             "colorbar": {
              "outlinewidth": 0,
              "ticks": ""
             }
            },
            "type": "parcoords"
           }
          ],
          "pie": [
           {
            "automargin": true,
            "type": "pie"
           }
          ],
          "scatter": [
           {
            "fillpattern": {
             "fillmode": "overlay",
             "size": 10,
             "solidity": 0.2
            },
            "type": "scatter"
           }
          ],
          "scatter3d": [
           {
            "line": {
             "colorbar": {
              "outlinewidth": 0,
              "ticks": ""
             }
            },
            "marker": {
             "colorbar": {
              "outlinewidth": 0,
              "ticks": ""
             }
            },
            "type": "scatter3d"
           }
          ],
          "scattercarpet": [
           {
            "marker": {
             "colorbar": {
              "outlinewidth": 0,
              "ticks": ""
             }
            },
            "type": "scattercarpet"
           }
          ],
          "scattergeo": [
           {
            "marker": {
             "colorbar": {
              "outlinewidth": 0,
              "ticks": ""
             }
            },
            "type": "scattergeo"
           }
          ],
          "scattergl": [
           {
            "marker": {
             "colorbar": {
              "outlinewidth": 0,
              "ticks": ""
             }
            },
            "type": "scattergl"
           }
          ],
          "scattermapbox": [
           {
            "marker": {
             "colorbar": {
              "outlinewidth": 0,
              "ticks": ""
             }
            },
            "type": "scattermapbox"
           }
          ],
          "scatterpolar": [
           {
            "marker": {
             "colorbar": {
              "outlinewidth": 0,
              "ticks": ""
             }
            },
            "type": "scatterpolar"
           }
          ],
          "scatterpolargl": [
           {
            "marker": {
             "colorbar": {
              "outlinewidth": 0,
              "ticks": ""
             }
            },
            "type": "scatterpolargl"
           }
          ],
          "scatterternary": [
           {
            "marker": {
             "colorbar": {
              "outlinewidth": 0,
              "ticks": ""
             }
            },
            "type": "scatterternary"
           }
          ],
          "surface": [
           {
            "colorbar": {
             "outlinewidth": 0,
             "ticks": ""
            },
            "colorscale": [
             [
              0,
              "#0d0887"
             ],
             [
              0.1111111111111111,
              "#46039f"
             ],
             [
              0.2222222222222222,
              "#7201a8"
             ],
             [
              0.3333333333333333,
              "#9c179e"
             ],
             [
              0.4444444444444444,
              "#bd3786"
             ],
             [
              0.5555555555555556,
              "#d8576b"
             ],
             [
              0.6666666666666666,
              "#ed7953"
             ],
             [
              0.7777777777777778,
              "#fb9f3a"
             ],
             [
              0.8888888888888888,
              "#fdca26"
             ],
             [
              1,
              "#f0f921"
             ]
            ],
            "type": "surface"
           }
          ],
          "table": [
           {
            "cells": {
             "fill": {
              "color": "#EBF0F8"
             },
             "line": {
              "color": "white"
             }
            },
            "header": {
             "fill": {
              "color": "#C8D4E3"
             },
             "line": {
              "color": "white"
             }
            },
            "type": "table"
           }
          ]
         },
         "layout": {
          "annotationdefaults": {
           "arrowcolor": "#2a3f5f",
           "arrowhead": 0,
           "arrowwidth": 1
          },
          "autotypenumbers": "strict",
          "coloraxis": {
           "colorbar": {
            "outlinewidth": 0,
            "ticks": ""
           }
          },
          "colorscale": {
           "diverging": [
            [
             0,
             "#8e0152"
            ],
            [
             0.1,
             "#c51b7d"
            ],
            [
             0.2,
             "#de77ae"
            ],
            [
             0.3,
             "#f1b6da"
            ],
            [
             0.4,
             "#fde0ef"
            ],
            [
             0.5,
             "#f7f7f7"
            ],
            [
             0.6,
             "#e6f5d0"
            ],
            [
             0.7,
             "#b8e186"
            ],
            [
             0.8,
             "#7fbc41"
            ],
            [
             0.9,
             "#4d9221"
            ],
            [
             1,
             "#276419"
            ]
           ],
           "sequential": [
            [
             0,
             "#0d0887"
            ],
            [
             0.1111111111111111,
             "#46039f"
            ],
            [
             0.2222222222222222,
             "#7201a8"
            ],
            [
             0.3333333333333333,
             "#9c179e"
            ],
            [
             0.4444444444444444,
             "#bd3786"
            ],
            [
             0.5555555555555556,
             "#d8576b"
            ],
            [
             0.6666666666666666,
             "#ed7953"
            ],
            [
             0.7777777777777778,
             "#fb9f3a"
            ],
            [
             0.8888888888888888,
             "#fdca26"
            ],
            [
             1,
             "#f0f921"
            ]
           ],
           "sequentialminus": [
            [
             0,
             "#0d0887"
            ],
            [
             0.1111111111111111,
             "#46039f"
            ],
            [
             0.2222222222222222,
             "#7201a8"
            ],
            [
             0.3333333333333333,
             "#9c179e"
            ],
            [
             0.4444444444444444,
             "#bd3786"
            ],
            [
             0.5555555555555556,
             "#d8576b"
            ],
            [
             0.6666666666666666,
             "#ed7953"
            ],
            [
             0.7777777777777778,
             "#fb9f3a"
            ],
            [
             0.8888888888888888,
             "#fdca26"
            ],
            [
             1,
             "#f0f921"
            ]
           ]
          },
          "colorway": [
           "#636efa",
           "#EF553B",
           "#00cc96",
           "#ab63fa",
           "#FFA15A",
           "#19d3f3",
           "#FF6692",
           "#B6E880",
           "#FF97FF",
           "#FECB52"
          ],
          "font": {
           "color": "#2a3f5f"
          },
          "geo": {
           "bgcolor": "white",
           "lakecolor": "white",
           "landcolor": "#E5ECF6",
           "showlakes": true,
           "showland": true,
           "subunitcolor": "white"
          },
          "hoverlabel": {
           "align": "left"
          },
          "hovermode": "closest",
          "mapbox": {
           "style": "light"
          },
          "paper_bgcolor": "white",
          "plot_bgcolor": "#E5ECF6",
          "polar": {
           "angularaxis": {
            "gridcolor": "white",
            "linecolor": "white",
            "ticks": ""
           },
           "bgcolor": "#E5ECF6",
           "radialaxis": {
            "gridcolor": "white",
            "linecolor": "white",
            "ticks": ""
           }
          },
          "scene": {
           "xaxis": {
            "backgroundcolor": "#E5ECF6",
            "gridcolor": "white",
            "gridwidth": 2,
            "linecolor": "white",
            "showbackground": true,
            "ticks": "",
            "zerolinecolor": "white"
           },
           "yaxis": {
            "backgroundcolor": "#E5ECF6",
            "gridcolor": "white",
            "gridwidth": 2,
            "linecolor": "white",
            "showbackground": true,
            "ticks": "",
            "zerolinecolor": "white"
           },
           "zaxis": {
            "backgroundcolor": "#E5ECF6",
            "gridcolor": "white",
            "gridwidth": 2,
            "linecolor": "white",
            "showbackground": true,
            "ticks": "",
            "zerolinecolor": "white"
           }
          },
          "shapedefaults": {
           "line": {
            "color": "#2a3f5f"
           }
          },
          "ternary": {
           "aaxis": {
            "gridcolor": "white",
            "linecolor": "white",
            "ticks": ""
           },
           "baxis": {
            "gridcolor": "white",
            "linecolor": "white",
            "ticks": ""
           },
           "bgcolor": "#E5ECF6",
           "caxis": {
            "gridcolor": "white",
            "linecolor": "white",
            "ticks": ""
           }
          },
          "title": {
           "x": 0.05
          },
          "xaxis": {
           "automargin": true,
           "gridcolor": "white",
           "linecolor": "white",
           "ticks": "",
           "title": {
            "standoff": 15
           },
           "zerolinecolor": "white",
           "zerolinewidth": 2
          },
          "yaxis": {
           "automargin": true,
           "gridcolor": "white",
           "linecolor": "white",
           "ticks": "",
           "title": {
            "standoff": 15
           },
           "zerolinecolor": "white",
           "zerolinewidth": 2
          }
         }
        },
        "title": {
         "text": "Relationship Between Profit Margin and Total Sales"
        },
        "xaxis": {
         "anchor": "y",
         "domain": [
          0,
          1
         ],
         "title": {
          "text": "Profit Margin"
         }
        },
        "yaxis": {
         "anchor": "x",
         "domain": [
          0,
          1
         ],
         "title": {
          "text": "Total Sales"
         }
        }
       }
      }
     },
     "metadata": {},
     "output_type": "display_data"
    }
   ],
   "source": [
    "df['Profit Margin'] = (df['Operating Profit'] / df['Total Sales']) * 100\n",
    "\n",
    "grouped_df = df.groupby('Product').agg({'Total Sales': 'sum', 'Profit Margin': 'mean'}).reset_index()\n",
    "\n",
    "fig = px.bar(grouped_df, x='Profit Margin', y='Total Sales', text='Product',\n",
    "                 title=\"Relationship Between Profit Margin and Total Sales\")\n",
    "fig.show()"
   ]
  },
  {
   "cell_type": "code",
   "execution_count": 20,
   "metadata": {},
   "outputs": [
    {
     "data": {
      "text/plain": [
       "0.682548317791184"
      ]
     },
     "execution_count": 20,
     "metadata": {},
     "output_type": "execute_result"
    }
   ],
   "source": [
    "# Here we find the Correlation bewtween Profit margin and Total Sales\n",
    "\n",
    "correlation = grouped_df['Profit Margin'].corr(grouped_df['Total Sales'])\n",
    "correlation"
   ]
  },
  {
   "cell_type": "markdown",
   "metadata": {},
   "source": [
    "So as we see, the correlation is positive-> 0.68, this means that high margin equals high sales."
   ]
  },
  {
   "cell_type": "markdown",
   "metadata": {},
   "source": [
    "##### Question 3) Profit Margin analysis: We can identify how profit margins affect sales. (does high margin equal high sale)\n",
    "\n",
    "1. The correlation is positive, 0.82\n",
    "\n",
    "2. This shows that as the Total Sales go up the Profit Margin also go up.\n",
    "\n",
    "3. So the answer to question 3 is YES"
   ]
  },
  {
   "cell_type": "markdown",
   "id": "3c4982dc",
   "metadata": {},
   "source": [
    "### 4. Efficiency of Sales Methods"
   ]
  },
  {
   "cell_type": "markdown",
   "id": "a10d01e5",
   "metadata": {},
   "source": [
    "By analyzing sales method like in-store and online we can find out which is best effective.\n"
   ]
  },
  {
   "cell_type": "code",
   "execution_count": 21,
   "id": "0a6e3728",
   "metadata": {},
   "outputs": [
    {
     "data": {
      "text/plain": [
       "array(['In-store', 'Outlet', 'Online'], dtype=object)"
      ]
     },
     "execution_count": 21,
     "metadata": {},
     "output_type": "execute_result"
    }
   ],
   "source": [
    "# Finding the unique column in the df\n",
    "\n",
    "sales_method_col = df['Sales Method']\n",
    "unique_sales_method_col = sales_method_col.unique()\n",
    "unique_sales_method_col"
   ]
  },
  {
   "cell_type": "markdown",
   "id": "16acf370",
   "metadata": {},
   "source": [
    "##### When we plot maps in plotly, it requires the state names to be 2 letter abbrivations like NY, CA, NJ, etc instead of New York, California, New Jersey. So we use a library called \"us\" that will help me achieve this."
   ]
  },
  {
   "cell_type": "code",
   "execution_count": 22,
   "id": "344f437e",
   "metadata": {},
   "outputs": [
    {
     "name": "stdout",
     "output_type": "stream",
     "text": [
      "Requirement already satisfied: us in c:\\users\\padwa\\appdata\\local\\programs\\python\\python310\\lib\\site-packages (3.1.1)\n",
      "Requirement already satisfied: jellyfish==0.11.2 in c:\\users\\padwa\\appdata\\local\\programs\\python\\python310\\lib\\site-packages (from us) (0.11.2)\n",
      "Note: you may need to restart the kernel to use updated packages.\n"
     ]
    }
   ],
   "source": [
    "pip install us"
   ]
  },
  {
   "cell_type": "code",
   "execution_count": 23,
   "id": "e533b2b3",
   "metadata": {},
   "outputs": [],
   "source": [
    "from us import states\n",
    "\n",
    "state_column = df['State']\n",
    "\n",
    "# Get the two-letter abbreviations of the state names\n",
    "state_abbreviations = []\n",
    "for state in state_column:\n",
    "    try:\n",
    "        # Lookup state by name or existing abbreviation\n",
    "        state_abbreviation = states.lookup(state).abbr\n",
    "    except AttributeError:\n",
    "        # In case the state is not found, set the abbreviation to None\n",
    "        state_abbreviation = None\n",
    "    state_abbreviations.append(state_abbreviation)\n",
    "\n",
    "# Create a new column in the dataframe with the two-letter abbreviations\n",
    "df['State Abbreviation'] = state_abbreviations"
   ]
  },
  {
   "cell_type": "code",
   "execution_count": 24,
   "id": "a5f0af71",
   "metadata": {},
   "outputs": [
    {
     "data": {
      "text/plain": [
       "0    NY\n",
       "1    NY\n",
       "2    NY\n",
       "3    NY\n",
       "4    NY\n",
       "Name: State Abbreviation, dtype: object"
      ]
     },
     "execution_count": 24,
     "metadata": {},
     "output_type": "execute_result"
    }
   ],
   "source": [
    "# Checking the contents of the new column \n",
    "df['State Abbreviation'].head()"
   ]
  },
  {
   "cell_type": "markdown",
   "id": "67303cac",
   "metadata": {},
   "source": [
    "#### Now we will create a Choropleth Map using plotly  "
   ]
  },
  {
   "cell_type": "code",
   "execution_count": 25,
   "id": "dc586101",
   "metadata": {},
   "outputs": [],
   "source": [
    "import plotly.graph_objs as go"
   ]
  },
  {
   "cell_type": "markdown",
   "id": "b56de005",
   "metadata": {},
   "source": [
    "##### 4.1 Creating a Choropleth Map of Total Sales by State and Product"
   ]
  },
  {
   "cell_type": "code",
   "execution_count": 26,
   "id": "ee63f627",
   "metadata": {},
   "outputs": [
    {
     "data": {
      "application/vnd.plotly.v1+json": {
       "config": {
        "plotlyServerURL": "https://plot.ly"
       },
       "data": [
        {
         "colorscale": [
          [
           0,
           "#440154"
          ],
          [
           0.1111111111111111,
           "#482878"
          ],
          [
           0.2222222222222222,
           "#3e4989"
          ],
          [
           0.3333333333333333,
           "#31688e"
          ],
          [
           0.4444444444444444,
           "#26828e"
          ],
          [
           0.5555555555555556,
           "#1f9e89"
          ],
          [
           0.6666666666666666,
           "#35b779"
          ],
          [
           0.7777777777777778,
           "#6ece58"
          ],
          [
           0.8888888888888888,
           "#b5de2b"
          ],
          [
           1,
           "#fde725"
          ]
         ],
         "locationmode": "USA-states",
         "locations": [
          "AK",
          "AL",
          "AR",
          "AZ",
          "CA",
          "CO",
          "CT",
          "DE",
          "FL",
          "GA",
          "HI",
          "IA",
          "ID",
          "IL",
          "IN",
          "KS",
          "KY",
          "LA",
          "MA",
          "MD",
          "ME",
          "MI",
          "MN",
          "MO",
          "MS",
          "MT",
          "NC",
          "ND",
          "NE",
          "NH",
          "NJ",
          "NM",
          "NV",
          "NY",
          "OH",
          "OK",
          "OR",
          "PA",
          "RI",
          "SC",
          "SD",
          "TN",
          "TX",
          "UT",
          "VA",
          "VT",
          "WA",
          "WI",
          "WV",
          "WY"
         ],
         "name": "Men's Street Footwear",
         "showscale": true,
         "type": "choropleth",
         "visible": true,
         "z": [
          4391934,
          2959681,
          3283057,
          3200441,
          10861963,
          4183818.0000000005,
          3422738.9999999995,
          3522196.9999999995,
          12568317,
          4012848.0000000005,
          4524868,
          2408907,
          3244994,
          3087951,
          2709332,
          2883508,
          3098870,
          4546907,
          3362582,
          2708284,
          2967882,
          4526962,
          2498746,
          2737757,
          3832905,
          3017295,
          5438257,
          2557800,
          2131074,
          4584048,
          3050074.9999999995,
          3892153.0000000005,
          4186160,
          14056646,
          4464402,
          2940237,
          4195935,
          3401211,
          2814550.9999999995,
          6465330,
          2812070,
          3062624,
          7819150,
          2534743,
          4435614,
          4120637,
          5421557,
          2487006,
          3014172,
          4376047
         ]
        },
        {
         "colorscale": [
          [
           0,
           "#440154"
          ],
          [
           0.1111111111111111,
           "#482878"
          ],
          [
           0.2222222222222222,
           "#3e4989"
          ],
          [
           0.3333333333333333,
           "#31688e"
          ],
          [
           0.4444444444444444,
           "#26828e"
          ],
          [
           0.5555555555555556,
           "#1f9e89"
          ],
          [
           0.6666666666666666,
           "#35b779"
          ],
          [
           0.7777777777777778,
           "#6ece58"
          ],
          [
           0.8888888888888888,
           "#b5de2b"
          ],
          [
           1,
           "#fde725"
          ]
         ],
         "locationmode": "USA-states",
         "locations": [
          "AK",
          "AL",
          "AR",
          "AZ",
          "CA",
          "CO",
          "CT",
          "DE",
          "FL",
          "GA",
          "HI",
          "IA",
          "ID",
          "IL",
          "IN",
          "KS",
          "KY",
          "LA",
          "MA",
          "MD",
          "ME",
          "MI",
          "MN",
          "MO",
          "MS",
          "MT",
          "NC",
          "ND",
          "NE",
          "NH",
          "NJ",
          "NM",
          "NV",
          "NY",
          "OH",
          "OK",
          "OR",
          "PA",
          "RI",
          "SC",
          "SD",
          "TN",
          "TX",
          "UT",
          "VA",
          "VT",
          "WA",
          "WI",
          "WV",
          "WY"
         ],
         "name": "Men's Athletic Footwear",
         "showscale": true,
         "type": "choropleth",
         "visible": false,
         "z": [
          2528729.0000000005,
          3251234.0000000005,
          1860850.0000000002,
          3104701.0000000005,
          10918839,
          4039815.0000000005,
          1760417,
          1884159,
          10136284.000000002,
          3670750.0000000005,
          4342955,
          1088837.0000000002,
          3601763,
          1560270,
          1306839.0000000002,
          1469278.0000000002,
          1576409.0000000002,
          4607331.000000001,
          1689916,
          1198720,
          1443733,
          2900751.0000000005,
          1167262,
          1472432.0000000002,
          2341155.0000000005,
          3051104,
          3678426.0000000005,
          1147762.0000000002,
          942983,
          2537288.0000000005,
          1528073,
          3803130.0000000005,
          4028739.0000000005,
          10131124.000000002,
          2770609.0000000005,
          1562870.0000000002,
          4174578.0000000005,
          1636433.0000000002,
          1287826,
          4556660.000000001,
          1284513,
          3374069,
          8713036,
          1524489.0000000002,
          4158491.0000000005,
          2240175,
          5037103.000000001,
          1142899,
          1536373.0000000002,
          2901498.0000000005
         ]
        },
        {
         "colorscale": [
          [
           0,
           "#440154"
          ],
          [
           0.1111111111111111,
           "#482878"
          ],
          [
           0.2222222222222222,
           "#3e4989"
          ],
          [
           0.3333333333333333,
           "#31688e"
          ],
          [
           0.4444444444444444,
           "#26828e"
          ],
          [
           0.5555555555555556,
           "#1f9e89"
          ],
          [
           0.6666666666666666,
           "#35b779"
          ],
          [
           0.7777777777777778,
           "#6ece58"
          ],
          [
           0.8888888888888888,
           "#b5de2b"
          ],
          [
           1,
           "#fde725"
          ]
         ],
         "locationmode": "USA-states",
         "locations": [
          "AK",
          "AL",
          "AR",
          "AZ",
          "CA",
          "CO",
          "CT",
          "DE",
          "FL",
          "GA",
          "HI",
          "IA",
          "ID",
          "IL",
          "IN",
          "KS",
          "KY",
          "LA",
          "MA",
          "MD",
          "ME",
          "MI",
          "MN",
          "MO",
          "MS",
          "MT",
          "NC",
          "ND",
          "NE",
          "NH",
          "NJ",
          "NM",
          "NV",
          "NY",
          "OH",
          "OK",
          "OR",
          "PA",
          "RI",
          "SC",
          "SD",
          "TN",
          "TX",
          "UT",
          "VA",
          "VT",
          "WA",
          "WI",
          "WV",
          "WY"
         ],
         "name": "Women's Street Footwear",
         "showscale": true,
         "type": "choropleth",
         "visible": false,
         "z": [
          1908903.0000000002,
          3160099,
          1424650.0000000002,
          2584905.0000000005,
          9540446,
          3392953,
          1392374,
          1502297,
          8678483,
          2956513.0000000005,
          3630409,
          760221.0000000001,
          3510169,
          1160782,
          956198.0000000001,
          1116162.0000000002,
          1161721.0000000002,
          3874693.0000000005,
          1327328,
          864603,
          1114148,
          2325950,
          891177,
          1078374.0000000002,
          1834635.0000000002,
          2490275,
          3039971.0000000005,
          811189,
          656446,
          2116433.0000000005,
          1187433,
          3190077.0000000005,
          3350565,
          8577989,
          2262726.0000000005,
          1169086.0000000002,
          3570036,
          1284969,
          974898,
          3817906.0000000005,
          931671,
          3181394,
          8132540,
          1190215.0000000002,
          3464940,
          1822921,
          4229292,
          803727,
          1175780,
          2422141
         ]
        },
        {
         "colorscale": [
          [
           0,
           "#440154"
          ],
          [
           0.1111111111111111,
           "#482878"
          ],
          [
           0.2222222222222222,
           "#3e4989"
          ],
          [
           0.3333333333333333,
           "#31688e"
          ],
          [
           0.4444444444444444,
           "#26828e"
          ],
          [
           0.5555555555555556,
           "#1f9e89"
          ],
          [
           0.6666666666666666,
           "#35b779"
          ],
          [
           0.7777777777777778,
           "#6ece58"
          ],
          [
           0.8888888888888888,
           "#b5de2b"
          ],
          [
           1,
           "#fde725"
          ]
         ],
         "locationmode": "USA-states",
         "locations": [
          "AK",
          "AL",
          "AR",
          "AZ",
          "CA",
          "CO",
          "CT",
          "DE",
          "FL",
          "GA",
          "HI",
          "IA",
          "ID",
          "IL",
          "IN",
          "KS",
          "KY",
          "LA",
          "MA",
          "MD",
          "ME",
          "MI",
          "MN",
          "MO",
          "MS",
          "MT",
          "NC",
          "ND",
          "NE",
          "NH",
          "NJ",
          "NM",
          "NV",
          "NY",
          "OH",
          "OK",
          "OR",
          "PA",
          "RI",
          "SC",
          "SD",
          "TN",
          "TX",
          "UT",
          "VA",
          "VT",
          "WA",
          "WI",
          "WV",
          "WY"
         ],
         "name": "Women's Athletic Footwear",
         "showscale": true,
         "type": "choropleth",
         "visible": false,
         "z": [
          1368514.0000000002,
          2274558,
          1390752.0000000002,
          1951203.0000000002,
          8221424,
          2799988,
          1125920,
          1242580,
          7551886.000000001,
          2340832,
          2884758,
          589654,
          2539126,
          924799,
          761383,
          980045.0000000001,
          905788,
          3197166.0000000005,
          1147928,
          573239,
          800906,
          2166103,
          602229,
          910098.0000000001,
          1823905.0000000002,
          2030648,
          3002325,
          615834,
          465677,
          1728405.0000000002,
          902362,
          2582792.0000000005,
          2693649,
          8174059,
          2235911,
          1094823,
          2752205,
          926776.0000000001,
          675058,
          3744447.0000000005,
          685516,
          2305471,
          6334047,
          907760.0000000001,
          2757520,
          1447437,
          3587306,
          627271,
          1051468,
          2228345
         ]
        },
        {
         "colorscale": [
          [
           0,
           "#440154"
          ],
          [
           0.1111111111111111,
           "#482878"
          ],
          [
           0.2222222222222222,
           "#3e4989"
          ],
          [
           0.3333333333333333,
           "#31688e"
          ],
          [
           0.4444444444444444,
           "#26828e"
          ],
          [
           0.5555555555555556,
           "#1f9e89"
          ],
          [
           0.6666666666666666,
           "#35b779"
          ],
          [
           0.7777777777777778,
           "#6ece58"
          ],
          [
           0.8888888888888888,
           "#b5de2b"
          ],
          [
           1,
           "#fde725"
          ]
         ],
         "locationmode": "USA-states",
         "locations": [
          "AK",
          "AL",
          "AR",
          "AZ",
          "CA",
          "CO",
          "CT",
          "DE",
          "FL",
          "GA",
          "HI",
          "IA",
          "ID",
          "IL",
          "IN",
          "KS",
          "KY",
          "LA",
          "MA",
          "MD",
          "ME",
          "MI",
          "MN",
          "MO",
          "MS",
          "MT",
          "NC",
          "ND",
          "NE",
          "NH",
          "NJ",
          "NM",
          "NV",
          "NY",
          "OH",
          "OK",
          "OR",
          "PA",
          "RI",
          "SC",
          "SD",
          "TN",
          "TX",
          "UT",
          "VA",
          "VT",
          "WA",
          "WI",
          "WV",
          "WY"
         ],
         "name": "Men's Apparel",
         "showscale": true,
         "type": "choropleth",
         "visible": false,
         "z": [
          1677524,
          2211662,
          1991980,
          1890308.0000000002,
          8862102,
          2640007,
          1478276,
          1626774,
          9054220,
          2436654,
          2792521.0000000005,
          928928,
          2345721,
          1102791,
          1176101,
          1405053,
          1282324,
          3080401,
          1318803,
          808227,
          995809.9999999999,
          2919107,
          742603.9999999999,
          1447557,
          2515418,
          2013005.9999999998,
          3990466,
          924794,
          530197,
          2187140,
          1223812,
          2528344.0000000005,
          2619944,
          10708719,
          2970467,
          1576923,
          2674457,
          1055499,
          928681,
          4914897,
          995364,
          2304072,
          6022613,
          1444612,
          2782926,
          1862696,
          3342563.0000000005,
          969692,
          1549975,
          2875900
         ]
        },
        {
         "colorscale": [
          [
           0,
           "#440154"
          ],
          [
           0.1111111111111111,
           "#482878"
          ],
          [
           0.2222222222222222,
           "#3e4989"
          ],
          [
           0.3333333333333333,
           "#31688e"
          ],
          [
           0.4444444444444444,
           "#26828e"
          ],
          [
           0.5555555555555556,
           "#1f9e89"
          ],
          [
           0.6666666666666666,
           "#35b779"
          ],
          [
           0.7777777777777778,
           "#6ece58"
          ],
          [
           0.8888888888888888,
           "#b5de2b"
          ],
          [
           1,
           "#fde725"
          ]
         ],
         "locationmode": "USA-states",
         "locations": [
          "AK",
          "AL",
          "AR",
          "AZ",
          "CA",
          "CO",
          "CT",
          "DE",
          "FL",
          "GA",
          "HI",
          "IA",
          "ID",
          "IL",
          "IN",
          "KS",
          "KY",
          "LA",
          "MA",
          "MD",
          "ME",
          "MI",
          "MN",
          "MO",
          "MS",
          "MT",
          "NC",
          "ND",
          "NE",
          "NH",
          "NJ",
          "NM",
          "NV",
          "NY",
          "OH",
          "OK",
          "OR",
          "PA",
          "RI",
          "SC",
          "SD",
          "TN",
          "TX",
          "UT",
          "VA",
          "VT",
          "WA",
          "WI",
          "WV",
          "WY"
         ],
         "name": "Women's Apparel",
         "showscale": true,
         "type": "choropleth",
         "visible": false,
         "z": [
          2877499,
          3776190,
          2688058,
          3050663,
          11769359,
          3939955.0000000005,
          2393722,
          2520405,
          11294524,
          3579869,
          4106946,
          1647464,
          4035105,
          1960895,
          1926345,
          2118818,
          2047736,
          4444283.000000001,
          2230253,
          1604985.9999999998,
          1873499,
          3786560,
          1476050,
          2037047,
          3243691,
          3108558,
          4807086,
          1678201,
          1202661,
          3258353,
          2042490.9999999998,
          3868520.0000000005,
          3979452,
          12580502,
          3780468,
          2276795,
          3982463,
          2052631,
          1765791.9999999998,
          5786397,
          1786442,
          3839810,
          9338360,
          2094601,
          3975549,
          2859057,
          4712897,
          1696874,
          2361392,
          3773586.0000000005
         ]
        }
       ],
       "layout": {
        "geo": {
         "scope": "usa"
        },
        "template": {
         "data": {
          "bar": [
           {
            "error_x": {
             "color": "#2a3f5f"
            },
            "error_y": {
             "color": "#2a3f5f"
            },
            "marker": {
             "line": {
              "color": "#E5ECF6",
              "width": 0.5
             },
             "pattern": {
              "fillmode": "overlay",
              "size": 10,
              "solidity": 0.2
             }
            },
            "type": "bar"
           }
          ],
          "barpolar": [
           {
            "marker": {
             "line": {
              "color": "#E5ECF6",
              "width": 0.5
             },
             "pattern": {
              "fillmode": "overlay",
              "size": 10,
              "solidity": 0.2
             }
            },
            "type": "barpolar"
           }
          ],
          "carpet": [
           {
            "aaxis": {
             "endlinecolor": "#2a3f5f",
             "gridcolor": "white",
             "linecolor": "white",
             "minorgridcolor": "white",
             "startlinecolor": "#2a3f5f"
            },
            "baxis": {
             "endlinecolor": "#2a3f5f",
             "gridcolor": "white",
             "linecolor": "white",
             "minorgridcolor": "white",
             "startlinecolor": "#2a3f5f"
            },
            "type": "carpet"
           }
          ],
          "choropleth": [
           {
            "colorbar": {
             "outlinewidth": 0,
             "ticks": ""
            },
            "type": "choropleth"
           }
          ],
          "contour": [
           {
            "colorbar": {
             "outlinewidth": 0,
             "ticks": ""
            },
            "colorscale": [
             [
              0,
              "#0d0887"
             ],
             [
              0.1111111111111111,
              "#46039f"
             ],
             [
              0.2222222222222222,
              "#7201a8"
             ],
             [
              0.3333333333333333,
              "#9c179e"
             ],
             [
              0.4444444444444444,
              "#bd3786"
             ],
             [
              0.5555555555555556,
              "#d8576b"
             ],
             [
              0.6666666666666666,
              "#ed7953"
             ],
             [
              0.7777777777777778,
              "#fb9f3a"
             ],
             [
              0.8888888888888888,
              "#fdca26"
             ],
             [
              1,
              "#f0f921"
             ]
            ],
            "type": "contour"
           }
          ],
          "contourcarpet": [
           {
            "colorbar": {
             "outlinewidth": 0,
             "ticks": ""
            },
            "type": "contourcarpet"
           }
          ],
          "heatmap": [
           {
            "colorbar": {
             "outlinewidth": 0,
             "ticks": ""
            },
            "colorscale": [
             [
              0,
              "#0d0887"
             ],
             [
              0.1111111111111111,
              "#46039f"
             ],
             [
              0.2222222222222222,
              "#7201a8"
             ],
             [
              0.3333333333333333,
              "#9c179e"
             ],
             [
              0.4444444444444444,
              "#bd3786"
             ],
             [
              0.5555555555555556,
              "#d8576b"
             ],
             [
              0.6666666666666666,
              "#ed7953"
             ],
             [
              0.7777777777777778,
              "#fb9f3a"
             ],
             [
              0.8888888888888888,
              "#fdca26"
             ],
             [
              1,
              "#f0f921"
             ]
            ],
            "type": "heatmap"
           }
          ],
          "heatmapgl": [
           {
            "colorbar": {
             "outlinewidth": 0,
             "ticks": ""
            },
            "colorscale": [
             [
              0,
              "#0d0887"
             ],
             [
              0.1111111111111111,
              "#46039f"
             ],
             [
              0.2222222222222222,
              "#7201a8"
             ],
             [
              0.3333333333333333,
              "#9c179e"
             ],
             [
              0.4444444444444444,
              "#bd3786"
             ],
             [
              0.5555555555555556,
              "#d8576b"
             ],
             [
              0.6666666666666666,
              "#ed7953"
             ],
             [
              0.7777777777777778,
              "#fb9f3a"
             ],
             [
              0.8888888888888888,
              "#fdca26"
             ],
             [
              1,
              "#f0f921"
             ]
            ],
            "type": "heatmapgl"
           }
          ],
          "histogram": [
           {
            "marker": {
             "pattern": {
              "fillmode": "overlay",
              "size": 10,
              "solidity": 0.2
             }
            },
            "type": "histogram"
           }
          ],
          "histogram2d": [
           {
            "colorbar": {
             "outlinewidth": 0,
             "ticks": ""
            },
            "colorscale": [
             [
              0,
              "#0d0887"
             ],
             [
              0.1111111111111111,
              "#46039f"
             ],
             [
              0.2222222222222222,
              "#7201a8"
             ],
             [
              0.3333333333333333,
              "#9c179e"
             ],
             [
              0.4444444444444444,
              "#bd3786"
             ],
             [
              0.5555555555555556,
              "#d8576b"
             ],
             [
              0.6666666666666666,
              "#ed7953"
             ],
             [
              0.7777777777777778,
              "#fb9f3a"
             ],
             [
              0.8888888888888888,
              "#fdca26"
             ],
             [
              1,
              "#f0f921"
             ]
            ],
            "type": "histogram2d"
           }
          ],
          "histogram2dcontour": [
           {
            "colorbar": {
             "outlinewidth": 0,
             "ticks": ""
            },
            "colorscale": [
             [
              0,
              "#0d0887"
             ],
             [
              0.1111111111111111,
              "#46039f"
             ],
             [
              0.2222222222222222,
              "#7201a8"
             ],
             [
              0.3333333333333333,
              "#9c179e"
             ],
             [
              0.4444444444444444,
              "#bd3786"
             ],
             [
              0.5555555555555556,
              "#d8576b"
             ],
             [
              0.6666666666666666,
              "#ed7953"
             ],
             [
              0.7777777777777778,
              "#fb9f3a"
             ],
             [
              0.8888888888888888,
              "#fdca26"
             ],
             [
              1,
              "#f0f921"
             ]
            ],
            "type": "histogram2dcontour"
           }
          ],
          "mesh3d": [
           {
            "colorbar": {
             "outlinewidth": 0,
             "ticks": ""
            },
            "type": "mesh3d"
           }
          ],
          "parcoords": [
           {
            "line": {
             "colorbar": {
              "outlinewidth": 0,
              "ticks": ""
             }
            },
            "type": "parcoords"
           }
          ],
          "pie": [
           {
            "automargin": true,
            "type": "pie"
           }
          ],
          "scatter": [
           {
            "fillpattern": {
             "fillmode": "overlay",
             "size": 10,
             "solidity": 0.2
            },
            "type": "scatter"
           }
          ],
          "scatter3d": [
           {
            "line": {
             "colorbar": {
              "outlinewidth": 0,
              "ticks": ""
             }
            },
            "marker": {
             "colorbar": {
              "outlinewidth": 0,
              "ticks": ""
             }
            },
            "type": "scatter3d"
           }
          ],
          "scattercarpet": [
           {
            "marker": {
             "colorbar": {
              "outlinewidth": 0,
              "ticks": ""
             }
            },
            "type": "scattercarpet"
           }
          ],
          "scattergeo": [
           {
            "marker": {
             "colorbar": {
              "outlinewidth": 0,
              "ticks": ""
             }
            },
            "type": "scattergeo"
           }
          ],
          "scattergl": [
           {
            "marker": {
             "colorbar": {
              "outlinewidth": 0,
              "ticks": ""
             }
            },
            "type": "scattergl"
           }
          ],
          "scattermapbox": [
           {
            "marker": {
             "colorbar": {
              "outlinewidth": 0,
              "ticks": ""
             }
            },
            "type": "scattermapbox"
           }
          ],
          "scatterpolar": [
           {
            "marker": {
             "colorbar": {
              "outlinewidth": 0,
              "ticks": ""
             }
            },
            "type": "scatterpolar"
           }
          ],
          "scatterpolargl": [
           {
            "marker": {
             "colorbar": {
              "outlinewidth": 0,
              "ticks": ""
             }
            },
            "type": "scatterpolargl"
           }
          ],
          "scatterternary": [
           {
            "marker": {
             "colorbar": {
              "outlinewidth": 0,
              "ticks": ""
             }
            },
            "type": "scatterternary"
           }
          ],
          "surface": [
           {
            "colorbar": {
             "outlinewidth": 0,
             "ticks": ""
            },
            "colorscale": [
             [
              0,
              "#0d0887"
             ],
             [
              0.1111111111111111,
              "#46039f"
             ],
             [
              0.2222222222222222,
              "#7201a8"
             ],
             [
              0.3333333333333333,
              "#9c179e"
             ],
             [
              0.4444444444444444,
              "#bd3786"
             ],
             [
              0.5555555555555556,
              "#d8576b"
             ],
             [
              0.6666666666666666,
              "#ed7953"
             ],
             [
              0.7777777777777778,
              "#fb9f3a"
             ],
             [
              0.8888888888888888,
              "#fdca26"
             ],
             [
              1,
              "#f0f921"
             ]
            ],
            "type": "surface"
           }
          ],
          "table": [
           {
            "cells": {
             "fill": {
              "color": "#EBF0F8"
             },
             "line": {
              "color": "white"
             }
            },
            "header": {
             "fill": {
              "color": "#C8D4E3"
             },
             "line": {
              "color": "white"
             }
            },
            "type": "table"
           }
          ]
         },
         "layout": {
          "annotationdefaults": {
           "arrowcolor": "#2a3f5f",
           "arrowhead": 0,
           "arrowwidth": 1
          },
          "autotypenumbers": "strict",
          "coloraxis": {
           "colorbar": {
            "outlinewidth": 0,
            "ticks": ""
           }
          },
          "colorscale": {
           "diverging": [
            [
             0,
             "#8e0152"
            ],
            [
             0.1,
             "#c51b7d"
            ],
            [
             0.2,
             "#de77ae"
            ],
            [
             0.3,
             "#f1b6da"
            ],
            [
             0.4,
             "#fde0ef"
            ],
            [
             0.5,
             "#f7f7f7"
            ],
            [
             0.6,
             "#e6f5d0"
            ],
            [
             0.7,
             "#b8e186"
            ],
            [
             0.8,
             "#7fbc41"
            ],
            [
             0.9,
             "#4d9221"
            ],
            [
             1,
             "#276419"
            ]
           ],
           "sequential": [
            [
             0,
             "#0d0887"
            ],
            [
             0.1111111111111111,
             "#46039f"
            ],
            [
             0.2222222222222222,
             "#7201a8"
            ],
            [
             0.3333333333333333,
             "#9c179e"
            ],
            [
             0.4444444444444444,
             "#bd3786"
            ],
            [
             0.5555555555555556,
             "#d8576b"
            ],
            [
             0.6666666666666666,
             "#ed7953"
            ],
            [
             0.7777777777777778,
             "#fb9f3a"
            ],
            [
             0.8888888888888888,
             "#fdca26"
            ],
            [
             1,
             "#f0f921"
            ]
           ],
           "sequentialminus": [
            [
             0,
             "#0d0887"
            ],
            [
             0.1111111111111111,
             "#46039f"
            ],
            [
             0.2222222222222222,
             "#7201a8"
            ],
            [
             0.3333333333333333,
             "#9c179e"
            ],
            [
             0.4444444444444444,
             "#bd3786"
            ],
            [
             0.5555555555555556,
             "#d8576b"
            ],
            [
             0.6666666666666666,
             "#ed7953"
            ],
            [
             0.7777777777777778,
             "#fb9f3a"
            ],
            [
             0.8888888888888888,
             "#fdca26"
            ],
            [
             1,
             "#f0f921"
            ]
           ]
          },
          "colorway": [
           "#636efa",
           "#EF553B",
           "#00cc96",
           "#ab63fa",
           "#FFA15A",
           "#19d3f3",
           "#FF6692",
           "#B6E880",
           "#FF97FF",
           "#FECB52"
          ],
          "font": {
           "color": "#2a3f5f"
          },
          "geo": {
           "bgcolor": "white",
           "lakecolor": "white",
           "landcolor": "#E5ECF6",
           "showlakes": true,
           "showland": true,
           "subunitcolor": "white"
          },
          "hoverlabel": {
           "align": "left"
          },
          "hovermode": "closest",
          "mapbox": {
           "style": "light"
          },
          "paper_bgcolor": "white",
          "plot_bgcolor": "#E5ECF6",
          "polar": {
           "angularaxis": {
            "gridcolor": "white",
            "linecolor": "white",
            "ticks": ""
           },
           "bgcolor": "#E5ECF6",
           "radialaxis": {
            "gridcolor": "white",
            "linecolor": "white",
            "ticks": ""
           }
          },
          "scene": {
           "xaxis": {
            "backgroundcolor": "#E5ECF6",
            "gridcolor": "white",
            "gridwidth": 2,
            "linecolor": "white",
            "showbackground": true,
            "ticks": "",
            "zerolinecolor": "white"
           },
           "yaxis": {
            "backgroundcolor": "#E5ECF6",
            "gridcolor": "white",
            "gridwidth": 2,
            "linecolor": "white",
            "showbackground": true,
            "ticks": "",
            "zerolinecolor": "white"
           },
           "zaxis": {
            "backgroundcolor": "#E5ECF6",
            "gridcolor": "white",
            "gridwidth": 2,
            "linecolor": "white",
            "showbackground": true,
            "ticks": "",
            "zerolinecolor": "white"
           }
          },
          "shapedefaults": {
           "line": {
            "color": "#2a3f5f"
           }
          },
          "ternary": {
           "aaxis": {
            "gridcolor": "white",
            "linecolor": "white",
            "ticks": ""
           },
           "baxis": {
            "gridcolor": "white",
            "linecolor": "white",
            "ticks": ""
           },
           "bgcolor": "#E5ECF6",
           "caxis": {
            "gridcolor": "white",
            "linecolor": "white",
            "ticks": ""
           }
          },
          "title": {
           "x": 0.05
          },
          "xaxis": {
           "automargin": true,
           "gridcolor": "white",
           "linecolor": "white",
           "ticks": "",
           "title": {
            "standoff": 15
           },
           "zerolinecolor": "white",
           "zerolinewidth": 2
          },
          "yaxis": {
           "automargin": true,
           "gridcolor": "white",
           "linecolor": "white",
           "ticks": "",
           "title": {
            "standoff": 15
           },
           "zerolinecolor": "white",
           "zerolinewidth": 2
          }
         }
        },
        "title": {
         "text": "Total Sales by State and Product"
        },
        "updatemenus": [
         {
          "buttons": [
           {
            "args": [
             {
              "visible": [
               true,
               false,
               false,
               false,
               false,
               false
              ]
             }
            ],
            "label": "Men's Street Footwear",
            "method": "update"
           },
           {
            "args": [
             {
              "visible": [
               false,
               true,
               false,
               false,
               false,
               false
              ]
             }
            ],
            "label": "Men's Athletic Footwear",
            "method": "update"
           },
           {
            "args": [
             {
              "visible": [
               false,
               false,
               true,
               false,
               false,
               false
              ]
             }
            ],
            "label": "Women's Street Footwear",
            "method": "update"
           },
           {
            "args": [
             {
              "visible": [
               false,
               false,
               false,
               true,
               false,
               false
              ]
             }
            ],
            "label": "Women's Athletic Footwear",
            "method": "update"
           },
           {
            "args": [
             {
              "visible": [
               false,
               false,
               false,
               false,
               true,
               false
              ]
             }
            ],
            "label": "Men's Apparel",
            "method": "update"
           },
           {
            "args": [
             {
              "visible": [
               false,
               false,
               false,
               false,
               false,
               true
              ]
             }
            ],
            "label": "Women's Apparel",
            "method": "update"
           }
          ]
         }
        ]
       }
      }
     },
     "metadata": {},
     "output_type": "display_data"
    }
   ],
   "source": [
    "# Removing currency symbols and converting 'Total Sales' to numeric\n",
    "df['Total Sales'] = df['Total Sales'].replace('[\\$,]', '', regex=True).astype(float)\n",
    "\n",
    "# Initialize the figure\n",
    "fig = go.Figure()\n",
    "\n",
    "# List of unique products\n",
    "products = df['Product'].unique()\n",
    "\n",
    "# Add traces, one for each product\n",
    "for product in products:\n",
    "    filtered_df = df[df['Product'] == product]\n",
    "    state_sales = filtered_df.groupby('State Abbreviation')['Total Sales'].sum().reset_index()\n",
    "    \n",
    "    fig.add_trace(\n",
    "        go.Choropleth(\n",
    "            locations=state_sales['State Abbreviation'], \n",
    "            z=state_sales['Total Sales'], \n",
    "            locationmode='USA-states', \n",
    "            colorscale='Viridis',\n",
    "            name=product,\n",
    "            showscale=True,\n",
    "            visible=(product == products[0])  # Only the first product is visible initially\n",
    "        )\n",
    "    )\n",
    "\n",
    "# Update layout with dropdown menu\n",
    "dropdown_buttons = [\n",
    "    {'label': product, 'method': 'update', 'args': [{'visible': [product==p for p in products]}]}\n",
    "    for product in products\n",
    "]\n",
    "\n",
    "fig.update_layout(\n",
    "    updatemenus=[{'buttons': dropdown_buttons}],\n",
    "    geo=dict(scope='usa'),\n",
    "    title=\"Total Sales by State and Product\"\n",
    ")\n",
    "\n",
    "fig.show()\n"
   ]
  },
  {
   "cell_type": "markdown",
   "id": "e2fd054c",
   "metadata": {},
   "source": [
    "##### 4.2 Creating a Choropleth Map of Total Sales by State and Sales Method"
   ]
  },
  {
   "cell_type": "code",
   "execution_count": 27,
   "id": "c89e23a8",
   "metadata": {},
   "outputs": [
    {
     "data": {
      "application/vnd.plotly.v1+json": {
       "config": {
        "plotlyServerURL": "https://plot.ly"
       },
       "data": [
        {
         "colorscale": [
          [
           0,
           "#440154"
          ],
          [
           0.1111111111111111,
           "#482878"
          ],
          [
           0.2222222222222222,
           "#3e4989"
          ],
          [
           0.3333333333333333,
           "#31688e"
          ],
          [
           0.4444444444444444,
           "#26828e"
          ],
          [
           0.5555555555555556,
           "#1f9e89"
          ],
          [
           0.6666666666666666,
           "#35b779"
          ],
          [
           0.7777777777777778,
           "#6ece58"
          ],
          [
           0.8888888888888888,
           "#b5de2b"
          ],
          [
           1,
           "#fde725"
          ]
         ],
         "locationmode": "USA-states",
         "locations": [
          "CO",
          "CT",
          "DE",
          "FL",
          "IA",
          "IN",
          "LA",
          "MA",
          "MD",
          "MI",
          "MN",
          "MO",
          "ND",
          "NH",
          "NJ",
          "NV",
          "NY",
          "OR",
          "RI",
          "UT",
          "VA",
          "VT",
          "WA",
          "WI",
          "WV",
          "WY"
         ],
         "name": "In-store",
         "showscale": true,
         "type": "choropleth",
         "visible": true,
         "z": [
          20475000,
          11030000,
          11988750,
          51805000.00000001,
          7238000,
          8612750,
          3393750,
          10553750,
          7563250,
          18153500,
          1838000,
          9437500,
          6742500,
          5621750,
          9682000,
          11558750.000000002,
          27362500.000000004,
          20336250,
          8049499.999999999,
          9232000,
          20556250,
          13679250,
          25676250.000000004,
          7531750,
          10420000,
          18105750
         ]
        },
        {
         "colorscale": [
          [
           0,
           "#440154"
          ],
          [
           0.1111111111111111,
           "#482878"
          ],
          [
           0.2222222222222222,
           "#3e4989"
          ],
          [
           0.3333333333333333,
           "#31688e"
          ],
          [
           0.4444444444444444,
           "#26828e"
          ],
          [
           0.5555555555555556,
           "#1f9e89"
          ],
          [
           0.6666666666666666,
           "#35b779"
          ],
          [
           0.7777777777777778,
           "#6ece58"
          ],
          [
           0.8888888888888888,
           "#b5de2b"
          ],
          [
           1,
           "#fde725"
          ]
         ],
         "locationmode": "USA-states",
         "locations": [
          "AK",
          "AL",
          "AR",
          "AZ",
          "CA",
          "CT",
          "FL",
          "GA",
          "HI",
          "ID",
          "IL",
          "LA",
          "MA",
          "ME",
          "MN",
          "MS",
          "MT",
          "NE",
          "NH",
          "NM",
          "NV",
          "NY",
          "OK",
          "OR",
          "PA",
          "RI",
          "TN",
          "TX",
          "UT",
          "VA",
          "VT"
         ],
         "name": "Outlet",
         "showscale": true,
         "type": "choropleth",
         "visible": false,
         "z": [
          14380750.000000002,
          17191868,
          284365,
          356709,
          58685388,
          259452,
          6002900,
          421647,
          21720000,
          436167,
          9548250,
          519208,
          246904,
          8962500,
          5355500,
          351185,
          15311250,
          5778000,
          10380394.000000002,
          440993,
          8778154,
          35277364,
          242624,
          482982,
          10102069,
          190686,
          17625079,
          45216267,
          224438,
          485229,
          327171
         ]
        },
        {
         "colorscale": [
          [
           0,
           "#440154"
          ],
          [
           0.1111111111111111,
           "#482878"
          ],
          [
           0.2222222222222222,
           "#3e4989"
          ],
          [
           0.3333333333333333,
           "#31688e"
          ],
          [
           0.4444444444444444,
           "#26828e"
          ],
          [
           0.5555555555555556,
           "#1f9e89"
          ],
          [
           0.6666666666666666,
           "#35b779"
          ],
          [
           0.7777777777777778,
           "#6ece58"
          ],
          [
           0.8888888888888888,
           "#b5de2b"
          ],
          [
           1,
           "#fde725"
          ]
         ],
         "locationmode": "USA-states",
         "locations": [
          "AK",
          "AL",
          "AR",
          "AZ",
          "CA",
          "CO",
          "CT",
          "DE",
          "FL",
          "GA",
          "HI",
          "IA",
          "ID",
          "IL",
          "IN",
          "KS",
          "KY",
          "LA",
          "MA",
          "MD",
          "ME",
          "MI",
          "MN",
          "MO",
          "MS",
          "MT",
          "NC",
          "ND",
          "NE",
          "NH",
          "NJ",
          "NM",
          "NV",
          "NY",
          "OH",
          "OK",
          "OR",
          "PA",
          "RI",
          "SC",
          "SD",
          "TN",
          "TX",
          "UT",
          "VA",
          "VT",
          "WA",
          "WI",
          "WV",
          "WY"
         ],
         "name": "Online",
         "showscale": true,
         "type": "choropleth",
         "visible": false,
         "z": [
          372353,
          441556,
          12354982,
          15425512.000000002,
          1488745,
          521536,
          283996,
          309662,
          1475814,
          18575819,
          562457,
          186011,
          18840711,
          249238,
          223448,
          9972864,
          10072848,
          19837823.000000004,
          276156,
          194809,
          233478,
          471933,
          184568,
          245765,
          15240524.000000002,
          399636,
          23956531,
          993080.0000000001,
          151038,
          409523,
          252246,
          19424023.000000004,
          521605,
          1589175,
          18484583,
          10378110,
          530442,
          255450,
          206620,
          29285637,
          8495576,
          442361,
          1143479,
          239982,
          533561,
          346502,
          654468,
          195719,
          269160,
          471767
         ]
        }
       ],
       "layout": {
        "geo": {
         "scope": "usa"
        },
        "template": {
         "data": {
          "bar": [
           {
            "error_x": {
             "color": "#2a3f5f"
            },
            "error_y": {
             "color": "#2a3f5f"
            },
            "marker": {
             "line": {
              "color": "#E5ECF6",
              "width": 0.5
             },
             "pattern": {
              "fillmode": "overlay",
              "size": 10,
              "solidity": 0.2
             }
            },
            "type": "bar"
           }
          ],
          "barpolar": [
           {
            "marker": {
             "line": {
              "color": "#E5ECF6",
              "width": 0.5
             },
             "pattern": {
              "fillmode": "overlay",
              "size": 10,
              "solidity": 0.2
             }
            },
            "type": "barpolar"
           }
          ],
          "carpet": [
           {
            "aaxis": {
             "endlinecolor": "#2a3f5f",
             "gridcolor": "white",
             "linecolor": "white",
             "minorgridcolor": "white",
             "startlinecolor": "#2a3f5f"
            },
            "baxis": {
             "endlinecolor": "#2a3f5f",
             "gridcolor": "white",
             "linecolor": "white",
             "minorgridcolor": "white",
             "startlinecolor": "#2a3f5f"
            },
            "type": "carpet"
           }
          ],
          "choropleth": [
           {
            "colorbar": {
             "outlinewidth": 0,
             "ticks": ""
            },
            "type": "choropleth"
           }
          ],
          "contour": [
           {
            "colorbar": {
             "outlinewidth": 0,
             "ticks": ""
            },
            "colorscale": [
             [
              0,
              "#0d0887"
             ],
             [
              0.1111111111111111,
              "#46039f"
             ],
             [
              0.2222222222222222,
              "#7201a8"
             ],
             [
              0.3333333333333333,
              "#9c179e"
             ],
             [
              0.4444444444444444,
              "#bd3786"
             ],
             [
              0.5555555555555556,
              "#d8576b"
             ],
             [
              0.6666666666666666,
              "#ed7953"
             ],
             [
              0.7777777777777778,
              "#fb9f3a"
             ],
             [
              0.8888888888888888,
              "#fdca26"
             ],
             [
              1,
              "#f0f921"
             ]
            ],
            "type": "contour"
           }
          ],
          "contourcarpet": [
           {
            "colorbar": {
             "outlinewidth": 0,
             "ticks": ""
            },
            "type": "contourcarpet"
           }
          ],
          "heatmap": [
           {
            "colorbar": {
             "outlinewidth": 0,
             "ticks": ""
            },
            "colorscale": [
             [
              0,
              "#0d0887"
             ],
             [
              0.1111111111111111,
              "#46039f"
             ],
             [
              0.2222222222222222,
              "#7201a8"
             ],
             [
              0.3333333333333333,
              "#9c179e"
             ],
             [
              0.4444444444444444,
              "#bd3786"
             ],
             [
              0.5555555555555556,
              "#d8576b"
             ],
             [
              0.6666666666666666,
              "#ed7953"
             ],
             [
              0.7777777777777778,
              "#fb9f3a"
             ],
             [
              0.8888888888888888,
              "#fdca26"
             ],
             [
              1,
              "#f0f921"
             ]
            ],
            "type": "heatmap"
           }
          ],
          "heatmapgl": [
           {
            "colorbar": {
             "outlinewidth": 0,
             "ticks": ""
            },
            "colorscale": [
             [
              0,
              "#0d0887"
             ],
             [
              0.1111111111111111,
              "#46039f"
             ],
             [
              0.2222222222222222,
              "#7201a8"
             ],
             [
              0.3333333333333333,
              "#9c179e"
             ],
             [
              0.4444444444444444,
              "#bd3786"
             ],
             [
              0.5555555555555556,
              "#d8576b"
             ],
             [
              0.6666666666666666,
              "#ed7953"
             ],
             [
              0.7777777777777778,
              "#fb9f3a"
             ],
             [
              0.8888888888888888,
              "#fdca26"
             ],
             [
              1,
              "#f0f921"
             ]
            ],
            "type": "heatmapgl"
           }
          ],
          "histogram": [
           {
            "marker": {
             "pattern": {
              "fillmode": "overlay",
              "size": 10,
              "solidity": 0.2
             }
            },
            "type": "histogram"
           }
          ],
          "histogram2d": [
           {
            "colorbar": {
             "outlinewidth": 0,
             "ticks": ""
            },
            "colorscale": [
             [
              0,
              "#0d0887"
             ],
             [
              0.1111111111111111,
              "#46039f"
             ],
             [
              0.2222222222222222,
              "#7201a8"
             ],
             [
              0.3333333333333333,
              "#9c179e"
             ],
             [
              0.4444444444444444,
              "#bd3786"
             ],
             [
              0.5555555555555556,
              "#d8576b"
             ],
             [
              0.6666666666666666,
              "#ed7953"
             ],
             [
              0.7777777777777778,
              "#fb9f3a"
             ],
             [
              0.8888888888888888,
              "#fdca26"
             ],
             [
              1,
              "#f0f921"
             ]
            ],
            "type": "histogram2d"
           }
          ],
          "histogram2dcontour": [
           {
            "colorbar": {
             "outlinewidth": 0,
             "ticks": ""
            },
            "colorscale": [
             [
              0,
              "#0d0887"
             ],
             [
              0.1111111111111111,
              "#46039f"
             ],
             [
              0.2222222222222222,
              "#7201a8"
             ],
             [
              0.3333333333333333,
              "#9c179e"
             ],
             [
              0.4444444444444444,
              "#bd3786"
             ],
             [
              0.5555555555555556,
              "#d8576b"
             ],
             [
              0.6666666666666666,
              "#ed7953"
             ],
             [
              0.7777777777777778,
              "#fb9f3a"
             ],
             [
              0.8888888888888888,
              "#fdca26"
             ],
             [
              1,
              "#f0f921"
             ]
            ],
            "type": "histogram2dcontour"
           }
          ],
          "mesh3d": [
           {
            "colorbar": {
             "outlinewidth": 0,
             "ticks": ""
            },
            "type": "mesh3d"
           }
          ],
          "parcoords": [
           {
            "line": {
             "colorbar": {
              "outlinewidth": 0,
              "ticks": ""
             }
            },
            "type": "parcoords"
           }
          ],
          "pie": [
           {
            "automargin": true,
            "type": "pie"
           }
          ],
          "scatter": [
           {
            "fillpattern": {
             "fillmode": "overlay",
             "size": 10,
             "solidity": 0.2
            },
            "type": "scatter"
           }
          ],
          "scatter3d": [
           {
            "line": {
             "colorbar": {
              "outlinewidth": 0,
              "ticks": ""
             }
            },
            "marker": {
             "colorbar": {
              "outlinewidth": 0,
              "ticks": ""
             }
            },
            "type": "scatter3d"
           }
          ],
          "scattercarpet": [
           {
            "marker": {
             "colorbar": {
              "outlinewidth": 0,
              "ticks": ""
             }
            },
            "type": "scattercarpet"
           }
          ],
          "scattergeo": [
           {
            "marker": {
             "colorbar": {
              "outlinewidth": 0,
              "ticks": ""
             }
            },
            "type": "scattergeo"
           }
          ],
          "scattergl": [
           {
            "marker": {
             "colorbar": {
              "outlinewidth": 0,
              "ticks": ""
             }
            },
            "type": "scattergl"
           }
          ],
          "scattermapbox": [
           {
            "marker": {
             "colorbar": {
              "outlinewidth": 0,
              "ticks": ""
             }
            },
            "type": "scattermapbox"
           }
          ],
          "scatterpolar": [
           {
            "marker": {
             "colorbar": {
              "outlinewidth": 0,
              "ticks": ""
             }
            },
            "type": "scatterpolar"
           }
          ],
          "scatterpolargl": [
           {
            "marker": {
             "colorbar": {
              "outlinewidth": 0,
              "ticks": ""
             }
            },
            "type": "scatterpolargl"
           }
          ],
          "scatterternary": [
           {
            "marker": {
             "colorbar": {
              "outlinewidth": 0,
              "ticks": ""
             }
            },
            "type": "scatterternary"
           }
          ],
          "surface": [
           {
            "colorbar": {
             "outlinewidth": 0,
             "ticks": ""
            },
            "colorscale": [
             [
              0,
              "#0d0887"
             ],
             [
              0.1111111111111111,
              "#46039f"
             ],
             [
              0.2222222222222222,
              "#7201a8"
             ],
             [
              0.3333333333333333,
              "#9c179e"
             ],
             [
              0.4444444444444444,
              "#bd3786"
             ],
             [
              0.5555555555555556,
              "#d8576b"
             ],
             [
              0.6666666666666666,
              "#ed7953"
             ],
             [
              0.7777777777777778,
              "#fb9f3a"
             ],
             [
              0.8888888888888888,
              "#fdca26"
             ],
             [
              1,
              "#f0f921"
             ]
            ],
            "type": "surface"
           }
          ],
          "table": [
           {
            "cells": {
             "fill": {
              "color": "#EBF0F8"
             },
             "line": {
              "color": "white"
             }
            },
            "header": {
             "fill": {
              "color": "#C8D4E3"
             },
             "line": {
              "color": "white"
             }
            },
            "type": "table"
           }
          ]
         },
         "layout": {
          "annotationdefaults": {
           "arrowcolor": "#2a3f5f",
           "arrowhead": 0,
           "arrowwidth": 1
          },
          "autotypenumbers": "strict",
          "coloraxis": {
           "colorbar": {
            "outlinewidth": 0,
            "ticks": ""
           }
          },
          "colorscale": {
           "diverging": [
            [
             0,
             "#8e0152"
            ],
            [
             0.1,
             "#c51b7d"
            ],
            [
             0.2,
             "#de77ae"
            ],
            [
             0.3,
             "#f1b6da"
            ],
            [
             0.4,
             "#fde0ef"
            ],
            [
             0.5,
             "#f7f7f7"
            ],
            [
             0.6,
             "#e6f5d0"
            ],
            [
             0.7,
             "#b8e186"
            ],
            [
             0.8,
             "#7fbc41"
            ],
            [
             0.9,
             "#4d9221"
            ],
            [
             1,
             "#276419"
            ]
           ],
           "sequential": [
            [
             0,
             "#0d0887"
            ],
            [
             0.1111111111111111,
             "#46039f"
            ],
            [
             0.2222222222222222,
             "#7201a8"
            ],
            [
             0.3333333333333333,
             "#9c179e"
            ],
            [
             0.4444444444444444,
             "#bd3786"
            ],
            [
             0.5555555555555556,
             "#d8576b"
            ],
            [
             0.6666666666666666,
             "#ed7953"
            ],
            [
             0.7777777777777778,
             "#fb9f3a"
            ],
            [
             0.8888888888888888,
             "#fdca26"
            ],
            [
             1,
             "#f0f921"
            ]
           ],
           "sequentialminus": [
            [
             0,
             "#0d0887"
            ],
            [
             0.1111111111111111,
             "#46039f"
            ],
            [
             0.2222222222222222,
             "#7201a8"
            ],
            [
             0.3333333333333333,
             "#9c179e"
            ],
            [
             0.4444444444444444,
             "#bd3786"
            ],
            [
             0.5555555555555556,
             "#d8576b"
            ],
            [
             0.6666666666666666,
             "#ed7953"
            ],
            [
             0.7777777777777778,
             "#fb9f3a"
            ],
            [
             0.8888888888888888,
             "#fdca26"
            ],
            [
             1,
             "#f0f921"
            ]
           ]
          },
          "colorway": [
           "#636efa",
           "#EF553B",
           "#00cc96",
           "#ab63fa",
           "#FFA15A",
           "#19d3f3",
           "#FF6692",
           "#B6E880",
           "#FF97FF",
           "#FECB52"
          ],
          "font": {
           "color": "#2a3f5f"
          },
          "geo": {
           "bgcolor": "white",
           "lakecolor": "white",
           "landcolor": "#E5ECF6",
           "showlakes": true,
           "showland": true,
           "subunitcolor": "white"
          },
          "hoverlabel": {
           "align": "left"
          },
          "hovermode": "closest",
          "mapbox": {
           "style": "light"
          },
          "paper_bgcolor": "white",
          "plot_bgcolor": "#E5ECF6",
          "polar": {
           "angularaxis": {
            "gridcolor": "white",
            "linecolor": "white",
            "ticks": ""
           },
           "bgcolor": "#E5ECF6",
           "radialaxis": {
            "gridcolor": "white",
            "linecolor": "white",
            "ticks": ""
           }
          },
          "scene": {
           "xaxis": {
            "backgroundcolor": "#E5ECF6",
            "gridcolor": "white",
            "gridwidth": 2,
            "linecolor": "white",
            "showbackground": true,
            "ticks": "",
            "zerolinecolor": "white"
           },
           "yaxis": {
            "backgroundcolor": "#E5ECF6",
            "gridcolor": "white",
            "gridwidth": 2,
            "linecolor": "white",
            "showbackground": true,
            "ticks": "",
            "zerolinecolor": "white"
           },
           "zaxis": {
            "backgroundcolor": "#E5ECF6",
            "gridcolor": "white",
            "gridwidth": 2,
            "linecolor": "white",
            "showbackground": true,
            "ticks": "",
            "zerolinecolor": "white"
           }
          },
          "shapedefaults": {
           "line": {
            "color": "#2a3f5f"
           }
          },
          "ternary": {
           "aaxis": {
            "gridcolor": "white",
            "linecolor": "white",
            "ticks": ""
           },
           "baxis": {
            "gridcolor": "white",
            "linecolor": "white",
            "ticks": ""
           },
           "bgcolor": "#E5ECF6",
           "caxis": {
            "gridcolor": "white",
            "linecolor": "white",
            "ticks": ""
           }
          },
          "title": {
           "x": 0.05
          },
          "xaxis": {
           "automargin": true,
           "gridcolor": "white",
           "linecolor": "white",
           "ticks": "",
           "title": {
            "standoff": 15
           },
           "zerolinecolor": "white",
           "zerolinewidth": 2
          },
          "yaxis": {
           "automargin": true,
           "gridcolor": "white",
           "linecolor": "white",
           "ticks": "",
           "title": {
            "standoff": 15
           },
           "zerolinecolor": "white",
           "zerolinewidth": 2
          }
         }
        },
        "title": {
         "text": "Total Sales by State and Sales Method"
        },
        "updatemenus": [
         {
          "buttons": [
           {
            "args": [
             {
              "visible": [
               true,
               false,
               false
              ]
             }
            ],
            "label": "In-store",
            "method": "update"
           },
           {
            "args": [
             {
              "visible": [
               false,
               true,
               false
              ]
             }
            ],
            "label": "Outlet",
            "method": "update"
           },
           {
            "args": [
             {
              "visible": [
               false,
               false,
               true
              ]
             }
            ],
            "label": "Online",
            "method": "update"
           }
          ]
         }
        ]
       }
      }
     },
     "metadata": {},
     "output_type": "display_data"
    }
   ],
   "source": [
    "import plotly.graph_objs as go\n",
    "\n",
    "# Removing currency symbols and converting 'Total Sales' to numeric\n",
    "df['Total Sales'] = df['Total Sales'].replace('[\\$,]', '', regex=True).astype(float)\n",
    "\n",
    "# Initialize the figure\n",
    "fig = go.Figure()\n",
    "\n",
    "# List of unique sales methods\n",
    "sales_methods = df['Sales Method'].unique()\n",
    "\n",
    "# Add traces, one for each sales method\n",
    "for method in sales_methods:\n",
    "    filtered_df = df[df['Sales Method'] == method]\n",
    "    state_sales = filtered_df.groupby('State Abbreviation')['Total Sales'].sum().reset_index()\n",
    "    \n",
    "    fig.add_trace(\n",
    "        go.Choropleth(\n",
    "            locations=state_sales['State Abbreviation'], \n",
    "            z=state_sales['Total Sales'], \n",
    "            locationmode='USA-states', \n",
    "            colorscale='Viridis',\n",
    "            name=method,\n",
    "            showscale=True,\n",
    "            visible=(method == sales_methods[0])  # Only the first method is visible initially\n",
    "        )\n",
    "    )\n",
    "\n",
    "# Update layout with dropdown menu\n",
    "dropdown_buttons = [\n",
    "    {'label': method, 'method': 'update', 'args': [{'visible': [method==m for m in sales_methods]}]}\n",
    "    for method in sales_methods\n",
    "]\n",
    "\n",
    "fig.update_layout(\n",
    "    updatemenus=[{'buttons': dropdown_buttons}],\n",
    "    geo=dict(scope='usa'),\n",
    "    title=\"Total Sales by State and Sales Method\"\n",
    ")\n",
    "\n",
    "fig.show()\n"
   ]
  },
  {
   "cell_type": "markdown",
   "id": "4a66c465",
   "metadata": {},
   "source": [
    "##### 4.3 Combining the above 2 and creating a \"Total Sales by State, Product, and Sales Method\""
   ]
  },
  {
   "cell_type": "code",
   "execution_count": 28,
   "id": "d9e9846d",
   "metadata": {},
   "outputs": [
    {
     "data": {
      "application/vnd.plotly.v1+json": {
       "config": {
        "plotlyServerURL": "https://plot.ly"
       },
       "data": [
        {
         "colorscale": [
          [
           0,
           "#440154"
          ],
          [
           0.1111111111111111,
           "#482878"
          ],
          [
           0.2222222222222222,
           "#3e4989"
          ],
          [
           0.3333333333333333,
           "#31688e"
          ],
          [
           0.4444444444444444,
           "#26828e"
          ],
          [
           0.5555555555555556,
           "#1f9e89"
          ],
          [
           0.6666666666666666,
           "#35b779"
          ],
          [
           0.7777777777777778,
           "#6ece58"
          ],
          [
           0.8888888888888888,
           "#b5de2b"
          ],
          [
           1,
           "#fde725"
          ]
         ],
         "locationmode": "USA-states",
         "locations": [
          "CO",
          "CT",
          "DE",
          "FL",
          "IA",
          "IN",
          "LA",
          "MA",
          "MD",
          "MI",
          "MN",
          "MO",
          "ND",
          "NH",
          "NJ",
          "NV",
          "NY",
          "OR",
          "RI",
          "UT",
          "VA",
          "VT",
          "WA",
          "WI",
          "WV",
          "WY"
         ],
         "name": "Men's Street Footwear - In-store",
         "showscale": true,
         "type": "choropleth",
         "visible": true,
         "z": [
          4083750.0000000005,
          3262749.9999999995,
          3433999.9999999995,
          10617500,
          2348500,
          2642000,
          746250,
          3202750,
          2640750,
          4412000,
          735500,
          2667500,
          2209500,
          1840500,
          2973249.9999999995,
          2022500.0000000002,
          6851250,
          3996250,
          2685749.9999999995,
          2413000,
          4223750,
          3929750,
          5286250,
          2423500,
          2939250,
          4264250
         ]
        },
        {
         "colorscale": [
          [
           0,
           "#440154"
          ],
          [
           0.1111111111111111,
           "#482878"
          ],
          [
           0.2222222222222222,
           "#3e4989"
          ],
          [
           0.3333333333333333,
           "#31688e"
          ],
          [
           0.4444444444444444,
           "#26828e"
          ],
          [
           0.5555555555555556,
           "#1f9e89"
          ],
          [
           0.6666666666666666,
           "#35b779"
          ],
          [
           0.7777777777777778,
           "#6ece58"
          ],
          [
           0.8888888888888888,
           "#b5de2b"
          ],
          [
           1,
           "#fde725"
          ]
         ],
         "locationmode": "USA-states",
         "locations": [
          "AK",
          "AL",
          "AR",
          "AZ",
          "CA",
          "CT",
          "FL",
          "GA",
          "HI",
          "ID",
          "IL",
          "LA",
          "MA",
          "ME",
          "MN",
          "MS",
          "MT",
          "NE",
          "NH",
          "NM",
          "NV",
          "NY",
          "OK",
          "OR",
          "PA",
          "RI",
          "TN",
          "TX",
          "UT",
          "VA",
          "VT"
         ],
         "name": "Men's Street Footwear - Outlet",
         "showscale": true,
         "type": "choropleth",
         "visible": false,
         "z": [
          4281500,
          2886238,
          74597,
          75179,
          10592715,
          77949,
          1642508,
          89696,
          4411250,
          72753,
          3008250,
          101067,
          75832,
          2891500,
          1702500,
          85864,
          2938750,
          2075750,
          2629531.0000000005,
          87080,
          2057105,
          6862621,
          67688,
          97229,
          3315757,
          62431,
          2987784,
          7629708,
          58983,
          99032,
          91089
         ]
        },
        {
         "colorscale": [
          [
           0,
           "#440154"
          ],
          [
           0.1111111111111111,
           "#482878"
          ],
          [
           0.2222222222222222,
           "#3e4989"
          ],
          [
           0.3333333333333333,
           "#31688e"
          ],
          [
           0.4444444444444444,
           "#26828e"
          ],
          [
           0.5555555555555556,
           "#1f9e89"
          ],
          [
           0.6666666666666666,
           "#35b779"
          ],
          [
           0.7777777777777778,
           "#6ece58"
          ],
          [
           0.8888888888888888,
           "#b5de2b"
          ],
          [
           1,
           "#fde725"
          ]
         ],
         "locationmode": "USA-states",
         "locations": [
          "AK",
          "AL",
          "AR",
          "AZ",
          "CA",
          "CO",
          "CT",
          "DE",
          "FL",
          "GA",
          "HI",
          "IA",
          "ID",
          "IL",
          "IN",
          "KS",
          "KY",
          "LA",
          "MA",
          "MD",
          "ME",
          "MI",
          "MN",
          "MO",
          "MS",
          "MT",
          "NC",
          "ND",
          "NE",
          "NH",
          "NJ",
          "NM",
          "NV",
          "NY",
          "OH",
          "OK",
          "OR",
          "PA",
          "RI",
          "SC",
          "SD",
          "TN",
          "TX",
          "UT",
          "VA",
          "VT",
          "WA",
          "WI",
          "WV",
          "WY"
         ],
         "name": "Men's Street Footwear - Online",
         "showscale": true,
         "type": "choropleth",
         "visible": false,
         "z": [
          110434,
          73443,
          3208460,
          3125262,
          269248,
          100068,
          82040,
          88197,
          308309,
          3923152.0000000005,
          113618,
          60407,
          3172241,
          79701,
          67332,
          2883508,
          3098870,
          3699590,
          84000,
          67534,
          76382,
          114962,
          60746,
          70257,
          3747041,
          78545,
          5438257,
          348300.00000000006,
          55324,
          114017,
          76825,
          3805073.0000000005,
          106555,
          342775,
          4464402,
          2872549,
          102456,
          85454,
          66370,
          6465330,
          2812070,
          74840,
          189442,
          62760,
          112832,
          99798,
          135307,
          63506,
          74922,
          111797
         ]
        },
        {
         "colorscale": [
          [
           0,
           "#440154"
          ],
          [
           0.1111111111111111,
           "#482878"
          ],
          [
           0.2222222222222222,
           "#3e4989"
          ],
          [
           0.3333333333333333,
           "#31688e"
          ],
          [
           0.4444444444444444,
           "#26828e"
          ],
          [
           0.5555555555555556,
           "#1f9e89"
          ],
          [
           0.6666666666666666,
           "#35b779"
          ],
          [
           0.7777777777777778,
           "#6ece58"
          ],
          [
           0.8888888888888888,
           "#b5de2b"
          ],
          [
           1,
           "#fde725"
          ]
         ],
         "locationmode": "USA-states",
         "locations": [
          "CO",
          "CT",
          "DE",
          "FL",
          "IA",
          "IN",
          "LA",
          "MA",
          "MD",
          "MI",
          "MN",
          "MO",
          "ND",
          "NH",
          "NJ",
          "NV",
          "NY",
          "OR",
          "RI",
          "UT",
          "VA",
          "VT",
          "WA",
          "WI",
          "WV",
          "WY"
         ],
         "name": "Men's Athletic Footwear - In-store",
         "showscale": true,
         "type": "choropleth",
         "visible": false,
         "z": [
          3937500.0000000005,
          1677500,
          1836250,
          9010000.000000002,
          1061250.0000000002,
          1273750.0000000002,
          585000,
          1610000,
          1168750,
          2825000.0000000005,
          210000,
          1436250.0000000002,
          1013750.0000000001,
          697500,
          1488750,
          2185000.0000000005,
          4232500.000000001,
          3976250.0000000005,
          1226250,
          1450000.0000000002,
          3966250.0000000005,
          2133750,
          4910000.000000001,
          1113750,
          1496250.0000000002,
          2827500.0000000005
         ]
        },
        {
         "colorscale": [
          [
           0,
           "#440154"
          ],
          [
           0.1111111111111111,
           "#482878"
          ],
          [
           0.2222222222222222,
           "#3e4989"
          ],
          [
           0.3333333333333333,
           "#31688e"
          ],
          [
           0.4444444444444444,
           "#26828e"
          ],
          [
           0.5555555555555556,
           "#1f9e89"
          ],
          [
           0.6666666666666666,
           "#35b779"
          ],
          [
           0.7777777777777778,
           "#6ece58"
          ],
          [
           0.8888888888888888,
           "#b5de2b"
          ],
          [
           1,
           "#fde725"
          ]
         ],
         "locationmode": "USA-states",
         "locations": [
          "AK",
          "AL",
          "AR",
          "AZ",
          "CA",
          "CT",
          "FL",
          "GA",
          "HI",
          "ID",
          "IL",
          "LA",
          "MA",
          "ME",
          "MN",
          "MS",
          "MT",
          "NE",
          "NH",
          "NM",
          "NV",
          "NY",
          "OK",
          "OR",
          "PA",
          "RI",
          "TN",
          "TX",
          "UT",
          "VA",
          "VT"
         ],
         "name": "Men's Athletic Footwear - Outlet",
         "showscale": true,
         "type": "choropleth",
         "visible": false,
         "z": [
          2466250.0000000005,
          3169247.0000000005,
          40632,
          67460,
          10643905,
          39939,
          878484,
          79213,
          4232500,
          81825,
          1521250,
          100272,
          37296,
          1406250,
          927500,
          53418,
          2973750,
          918750,
          1775928.0000000002,
          82725,
          1741570,
          5644948.000000001,
          34435,
          92591,
          1596046.0000000002,
          30550,
          3290647,
          8502705,
          36002,
          89832,
          53401
         ]
        },
        {
         "colorscale": [
          [
           0,
           "#440154"
          ],
          [
           0.1111111111111111,
           "#482878"
          ],
          [
           0.2222222222222222,
           "#3e4989"
          ],
          [
           0.3333333333333333,
           "#31688e"
          ],
          [
           0.4444444444444444,
           "#26828e"
          ],
          [
           0.5555555555555556,
           "#1f9e89"
          ],
          [
           0.6666666666666666,
           "#35b779"
          ],
          [
           0.7777777777777778,
           "#6ece58"
          ],
          [
           0.8888888888888888,
           "#b5de2b"
          ],
          [
           1,
           "#fde725"
          ]
         ],
         "locationmode": "USA-states",
         "locations": [
          "AK",
          "AL",
          "AR",
          "AZ",
          "CA",
          "CO",
          "CT",
          "DE",
          "FL",
          "GA",
          "HI",
          "IA",
          "ID",
          "IL",
          "IN",
          "KS",
          "KY",
          "LA",
          "MA",
          "MD",
          "ME",
          "MI",
          "MN",
          "MO",
          "MS",
          "MT",
          "NC",
          "ND",
          "NE",
          "NH",
          "NJ",
          "NM",
          "NV",
          "NY",
          "OH",
          "OK",
          "OR",
          "PA",
          "RI",
          "SC",
          "SD",
          "TN",
          "TX",
          "UT",
          "VA",
          "VT",
          "WA",
          "WI",
          "WV",
          "WY"
         ],
         "name": "Men's Athletic Footwear - Online",
         "showscale": true,
         "type": "choropleth",
         "visible": false,
         "z": [
          62479,
          81987,
          1820218.0000000002,
          3037241.0000000005,
          274934,
          102315,
          42978,
          47909,
          247800,
          3591537.0000000005,
          110455,
          27587,
          3519938,
          39020,
          33089,
          1469278.0000000002,
          1576409.0000000002,
          3922059.0000000005,
          42620,
          29970,
          37483,
          75751,
          29762,
          36182,
          2287737.0000000005,
          77354,
          3678426.0000000005,
          134012,
          24233,
          63860,
          39323,
          3720405.0000000005,
          102169,
          253676,
          2770609.0000000005,
          1528435.0000000002,
          105737,
          40387,
          31026,
          4556660.000000001,
          1284513,
          83422,
          210331,
          38487,
          102409,
          53024,
          127103,
          29149,
          40123,
          73998
         ]
        },
        {
         "colorscale": [
          [
           0,
           "#440154"
          ],
          [
           0.1111111111111111,
           "#482878"
          ],
          [
           0.2222222222222222,
           "#3e4989"
          ],
          [
           0.3333333333333333,
           "#31688e"
          ],
          [
           0.4444444444444444,
           "#26828e"
          ],
          [
           0.5555555555555556,
           "#1f9e89"
          ],
          [
           0.6666666666666666,
           "#35b779"
          ],
          [
           0.7777777777777778,
           "#6ece58"
          ],
          [
           0.8888888888888888,
           "#b5de2b"
          ],
          [
           1,
           "#fde725"
          ]
         ],
         "locationmode": "USA-states",
         "locations": [
          "CO",
          "CT",
          "DE",
          "FL",
          "IA",
          "IN",
          "LA",
          "MA",
          "MD",
          "MI",
          "MN",
          "MO",
          "ND",
          "NH",
          "NJ",
          "NV",
          "NY",
          "OR",
          "RI",
          "UT",
          "VA",
          "VT",
          "WA",
          "WI",
          "WV",
          "WY"
         ],
         "name": "Women's Street Footwear - In-store",
         "showscale": true,
         "type": "choropleth",
         "visible": false,
         "z": [
          3307500,
          1327250,
          1464750,
          7522500.000000001,
          740750.0000000001,
          932000.0000000001,
          646250,
          1267250,
          842500,
          2266500,
          182500,
          1050000.0000000002,
          715500,
          591250,
          1157500,
          1903750.0000000002,
          3518750.0000000005,
          3398750,
          927500,
          1134000.0000000002,
          3301250,
          1737000,
          4123750.0000000005,
          783250,
          1145750,
          2361500
         ]
        },
        {
         "colorscale": [
          [
           0,
           "#440154"
          ],
          [
           0.1111111111111111,
           "#482878"
          ],
          [
           0.2222222222222222,
           "#3e4989"
          ],
          [
           0.3333333333333333,
           "#31688e"
          ],
          [
           0.4444444444444444,
           "#26828e"
          ],
          [
           0.5555555555555556,
           "#1f9e89"
          ],
          [
           0.6666666666666666,
           "#35b779"
          ],
          [
           0.7777777777777778,
           "#6ece58"
          ],
          [
           0.8888888888888888,
           "#b5de2b"
          ],
          [
           1,
           "#fde725"
          ]
         ],
         "locationmode": "USA-states",
         "locations": [
          "AK",
          "AL",
          "AR",
          "AZ",
          "CA",
          "CT",
          "FL",
          "GA",
          "HI",
          "ID",
          "IL",
          "LA",
          "MA",
          "ME",
          "MN",
          "MS",
          "MT",
          "NE",
          "NH",
          "NM",
          "NV",
          "NY",
          "OK",
          "OR",
          "PA",
          "RI",
          "TN",
          "TX",
          "UT",
          "VA",
          "VT"
         ],
         "name": "Women's Street Footwear - Outlet",
         "showscale": true,
         "type": "choropleth",
         "visible": false,
         "z": [
          1860500.0000000002,
          3081969,
          32285,
          59659,
          9303923,
          31418,
          937641,
          65457,
          3540000,
          78307,
          1131250,
          80408,
          28379,
          1086000,
          686750,
          41319,
          2426250,
          639750,
          1470688.0000000002,
          71013,
          1363936,
          4844991,
          26976,
          81061,
          1254271,
          22297,
          3102651,
          7933231,
          26824,
          76693,
          40318
         ]
        },
        {
         "colorscale": [
          [
           0,
           "#440154"
          ],
          [
           0.1111111111111111,
           "#482878"
          ],
          [
           0.2222222222222222,
           "#3e4989"
          ],
          [
           0.3333333333333333,
           "#31688e"
          ],
          [
           0.4444444444444444,
           "#26828e"
          ],
          [
           0.5555555555555556,
           "#1f9e89"
          ],
          [
           0.6666666666666666,
           "#35b779"
          ],
          [
           0.7777777777777778,
           "#6ece58"
          ],
          [
           0.8888888888888888,
           "#b5de2b"
          ],
          [
           1,
           "#fde725"
          ]
         ],
         "locationmode": "USA-states",
         "locations": [
          "AK",
          "AL",
          "AR",
          "AZ",
          "CA",
          "CO",
          "CT",
          "DE",
          "FL",
          "GA",
          "HI",
          "IA",
          "ID",
          "IL",
          "IN",
          "KS",
          "KY",
          "LA",
          "MA",
          "MD",
          "ME",
          "MI",
          "MN",
          "MO",
          "MS",
          "MT",
          "NC",
          "ND",
          "NE",
          "NH",
          "NJ",
          "NM",
          "NV",
          "NY",
          "OH",
          "OK",
          "OR",
          "PA",
          "RI",
          "SC",
          "SD",
          "TN",
          "TX",
          "UT",
          "VA",
          "VT",
          "WA",
          "WI",
          "WV",
          "WY"
         ],
         "name": "Women's Street Footwear - Online",
         "showscale": true,
         "type": "choropleth",
         "visible": false,
         "z": [
          48403,
          78130,
          1392365.0000000002,
          2525246.0000000005,
          236523,
          85453,
          33706,
          37547,
          218342,
          2891056.0000000005,
          90409,
          19471,
          3431862,
          29532,
          24198,
          1116162.0000000002,
          1161721.0000000002,
          3148035.0000000005,
          31699,
          22103,
          28148,
          59450,
          21927,
          28374,
          1793316.0000000002,
          64025,
          3039971.0000000005,
          95689.00000000001,
          16696,
          54495,
          29933,
          3119064.0000000005,
          82879,
          214248,
          2262726.0000000005,
          1142110.0000000002,
          90225,
          30698,
          25101,
          3817906.0000000005,
          931671,
          78743,
          199309,
          29391,
          86997,
          45603,
          105542,
          20477,
          30030,
          60641
         ]
        },
        {
         "colorscale": [
          [
           0,
           "#440154"
          ],
          [
           0.1111111111111111,
           "#482878"
          ],
          [
           0.2222222222222222,
           "#3e4989"
          ],
          [
           0.3333333333333333,
           "#31688e"
          ],
          [
           0.4444444444444444,
           "#26828e"
          ],
          [
           0.5555555555555556,
           "#1f9e89"
          ],
          [
           0.6666666666666666,
           "#35b779"
          ],
          [
           0.7777777777777778,
           "#6ece58"
          ],
          [
           0.8888888888888888,
           "#b5de2b"
          ],
          [
           1,
           "#fde725"
          ]
         ],
         "locationmode": "USA-states",
         "locations": [
          "CO",
          "CT",
          "DE",
          "FL",
          "IA",
          "IN",
          "LA",
          "MA",
          "MD",
          "MI",
          "MN",
          "MO",
          "ND",
          "NH",
          "NJ",
          "NV",
          "NY",
          "OR",
          "RI",
          "UT",
          "VA",
          "VT",
          "WA",
          "WI",
          "WV",
          "WY"
         ],
         "name": "Women's Athletic Footwear - In-store",
         "showscale": true,
         "type": "choropleth",
         "visible": false,
         "z": [
          2730000,
          1072500,
          1211250,
          6582500.000000001,
          575000,
          741250,
          533750,
          1093750,
          558750,
          2110000,
          60000,
          887500.0000000001,
          532500,
          566250,
          880000,
          1663750,
          3282500,
          2620000,
          642500,
          865000.0000000001,
          2627500,
          1378750,
          3497500,
          611250,
          1025000,
          2171250
         ]
        },
        {
         "colorscale": [
          [
           0,
           "#440154"
          ],
          [
           0.1111111111111111,
           "#482878"
          ],
          [
           0.2222222222222222,
           "#3e4989"
          ],
          [
           0.3333333333333333,
           "#31688e"
          ],
          [
           0.4444444444444444,
           "#26828e"
          ],
          [
           0.5555555555555556,
           "#1f9e89"
          ],
          [
           0.6666666666666666,
           "#35b779"
          ],
          [
           0.7777777777777778,
           "#6ece58"
          ],
          [
           0.8888888888888888,
           "#b5de2b"
          ],
          [
           1,
           "#fde725"
          ]
         ],
         "locationmode": "USA-states",
         "locations": [
          "AK",
          "AL",
          "AR",
          "AZ",
          "CA",
          "CT",
          "FL",
          "GA",
          "HI",
          "ID",
          "IL",
          "LA",
          "MA",
          "ME",
          "MN",
          "MS",
          "MT",
          "NE",
          "NH",
          "NM",
          "NV",
          "NY",
          "OK",
          "OR",
          "PA",
          "RI",
          "TN",
          "TX",
          "UT",
          "VA",
          "VT"
         ],
         "name": "Women's Athletic Footwear - Outlet",
         "showscale": true,
         "type": "choropleth",
         "visible": false,
         "z": [
          1333750.0000000002,
          2216720,
          30833,
          42627,
          8014099,
          24899,
          775007,
          52659,
          2812500,
          56635,
          901250,
          70522,
          25919,
          781250,
          526250,
          39814,
          1980000,
          453750,
          1120133.0000000002,
          56370,
          963548,
          4692374,
          25991,
          61632,
          903469.0000000001,
          15005,
          2249858,
          6174511,
          20215,
          62925,
          33914
         ]
        },
        {
         "colorscale": [
          [
           0,
           "#440154"
          ],
          [
           0.1111111111111111,
           "#482878"
          ],
          [
           0.2222222222222222,
           "#3e4989"
          ],
          [
           0.3333333333333333,
           "#31688e"
          ],
          [
           0.4444444444444444,
           "#26828e"
          ],
          [
           0.5555555555555556,
           "#1f9e89"
          ],
          [
           0.6666666666666666,
           "#35b779"
          ],
          [
           0.7777777777777778,
           "#6ece58"
          ],
          [
           0.8888888888888888,
           "#b5de2b"
          ],
          [
           1,
           "#fde725"
          ]
         ],
         "locationmode": "USA-states",
         "locations": [
          "AK",
          "AL",
          "AR",
          "AZ",
          "CA",
          "CO",
          "CT",
          "DE",
          "FL",
          "GA",
          "HI",
          "IA",
          "ID",
          "IL",
          "IN",
          "KS",
          "KY",
          "LA",
          "MA",
          "MD",
          "ME",
          "MI",
          "MN",
          "MO",
          "MS",
          "MT",
          "NC",
          "ND",
          "NE",
          "NH",
          "NJ",
          "NM",
          "NV",
          "NY",
          "OH",
          "OK",
          "OR",
          "PA",
          "RI",
          "SC",
          "SD",
          "TN",
          "TX",
          "UT",
          "VA",
          "VT",
          "WA",
          "WI",
          "WV",
          "WY"
         ],
         "name": "Women's Athletic Footwear - Online",
         "showscale": true,
         "type": "choropleth",
         "visible": false,
         "z": [
          34764,
          57838,
          1359919.0000000002,
          1908576.0000000002,
          207325,
          69988,
          28521,
          31330,
          194379,
          2288173,
          72258,
          14654,
          2482491,
          23549,
          20133,
          980045.0000000001,
          905788,
          2592894.0000000005,
          28259,
          14489,
          19656,
          56103,
          15979,
          22598,
          1784091.0000000002,
          50648,
          3002325,
          83334,
          11927,
          42022,
          22362,
          2526422.0000000005,
          66351,
          199185,
          2235911,
          1068832,
          70573,
          23307,
          17553,
          3744447.0000000005,
          685516,
          55613,
          159536,
          22545,
          67095,
          34773,
          89806,
          16021,
          26468,
          57095
         ]
        },
        {
         "colorscale": [
          [
           0,
           "#440154"
          ],
          [
           0.1111111111111111,
           "#482878"
          ],
          [
           0.2222222222222222,
           "#3e4989"
          ],
          [
           0.3333333333333333,
           "#31688e"
          ],
          [
           0.4444444444444444,
           "#26828e"
          ],
          [
           0.5555555555555556,
           "#1f9e89"
          ],
          [
           0.6666666666666666,
           "#35b779"
          ],
          [
           0.7777777777777778,
           "#6ece58"
          ],
          [
           0.8888888888888888,
           "#b5de2b"
          ],
          [
           1,
           "#fde725"
          ]
         ],
         "locationmode": "USA-states",
         "locations": [
          "CO",
          "CT",
          "DE",
          "FL",
          "IA",
          "IN",
          "LA",
          "MA",
          "MD",
          "MI",
          "MN",
          "MO",
          "ND",
          "NH",
          "NJ",
          "NV",
          "NY",
          "OR",
          "RI",
          "UT",
          "VA",
          "VT",
          "WA",
          "WI",
          "WV",
          "WY"
         ],
         "name": "Men's Apparel - In-store",
         "showscale": true,
         "type": "choropleth",
         "visible": false,
         "z": [
          2573750,
          1408750,
          1586250,
          8272500.000000001,
          905000,
          1146250,
          346250.00000000006,
          1256250,
          787500,
          2846250,
          238749.99999999997,
          1411250,
          772500,
          796250,
          1192500,
          1713750,
          4316250,
          2548750,
          885000,
          1376250,
          2651250,
          1775000,
          3260000.0000000005,
          945000,
          1511250,
          2802500
         ]
        },
        {
         "colorscale": [
          [
           0,
           "#440154"
          ],
          [
           0.1111111111111111,
           "#482878"
          ],
          [
           0.2222222222222222,
           "#3e4989"
          ],
          [
           0.3333333333333333,
           "#31688e"
          ],
          [
           0.4444444444444444,
           "#26828e"
          ],
          [
           0.5555555555555556,
           "#1f9e89"
          ],
          [
           0.6666666666666666,
           "#35b779"
          ],
          [
           0.7777777777777778,
           "#6ece58"
          ],
          [
           0.8888888888888888,
           "#b5de2b"
          ],
          [
           1,
           "#fde725"
          ]
         ],
         "locationmode": "USA-states",
         "locations": [
          "AK",
          "AL",
          "AR",
          "AZ",
          "CA",
          "CT",
          "FL",
          "GA",
          "HI",
          "ID",
          "IL",
          "LA",
          "MA",
          "ME",
          "MN",
          "MS",
          "MT",
          "NE",
          "NH",
          "NM",
          "NV",
          "NY",
          "OK",
          "OR",
          "PA",
          "RI",
          "TN",
          "TX",
          "UT",
          "VA",
          "VT"
         ],
         "name": "Men's Apparel - Outlet",
         "showscale": true,
         "type": "choropleth",
         "visible": false,
         "z": [
          1633750,
          2156781,
          43796,
          44046,
          8646005,
          33287,
          551467,
          54757,
          2720000.0000000005,
          56553,
          1075000,
          70014,
          29525,
          969999.9999999999,
          484999.99999999994,
          57332,
          1962499.9999999998,
          517500,
          1334701.0000000002,
          56032,
          842585,
          6124663,
          37227,
          61424,
          1029213,
          20670,
          2246841,
          5874520,
          32368,
          64917,
          42163
         ]
        },
        {
         "colorscale": [
          [
           0,
           "#440154"
          ],
          [
           0.1111111111111111,
           "#482878"
          ],
          [
           0.2222222222222222,
           "#3e4989"
          ],
          [
           0.3333333333333333,
           "#31688e"
          ],
          [
           0.4444444444444444,
           "#26828e"
          ],
          [
           0.5555555555555556,
           "#1f9e89"
          ],
          [
           0.6666666666666666,
           "#35b779"
          ],
          [
           0.7777777777777778,
           "#6ece58"
          ],
          [
           0.8888888888888888,
           "#b5de2b"
          ],
          [
           1,
           "#fde725"
          ]
         ],
         "locationmode": "USA-states",
         "locations": [
          "AK",
          "AL",
          "AR",
          "AZ",
          "CA",
          "CO",
          "CT",
          "DE",
          "FL",
          "GA",
          "HI",
          "IA",
          "ID",
          "IL",
          "IN",
          "KS",
          "KY",
          "LA",
          "MA",
          "MD",
          "ME",
          "MI",
          "MN",
          "MO",
          "MS",
          "MT",
          "NC",
          "ND",
          "NE",
          "NH",
          "NJ",
          "NM",
          "NV",
          "NY",
          "OH",
          "OK",
          "OR",
          "PA",
          "RI",
          "SC",
          "SD",
          "TN",
          "TX",
          "UT",
          "VA",
          "VT",
          "WA",
          "WI",
          "WV",
          "WY"
         ],
         "name": "Men's Apparel - Online",
         "showscale": true,
         "type": "choropleth",
         "visible": false,
         "z": [
          43774,
          54881,
          1948184,
          1846262.0000000002,
          216097,
          66257,
          36239,
          40524,
          230253,
          2381897,
          72521,
          23928,
          2289168,
          27791,
          29851,
          1405053,
          1282324,
          2664137,
          33028,
          20727,
          25810,
          72857,
          18854,
          36307,
          2458086,
          50506,
          3990466,
          152294,
          12697,
          56189,
          31312,
          2472312.0000000005,
          63609,
          267806,
          2970467,
          1539696,
          64283,
          26286,
          23011,
          4914897,
          995364,
          57231,
          148093,
          35994,
          66759,
          45533,
          82563,
          24692,
          38725,
          73400
         ]
        },
        {
         "colorscale": [
          [
           0,
           "#440154"
          ],
          [
           0.1111111111111111,
           "#482878"
          ],
          [
           0.2222222222222222,
           "#3e4989"
          ],
          [
           0.3333333333333333,
           "#31688e"
          ],
          [
           0.4444444444444444,
           "#26828e"
          ],
          [
           0.5555555555555556,
           "#1f9e89"
          ],
          [
           0.6666666666666666,
           "#35b779"
          ],
          [
           0.7777777777777778,
           "#6ece58"
          ],
          [
           0.8888888888888888,
           "#b5de2b"
          ],
          [
           1,
           "#fde725"
          ]
         ],
         "locationmode": "USA-states",
         "locations": [
          "CO",
          "CT",
          "DE",
          "FL",
          "IA",
          "IN",
          "LA",
          "MA",
          "MD",
          "MI",
          "MN",
          "MO",
          "ND",
          "NH",
          "NJ",
          "NV",
          "NY",
          "OR",
          "RI",
          "UT",
          "VA",
          "VT",
          "WA",
          "WI",
          "WV",
          "WY"
         ],
         "name": "Women's Apparel - In-store",
         "showscale": true,
         "type": "choropleth",
         "visible": false,
         "z": [
          3842500.0000000005,
          2281250,
          2456250,
          9800000,
          1607500,
          1877500,
          536250,
          2123750,
          1564999.9999999998,
          3693750,
          411250,
          1985000,
          1498750,
          1130000,
          1989999.9999999998,
          2070000.0000000002,
          5161250,
          3796250,
          1682499.9999999998,
          1993750,
          3786250,
          2725000,
          4598750,
          1655000,
          2302500,
          3678750.0000000005
         ]
        },
        {
         "colorscale": [
          [
           0,
           "#440154"
          ],
          [
           0.1111111111111111,
           "#482878"
          ],
          [
           0.2222222222222222,
           "#3e4989"
          ],
          [
           0.3333333333333333,
           "#31688e"
          ],
          [
           0.4444444444444444,
           "#26828e"
          ],
          [
           0.5555555555555556,
           "#1f9e89"
          ],
          [
           0.6666666666666666,
           "#35b779"
          ],
          [
           0.7777777777777778,
           "#6ece58"
          ],
          [
           0.8888888888888888,
           "#b5de2b"
          ],
          [
           1,
           "#fde725"
          ]
         ],
         "locationmode": "USA-states",
         "locations": [
          "AK",
          "AL",
          "AR",
          "AZ",
          "CA",
          "CT",
          "FL",
          "GA",
          "HI",
          "ID",
          "IL",
          "LA",
          "MA",
          "ME",
          "MN",
          "MS",
          "MT",
          "NE",
          "NH",
          "NM",
          "NV",
          "NY",
          "OK",
          "OR",
          "PA",
          "RI",
          "TN",
          "TX",
          "UT",
          "VA",
          "VT"
         ],
         "name": "Women's Apparel - Outlet",
         "showscale": true,
         "type": "choropleth",
         "visible": false,
         "z": [
          2805000,
          3680913,
          62222,
          67738,
          11484741,
          51960,
          1217793,
          79865,
          4003750,
          90094,
          1911250,
          96925,
          49953,
          1827500,
          1027500,
          73438,
          3030000,
          1172500,
          2049413,
          87773,
          1809410,
          7107767,
          50307,
          89045,
          2003313,
          39733,
          3747298,
          9101592,
          50046,
          91830,
          66286
         ]
        },
        {
         "colorscale": [
          [
           0,
           "#440154"
          ],
          [
           0.1111111111111111,
           "#482878"
          ],
          [
           0.2222222222222222,
           "#3e4989"
          ],
          [
           0.3333333333333333,
           "#31688e"
          ],
          [
           0.4444444444444444,
           "#26828e"
          ],
          [
           0.5555555555555556,
           "#1f9e89"
          ],
          [
           0.6666666666666666,
           "#35b779"
          ],
          [
           0.7777777777777778,
           "#6ece58"
          ],
          [
           0.8888888888888888,
           "#b5de2b"
          ],
          [
           1,
           "#fde725"
          ]
         ],
         "locationmode": "USA-states",
         "locations": [
          "AK",
          "AL",
          "AR",
          "AZ",
          "CA",
          "CO",
          "CT",
          "DE",
          "FL",
          "GA",
          "HI",
          "IA",
          "ID",
          "IL",
          "IN",
          "KS",
          "KY",
          "LA",
          "MA",
          "MD",
          "ME",
          "MI",
          "MN",
          "MO",
          "MS",
          "MT",
          "NC",
          "ND",
          "NE",
          "NH",
          "NJ",
          "NM",
          "NV",
          "NY",
          "OH",
          "OK",
          "OR",
          "PA",
          "RI",
          "SC",
          "SD",
          "TN",
          "TX",
          "UT",
          "VA",
          "VT",
          "WA",
          "WI",
          "WV",
          "WY"
         ],
         "name": "Women's Apparel - Online",
         "showscale": true,
         "type": "choropleth",
         "visible": false,
         "z": [
          72499,
          95277,
          2625836,
          2982925,
          284618,
          97455,
          60512,
          64155,
          276731,
          3500004,
          103196,
          39964,
          3945011,
          49645,
          48845,
          2118818,
          2047736,
          3811108.0000000005,
          56550,
          39986,
          45999,
          92810,
          37300,
          52047,
          3170253,
          78558,
          4807086,
          179451,
          30161,
          78940,
          52491,
          3780747.0000000005,
          100042,
          311485,
          3780468,
          2226488,
          97168,
          49318,
          43559,
          5786397,
          1786442,
          92512,
          236768,
          50805,
          97469,
          67771,
          114147,
          41874,
          58892,
          94836
         ]
        }
       ],
       "layout": {
        "geo": {
         "scope": "usa"
        },
        "template": {
         "data": {
          "bar": [
           {
            "error_x": {
             "color": "#2a3f5f"
            },
            "error_y": {
             "color": "#2a3f5f"
            },
            "marker": {
             "line": {
              "color": "#E5ECF6",
              "width": 0.5
             },
             "pattern": {
              "fillmode": "overlay",
              "size": 10,
              "solidity": 0.2
             }
            },
            "type": "bar"
           }
          ],
          "barpolar": [
           {
            "marker": {
             "line": {
              "color": "#E5ECF6",
              "width": 0.5
             },
             "pattern": {
              "fillmode": "overlay",
              "size": 10,
              "solidity": 0.2
             }
            },
            "type": "barpolar"
           }
          ],
          "carpet": [
           {
            "aaxis": {
             "endlinecolor": "#2a3f5f",
             "gridcolor": "white",
             "linecolor": "white",
             "minorgridcolor": "white",
             "startlinecolor": "#2a3f5f"
            },
            "baxis": {
             "endlinecolor": "#2a3f5f",
             "gridcolor": "white",
             "linecolor": "white",
             "minorgridcolor": "white",
             "startlinecolor": "#2a3f5f"
            },
            "type": "carpet"
           }
          ],
          "choropleth": [
           {
            "colorbar": {
             "outlinewidth": 0,
             "ticks": ""
            },
            "type": "choropleth"
           }
          ],
          "contour": [
           {
            "colorbar": {
             "outlinewidth": 0,
             "ticks": ""
            },
            "colorscale": [
             [
              0,
              "#0d0887"
             ],
             [
              0.1111111111111111,
              "#46039f"
             ],
             [
              0.2222222222222222,
              "#7201a8"
             ],
             [
              0.3333333333333333,
              "#9c179e"
             ],
             [
              0.4444444444444444,
              "#bd3786"
             ],
             [
              0.5555555555555556,
              "#d8576b"
             ],
             [
              0.6666666666666666,
              "#ed7953"
             ],
             [
              0.7777777777777778,
              "#fb9f3a"
             ],
             [
              0.8888888888888888,
              "#fdca26"
             ],
             [
              1,
              "#f0f921"
             ]
            ],
            "type": "contour"
           }
          ],
          "contourcarpet": [
           {
            "colorbar": {
             "outlinewidth": 0,
             "ticks": ""
            },
            "type": "contourcarpet"
           }
          ],
          "heatmap": [
           {
            "colorbar": {
             "outlinewidth": 0,
             "ticks": ""
            },
            "colorscale": [
             [
              0,
              "#0d0887"
             ],
             [
              0.1111111111111111,
              "#46039f"
             ],
             [
              0.2222222222222222,
              "#7201a8"
             ],
             [
              0.3333333333333333,
              "#9c179e"
             ],
             [
              0.4444444444444444,
              "#bd3786"
             ],
             [
              0.5555555555555556,
              "#d8576b"
             ],
             [
              0.6666666666666666,
              "#ed7953"
             ],
             [
              0.7777777777777778,
              "#fb9f3a"
             ],
             [
              0.8888888888888888,
              "#fdca26"
             ],
             [
              1,
              "#f0f921"
             ]
            ],
            "type": "heatmap"
           }
          ],
          "heatmapgl": [
           {
            "colorbar": {
             "outlinewidth": 0,
             "ticks": ""
            },
            "colorscale": [
             [
              0,
              "#0d0887"
             ],
             [
              0.1111111111111111,
              "#46039f"
             ],
             [
              0.2222222222222222,
              "#7201a8"
             ],
             [
              0.3333333333333333,
              "#9c179e"
             ],
             [
              0.4444444444444444,
              "#bd3786"
             ],
             [
              0.5555555555555556,
              "#d8576b"
             ],
             [
              0.6666666666666666,
              "#ed7953"
             ],
             [
              0.7777777777777778,
              "#fb9f3a"
             ],
             [
              0.8888888888888888,
              "#fdca26"
             ],
             [
              1,
              "#f0f921"
             ]
            ],
            "type": "heatmapgl"
           }
          ],
          "histogram": [
           {
            "marker": {
             "pattern": {
              "fillmode": "overlay",
              "size": 10,
              "solidity": 0.2
             }
            },
            "type": "histogram"
           }
          ],
          "histogram2d": [
           {
            "colorbar": {
             "outlinewidth": 0,
             "ticks": ""
            },
            "colorscale": [
             [
              0,
              "#0d0887"
             ],
             [
              0.1111111111111111,
              "#46039f"
             ],
             [
              0.2222222222222222,
              "#7201a8"
             ],
             [
              0.3333333333333333,
              "#9c179e"
             ],
             [
              0.4444444444444444,
              "#bd3786"
             ],
             [
              0.5555555555555556,
              "#d8576b"
             ],
             [
              0.6666666666666666,
              "#ed7953"
             ],
             [
              0.7777777777777778,
              "#fb9f3a"
             ],
             [
              0.8888888888888888,
              "#fdca26"
             ],
             [
              1,
              "#f0f921"
             ]
            ],
            "type": "histogram2d"
           }
          ],
          "histogram2dcontour": [
           {
            "colorbar": {
             "outlinewidth": 0,
             "ticks": ""
            },
            "colorscale": [
             [
              0,
              "#0d0887"
             ],
             [
              0.1111111111111111,
              "#46039f"
             ],
             [
              0.2222222222222222,
              "#7201a8"
             ],
             [
              0.3333333333333333,
              "#9c179e"
             ],
             [
              0.4444444444444444,
              "#bd3786"
             ],
             [
              0.5555555555555556,
              "#d8576b"
             ],
             [
              0.6666666666666666,
              "#ed7953"
             ],
             [
              0.7777777777777778,
              "#fb9f3a"
             ],
             [
              0.8888888888888888,
              "#fdca26"
             ],
             [
              1,
              "#f0f921"
             ]
            ],
            "type": "histogram2dcontour"
           }
          ],
          "mesh3d": [
           {
            "colorbar": {
             "outlinewidth": 0,
             "ticks": ""
            },
            "type": "mesh3d"
           }
          ],
          "parcoords": [
           {
            "line": {
             "colorbar": {
              "outlinewidth": 0,
              "ticks": ""
             }
            },
            "type": "parcoords"
           }
          ],
          "pie": [
           {
            "automargin": true,
            "type": "pie"
           }
          ],
          "scatter": [
           {
            "fillpattern": {
             "fillmode": "overlay",
             "size": 10,
             "solidity": 0.2
            },
            "type": "scatter"
           }
          ],
          "scatter3d": [
           {
            "line": {
             "colorbar": {
              "outlinewidth": 0,
              "ticks": ""
             }
            },
            "marker": {
             "colorbar": {
              "outlinewidth": 0,
              "ticks": ""
             }
            },
            "type": "scatter3d"
           }
          ],
          "scattercarpet": [
           {
            "marker": {
             "colorbar": {
              "outlinewidth": 0,
              "ticks": ""
             }
            },
            "type": "scattercarpet"
           }
          ],
          "scattergeo": [
           {
            "marker": {
             "colorbar": {
              "outlinewidth": 0,
              "ticks": ""
             }
            },
            "type": "scattergeo"
           }
          ],
          "scattergl": [
           {
            "marker": {
             "colorbar": {
              "outlinewidth": 0,
              "ticks": ""
             }
            },
            "type": "scattergl"
           }
          ],
          "scattermapbox": [
           {
            "marker": {
             "colorbar": {
              "outlinewidth": 0,
              "ticks": ""
             }
            },
            "type": "scattermapbox"
           }
          ],
          "scatterpolar": [
           {
            "marker": {
             "colorbar": {
              "outlinewidth": 0,
              "ticks": ""
             }
            },
            "type": "scatterpolar"
           }
          ],
          "scatterpolargl": [
           {
            "marker": {
             "colorbar": {
              "outlinewidth": 0,
              "ticks": ""
             }
            },
            "type": "scatterpolargl"
           }
          ],
          "scatterternary": [
           {
            "marker": {
             "colorbar": {
              "outlinewidth": 0,
              "ticks": ""
             }
            },
            "type": "scatterternary"
           }
          ],
          "surface": [
           {
            "colorbar": {
             "outlinewidth": 0,
             "ticks": ""
            },
            "colorscale": [
             [
              0,
              "#0d0887"
             ],
             [
              0.1111111111111111,
              "#46039f"
             ],
             [
              0.2222222222222222,
              "#7201a8"
             ],
             [
              0.3333333333333333,
              "#9c179e"
             ],
             [
              0.4444444444444444,
              "#bd3786"
             ],
             [
              0.5555555555555556,
              "#d8576b"
             ],
             [
              0.6666666666666666,
              "#ed7953"
             ],
             [
              0.7777777777777778,
              "#fb9f3a"
             ],
             [
              0.8888888888888888,
              "#fdca26"
             ],
             [
              1,
              "#f0f921"
             ]
            ],
            "type": "surface"
           }
          ],
          "table": [
           {
            "cells": {
             "fill": {
              "color": "#EBF0F8"
             },
             "line": {
              "color": "white"
             }
            },
            "header": {
             "fill": {
              "color": "#C8D4E3"
             },
             "line": {
              "color": "white"
             }
            },
            "type": "table"
           }
          ]
         },
         "layout": {
          "annotationdefaults": {
           "arrowcolor": "#2a3f5f",
           "arrowhead": 0,
           "arrowwidth": 1
          },
          "autotypenumbers": "strict",
          "coloraxis": {
           "colorbar": {
            "outlinewidth": 0,
            "ticks": ""
           }
          },
          "colorscale": {
           "diverging": [
            [
             0,
             "#8e0152"
            ],
            [
             0.1,
             "#c51b7d"
            ],
            [
             0.2,
             "#de77ae"
            ],
            [
             0.3,
             "#f1b6da"
            ],
            [
             0.4,
             "#fde0ef"
            ],
            [
             0.5,
             "#f7f7f7"
            ],
            [
             0.6,
             "#e6f5d0"
            ],
            [
             0.7,
             "#b8e186"
            ],
            [
             0.8,
             "#7fbc41"
            ],
            [
             0.9,
             "#4d9221"
            ],
            [
             1,
             "#276419"
            ]
           ],
           "sequential": [
            [
             0,
             "#0d0887"
            ],
            [
             0.1111111111111111,
             "#46039f"
            ],
            [
             0.2222222222222222,
             "#7201a8"
            ],
            [
             0.3333333333333333,
             "#9c179e"
            ],
            [
             0.4444444444444444,
             "#bd3786"
            ],
            [
             0.5555555555555556,
             "#d8576b"
            ],
            [
             0.6666666666666666,
             "#ed7953"
            ],
            [
             0.7777777777777778,
             "#fb9f3a"
            ],
            [
             0.8888888888888888,
             "#fdca26"
            ],
            [
             1,
             "#f0f921"
            ]
           ],
           "sequentialminus": [
            [
             0,
             "#0d0887"
            ],
            [
             0.1111111111111111,
             "#46039f"
            ],
            [
             0.2222222222222222,
             "#7201a8"
            ],
            [
             0.3333333333333333,
             "#9c179e"
            ],
            [
             0.4444444444444444,
             "#bd3786"
            ],
            [
             0.5555555555555556,
             "#d8576b"
            ],
            [
             0.6666666666666666,
             "#ed7953"
            ],
            [
             0.7777777777777778,
             "#fb9f3a"
            ],
            [
             0.8888888888888888,
             "#fdca26"
            ],
            [
             1,
             "#f0f921"
            ]
           ]
          },
          "colorway": [
           "#636efa",
           "#EF553B",
           "#00cc96",
           "#ab63fa",
           "#FFA15A",
           "#19d3f3",
           "#FF6692",
           "#B6E880",
           "#FF97FF",
           "#FECB52"
          ],
          "font": {
           "color": "#2a3f5f"
          },
          "geo": {
           "bgcolor": "white",
           "lakecolor": "white",
           "landcolor": "#E5ECF6",
           "showlakes": true,
           "showland": true,
           "subunitcolor": "white"
          },
          "hoverlabel": {
           "align": "left"
          },
          "hovermode": "closest",
          "mapbox": {
           "style": "light"
          },
          "paper_bgcolor": "white",
          "plot_bgcolor": "#E5ECF6",
          "polar": {
           "angularaxis": {
            "gridcolor": "white",
            "linecolor": "white",
            "ticks": ""
           },
           "bgcolor": "#E5ECF6",
           "radialaxis": {
            "gridcolor": "white",
            "linecolor": "white",
            "ticks": ""
           }
          },
          "scene": {
           "xaxis": {
            "backgroundcolor": "#E5ECF6",
            "gridcolor": "white",
            "gridwidth": 2,
            "linecolor": "white",
            "showbackground": true,
            "ticks": "",
            "zerolinecolor": "white"
           },
           "yaxis": {
            "backgroundcolor": "#E5ECF6",
            "gridcolor": "white",
            "gridwidth": 2,
            "linecolor": "white",
            "showbackground": true,
            "ticks": "",
            "zerolinecolor": "white"
           },
           "zaxis": {
            "backgroundcolor": "#E5ECF6",
            "gridcolor": "white",
            "gridwidth": 2,
            "linecolor": "white",
            "showbackground": true,
            "ticks": "",
            "zerolinecolor": "white"
           }
          },
          "shapedefaults": {
           "line": {
            "color": "#2a3f5f"
           }
          },
          "ternary": {
           "aaxis": {
            "gridcolor": "white",
            "linecolor": "white",
            "ticks": ""
           },
           "baxis": {
            "gridcolor": "white",
            "linecolor": "white",
            "ticks": ""
           },
           "bgcolor": "#E5ECF6",
           "caxis": {
            "gridcolor": "white",
            "linecolor": "white",
            "ticks": ""
           }
          },
          "title": {
           "x": 0.05
          },
          "xaxis": {
           "automargin": true,
           "gridcolor": "white",
           "linecolor": "white",
           "ticks": "",
           "title": {
            "standoff": 15
           },
           "zerolinecolor": "white",
           "zerolinewidth": 2
          },
          "yaxis": {
           "automargin": true,
           "gridcolor": "white",
           "linecolor": "white",
           "ticks": "",
           "title": {
            "standoff": 15
           },
           "zerolinecolor": "white",
           "zerolinewidth": 2
          }
         }
        },
        "title": {
         "text": "Total Sales by State, Product, and Sales Method"
        },
        "updatemenus": [
         {
          "buttons": [
           {
            "args": [
             {
              "visible": [
               true,
               true,
               true,
               false,
               false,
               false,
               false,
               false,
               false,
               false,
               false,
               false,
               false,
               false,
               false,
               false,
               false,
               false
              ]
             }
            ],
            "label": "Men's Street Footwear",
            "method": "update"
           },
           {
            "args": [
             {
              "visible": [
               false,
               false,
               false,
               true,
               true,
               true,
               false,
               false,
               false,
               false,
               false,
               false,
               false,
               false,
               false,
               false,
               false,
               false
              ]
             }
            ],
            "label": "Men's Athletic Footwear",
            "method": "update"
           },
           {
            "args": [
             {
              "visible": [
               false,
               false,
               false,
               false,
               false,
               false,
               true,
               true,
               true,
               false,
               false,
               false,
               false,
               false,
               false,
               false,
               false,
               false
              ]
             }
            ],
            "label": "Women's Street Footwear",
            "method": "update"
           },
           {
            "args": [
             {
              "visible": [
               false,
               false,
               false,
               false,
               false,
               false,
               false,
               false,
               false,
               true,
               true,
               true,
               false,
               false,
               false,
               false,
               false,
               false
              ]
             }
            ],
            "label": "Women's Athletic Footwear",
            "method": "update"
           },
           {
            "args": [
             {
              "visible": [
               false,
               false,
               false,
               false,
               false,
               false,
               false,
               false,
               false,
               false,
               false,
               false,
               true,
               true,
               true,
               false,
               false,
               false
              ]
             }
            ],
            "label": "Men's Apparel",
            "method": "update"
           },
           {
            "args": [
             {
              "visible": [
               false,
               false,
               false,
               false,
               false,
               false,
               false,
               false,
               false,
               false,
               false,
               false,
               false,
               false,
               false,
               true,
               true,
               true
              ]
             }
            ],
            "label": "Women's Apparel",
            "method": "update"
           }
          ],
          "direction": "down",
          "showactive": true,
          "x": 0.25,
          "xanchor": "left",
          "y": 1.15,
          "yanchor": "top"
         },
         {
          "buttons": [
           {
            "args": [
             {
              "visible": [
               true,
               false,
               false,
               true,
               false,
               false,
               true,
               false,
               false,
               true,
               false,
               false,
               true,
               false,
               false,
               true,
               false,
               false
              ]
             }
            ],
            "label": "In-store",
            "method": "update"
           },
           {
            "args": [
             {
              "visible": [
               false,
               true,
               false,
               false,
               true,
               false,
               false,
               true,
               false,
               false,
               true,
               false,
               false,
               true,
               false,
               false,
               true,
               false
              ]
             }
            ],
            "label": "Outlet",
            "method": "update"
           },
           {
            "args": [
             {
              "visible": [
               false,
               false,
               true,
               false,
               false,
               true,
               false,
               false,
               true,
               false,
               false,
               true,
               false,
               false,
               true,
               false,
               false,
               true
              ]
             }
            ],
            "label": "Online",
            "method": "update"
           }
          ],
          "direction": "down",
          "showactive": true,
          "x": 0.75,
          "xanchor": "left",
          "y": 1.15,
          "yanchor": "top"
         }
        ]
       }
      }
     },
     "metadata": {},
     "output_type": "display_data"
    }
   ],
   "source": [
    "# Removing currency symbols and converting 'Total Sales' to numeric\n",
    "df['Total Sales'] = df['Total Sales'].replace('[\\$,]', '', regex=True).astype(float)\n",
    "\n",
    "# Initialize the figure\n",
    "fig = go.Figure()\n",
    "\n",
    "# List of unique products and sales methods\n",
    "products = df['Product'].unique()\n",
    "sales_methods = df['Sales Method'].unique()\n",
    "\n",
    "# Add traces for each combination of product and sales method\n",
    "for product in products:\n",
    "    for method in sales_methods:\n",
    "        filtered_df = df[(df['Product'] == product) & (df['Sales Method'] == method)]\n",
    "        state_sales = filtered_df.groupby('State Abbreviation')['Total Sales'].sum().reset_index()\n",
    "\n",
    "        fig.add_trace(\n",
    "            go.Choropleth(\n",
    "                locations=state_sales['State Abbreviation'], \n",
    "                z=state_sales['Total Sales'], \n",
    "                locationmode='USA-states', \n",
    "                colorscale='Viridis',\n",
    "                name=f\"{product} - {method}\",\n",
    "                showscale=True,\n",
    "                visible=False  # Initially, all traces are hidden\n",
    "            )\n",
    "        )\n",
    "\n",
    "# Update layout with dropdown menus\n",
    "product_buttons = [\n",
    "    {'label': product, 'method': 'update', 'args': [{'visible': [trace.name.startswith(product) for trace in fig.data]}]}\n",
    "    for product in products\n",
    "]\n",
    "\n",
    "sales_method_buttons = [\n",
    "    {'label': method, 'method': 'update', 'args': [{'visible': [method in trace.name for trace in fig.data]}]}\n",
    "    for method in sales_methods\n",
    "]\n",
    "\n",
    "fig.update_layout(\n",
    "    updatemenus=[\n",
    "        {'buttons': product_buttons, 'direction': 'down', 'showactive': True, 'x': 0.25, 'xanchor': 'left', 'y': 1.15, 'yanchor': 'top'},\n",
    "        {'buttons': sales_method_buttons, 'direction': 'down', 'showactive': True, 'x': 0.75, 'xanchor': 'left', 'y': 1.15, 'yanchor': 'top'}\n",
    "    ],\n",
    "    geo=dict(scope='usa'),\n",
    "    title=\"Total Sales by State, Product, and Sales Method\"\n",
    ")\n",
    "\n",
    "# Initially displaying the first product and first sales method\n",
    "if fig.data:\n",
    "    fig.data[0].visible = True\n",
    "\n",
    "fig.show()\n"
   ]
  },
  {
   "cell_type": "markdown",
   "id": "a9680022",
   "metadata": {},
   "source": [
    "The above Choropleth Map gives us a detailed view of how all the states perform for different products and methods. But now we will create a table to view it and understand it in even better.  "
   ]
  },
  {
   "cell_type": "markdown",
   "id": "e19160ea",
   "metadata": {},
   "source": [
    "##### 4.4 Table view to analyze which Sales Method is the best."
   ]
  },
  {
   "cell_type": "code",
   "execution_count": 29,
   "id": "1b312fb4",
   "metadata": {},
   "outputs": [],
   "source": [
    "# Removing currency symbols and converting 'Total Sales' to numeric\n",
    "df['Total Sales'] = df['Total Sales'].replace('[\\$,]', '', regex=True).astype(float)\n",
    "\n",
    "# Grouping the data by 'State Abbreviation', 'Product', and 'Sales Method' and summing the 'Total Sales'\n",
    "grouped_data = df.groupby(['State Abbreviation', 'Product', 'Sales Method'])['Total Sales'].sum().reset_index()\n",
    "\n",
    "# Sorting the data by 'Total Sales' in descending order for better visibility of higher sales\n",
    "grouped_data = grouped_data.sort_values(by='Total Sales', ascending=False)\n",
    "\n",
    "salesmethod_and_totalsales = grouped_data\n"
   ]
  },
  {
   "cell_type": "code",
   "execution_count": 30,
   "id": "25d71326",
   "metadata": {},
   "outputs": [
    {
     "data": {
      "text/html": [
       "<div>\n",
       "<style scoped>\n",
       "    .dataframe tbody tr th:only-of-type {\n",
       "        vertical-align: middle;\n",
       "    }\n",
       "\n",
       "    .dataframe tbody tr th {\n",
       "        vertical-align: top;\n",
       "    }\n",
       "\n",
       "    .dataframe thead th {\n",
       "        text-align: right;\n",
       "    }\n",
       "</style>\n",
       "<table border=\"1\" class=\"dataframe\">\n",
       "  <thead>\n",
       "    <tr style=\"text-align: right;\">\n",
       "      <th></th>\n",
       "      <th>Sales Method</th>\n",
       "      <th>Total Sales</th>\n",
       "    </tr>\n",
       "  </thead>\n",
       "  <tbody>\n",
       "    <tr>\n",
       "      <th>55</th>\n",
       "      <td>Outlet</td>\n",
       "      <td>11484741.0</td>\n",
       "    </tr>\n",
       "    <tr>\n",
       "      <th>51</th>\n",
       "      <td>Outlet</td>\n",
       "      <td>10643905.0</td>\n",
       "    </tr>\n",
       "    <tr>\n",
       "      <th>108</th>\n",
       "      <td>In-store</td>\n",
       "      <td>10617500.0</td>\n",
       "    </tr>\n",
       "    <tr>\n",
       "      <th>53</th>\n",
       "      <td>Outlet</td>\n",
       "      <td>10592715.0</td>\n",
       "    </tr>\n",
       "    <tr>\n",
       "      <th>111</th>\n",
       "      <td>In-store</td>\n",
       "      <td>9800000.0</td>\n",
       "    </tr>\n",
       "    <tr>\n",
       "      <th>59</th>\n",
       "      <td>Outlet</td>\n",
       "      <td>9303923.0</td>\n",
       "    </tr>\n",
       "    <tr>\n",
       "      <th>535</th>\n",
       "      <td>Outlet</td>\n",
       "      <td>9101592.0</td>\n",
       "    </tr>\n",
       "    <tr>\n",
       "      <th>105</th>\n",
       "      <td>In-store</td>\n",
       "      <td>9010000.0</td>\n",
       "    </tr>\n",
       "    <tr>\n",
       "      <th>49</th>\n",
       "      <td>Outlet</td>\n",
       "      <td>8646005.0</td>\n",
       "    </tr>\n",
       "    <tr>\n",
       "      <th>531</th>\n",
       "      <td>Outlet</td>\n",
       "      <td>8502705.0</td>\n",
       "    </tr>\n",
       "  </tbody>\n",
       "</table>\n",
       "</div>"
      ],
      "text/plain": [
       "    Sales Method  Total Sales\n",
       "55        Outlet   11484741.0\n",
       "51        Outlet   10643905.0\n",
       "108     In-store   10617500.0\n",
       "53        Outlet   10592715.0\n",
       "111     In-store    9800000.0\n",
       "59        Outlet    9303923.0\n",
       "535       Outlet    9101592.0\n",
       "105     In-store    9010000.0\n",
       "49        Outlet    8646005.0\n",
       "531       Outlet    8502705.0"
      ]
     },
     "execution_count": 30,
     "metadata": {},
     "output_type": "execute_result"
    }
   ],
   "source": [
    "selected_columns = salesmethod_and_totalsales[['Sales Method', 'Total Sales']]\n",
    "selected_columns.head(10)"
   ]
  },
  {
   "cell_type": "code",
   "execution_count": 31,
   "id": "1b62d8cc",
   "metadata": {},
   "outputs": [
    {
     "data": {
      "application/vnd.plotly.v1+json": {
       "config": {
        "plotlyServerURL": "https://plot.ly"
       },
       "data": [
        {
         "alignmentgroup": "True",
         "hovertemplate": "Sales Method=%{x}<br>Total Sales=%{marker.color}<extra></extra>",
         "legendgroup": "",
         "marker": {
          "color": [
           11484741,
           10643905,
           10617500,
           10592715,
           9800000,
           9303923,
           9101592,
           9010000.000000002,
           8646005,
           8502705,
           8272500.000000001,
           8014099,
           7933231,
           7629708,
           7522500.000000001,
           7107767,
           6862621,
           6851250,
           6582500.000000001,
           6465330,
           6174511,
           6124663,
           5874520,
           5786397,
           5644948.000000001,
           5438257,
           5286250,
           5161250,
           4914897,
           4910000.000000001,
           4844991,
           4807086,
           4692374,
           4598750,
           4556660.000000001,
           4464402,
           4412000,
           4411250,
           4316250,
           4281500,
           4264250,
           4232500.000000001,
           4232500,
           4223750,
           4123750.0000000005,
           4083750.0000000005,
           4003750,
           3996250,
           3990466,
           3976250.0000000005,
           3966250.0000000005,
           3945011,
           3937500.0000000005,
           3929750,
           3923152.0000000005,
           3922059.0000000005,
           3842500.0000000005,
           3817906.0000000005,
           3811108.0000000005,
           3805073.0000000005,
           3796250,
           3786250,
           3780747.0000000005,
           3780468,
           3747298,
           3747041,
           3744447.0000000005,
           3720405.0000000005,
           3699590,
           3693750,
           3680913,
           3678750.0000000005,
           3678426.0000000005,
           3591537.0000000005,
           3540000,
           3519938,
           3518750.0000000005,
           3500004,
           3497500,
           3433999.9999999995,
           3431862,
           3398750,
           3315757,
           3307500,
           3301250,
           3290647,
           3282500,
           3262749.9999999995,
           3260000.0000000005,
           3208460,
           3202750,
           3172241,
           3170253,
           3169247.0000000005,
           3148035.0000000005,
           3125262,
           3119064.0000000005,
           3102651,
           3098870,
           3081969,
           3039971.0000000005,
           3037241.0000000005,
           3030000,
           3008250,
           3002325,
           2987784,
           2982925,
           2973750,
           2973249.9999999995,
           2970467,
           2939250,
           2938750,
           2891500,
           2891056.0000000005,
           2886238,
           2883508,
           2872549,
           2846250,
           2827500.0000000005,
           2825000.0000000005,
           2812500,
           2812070,
           2805000,
           2802500,
           2770609.0000000005,
           2730000,
           2725000,
           2720000.0000000005,
           2685749.9999999995,
           2667500,
           2664137,
           2651250,
           2642000,
           2640750,
           2629531.0000000005,
           2627500,
           2625836,
           2620000,
           2592894.0000000005,
           2573750,
           2548750,
           2526422.0000000005,
           2525246.0000000005,
           2482491,
           2472312.0000000005,
           2466250.0000000005,
           2458086,
           2456250,
           2426250,
           2423500,
           2413000,
           2381897,
           2361500,
           2348500,
           2302500,
           2289168,
           2288173,
           2287737.0000000005,
           2281250,
           2266500,
           2262726.0000000005,
           2249858,
           2246841,
           2235911,
           2226488,
           2216720,
           2209500,
           2185000.0000000005,
           2171250,
           2156781,
           2133750,
           2123750,
           2118818,
           2110000,
           2075750,
           2070000.0000000002,
           2057105,
           2049413,
           2047736,
           2022500.0000000002,
           2003313,
           1993750,
           1989999.9999999998,
           1985000,
           1980000,
           1962499.9999999998,
           1948184,
           1911250,
           1908576.0000000002,
           1903750.0000000002,
           1877500,
           1860500.0000000002,
           1846262.0000000002,
           1840500,
           1836250,
           1827500,
           1820218.0000000002,
           1809410,
           1793316.0000000002,
           1786442,
           1784091.0000000002,
           1775928.0000000002,
           1775000,
           1741570,
           1737000,
           1713750,
           1702500,
           1682499.9999999998,
           1677500,
           1663750,
           1655000,
           1642508,
           1633750,
           1610000,
           1607500,
           1596046.0000000002,
           1586250,
           1576409.0000000002,
           1564999.9999999998,
           1539696,
           1528435.0000000002,
           1521250,
           1511250,
           1498750,
           1496250.0000000002,
           1488750,
           1470688.0000000002,
           1469278.0000000002,
           1464750,
           1450000.0000000002,
           1436250.0000000002,
           1411250,
           1408750,
           1406250,
           1405053,
           1392365.0000000002,
           1378750,
           1376250,
           1363936,
           1359919.0000000002,
           1334701.0000000002,
           1333750.0000000002,
           1327250,
           1284513,
           1282324,
           1273750.0000000002,
           1267250,
           1256250,
           1254271,
           1226250,
           1217793,
           1211250,
           1192500,
           1172500,
           1168750,
           1161721.0000000002,
           1157500,
           1146250,
           1145750,
           1142110.0000000002,
           1134000.0000000002,
           1131250,
           1130000,
           1120133.0000000002,
           1116162.0000000002,
           1113750,
           1093750,
           1086000,
           1075000,
           1072500,
           1068832,
           1061250.0000000002,
           1050000.0000000002,
           1029213,
           1027500,
           1025000,
           1013750.0000000001,
           995364,
           980045.0000000001,
           969999.9999999999,
           963548,
           945000,
           937641,
           932000.0000000001,
           931671,
           927500,
           927500,
           918750,
           905788,
           905000,
           903469.0000000001,
           901250,
           887500.0000000001,
           885000,
           880000,
           878484,
           865000.0000000001,
           842585,
           842500,
           796250,
           787500,
           783250,
           781250,
           775007,
           772500,
           746250,
           741250,
           740750.0000000001,
           735500,
           715500,
           697500,
           686750,
           685516,
           646250,
           642500,
           639750,
           611250,
           591250,
           585000,
           575000,
           566250,
           558750,
           551467,
           536250,
           533750,
           532500,
           526250,
           517500,
           484999.99999999994,
           453750,
           411250,
           348300.00000000006,
           346250.00000000006,
           342775,
           311485,
           308309,
           284618,
           276731,
           274934,
           269248,
           267806,
           253676,
           247800,
           238749.99999999997,
           236768,
           236523,
           230253,
           218342,
           216097,
           214248,
           210331,
           210000,
           207325,
           199309,
           199185,
           194379,
           189442,
           182500,
           179451,
           159536,
           152294,
           148093,
           135307,
           134012,
           127103,
           114962,
           114147,
           114017,
           113618,
           112832,
           111797,
           110455,
           110434,
           106555,
           105737,
           105542,
           103196,
           102456,
           102409,
           102315,
           102169,
           101067,
           100272,
           100068,
           100042,
           99798,
           99032,
           97469,
           97455,
           97229,
           97168,
           96925,
           95689.00000000001,
           95277,
           94836,
           92810,
           92591,
           92512,
           91830,
           91089,
           90409,
           90225,
           90094,
           89832,
           89806,
           89696,
           89045,
           88197,
           87773,
           87080,
           86997,
           85864,
           85454,
           85453,
           84000,
           83422,
           83334,
           82879,
           82725,
           82563,
           82040,
           81987,
           81825,
           81061,
           80408,
           79865,
           79701,
           79213,
           78940,
           78743,
           78558,
           78545,
           78307,
           78130,
           77949,
           77354,
           76825,
           76693,
           76382,
           75832,
           75751,
           75179,
           74922,
           74840,
           74597,
           73998,
           73443,
           73438,
           73400,
           72857,
           72753,
           72521,
           72499,
           72258,
           71013,
           70573,
           70522,
           70257,
           70014,
           69988,
           67771,
           67738,
           67688,
           67534,
           67460,
           67332,
           67095,
           66759,
           66370,
           66351,
           66286,
           66257,
           65457,
           64917,
           64283,
           64155,
           64025,
           63860,
           63609,
           63506,
           62925,
           62760,
           62479,
           62431,
           62222,
           61632,
           61424,
           60746,
           60641,
           60512,
           60407,
           60000,
           59659,
           59450,
           58983,
           58892,
           57838,
           57332,
           57231,
           57095,
           56635,
           56553,
           56550,
           56370,
           56189,
           56103,
           56032,
           55613,
           55324,
           54881,
           54757,
           54495,
           53418,
           53401,
           53024,
           52659,
           52491,
           52047,
           51960,
           50805,
           50648,
           50506,
           50307,
           50046,
           49953,
           49645,
           49318,
           48845,
           48403,
           47909,
           45999,
           45603,
           45533,
           44046,
           43796,
           43774,
           43559,
           42978,
           42627,
           42620,
           42163,
           42022,
           41874,
           41319,
           40632,
           40524,
           40387,
           40318,
           40123,
           39986,
           39964,
           39939,
           39814,
           39733,
           39323,
           39020,
           38725,
           38487,
           37547,
           37483,
           37300,
           37296,
           37227,
           36307,
           36239,
           36182,
           36002,
           35994,
           34773,
           34764,
           34435,
           33914,
           33706,
           33287,
           33089,
           33028,
           32368,
           32285,
           31699,
           31418,
           31330,
           31312,
           31026,
           30833,
           30698,
           30550,
           30161,
           30030,
           29970,
           29933,
           29851,
           29762,
           29532,
           29525,
           29391,
           29149,
           28521,
           28379,
           28374,
           28259,
           28148,
           27791,
           27587,
           26976,
           26824,
           26468,
           26286,
           25991,
           25919,
           25810,
           25101,
           24899,
           24692,
           24233,
           24198,
           23928,
           23549,
           23307,
           23011,
           22598,
           22545,
           22362,
           22297,
           22103,
           21927,
           20727,
           20670,
           20477,
           20215,
           20133,
           19656,
           19471,
           18854,
           17553,
           16696,
           16021,
           15979,
           15005,
           14654,
           14489,
           12697,
           11927
          ],
          "coloraxis": "coloraxis",
          "pattern": {
           "shape": ""
          }
         },
         "name": "",
         "offsetgroup": "",
         "orientation": "v",
         "showlegend": false,
         "textposition": "auto",
         "type": "bar",
         "x": [
          "Outlet",
          "Outlet",
          "In-store",
          "Outlet",
          "In-store",
          "Outlet",
          "Outlet",
          "In-store",
          "Outlet",
          "Outlet",
          "In-store",
          "Outlet",
          "Outlet",
          "Outlet",
          "In-store",
          "Outlet",
          "Outlet",
          "In-store",
          "In-store",
          "Online",
          "Outlet",
          "Outlet",
          "Outlet",
          "Online",
          "Outlet",
          "Online",
          "In-store",
          "In-store",
          "Online",
          "In-store",
          "Outlet",
          "Online",
          "Outlet",
          "In-store",
          "Online",
          "Online",
          "In-store",
          "Outlet",
          "In-store",
          "Outlet",
          "In-store",
          "In-store",
          "Outlet",
          "In-store",
          "In-store",
          "In-store",
          "Outlet",
          "In-store",
          "Online",
          "In-store",
          "In-store",
          "Online",
          "In-store",
          "In-store",
          "Online",
          "Online",
          "In-store",
          "Online",
          "Online",
          "Online",
          "In-store",
          "In-store",
          "Online",
          "Online",
          "Outlet",
          "Online",
          "Online",
          "Online",
          "Online",
          "In-store",
          "Outlet",
          "In-store",
          "Online",
          "Online",
          "Outlet",
          "Online",
          "In-store",
          "Online",
          "In-store",
          "In-store",
          "Online",
          "In-store",
          "Outlet",
          "In-store",
          "In-store",
          "Outlet",
          "In-store",
          "In-store",
          "In-store",
          "Online",
          "In-store",
          "Online",
          "Online",
          "Outlet",
          "Online",
          "Online",
          "Online",
          "Outlet",
          "Online",
          "Outlet",
          "Online",
          "Online",
          "Outlet",
          "Outlet",
          "Online",
          "Outlet",
          "Online",
          "Outlet",
          "In-store",
          "Online",
          "In-store",
          "Outlet",
          "Outlet",
          "Online",
          "Outlet",
          "Online",
          "Online",
          "In-store",
          "In-store",
          "In-store",
          "Outlet",
          "Online",
          "Outlet",
          "In-store",
          "Online",
          "In-store",
          "In-store",
          "Outlet",
          "In-store",
          "In-store",
          "Online",
          "In-store",
          "In-store",
          "In-store",
          "Outlet",
          "In-store",
          "Online",
          "In-store",
          "Online",
          "In-store",
          "In-store",
          "Online",
          "Online",
          "Online",
          "Online",
          "Outlet",
          "Online",
          "In-store",
          "Outlet",
          "In-store",
          "In-store",
          "Online",
          "In-store",
          "In-store",
          "In-store",
          "Online",
          "Online",
          "Online",
          "In-store",
          "In-store",
          "Online",
          "Outlet",
          "Outlet",
          "Online",
          "Online",
          "Outlet",
          "In-store",
          "In-store",
          "In-store",
          "Outlet",
          "In-store",
          "In-store",
          "Online",
          "In-store",
          "Outlet",
          "In-store",
          "Outlet",
          "Outlet",
          "Online",
          "In-store",
          "Outlet",
          "In-store",
          "In-store",
          "In-store",
          "Outlet",
          "Outlet",
          "Online",
          "Outlet",
          "Online",
          "In-store",
          "In-store",
          "Outlet",
          "Online",
          "In-store",
          "In-store",
          "Outlet",
          "Online",
          "Outlet",
          "Online",
          "Online",
          "Online",
          "Outlet",
          "In-store",
          "Outlet",
          "In-store",
          "In-store",
          "Outlet",
          "In-store",
          "In-store",
          "In-store",
          "In-store",
          "Outlet",
          "Outlet",
          "In-store",
          "In-store",
          "Outlet",
          "In-store",
          "Online",
          "In-store",
          "Online",
          "Online",
          "Outlet",
          "In-store",
          "In-store",
          "In-store",
          "In-store",
          "Outlet",
          "Online",
          "In-store",
          "In-store",
          "In-store",
          "In-store",
          "In-store",
          "Outlet",
          "Online",
          "Online",
          "In-store",
          "In-store",
          "Outlet",
          "Online",
          "Outlet",
          "Outlet",
          "In-store",
          "Online",
          "Online",
          "In-store",
          "In-store",
          "In-store",
          "Outlet",
          "In-store",
          "Outlet",
          "In-store",
          "In-store",
          "Outlet",
          "In-store",
          "Online",
          "In-store",
          "In-store",
          "In-store",
          "Online",
          "In-store",
          "Outlet",
          "In-store",
          "Outlet",
          "Online",
          "In-store",
          "In-store",
          "Outlet",
          "Outlet",
          "In-store",
          "Online",
          "In-store",
          "In-store",
          "Outlet",
          "Outlet",
          "In-store",
          "In-store",
          "Online",
          "Online",
          "Outlet",
          "Outlet",
          "In-store",
          "Outlet",
          "In-store",
          "Online",
          "Outlet",
          "In-store",
          "Outlet",
          "Online",
          "In-store",
          "Outlet",
          "Outlet",
          "In-store",
          "In-store",
          "In-store",
          "Outlet",
          "In-store",
          "Outlet",
          "In-store",
          "In-store",
          "In-store",
          "In-store",
          "Outlet",
          "Outlet",
          "In-store",
          "In-store",
          "In-store",
          "In-store",
          "In-store",
          "In-store",
          "In-store",
          "Outlet",
          "Online",
          "In-store",
          "In-store",
          "Outlet",
          "In-store",
          "In-store",
          "In-store",
          "In-store",
          "In-store",
          "In-store",
          "Outlet",
          "In-store",
          "In-store",
          "In-store",
          "Outlet",
          "Outlet",
          "Outlet",
          "Outlet",
          "In-store",
          "Online",
          "In-store",
          "Online",
          "Online",
          "Online",
          "Online",
          "Online",
          "Online",
          "Online",
          "Online",
          "Online",
          "Online",
          "In-store",
          "Online",
          "Online",
          "Online",
          "Online",
          "Online",
          "Online",
          "Online",
          "In-store",
          "Online",
          "Online",
          "Online",
          "Online",
          "Online",
          "In-store",
          "Online",
          "Online",
          "Online",
          "Online",
          "Online",
          "Online",
          "Online",
          "Online",
          "Online",
          "Online",
          "Online",
          "Online",
          "Online",
          "Online",
          "Online",
          "Online",
          "Online",
          "Online",
          "Online",
          "Online",
          "Online",
          "Online",
          "Online",
          "Outlet",
          "Outlet",
          "Online",
          "Online",
          "Online",
          "Outlet",
          "Online",
          "Online",
          "Outlet",
          "Online",
          "Outlet",
          "Online",
          "Online",
          "Online",
          "Online",
          "Outlet",
          "Online",
          "Outlet",
          "Outlet",
          "Online",
          "Online",
          "Outlet",
          "Outlet",
          "Online",
          "Outlet",
          "Outlet",
          "Online",
          "Outlet",
          "Outlet",
          "Online",
          "Outlet",
          "Online",
          "Online",
          "Online",
          "Online",
          "Online",
          "Online",
          "Outlet",
          "Online",
          "Online",
          "Online",
          "Outlet",
          "Outlet",
          "Outlet",
          "Outlet",
          "Online",
          "Outlet",
          "Online",
          "Online",
          "Online",
          "Online",
          "Outlet",
          "Online",
          "Outlet",
          "Online",
          "Online",
          "Outlet",
          "Online",
          "Outlet",
          "Online",
          "Outlet",
          "Online",
          "Online",
          "Outlet",
          "Online",
          "Online",
          "Outlet",
          "Online",
          "Online",
          "Outlet",
          "Online",
          "Online",
          "Online",
          "Outlet",
          "Online",
          "Outlet",
          "Online",
          "Outlet",
          "Online",
          "Online",
          "Outlet",
          "Outlet",
          "Online",
          "Outlet",
          "Online",
          "Online",
          "Online",
          "Online",
          "Online",
          "Outlet",
          "Online",
          "Outlet",
          "Outlet",
          "Online",
          "Online",
          "Online",
          "Online",
          "Online",
          "Online",
          "Outlet",
          "Online",
          "Online",
          "Outlet",
          "Outlet",
          "Outlet",
          "Outlet",
          "Online",
          "Online",
          "Online",
          "Online",
          "In-store",
          "Outlet",
          "Online",
          "Outlet",
          "Online",
          "Online",
          "Outlet",
          "Online",
          "Online",
          "Outlet",
          "Outlet",
          "Online",
          "Outlet",
          "Online",
          "Online",
          "Outlet",
          "Online",
          "Online",
          "Online",
          "Outlet",
          "Online",
          "Outlet",
          "Outlet",
          "Online",
          "Outlet",
          "Online",
          "Online",
          "Outlet",
          "Online",
          "Online",
          "Online",
          "Outlet",
          "Outlet",
          "Outlet",
          "Online",
          "Online",
          "Online",
          "Online",
          "Online",
          "Online",
          "Online",
          "Online",
          "Outlet",
          "Outlet",
          "Online",
          "Online",
          "Online",
          "Outlet",
          "Online",
          "Outlet",
          "Online",
          "Online",
          "Outlet",
          "Outlet",
          "Online",
          "Online",
          "Outlet",
          "Online",
          "Online",
          "Online",
          "Outlet",
          "Outlet",
          "Outlet",
          "Online",
          "Online",
          "Online",
          "Online",
          "Online",
          "Online",
          "Online",
          "Outlet",
          "Outlet",
          "Online",
          "Online",
          "Online",
          "Outlet",
          "Online",
          "Online",
          "Online",
          "Outlet",
          "Outlet",
          "Online",
          "Outlet",
          "Online",
          "Online",
          "Outlet",
          "Outlet",
          "Online",
          "Outlet",
          "Online",
          "Online",
          "Online",
          "Outlet",
          "Online",
          "Outlet",
          "Online",
          "Online",
          "Online",
          "Online",
          "Online",
          "Online",
          "Online",
          "Outlet",
          "Online",
          "Online",
          "Online",
          "Outlet",
          "Online",
          "Online",
          "Online",
          "Online",
          "Online",
          "Outlet",
          "Outlet",
          "Online",
          "Online",
          "Outlet",
          "Outlet",
          "Online",
          "Online",
          "Outlet",
          "Online",
          "Online",
          "Online",
          "Online",
          "Online",
          "Online",
          "Online",
          "Online",
          "Online",
          "Online",
          "Outlet",
          "Online",
          "Online",
          "Online",
          "Outlet",
          "Online",
          "Outlet",
          "Online",
          "Online",
          "Online",
          "Online",
          "Online",
          "Online",
          "Online",
          "Online",
          "Outlet",
          "Online",
          "Online",
          "Online",
          "Online"
         ],
         "xaxis": "x",
         "y": [
          11484741,
          10643905,
          10617500,
          10592715,
          9800000,
          9303923,
          9101592,
          9010000.000000002,
          8646005,
          8502705,
          8272500.000000001,
          8014099,
          7933231,
          7629708,
          7522500.000000001,
          7107767,
          6862621,
          6851250,
          6582500.000000001,
          6465330,
          6174511,
          6124663,
          5874520,
          5786397,
          5644948.000000001,
          5438257,
          5286250,
          5161250,
          4914897,
          4910000.000000001,
          4844991,
          4807086,
          4692374,
          4598750,
          4556660.000000001,
          4464402,
          4412000,
          4411250,
          4316250,
          4281500,
          4264250,
          4232500.000000001,
          4232500,
          4223750,
          4123750.0000000005,
          4083750.0000000005,
          4003750,
          3996250,
          3990466,
          3976250.0000000005,
          3966250.0000000005,
          3945011,
          3937500.0000000005,
          3929750,
          3923152.0000000005,
          3922059.0000000005,
          3842500.0000000005,
          3817906.0000000005,
          3811108.0000000005,
          3805073.0000000005,
          3796250,
          3786250,
          3780747.0000000005,
          3780468,
          3747298,
          3747041,
          3744447.0000000005,
          3720405.0000000005,
          3699590,
          3693750,
          3680913,
          3678750.0000000005,
          3678426.0000000005,
          3591537.0000000005,
          3540000,
          3519938,
          3518750.0000000005,
          3500004,
          3497500,
          3433999.9999999995,
          3431862,
          3398750,
          3315757,
          3307500,
          3301250,
          3290647,
          3282500,
          3262749.9999999995,
          3260000.0000000005,
          3208460,
          3202750,
          3172241,
          3170253,
          3169247.0000000005,
          3148035.0000000005,
          3125262,
          3119064.0000000005,
          3102651,
          3098870,
          3081969,
          3039971.0000000005,
          3037241.0000000005,
          3030000,
          3008250,
          3002325,
          2987784,
          2982925,
          2973750,
          2973249.9999999995,
          2970467,
          2939250,
          2938750,
          2891500,
          2891056.0000000005,
          2886238,
          2883508,
          2872549,
          2846250,
          2827500.0000000005,
          2825000.0000000005,
          2812500,
          2812070,
          2805000,
          2802500,
          2770609.0000000005,
          2730000,
          2725000,
          2720000.0000000005,
          2685749.9999999995,
          2667500,
          2664137,
          2651250,
          2642000,
          2640750,
          2629531.0000000005,
          2627500,
          2625836,
          2620000,
          2592894.0000000005,
          2573750,
          2548750,
          2526422.0000000005,
          2525246.0000000005,
          2482491,
          2472312.0000000005,
          2466250.0000000005,
          2458086,
          2456250,
          2426250,
          2423500,
          2413000,
          2381897,
          2361500,
          2348500,
          2302500,
          2289168,
          2288173,
          2287737.0000000005,
          2281250,
          2266500,
          2262726.0000000005,
          2249858,
          2246841,
          2235911,
          2226488,
          2216720,
          2209500,
          2185000.0000000005,
          2171250,
          2156781,
          2133750,
          2123750,
          2118818,
          2110000,
          2075750,
          2070000.0000000002,
          2057105,
          2049413,
          2047736,
          2022500.0000000002,
          2003313,
          1993750,
          1989999.9999999998,
          1985000,
          1980000,
          1962499.9999999998,
          1948184,
          1911250,
          1908576.0000000002,
          1903750.0000000002,
          1877500,
          1860500.0000000002,
          1846262.0000000002,
          1840500,
          1836250,
          1827500,
          1820218.0000000002,
          1809410,
          1793316.0000000002,
          1786442,
          1784091.0000000002,
          1775928.0000000002,
          1775000,
          1741570,
          1737000,
          1713750,
          1702500,
          1682499.9999999998,
          1677500,
          1663750,
          1655000,
          1642508,
          1633750,
          1610000,
          1607500,
          1596046.0000000002,
          1586250,
          1576409.0000000002,
          1564999.9999999998,
          1539696,
          1528435.0000000002,
          1521250,
          1511250,
          1498750,
          1496250.0000000002,
          1488750,
          1470688.0000000002,
          1469278.0000000002,
          1464750,
          1450000.0000000002,
          1436250.0000000002,
          1411250,
          1408750,
          1406250,
          1405053,
          1392365.0000000002,
          1378750,
          1376250,
          1363936,
          1359919.0000000002,
          1334701.0000000002,
          1333750.0000000002,
          1327250,
          1284513,
          1282324,
          1273750.0000000002,
          1267250,
          1256250,
          1254271,
          1226250,
          1217793,
          1211250,
          1192500,
          1172500,
          1168750,
          1161721.0000000002,
          1157500,
          1146250,
          1145750,
          1142110.0000000002,
          1134000.0000000002,
          1131250,
          1130000,
          1120133.0000000002,
          1116162.0000000002,
          1113750,
          1093750,
          1086000,
          1075000,
          1072500,
          1068832,
          1061250.0000000002,
          1050000.0000000002,
          1029213,
          1027500,
          1025000,
          1013750.0000000001,
          995364,
          980045.0000000001,
          969999.9999999999,
          963548,
          945000,
          937641,
          932000.0000000001,
          931671,
          927500,
          927500,
          918750,
          905788,
          905000,
          903469.0000000001,
          901250,
          887500.0000000001,
          885000,
          880000,
          878484,
          865000.0000000001,
          842585,
          842500,
          796250,
          787500,
          783250,
          781250,
          775007,
          772500,
          746250,
          741250,
          740750.0000000001,
          735500,
          715500,
          697500,
          686750,
          685516,
          646250,
          642500,
          639750,
          611250,
          591250,
          585000,
          575000,
          566250,
          558750,
          551467,
          536250,
          533750,
          532500,
          526250,
          517500,
          484999.99999999994,
          453750,
          411250,
          348300.00000000006,
          346250.00000000006,
          342775,
          311485,
          308309,
          284618,
          276731,
          274934,
          269248,
          267806,
          253676,
          247800,
          238749.99999999997,
          236768,
          236523,
          230253,
          218342,
          216097,
          214248,
          210331,
          210000,
          207325,
          199309,
          199185,
          194379,
          189442,
          182500,
          179451,
          159536,
          152294,
          148093,
          135307,
          134012,
          127103,
          114962,
          114147,
          114017,
          113618,
          112832,
          111797,
          110455,
          110434,
          106555,
          105737,
          105542,
          103196,
          102456,
          102409,
          102315,
          102169,
          101067,
          100272,
          100068,
          100042,
          99798,
          99032,
          97469,
          97455,
          97229,
          97168,
          96925,
          95689.00000000001,
          95277,
          94836,
          92810,
          92591,
          92512,
          91830,
          91089,
          90409,
          90225,
          90094,
          89832,
          89806,
          89696,
          89045,
          88197,
          87773,
          87080,
          86997,
          85864,
          85454,
          85453,
          84000,
          83422,
          83334,
          82879,
          82725,
          82563,
          82040,
          81987,
          81825,
          81061,
          80408,
          79865,
          79701,
          79213,
          78940,
          78743,
          78558,
          78545,
          78307,
          78130,
          77949,
          77354,
          76825,
          76693,
          76382,
          75832,
          75751,
          75179,
          74922,
          74840,
          74597,
          73998,
          73443,
          73438,
          73400,
          72857,
          72753,
          72521,
          72499,
          72258,
          71013,
          70573,
          70522,
          70257,
          70014,
          69988,
          67771,
          67738,
          67688,
          67534,
          67460,
          67332,
          67095,
          66759,
          66370,
          66351,
          66286,
          66257,
          65457,
          64917,
          64283,
          64155,
          64025,
          63860,
          63609,
          63506,
          62925,
          62760,
          62479,
          62431,
          62222,
          61632,
          61424,
          60746,
          60641,
          60512,
          60407,
          60000,
          59659,
          59450,
          58983,
          58892,
          57838,
          57332,
          57231,
          57095,
          56635,
          56553,
          56550,
          56370,
          56189,
          56103,
          56032,
          55613,
          55324,
          54881,
          54757,
          54495,
          53418,
          53401,
          53024,
          52659,
          52491,
          52047,
          51960,
          50805,
          50648,
          50506,
          50307,
          50046,
          49953,
          49645,
          49318,
          48845,
          48403,
          47909,
          45999,
          45603,
          45533,
          44046,
          43796,
          43774,
          43559,
          42978,
          42627,
          42620,
          42163,
          42022,
          41874,
          41319,
          40632,
          40524,
          40387,
          40318,
          40123,
          39986,
          39964,
          39939,
          39814,
          39733,
          39323,
          39020,
          38725,
          38487,
          37547,
          37483,
          37300,
          37296,
          37227,
          36307,
          36239,
          36182,
          36002,
          35994,
          34773,
          34764,
          34435,
          33914,
          33706,
          33287,
          33089,
          33028,
          32368,
          32285,
          31699,
          31418,
          31330,
          31312,
          31026,
          30833,
          30698,
          30550,
          30161,
          30030,
          29970,
          29933,
          29851,
          29762,
          29532,
          29525,
          29391,
          29149,
          28521,
          28379,
          28374,
          28259,
          28148,
          27791,
          27587,
          26976,
          26824,
          26468,
          26286,
          25991,
          25919,
          25810,
          25101,
          24899,
          24692,
          24233,
          24198,
          23928,
          23549,
          23307,
          23011,
          22598,
          22545,
          22362,
          22297,
          22103,
          21927,
          20727,
          20670,
          20477,
          20215,
          20133,
          19656,
          19471,
          18854,
          17553,
          16696,
          16021,
          15979,
          15005,
          14654,
          14489,
          12697,
          11927
         ],
         "yaxis": "y"
        }
       ],
       "layout": {
        "barmode": "relative",
        "coloraxis": {
         "colorbar": {
          "title": {
           "text": "Total Sales"
          }
         },
         "colorscale": [
          [
           0,
           "#0d0887"
          ],
          [
           0.1111111111111111,
           "#46039f"
          ],
          [
           0.2222222222222222,
           "#7201a8"
          ],
          [
           0.3333333333333333,
           "#9c179e"
          ],
          [
           0.4444444444444444,
           "#bd3786"
          ],
          [
           0.5555555555555556,
           "#d8576b"
          ],
          [
           0.6666666666666666,
           "#ed7953"
          ],
          [
           0.7777777777777778,
           "#fb9f3a"
          ],
          [
           0.8888888888888888,
           "#fdca26"
          ],
          [
           1,
           "#f0f921"
          ]
         ]
        },
        "legend": {
         "tracegroupgap": 0
        },
        "showlegend": false,
        "template": {
         "data": {
          "bar": [
           {
            "error_x": {
             "color": "#2a3f5f"
            },
            "error_y": {
             "color": "#2a3f5f"
            },
            "marker": {
             "line": {
              "color": "#E5ECF6",
              "width": 0.5
             },
             "pattern": {
              "fillmode": "overlay",
              "size": 10,
              "solidity": 0.2
             }
            },
            "type": "bar"
           }
          ],
          "barpolar": [
           {
            "marker": {
             "line": {
              "color": "#E5ECF6",
              "width": 0.5
             },
             "pattern": {
              "fillmode": "overlay",
              "size": 10,
              "solidity": 0.2
             }
            },
            "type": "barpolar"
           }
          ],
          "carpet": [
           {
            "aaxis": {
             "endlinecolor": "#2a3f5f",
             "gridcolor": "white",
             "linecolor": "white",
             "minorgridcolor": "white",
             "startlinecolor": "#2a3f5f"
            },
            "baxis": {
             "endlinecolor": "#2a3f5f",
             "gridcolor": "white",
             "linecolor": "white",
             "minorgridcolor": "white",
             "startlinecolor": "#2a3f5f"
            },
            "type": "carpet"
           }
          ],
          "choropleth": [
           {
            "colorbar": {
             "outlinewidth": 0,
             "ticks": ""
            },
            "type": "choropleth"
           }
          ],
          "contour": [
           {
            "colorbar": {
             "outlinewidth": 0,
             "ticks": ""
            },
            "colorscale": [
             [
              0,
              "#0d0887"
             ],
             [
              0.1111111111111111,
              "#46039f"
             ],
             [
              0.2222222222222222,
              "#7201a8"
             ],
             [
              0.3333333333333333,
              "#9c179e"
             ],
             [
              0.4444444444444444,
              "#bd3786"
             ],
             [
              0.5555555555555556,
              "#d8576b"
             ],
             [
              0.6666666666666666,
              "#ed7953"
             ],
             [
              0.7777777777777778,
              "#fb9f3a"
             ],
             [
              0.8888888888888888,
              "#fdca26"
             ],
             [
              1,
              "#f0f921"
             ]
            ],
            "type": "contour"
           }
          ],
          "contourcarpet": [
           {
            "colorbar": {
             "outlinewidth": 0,
             "ticks": ""
            },
            "type": "contourcarpet"
           }
          ],
          "heatmap": [
           {
            "colorbar": {
             "outlinewidth": 0,
             "ticks": ""
            },
            "colorscale": [
             [
              0,
              "#0d0887"
             ],
             [
              0.1111111111111111,
              "#46039f"
             ],
             [
              0.2222222222222222,
              "#7201a8"
             ],
             [
              0.3333333333333333,
              "#9c179e"
             ],
             [
              0.4444444444444444,
              "#bd3786"
             ],
             [
              0.5555555555555556,
              "#d8576b"
             ],
             [
              0.6666666666666666,
              "#ed7953"
             ],
             [
              0.7777777777777778,
              "#fb9f3a"
             ],
             [
              0.8888888888888888,
              "#fdca26"
             ],
             [
              1,
              "#f0f921"
             ]
            ],
            "type": "heatmap"
           }
          ],
          "heatmapgl": [
           {
            "colorbar": {
             "outlinewidth": 0,
             "ticks": ""
            },
            "colorscale": [
             [
              0,
              "#0d0887"
             ],
             [
              0.1111111111111111,
              "#46039f"
             ],
             [
              0.2222222222222222,
              "#7201a8"
             ],
             [
              0.3333333333333333,
              "#9c179e"
             ],
             [
              0.4444444444444444,
              "#bd3786"
             ],
             [
              0.5555555555555556,
              "#d8576b"
             ],
             [
              0.6666666666666666,
              "#ed7953"
             ],
             [
              0.7777777777777778,
              "#fb9f3a"
             ],
             [
              0.8888888888888888,
              "#fdca26"
             ],
             [
              1,
              "#f0f921"
             ]
            ],
            "type": "heatmapgl"
           }
          ],
          "histogram": [
           {
            "marker": {
             "pattern": {
              "fillmode": "overlay",
              "size": 10,
              "solidity": 0.2
             }
            },
            "type": "histogram"
           }
          ],
          "histogram2d": [
           {
            "colorbar": {
             "outlinewidth": 0,
             "ticks": ""
            },
            "colorscale": [
             [
              0,
              "#0d0887"
             ],
             [
              0.1111111111111111,
              "#46039f"
             ],
             [
              0.2222222222222222,
              "#7201a8"
             ],
             [
              0.3333333333333333,
              "#9c179e"
             ],
             [
              0.4444444444444444,
              "#bd3786"
             ],
             [
              0.5555555555555556,
              "#d8576b"
             ],
             [
              0.6666666666666666,
              "#ed7953"
             ],
             [
              0.7777777777777778,
              "#fb9f3a"
             ],
             [
              0.8888888888888888,
              "#fdca26"
             ],
             [
              1,
              "#f0f921"
             ]
            ],
            "type": "histogram2d"
           }
          ],
          "histogram2dcontour": [
           {
            "colorbar": {
             "outlinewidth": 0,
             "ticks": ""
            },
            "colorscale": [
             [
              0,
              "#0d0887"
             ],
             [
              0.1111111111111111,
              "#46039f"
             ],
             [
              0.2222222222222222,
              "#7201a8"
             ],
             [
              0.3333333333333333,
              "#9c179e"
             ],
             [
              0.4444444444444444,
              "#bd3786"
             ],
             [
              0.5555555555555556,
              "#d8576b"
             ],
             [
              0.6666666666666666,
              "#ed7953"
             ],
             [
              0.7777777777777778,
              "#fb9f3a"
             ],
             [
              0.8888888888888888,
              "#fdca26"
             ],
             [
              1,
              "#f0f921"
             ]
            ],
            "type": "histogram2dcontour"
           }
          ],
          "mesh3d": [
           {
            "colorbar": {
             "outlinewidth": 0,
             "ticks": ""
            },
            "type": "mesh3d"
           }
          ],
          "parcoords": [
           {
            "line": {
             "colorbar": {
              "outlinewidth": 0,
              "ticks": ""
             }
            },
            "type": "parcoords"
           }
          ],
          "pie": [
           {
            "automargin": true,
            "type": "pie"
           }
          ],
          "scatter": [
           {
            "fillpattern": {
             "fillmode": "overlay",
             "size": 10,
             "solidity": 0.2
            },
            "type": "scatter"
           }
          ],
          "scatter3d": [
           {
            "line": {
             "colorbar": {
              "outlinewidth": 0,
              "ticks": ""
             }
            },
            "marker": {
             "colorbar": {
              "outlinewidth": 0,
              "ticks": ""
             }
            },
            "type": "scatter3d"
           }
          ],
          "scattercarpet": [
           {
            "marker": {
             "colorbar": {
              "outlinewidth": 0,
              "ticks": ""
             }
            },
            "type": "scattercarpet"
           }
          ],
          "scattergeo": [
           {
            "marker": {
             "colorbar": {
              "outlinewidth": 0,
              "ticks": ""
             }
            },
            "type": "scattergeo"
           }
          ],
          "scattergl": [
           {
            "marker": {
             "colorbar": {
              "outlinewidth": 0,
              "ticks": ""
             }
            },
            "type": "scattergl"
           }
          ],
          "scattermapbox": [
           {
            "marker": {
             "colorbar": {
              "outlinewidth": 0,
              "ticks": ""
             }
            },
            "type": "scattermapbox"
           }
          ],
          "scatterpolar": [
           {
            "marker": {
             "colorbar": {
              "outlinewidth": 0,
              "ticks": ""
             }
            },
            "type": "scatterpolar"
           }
          ],
          "scatterpolargl": [
           {
            "marker": {
             "colorbar": {
              "outlinewidth": 0,
              "ticks": ""
             }
            },
            "type": "scatterpolargl"
           }
          ],
          "scatterternary": [
           {
            "marker": {
             "colorbar": {
              "outlinewidth": 0,
              "ticks": ""
             }
            },
            "type": "scatterternary"
           }
          ],
          "surface": [
           {
            "colorbar": {
             "outlinewidth": 0,
             "ticks": ""
            },
            "colorscale": [
             [
              0,
              "#0d0887"
             ],
             [
              0.1111111111111111,
              "#46039f"
             ],
             [
              0.2222222222222222,
              "#7201a8"
             ],
             [
              0.3333333333333333,
              "#9c179e"
             ],
             [
              0.4444444444444444,
              "#bd3786"
             ],
             [
              0.5555555555555556,
              "#d8576b"
             ],
             [
              0.6666666666666666,
              "#ed7953"
             ],
             [
              0.7777777777777778,
              "#fb9f3a"
             ],
             [
              0.8888888888888888,
              "#fdca26"
             ],
             [
              1,
              "#f0f921"
             ]
            ],
            "type": "surface"
           }
          ],
          "table": [
           {
            "cells": {
             "fill": {
              "color": "#EBF0F8"
             },
             "line": {
              "color": "white"
             }
            },
            "header": {
             "fill": {
              "color": "#C8D4E3"
             },
             "line": {
              "color": "white"
             }
            },
            "type": "table"
           }
          ]
         },
         "layout": {
          "annotationdefaults": {
           "arrowcolor": "#2a3f5f",
           "arrowhead": 0,
           "arrowwidth": 1
          },
          "autotypenumbers": "strict",
          "coloraxis": {
           "colorbar": {
            "outlinewidth": 0,
            "ticks": ""
           }
          },
          "colorscale": {
           "diverging": [
            [
             0,
             "#8e0152"
            ],
            [
             0.1,
             "#c51b7d"
            ],
            [
             0.2,
             "#de77ae"
            ],
            [
             0.3,
             "#f1b6da"
            ],
            [
             0.4,
             "#fde0ef"
            ],
            [
             0.5,
             "#f7f7f7"
            ],
            [
             0.6,
             "#e6f5d0"
            ],
            [
             0.7,
             "#b8e186"
            ],
            [
             0.8,
             "#7fbc41"
            ],
            [
             0.9,
             "#4d9221"
            ],
            [
             1,
             "#276419"
            ]
           ],
           "sequential": [
            [
             0,
             "#0d0887"
            ],
            [
             0.1111111111111111,
             "#46039f"
            ],
            [
             0.2222222222222222,
             "#7201a8"
            ],
            [
             0.3333333333333333,
             "#9c179e"
            ],
            [
             0.4444444444444444,
             "#bd3786"
            ],
            [
             0.5555555555555556,
             "#d8576b"
            ],
            [
             0.6666666666666666,
             "#ed7953"
            ],
            [
             0.7777777777777778,
             "#fb9f3a"
            ],
            [
             0.8888888888888888,
             "#fdca26"
            ],
            [
             1,
             "#f0f921"
            ]
           ],
           "sequentialminus": [
            [
             0,
             "#0d0887"
            ],
            [
             0.1111111111111111,
             "#46039f"
            ],
            [
             0.2222222222222222,
             "#7201a8"
            ],
            [
             0.3333333333333333,
             "#9c179e"
            ],
            [
             0.4444444444444444,
             "#bd3786"
            ],
            [
             0.5555555555555556,
             "#d8576b"
            ],
            [
             0.6666666666666666,
             "#ed7953"
            ],
            [
             0.7777777777777778,
             "#fb9f3a"
            ],
            [
             0.8888888888888888,
             "#fdca26"
            ],
            [
             1,
             "#f0f921"
            ]
           ]
          },
          "colorway": [
           "#636efa",
           "#EF553B",
           "#00cc96",
           "#ab63fa",
           "#FFA15A",
           "#19d3f3",
           "#FF6692",
           "#B6E880",
           "#FF97FF",
           "#FECB52"
          ],
          "font": {
           "color": "#2a3f5f"
          },
          "geo": {
           "bgcolor": "white",
           "lakecolor": "white",
           "landcolor": "#E5ECF6",
           "showlakes": true,
           "showland": true,
           "subunitcolor": "white"
          },
          "hoverlabel": {
           "align": "left"
          },
          "hovermode": "closest",
          "mapbox": {
           "style": "light"
          },
          "paper_bgcolor": "white",
          "plot_bgcolor": "#E5ECF6",
          "polar": {
           "angularaxis": {
            "gridcolor": "white",
            "linecolor": "white",
            "ticks": ""
           },
           "bgcolor": "#E5ECF6",
           "radialaxis": {
            "gridcolor": "white",
            "linecolor": "white",
            "ticks": ""
           }
          },
          "scene": {
           "xaxis": {
            "backgroundcolor": "#E5ECF6",
            "gridcolor": "white",
            "gridwidth": 2,
            "linecolor": "white",
            "showbackground": true,
            "ticks": "",
            "zerolinecolor": "white"
           },
           "yaxis": {
            "backgroundcolor": "#E5ECF6",
            "gridcolor": "white",
            "gridwidth": 2,
            "linecolor": "white",
            "showbackground": true,
            "ticks": "",
            "zerolinecolor": "white"
           },
           "zaxis": {
            "backgroundcolor": "#E5ECF6",
            "gridcolor": "white",
            "gridwidth": 2,
            "linecolor": "white",
            "showbackground": true,
            "ticks": "",
            "zerolinecolor": "white"
           }
          },
          "shapedefaults": {
           "line": {
            "color": "#2a3f5f"
           }
          },
          "ternary": {
           "aaxis": {
            "gridcolor": "white",
            "linecolor": "white",
            "ticks": ""
           },
           "baxis": {
            "gridcolor": "white",
            "linecolor": "white",
            "ticks": ""
           },
           "bgcolor": "#E5ECF6",
           "caxis": {
            "gridcolor": "white",
            "linecolor": "white",
            "ticks": ""
           }
          },
          "title": {
           "x": 0.05
          },
          "xaxis": {
           "automargin": true,
           "gridcolor": "white",
           "linecolor": "white",
           "ticks": "",
           "title": {
            "standoff": 15
           },
           "zerolinecolor": "white",
           "zerolinewidth": 2
          },
          "yaxis": {
           "automargin": true,
           "gridcolor": "white",
           "linecolor": "white",
           "ticks": "",
           "title": {
            "standoff": 15
           },
           "zerolinecolor": "white",
           "zerolinewidth": 2
          }
         }
        },
        "title": {
         "text": "Total Sales by Sales Method"
        },
        "xaxis": {
         "anchor": "y",
         "categoryorder": "total descending",
         "domain": [
          0,
          1
         ],
         "title": {
          "text": "Sales Method"
         }
        },
        "yaxis": {
         "anchor": "x",
         "domain": [
          0,
          1
         ],
         "title": {
          "text": "Total Sales"
         }
        }
       }
      }
     },
     "metadata": {},
     "output_type": "display_data"
    }
   ],
   "source": [
    "import plotly.express as px\n",
    "\n",
    "# Sorting the data for better visualization\n",
    "salesmethod_and_totalsales = salesmethod_and_totalsales.sort_values(by='Total Sales', ascending=False)\n",
    "\n",
    "# Creating an interactive bar chart using Plotly\n",
    "fig = px.bar(salesmethod_and_totalsales, \n",
    "             x='Sales Method', \n",
    "             y='Total Sales',\n",
    "             title='Total Sales by Sales Method',\n",
    "             color='Total Sales',  # Color bars by their size for better visualization\n",
    "             labels={'Total Sales': 'Total Sales', 'Sales Method': 'Sales Method'})\n",
    "\n",
    "# Customize layout for a better look\n",
    "fig.update_layout(\n",
    "    xaxis_title=\"Sales Method\",\n",
    "    yaxis_title=\"Total Sales\",\n",
    "    xaxis={'categoryorder':'total descending'},  # Sort bars by size\n",
    "    showlegend=False\n",
    ")\n",
    "\n",
    "# Show the plot\n",
    "fig.show()\n"
   ]
  },
  {
   "cell_type": "markdown",
   "id": "5bc8613c",
   "metadata": {},
   "source": [
    "##### Question 4. Efficiency of Sales Methods: By analyzing sales method like in-store and online we can find out which is best effective.\n",
    "\n",
    "1. For this analysis, I created 3 choropleth, one table and one chart that will help us find out which is the best sales method for Adidas.\n",
    "\n",
    "2. By looking at the charts and the Choropleth maps, clearly, In-store is the best method to sell followed by outlet and then online. "
   ]
  },
  {
   "cell_type": "markdown",
   "id": "a887a8fb",
   "metadata": {},
   "source": [
    "### 5. Price optimization\n",
    "\n",
    "We can find out if only a certin price range affects sales volume."
   ]
  },
  {
   "cell_type": "code",
   "execution_count": 32,
   "id": "00313497",
   "metadata": {},
   "outputs": [
    {
     "data": {
      "text/html": [
       "<div>\n",
       "<style scoped>\n",
       "    .dataframe tbody tr th:only-of-type {\n",
       "        vertical-align: middle;\n",
       "    }\n",
       "\n",
       "    .dataframe tbody tr th {\n",
       "        vertical-align: top;\n",
       "    }\n",
       "\n",
       "    .dataframe thead th {\n",
       "        text-align: right;\n",
       "    }\n",
       "</style>\n",
       "<table border=\"1\" class=\"dataframe\">\n",
       "  <thead>\n",
       "    <tr style=\"text-align: right;\">\n",
       "      <th></th>\n",
       "      <th>Price per Unit</th>\n",
       "      <th>Units Sold</th>\n",
       "    </tr>\n",
       "  </thead>\n",
       "  <tbody>\n",
       "    <tr>\n",
       "      <th>36</th>\n",
       "      <td>60.0</td>\n",
       "      <td>1275</td>\n",
       "    </tr>\n",
       "    <tr>\n",
       "      <th>6</th>\n",
       "      <td>50.0</td>\n",
       "      <td>1250</td>\n",
       "    </tr>\n",
       "    <tr>\n",
       "      <th>30</th>\n",
       "      <td>60.0</td>\n",
       "      <td>1250</td>\n",
       "    </tr>\n",
       "    <tr>\n",
       "      <th>42</th>\n",
       "      <td>60.0</td>\n",
       "      <td>1250</td>\n",
       "    </tr>\n",
       "    <tr>\n",
       "      <th>24</th>\n",
       "      <td>60.0</td>\n",
       "      <td>1220</td>\n",
       "    </tr>\n",
       "    <tr>\n",
       "      <th>...</th>\n",
       "      <td>...</td>\n",
       "      <td>...</td>\n",
       "    </tr>\n",
       "    <tr>\n",
       "      <th>4914</th>\n",
       "      <td>42.0</td>\n",
       "      <td>6</td>\n",
       "    </tr>\n",
       "    <tr>\n",
       "      <th>4907</th>\n",
       "      <td>33.0</td>\n",
       "      <td>0</td>\n",
       "    </tr>\n",
       "    <tr>\n",
       "      <th>4913</th>\n",
       "      <td>27.0</td>\n",
       "      <td>0</td>\n",
       "    </tr>\n",
       "    <tr>\n",
       "      <th>1019</th>\n",
       "      <td>35.0</td>\n",
       "      <td>0</td>\n",
       "    </tr>\n",
       "    <tr>\n",
       "      <th>1025</th>\n",
       "      <td>30.0</td>\n",
       "      <td>0</td>\n",
       "    </tr>\n",
       "  </tbody>\n",
       "</table>\n",
       "<p>9648 rows × 2 columns</p>\n",
       "</div>"
      ],
      "text/plain": [
       "      Price per Unit  Units Sold\n",
       "36              60.0        1275\n",
       "6               50.0        1250\n",
       "30              60.0        1250\n",
       "42              60.0        1250\n",
       "24              60.0        1220\n",
       "...              ...         ...\n",
       "4914            42.0           6\n",
       "4907            33.0           0\n",
       "4913            27.0           0\n",
       "1019            35.0           0\n",
       "1025            30.0           0\n",
       "\n",
       "[9648 rows x 2 columns]"
      ]
     },
     "execution_count": 32,
     "metadata": {},
     "output_type": "execute_result"
    }
   ],
   "source": [
    "price_df = df[['Price per Unit', 'Units Sold']]\n",
    "sorted_price_df = price_df.sort_values(by= 'Units Sold', ascending=False)\n",
    "sorted_price_df"
   ]
  },
  {
   "cell_type": "code",
   "execution_count": 33,
   "id": "0d67f13a",
   "metadata": {},
   "outputs": [
    {
     "name": "stderr",
     "output_type": "stream",
     "text": [
      "C:\\Users\\padwa\\AppData\\Local\\Temp\\ipykernel_1820\\648055853.py:3: SettingWithCopyWarning:\n",
      "\n",
      "\n",
      "A value is trying to be set on a copy of a slice from a DataFrame.\n",
      "Try using .loc[row_indexer,col_indexer] = value instead\n",
      "\n",
      "See the caveats in the documentation: https://pandas.pydata.org/pandas-docs/stable/user_guide/indexing.html#returning-a-view-versus-a-copy\n",
      "\n",
      "C:\\Users\\padwa\\AppData\\Local\\Temp\\ipykernel_1820\\648055853.py:6: SettingWithCopyWarning:\n",
      "\n",
      "\n",
      "A value is trying to be set on a copy of a slice from a DataFrame.\n",
      "Try using .loc[row_indexer,col_indexer] = value instead\n",
      "\n",
      "See the caveats in the documentation: https://pandas.pydata.org/pandas-docs/stable/user_guide/indexing.html#returning-a-view-versus-a-copy\n",
      "\n"
     ]
    },
    {
     "data": {
      "application/vnd.plotly.v1+json": {
       "config": {
        "plotlyServerURL": "https://plot.ly"
       },
       "data": [
        {
         "alignmentgroup": "True",
         "hovertemplate": "Price Range ($)=%{x}<br>Total Units Sold=%{y}<extra></extra>",
         "legendgroup": "",
         "marker": {
          "color": "#636efa",
          "pattern": {
           "shape": ""
          }
         },
         "name": "",
         "offsetgroup": "",
         "orientation": "v",
         "showlegend": false,
         "textposition": "auto",
         "type": "bar",
         "x": [
          "(0, 10]",
          "(10, 20]",
          "(100, 110]",
          "(20, 30]",
          "(30, 40]",
          "(40, 50]",
          "(50, 60]",
          "(60, 70]",
          "(70, 80]",
          "(80, 90]",
          "(90, 100]",
          "nan"
         ],
         "xaxis": "x",
         "y": [
          2486,
          69559,
          3144,
          200244,
          539839,
          662996,
          502865,
          342884,
          87780,
          47288,
          16976,
          2800
         ],
         "yaxis": "y"
        }
       ],
       "layout": {
        "barmode": "relative",
        "legend": {
         "tracegroupgap": 0
        },
        "template": {
         "data": {
          "bar": [
           {
            "error_x": {
             "color": "#2a3f5f"
            },
            "error_y": {
             "color": "#2a3f5f"
            },
            "marker": {
             "line": {
              "color": "#E5ECF6",
              "width": 0.5
             },
             "pattern": {
              "fillmode": "overlay",
              "size": 10,
              "solidity": 0.2
             }
            },
            "type": "bar"
           }
          ],
          "barpolar": [
           {
            "marker": {
             "line": {
              "color": "#E5ECF6",
              "width": 0.5
             },
             "pattern": {
              "fillmode": "overlay",
              "size": 10,
              "solidity": 0.2
             }
            },
            "type": "barpolar"
           }
          ],
          "carpet": [
           {
            "aaxis": {
             "endlinecolor": "#2a3f5f",
             "gridcolor": "white",
             "linecolor": "white",
             "minorgridcolor": "white",
             "startlinecolor": "#2a3f5f"
            },
            "baxis": {
             "endlinecolor": "#2a3f5f",
             "gridcolor": "white",
             "linecolor": "white",
             "minorgridcolor": "white",
             "startlinecolor": "#2a3f5f"
            },
            "type": "carpet"
           }
          ],
          "choropleth": [
           {
            "colorbar": {
             "outlinewidth": 0,
             "ticks": ""
            },
            "type": "choropleth"
           }
          ],
          "contour": [
           {
            "colorbar": {
             "outlinewidth": 0,
             "ticks": ""
            },
            "colorscale": [
             [
              0,
              "#0d0887"
             ],
             [
              0.1111111111111111,
              "#46039f"
             ],
             [
              0.2222222222222222,
              "#7201a8"
             ],
             [
              0.3333333333333333,
              "#9c179e"
             ],
             [
              0.4444444444444444,
              "#bd3786"
             ],
             [
              0.5555555555555556,
              "#d8576b"
             ],
             [
              0.6666666666666666,
              "#ed7953"
             ],
             [
              0.7777777777777778,
              "#fb9f3a"
             ],
             [
              0.8888888888888888,
              "#fdca26"
             ],
             [
              1,
              "#f0f921"
             ]
            ],
            "type": "contour"
           }
          ],
          "contourcarpet": [
           {
            "colorbar": {
             "outlinewidth": 0,
             "ticks": ""
            },
            "type": "contourcarpet"
           }
          ],
          "heatmap": [
           {
            "colorbar": {
             "outlinewidth": 0,
             "ticks": ""
            },
            "colorscale": [
             [
              0,
              "#0d0887"
             ],
             [
              0.1111111111111111,
              "#46039f"
             ],
             [
              0.2222222222222222,
              "#7201a8"
             ],
             [
              0.3333333333333333,
              "#9c179e"
             ],
             [
              0.4444444444444444,
              "#bd3786"
             ],
             [
              0.5555555555555556,
              "#d8576b"
             ],
             [
              0.6666666666666666,
              "#ed7953"
             ],
             [
              0.7777777777777778,
              "#fb9f3a"
             ],
             [
              0.8888888888888888,
              "#fdca26"
             ],
             [
              1,
              "#f0f921"
             ]
            ],
            "type": "heatmap"
           }
          ],
          "heatmapgl": [
           {
            "colorbar": {
             "outlinewidth": 0,
             "ticks": ""
            },
            "colorscale": [
             [
              0,
              "#0d0887"
             ],
             [
              0.1111111111111111,
              "#46039f"
             ],
             [
              0.2222222222222222,
              "#7201a8"
             ],
             [
              0.3333333333333333,
              "#9c179e"
             ],
             [
              0.4444444444444444,
              "#bd3786"
             ],
             [
              0.5555555555555556,
              "#d8576b"
             ],
             [
              0.6666666666666666,
              "#ed7953"
             ],
             [
              0.7777777777777778,
              "#fb9f3a"
             ],
             [
              0.8888888888888888,
              "#fdca26"
             ],
             [
              1,
              "#f0f921"
             ]
            ],
            "type": "heatmapgl"
           }
          ],
          "histogram": [
           {
            "marker": {
             "pattern": {
              "fillmode": "overlay",
              "size": 10,
              "solidity": 0.2
             }
            },
            "type": "histogram"
           }
          ],
          "histogram2d": [
           {
            "colorbar": {
             "outlinewidth": 0,
             "ticks": ""
            },
            "colorscale": [
             [
              0,
              "#0d0887"
             ],
             [
              0.1111111111111111,
              "#46039f"
             ],
             [
              0.2222222222222222,
              "#7201a8"
             ],
             [
              0.3333333333333333,
              "#9c179e"
             ],
             [
              0.4444444444444444,
              "#bd3786"
             ],
             [
              0.5555555555555556,
              "#d8576b"
             ],
             [
              0.6666666666666666,
              "#ed7953"
             ],
             [
              0.7777777777777778,
              "#fb9f3a"
             ],
             [
              0.8888888888888888,
              "#fdca26"
             ],
             [
              1,
              "#f0f921"
             ]
            ],
            "type": "histogram2d"
           }
          ],
          "histogram2dcontour": [
           {
            "colorbar": {
             "outlinewidth": 0,
             "ticks": ""
            },
            "colorscale": [
             [
              0,
              "#0d0887"
             ],
             [
              0.1111111111111111,
              "#46039f"
             ],
             [
              0.2222222222222222,
              "#7201a8"
             ],
             [
              0.3333333333333333,
              "#9c179e"
             ],
             [
              0.4444444444444444,
              "#bd3786"
             ],
             [
              0.5555555555555556,
              "#d8576b"
             ],
             [
              0.6666666666666666,
              "#ed7953"
             ],
             [
              0.7777777777777778,
              "#fb9f3a"
             ],
             [
              0.8888888888888888,
              "#fdca26"
             ],
             [
              1,
              "#f0f921"
             ]
            ],
            "type": "histogram2dcontour"
           }
          ],
          "mesh3d": [
           {
            "colorbar": {
             "outlinewidth": 0,
             "ticks": ""
            },
            "type": "mesh3d"
           }
          ],
          "parcoords": [
           {
            "line": {
             "colorbar": {
              "outlinewidth": 0,
              "ticks": ""
             }
            },
            "type": "parcoords"
           }
          ],
          "pie": [
           {
            "automargin": true,
            "type": "pie"
           }
          ],
          "scatter": [
           {
            "fillpattern": {
             "fillmode": "overlay",
             "size": 10,
             "solidity": 0.2
            },
            "type": "scatter"
           }
          ],
          "scatter3d": [
           {
            "line": {
             "colorbar": {
              "outlinewidth": 0,
              "ticks": ""
             }
            },
            "marker": {
             "colorbar": {
              "outlinewidth": 0,
              "ticks": ""
             }
            },
            "type": "scatter3d"
           }
          ],
          "scattercarpet": [
           {
            "marker": {
             "colorbar": {
              "outlinewidth": 0,
              "ticks": ""
             }
            },
            "type": "scattercarpet"
           }
          ],
          "scattergeo": [
           {
            "marker": {
             "colorbar": {
              "outlinewidth": 0,
              "ticks": ""
             }
            },
            "type": "scattergeo"
           }
          ],
          "scattergl": [
           {
            "marker": {
             "colorbar": {
              "outlinewidth": 0,
              "ticks": ""
             }
            },
            "type": "scattergl"
           }
          ],
          "scattermapbox": [
           {
            "marker": {
             "colorbar": {
              "outlinewidth": 0,
              "ticks": ""
             }
            },
            "type": "scattermapbox"
           }
          ],
          "scatterpolar": [
           {
            "marker": {
             "colorbar": {
              "outlinewidth": 0,
              "ticks": ""
             }
            },
            "type": "scatterpolar"
           }
          ],
          "scatterpolargl": [
           {
            "marker": {
             "colorbar": {
              "outlinewidth": 0,
              "ticks": ""
             }
            },
            "type": "scatterpolargl"
           }
          ],
          "scatterternary": [
           {
            "marker": {
             "colorbar": {
              "outlinewidth": 0,
              "ticks": ""
             }
            },
            "type": "scatterternary"
           }
          ],
          "surface": [
           {
            "colorbar": {
             "outlinewidth": 0,
             "ticks": ""
            },
            "colorscale": [
             [
              0,
              "#0d0887"
             ],
             [
              0.1111111111111111,
              "#46039f"
             ],
             [
              0.2222222222222222,
              "#7201a8"
             ],
             [
              0.3333333333333333,
              "#9c179e"
             ],
             [
              0.4444444444444444,
              "#bd3786"
             ],
             [
              0.5555555555555556,
              "#d8576b"
             ],
             [
              0.6666666666666666,
              "#ed7953"
             ],
             [
              0.7777777777777778,
              "#fb9f3a"
             ],
             [
              0.8888888888888888,
              "#fdca26"
             ],
             [
              1,
              "#f0f921"
             ]
            ],
            "type": "surface"
           }
          ],
          "table": [
           {
            "cells": {
             "fill": {
              "color": "#EBF0F8"
             },
             "line": {
              "color": "white"
             }
            },
            "header": {
             "fill": {
              "color": "#C8D4E3"
             },
             "line": {
              "color": "white"
             }
            },
            "type": "table"
           }
          ]
         },
         "layout": {
          "annotationdefaults": {
           "arrowcolor": "#2a3f5f",
           "arrowhead": 0,
           "arrowwidth": 1
          },
          "autotypenumbers": "strict",
          "coloraxis": {
           "colorbar": {
            "outlinewidth": 0,
            "ticks": ""
           }
          },
          "colorscale": {
           "diverging": [
            [
             0,
             "#8e0152"
            ],
            [
             0.1,
             "#c51b7d"
            ],
            [
             0.2,
             "#de77ae"
            ],
            [
             0.3,
             "#f1b6da"
            ],
            [
             0.4,
             "#fde0ef"
            ],
            [
             0.5,
             "#f7f7f7"
            ],
            [
             0.6,
             "#e6f5d0"
            ],
            [
             0.7,
             "#b8e186"
            ],
            [
             0.8,
             "#7fbc41"
            ],
            [
             0.9,
             "#4d9221"
            ],
            [
             1,
             "#276419"
            ]
           ],
           "sequential": [
            [
             0,
             "#0d0887"
            ],
            [
             0.1111111111111111,
             "#46039f"
            ],
            [
             0.2222222222222222,
             "#7201a8"
            ],
            [
             0.3333333333333333,
             "#9c179e"
            ],
            [
             0.4444444444444444,
             "#bd3786"
            ],
            [
             0.5555555555555556,
             "#d8576b"
            ],
            [
             0.6666666666666666,
             "#ed7953"
            ],
            [
             0.7777777777777778,
             "#fb9f3a"
            ],
            [
             0.8888888888888888,
             "#fdca26"
            ],
            [
             1,
             "#f0f921"
            ]
           ],
           "sequentialminus": [
            [
             0,
             "#0d0887"
            ],
            [
             0.1111111111111111,
             "#46039f"
            ],
            [
             0.2222222222222222,
             "#7201a8"
            ],
            [
             0.3333333333333333,
             "#9c179e"
            ],
            [
             0.4444444444444444,
             "#bd3786"
            ],
            [
             0.5555555555555556,
             "#d8576b"
            ],
            [
             0.6666666666666666,
             "#ed7953"
            ],
            [
             0.7777777777777778,
             "#fb9f3a"
            ],
            [
             0.8888888888888888,
             "#fdca26"
            ],
            [
             1,
             "#f0f921"
            ]
           ]
          },
          "colorway": [
           "#636efa",
           "#EF553B",
           "#00cc96",
           "#ab63fa",
           "#FFA15A",
           "#19d3f3",
           "#FF6692",
           "#B6E880",
           "#FF97FF",
           "#FECB52"
          ],
          "font": {
           "color": "#2a3f5f"
          },
          "geo": {
           "bgcolor": "white",
           "lakecolor": "white",
           "landcolor": "#E5ECF6",
           "showlakes": true,
           "showland": true,
           "subunitcolor": "white"
          },
          "hoverlabel": {
           "align": "left"
          },
          "hovermode": "closest",
          "mapbox": {
           "style": "light"
          },
          "paper_bgcolor": "white",
          "plot_bgcolor": "#E5ECF6",
          "polar": {
           "angularaxis": {
            "gridcolor": "white",
            "linecolor": "white",
            "ticks": ""
           },
           "bgcolor": "#E5ECF6",
           "radialaxis": {
            "gridcolor": "white",
            "linecolor": "white",
            "ticks": ""
           }
          },
          "scene": {
           "xaxis": {
            "backgroundcolor": "#E5ECF6",
            "gridcolor": "white",
            "gridwidth": 2,
            "linecolor": "white",
            "showbackground": true,
            "ticks": "",
            "zerolinecolor": "white"
           },
           "yaxis": {
            "backgroundcolor": "#E5ECF6",
            "gridcolor": "white",
            "gridwidth": 2,
            "linecolor": "white",
            "showbackground": true,
            "ticks": "",
            "zerolinecolor": "white"
           },
           "zaxis": {
            "backgroundcolor": "#E5ECF6",
            "gridcolor": "white",
            "gridwidth": 2,
            "linecolor": "white",
            "showbackground": true,
            "ticks": "",
            "zerolinecolor": "white"
           }
          },
          "shapedefaults": {
           "line": {
            "color": "#2a3f5f"
           }
          },
          "ternary": {
           "aaxis": {
            "gridcolor": "white",
            "linecolor": "white",
            "ticks": ""
           },
           "baxis": {
            "gridcolor": "white",
            "linecolor": "white",
            "ticks": ""
           },
           "bgcolor": "#E5ECF6",
           "caxis": {
            "gridcolor": "white",
            "linecolor": "white",
            "ticks": ""
           }
          },
          "title": {
           "x": 0.05
          },
          "xaxis": {
           "automargin": true,
           "gridcolor": "white",
           "linecolor": "white",
           "ticks": "",
           "title": {
            "standoff": 15
           },
           "zerolinecolor": "white",
           "zerolinewidth": 2
          },
          "yaxis": {
           "automargin": true,
           "gridcolor": "white",
           "linecolor": "white",
           "ticks": "",
           "title": {
            "standoff": 15
           },
           "zerolinecolor": "white",
           "zerolinewidth": 2
          }
         }
        },
        "title": {
         "text": "Total Units Sold in Each Price Range"
        },
        "xaxis": {
         "anchor": "y",
         "domain": [
          0,
          1
         ],
         "title": {
          "text": "Price Range ($)"
         }
        },
        "yaxis": {
         "anchor": "x",
         "domain": [
          0,
          1
         ],
         "title": {
          "text": "Total Units Sold"
         }
        }
       }
      }
     },
     "metadata": {},
     "output_type": "display_data"
    }
   ],
   "source": [
    "# Define price bins\n",
    "bins = list(range(0, int(price_df['Price per Unit'].max()) + 10, 10))  # Adjust the bin size as needed\n",
    "price_df['Price Range'] = pd.cut(price_df['Price per Unit'], bins=bins)\n",
    "\n",
    "# Convert the Interval objects in 'Price Range' to strings for Plotly compatibility\n",
    "price_df['Price Range'] = price_df['Price Range'].astype(str)\n",
    "\n",
    "# Group by price range and calculate total units sold\n",
    "price_range_sales = price_df.groupby('Price Range')['Units Sold'].sum().reset_index()\n",
    "\n",
    "# Creating a bar chart\n",
    "fig = px.bar(price_range_sales, \n",
    "             x='Price Range', \n",
    "             y='Units Sold',\n",
    "             title='Total Units Sold in Each Price Range',\n",
    "             labels={'Price Range': 'Price Range ($)', 'Units Sold': 'Total Units Sold'})\n",
    "\n",
    "fig.show()\n"
   ]
  },
  {
   "cell_type": "markdown",
   "id": "ff51429e",
   "metadata": {},
   "source": [
    "#### Question 5. Price optimization: We can find out if only a certin price range affects sales volume.\n",
    "\n",
    "1. By looking at the chart above, the most volume sold are of the price range between $40 and $50.\n",
    " \n",
    "    Note: This is for all products and not just any one specific. "
   ]
  },
  {
   "cell_type": "markdown",
   "id": "41128624",
   "metadata": {},
   "source": [
    "### 6. Product Portfolio Optimization\n",
    " Understanding which products are most profitable location wise."
   ]
  },
  {
   "cell_type": "code",
   "execution_count": 34,
   "id": "c1d31d3a",
   "metadata": {},
   "outputs": [
    {
     "data": {
      "text/html": [
       "<div>\n",
       "<style scoped>\n",
       "    .dataframe tbody tr th:only-of-type {\n",
       "        vertical-align: middle;\n",
       "    }\n",
       "\n",
       "    .dataframe tbody tr th {\n",
       "        vertical-align: top;\n",
       "    }\n",
       "\n",
       "    .dataframe thead th {\n",
       "        text-align: right;\n",
       "    }\n",
       "</style>\n",
       "<table border=\"1\" class=\"dataframe\">\n",
       "  <thead>\n",
       "    <tr style=\"text-align: right;\">\n",
       "      <th></th>\n",
       "      <th>State Abbreviation</th>\n",
       "      <th>City</th>\n",
       "      <th>Product</th>\n",
       "      <th>Units Sold</th>\n",
       "      <th>Operating Profit</th>\n",
       "    </tr>\n",
       "  </thead>\n",
       "  <tbody>\n",
       "    <tr>\n",
       "      <th>36</th>\n",
       "      <td>NY</td>\n",
       "      <td>New York</td>\n",
       "      <td>Men's Street Footwear</td>\n",
       "      <td>1275</td>\n",
       "      <td>382500.0</td>\n",
       "    </tr>\n",
       "    <tr>\n",
       "      <th>6</th>\n",
       "      <td>NY</td>\n",
       "      <td>New York</td>\n",
       "      <td>Men's Street Footwear</td>\n",
       "      <td>1250</td>\n",
       "      <td>312500.0</td>\n",
       "    </tr>\n",
       "    <tr>\n",
       "      <th>30</th>\n",
       "      <td>NY</td>\n",
       "      <td>New York</td>\n",
       "      <td>Men's Street Footwear</td>\n",
       "      <td>1250</td>\n",
       "      <td>375000.0</td>\n",
       "    </tr>\n",
       "    <tr>\n",
       "      <th>42</th>\n",
       "      <td>NY</td>\n",
       "      <td>New York</td>\n",
       "      <td>Men's Street Footwear</td>\n",
       "      <td>1250</td>\n",
       "      <td>375000.0</td>\n",
       "    </tr>\n",
       "    <tr>\n",
       "      <th>24</th>\n",
       "      <td>NY</td>\n",
       "      <td>New York</td>\n",
       "      <td>Men's Street Footwear</td>\n",
       "      <td>1220</td>\n",
       "      <td>366000.0</td>\n",
       "    </tr>\n",
       "    <tr>\n",
       "      <th>12</th>\n",
       "      <td>NY</td>\n",
       "      <td>New York</td>\n",
       "      <td>Men's Street Footwear</td>\n",
       "      <td>1220</td>\n",
       "      <td>305000.0</td>\n",
       "    </tr>\n",
       "  </tbody>\n",
       "</table>\n",
       "</div>"
      ],
      "text/plain": [
       "   State Abbreviation      City                Product  Units Sold  \\\n",
       "36                 NY  New York  Men's Street Footwear        1275   \n",
       "6                  NY  New York  Men's Street Footwear        1250   \n",
       "30                 NY  New York  Men's Street Footwear        1250   \n",
       "42                 NY  New York  Men's Street Footwear        1250   \n",
       "24                 NY  New York  Men's Street Footwear        1220   \n",
       "12                 NY  New York  Men's Street Footwear        1220   \n",
       "\n",
       "    Operating Profit  \n",
       "36          382500.0  \n",
       "6           312500.0  \n",
       "30          375000.0  \n",
       "42          375000.0  \n",
       "24          366000.0  \n",
       "12          305000.0  "
      ]
     },
     "execution_count": 34,
     "metadata": {},
     "output_type": "execute_result"
    }
   ],
   "source": [
    "location_wise_columns = df[['State Abbreviation', 'City', 'Product', 'Units Sold', 'Operating Profit']]\n",
    "location_wise_columns_sorted = location_wise_columns.sort_values('Units Sold', ascending=False)\n",
    "location_wise_columns_sorted.head(6)"
   ]
  },
  {
   "cell_type": "markdown",
   "id": "ee1e8cd7",
   "metadata": {},
   "source": [
    "To verify the above table, if we have used the sort_values correctly or not, we will run a small code below"
   ]
  },
  {
   "cell_type": "code",
   "execution_count": 35,
   "id": "d630807a",
   "metadata": {},
   "outputs": [
    {
     "data": {
      "text/html": [
       "<div>\n",
       "<style scoped>\n",
       "    .dataframe tbody tr th:only-of-type {\n",
       "        vertical-align: middle;\n",
       "    }\n",
       "\n",
       "    .dataframe tbody tr th {\n",
       "        vertical-align: top;\n",
       "    }\n",
       "\n",
       "    .dataframe thead th {\n",
       "        text-align: right;\n",
       "    }\n",
       "</style>\n",
       "<table border=\"1\" class=\"dataframe\">\n",
       "  <thead>\n",
       "    <tr style=\"text-align: right;\">\n",
       "      <th></th>\n",
       "      <th>Units Sold</th>\n",
       "    </tr>\n",
       "  </thead>\n",
       "  <tbody>\n",
       "    <tr>\n",
       "      <th>36</th>\n",
       "      <td>1275</td>\n",
       "    </tr>\n",
       "    <tr>\n",
       "      <th>6</th>\n",
       "      <td>1250</td>\n",
       "    </tr>\n",
       "    <tr>\n",
       "      <th>30</th>\n",
       "      <td>1250</td>\n",
       "    </tr>\n",
       "    <tr>\n",
       "      <th>42</th>\n",
       "      <td>1250</td>\n",
       "    </tr>\n",
       "    <tr>\n",
       "      <th>24</th>\n",
       "      <td>1220</td>\n",
       "    </tr>\n",
       "    <tr>\n",
       "      <th>12</th>\n",
       "      <td>1220</td>\n",
       "    </tr>\n",
       "    <tr>\n",
       "      <th>0</th>\n",
       "      <td>1200</td>\n",
       "    </tr>\n",
       "  </tbody>\n",
       "</table>\n",
       "</div>"
      ],
      "text/plain": [
       "    Units Sold\n",
       "36        1275\n",
       "6         1250\n",
       "30        1250\n",
       "42        1250\n",
       "24        1220\n",
       "12        1220\n",
       "0         1200"
      ]
     },
     "execution_count": 35,
     "metadata": {},
     "output_type": "execute_result"
    }
   ],
   "source": [
    "new = df[['Units Sold']]\n",
    "new = new.sort_values(by= 'Units Sold', ascending=False)\n",
    "new.head(7)"
   ]
  },
  {
   "cell_type": "markdown",
   "id": "fcfd97ab",
   "metadata": {},
   "source": [
    "This shows us that the highest number of Units Sold are 1275!"
   ]
  },
  {
   "cell_type": "code",
   "execution_count": 36,
   "id": "24be78b6",
   "metadata": {},
   "outputs": [
    {
     "data": {
      "text/html": [
       "<div>\n",
       "<style scoped>\n",
       "    .dataframe tbody tr th:only-of-type {\n",
       "        vertical-align: middle;\n",
       "    }\n",
       "\n",
       "    .dataframe tbody tr th {\n",
       "        vertical-align: top;\n",
       "    }\n",
       "\n",
       "    .dataframe thead th {\n",
       "        text-align: right;\n",
       "    }\n",
       "</style>\n",
       "<table border=\"1\" class=\"dataframe\">\n",
       "  <thead>\n",
       "    <tr style=\"text-align: right;\">\n",
       "      <th></th>\n",
       "      <th>Product</th>\n",
       "      <th>Units Sold</th>\n",
       "      <th>State Abbreviation</th>\n",
       "      <th>City</th>\n",
       "      <th>Operating Profit</th>\n",
       "    </tr>\n",
       "  </thead>\n",
       "  <tbody>\n",
       "    <tr>\n",
       "      <th>3</th>\n",
       "      <td>Men's Street Footwear</td>\n",
       "      <td>1275</td>\n",
       "      <td>NY</td>\n",
       "      <td>New York</td>\n",
       "      <td>382500.0</td>\n",
       "    </tr>\n",
       "    <tr>\n",
       "      <th>4</th>\n",
       "      <td>Women's Apparel</td>\n",
       "      <td>1100</td>\n",
       "      <td>NY</td>\n",
       "      <td>New York</td>\n",
       "      <td>178750.0</td>\n",
       "    </tr>\n",
       "    <tr>\n",
       "      <th>6</th>\n",
       "      <td>Women's Street Footwear</td>\n",
       "      <td>1100</td>\n",
       "      <td>TX</td>\n",
       "      <td>Houston</td>\n",
       "      <td>154000.0</td>\n",
       "    </tr>\n",
       "    <tr>\n",
       "      <th>7</th>\n",
       "      <td>Women's Street Footwear</td>\n",
       "      <td>1100</td>\n",
       "      <td>TX</td>\n",
       "      <td>Houston</td>\n",
       "      <td>154000.0</td>\n",
       "    </tr>\n",
       "    <tr>\n",
       "      <th>1</th>\n",
       "      <td>Men's Athletic Footwear</td>\n",
       "      <td>1025</td>\n",
       "      <td>NY</td>\n",
       "      <td>New York</td>\n",
       "      <td>169125.0</td>\n",
       "    </tr>\n",
       "    <tr>\n",
       "      <th>2</th>\n",
       "      <td>Men's Athletic Footwear</td>\n",
       "      <td>1025</td>\n",
       "      <td>NY</td>\n",
       "      <td>New York</td>\n",
       "      <td>169125.0</td>\n",
       "    </tr>\n",
       "  </tbody>\n",
       "</table>\n",
       "</div>"
      ],
      "text/plain": [
       "                   Product  Units Sold State Abbreviation      City  \\\n",
       "3    Men's Street Footwear        1275                 NY  New York   \n",
       "4          Women's Apparel        1100                 NY  New York   \n",
       "6  Women's Street Footwear        1100                 TX   Houston   \n",
       "7  Women's Street Footwear        1100                 TX   Houston   \n",
       "1  Men's Athletic Footwear        1025                 NY  New York   \n",
       "2  Men's Athletic Footwear        1025                 NY  New York   \n",
       "\n",
       "   Operating Profit  \n",
       "3          382500.0  \n",
       "4          178750.0  \n",
       "6          154000.0  \n",
       "7          154000.0  \n",
       "1          169125.0  \n",
       "2          169125.0  "
      ]
     },
     "execution_count": 36,
     "metadata": {},
     "output_type": "execute_result"
    }
   ],
   "source": [
    "# Grouping by 'Product' and finding the maximum 'Units Sold' for each product\n",
    "max_units_sold_per_product = location_wise_columns.groupby('Product')['Units Sold'].max().reset_index()\n",
    "\n",
    "# Merging to get the corresponding 'City' for each maximum 'Units Sold'\n",
    "max_units_sold_with_city = pd.merge(max_units_sold_per_product, location_wise_columns, \n",
    "                                    on=['Product', 'Units Sold'], \n",
    "                                    how='left')\n",
    "\n",
    "# Sorting the results in descending order to see the products with the highest sales first\n",
    "max_units_sold_with_city_sorted = max_units_sold_with_city.sort_values('Units Sold', ascending=False)\n",
    "\n",
    "# Displaying the sorted results\n",
    "max_units_sold_with_city_sorted.head(6)\n"
   ]
  },
  {
   "cell_type": "markdown",
   "id": "4f8b7c93",
   "metadata": {},
   "source": [
    "Now, we can see which prouct is selling highest in which city. "
   ]
  },
  {
   "cell_type": "markdown",
   "id": "67fab895",
   "metadata": {},
   "source": [
    "Now we can find which product is selling maximum in which city."
   ]
  },
  {
   "cell_type": "code",
   "execution_count": 37,
   "id": "081fdb22",
   "metadata": {},
   "outputs": [
    {
     "data": {
      "text/plain": [
       "52"
      ]
     },
     "execution_count": 37,
     "metadata": {},
     "output_type": "execute_result"
    }
   ],
   "source": [
    "# Lets see how many cities are in the dataframe\n",
    "unique_cities = df['City'].nunique()\n",
    "unique_cities"
   ]
  },
  {
   "cell_type": "code",
   "execution_count": 38,
   "id": "12ab8cf9",
   "metadata": {},
   "outputs": [
    {
     "data": {
      "text/html": [
       "<div>\n",
       "<style scoped>\n",
       "    .dataframe tbody tr th:only-of-type {\n",
       "        vertical-align: middle;\n",
       "    }\n",
       "\n",
       "    .dataframe tbody tr th {\n",
       "        vertical-align: top;\n",
       "    }\n",
       "\n",
       "    .dataframe thead th {\n",
       "        text-align: right;\n",
       "    }\n",
       "</style>\n",
       "<table border=\"1\" class=\"dataframe\">\n",
       "  <thead>\n",
       "    <tr style=\"text-align: right;\">\n",
       "      <th></th>\n",
       "      <th>City</th>\n",
       "      <th>Units Sold</th>\n",
       "      <th>State Abbreviation</th>\n",
       "      <th>Product</th>\n",
       "    </tr>\n",
       "  </thead>\n",
       "  <tbody>\n",
       "    <tr>\n",
       "      <th>42</th>\n",
       "      <td>New York</td>\n",
       "      <td>1275</td>\n",
       "      <td>NY</td>\n",
       "      <td>Men's Street Footwear</td>\n",
       "    </tr>\n",
       "    <tr>\n",
       "      <th>35</th>\n",
       "      <td>Miami</td>\n",
       "      <td>1150</td>\n",
       "      <td>FL</td>\n",
       "      <td>Men's Street Footwear</td>\n",
       "    </tr>\n",
       "    <tr>\n",
       "      <th>11</th>\n",
       "      <td>Charleston</td>\n",
       "      <td>1150</td>\n",
       "      <td>SC</td>\n",
       "      <td>Men's Street Footwear</td>\n",
       "    </tr>\n",
       "    <tr>\n",
       "      <th>26</th>\n",
       "      <td>Houston</td>\n",
       "      <td>1100</td>\n",
       "      <td>TX</td>\n",
       "      <td>Women's Street Footwear</td>\n",
       "    </tr>\n",
       "    <tr>\n",
       "      <th>25</th>\n",
       "      <td>Houston</td>\n",
       "      <td>1100</td>\n",
       "      <td>TX</td>\n",
       "      <td>Women's Street Footwear</td>\n",
       "    </tr>\n",
       "    <tr>\n",
       "      <th>...</th>\n",
       "      <td>...</td>\n",
       "      <td>...</td>\n",
       "      <td>...</td>\n",
       "      <td>...</td>\n",
       "    </tr>\n",
       "    <tr>\n",
       "      <th>37</th>\n",
       "      <td>Milwaukee</td>\n",
       "      <td>550</td>\n",
       "      <td>WI</td>\n",
       "      <td>Men's Street Footwear</td>\n",
       "    </tr>\n",
       "    <tr>\n",
       "      <th>57</th>\n",
       "      <td>Sioux Falls</td>\n",
       "      <td>550</td>\n",
       "      <td>SD</td>\n",
       "      <td>Men's Street Footwear</td>\n",
       "    </tr>\n",
       "    <tr>\n",
       "      <th>36</th>\n",
       "      <td>Milwaukee</td>\n",
       "      <td>550</td>\n",
       "      <td>WI</td>\n",
       "      <td>Men's Street Footwear</td>\n",
       "    </tr>\n",
       "    <tr>\n",
       "      <th>20</th>\n",
       "      <td>Des Moines</td>\n",
       "      <td>550</td>\n",
       "      <td>IA</td>\n",
       "      <td>Men's Street Footwear</td>\n",
       "    </tr>\n",
       "    <tr>\n",
       "      <th>49</th>\n",
       "      <td>Philadelphia</td>\n",
       "      <td>525</td>\n",
       "      <td>PA</td>\n",
       "      <td>Men's Street Footwear</td>\n",
       "    </tr>\n",
       "  </tbody>\n",
       "</table>\n",
       "<p>61 rows × 4 columns</p>\n",
       "</div>"
      ],
      "text/plain": [
       "            City  Units Sold State Abbreviation                  Product\n",
       "42      New York        1275                 NY    Men's Street Footwear\n",
       "35         Miami        1150                 FL    Men's Street Footwear\n",
       "11    Charleston        1150                 SC    Men's Street Footwear\n",
       "26       Houston        1100                 TX  Women's Street Footwear\n",
       "25       Houston        1100                 TX  Women's Street Footwear\n",
       "..           ...         ...                ...                      ...\n",
       "37     Milwaukee         550                 WI    Men's Street Footwear\n",
       "57   Sioux Falls         550                 SD    Men's Street Footwear\n",
       "36     Milwaukee         550                 WI    Men's Street Footwear\n",
       "20    Des Moines         550                 IA    Men's Street Footwear\n",
       "49  Philadelphia         525                 PA    Men's Street Footwear\n",
       "\n",
       "[61 rows x 4 columns]"
      ]
     },
     "execution_count": 38,
     "metadata": {},
     "output_type": "execute_result"
    }
   ],
   "source": [
    "# Grouping by 'City' and finding the maximum 'Units Sold' for each product\n",
    "max_units_sold_per_city = location_wise_columns.groupby('City')['Units Sold'].max().reset_index()\n",
    "\n",
    "# Merging to get the corresponding 'Products' for each maximum 'Units Sold'\n",
    "max_units_sold_with_product = pd.merge(max_units_sold_per_city, location_wise_columns, \n",
    "                                    on=['City', 'Units Sold'], \n",
    "                                    how='left')\n",
    "\n",
    "# Sorting the results in descending order to see the products with the highest sales first\n",
    "max_units_sold_with_city_sorted = max_units_sold_with_product.sort_values('Units Sold', ascending=False)\n",
    "\n",
    "# Getting only the columns that I want to see\n",
    "max_units_sold_with_city_sorted = max_units_sold_with_city_sorted[['City', 'Units Sold', 'State Abbreviation', 'Product']]\n",
    "\n",
    "# Storing it in a more relevant manner\n",
    "question_5 = max_units_sold_with_city_sorted\n",
    "\n",
    "# Result\n",
    "question_5"
   ]
  },
  {
   "cell_type": "markdown",
   "id": "3640a2ab",
   "metadata": {},
   "source": [
    "#### We can see which product performs best in every city in the United States. Lets visualize it using ploty."
   ]
  },
  {
   "cell_type": "code",
   "execution_count": 39,
   "id": "06373cb2",
   "metadata": {},
   "outputs": [
    {
     "data": {
      "application/vnd.plotly.v1+json": {
       "config": {
        "plotlyServerURL": "https://plot.ly"
       },
       "data": [
        {
         "customdata": [
          [
           "NY",
           1275,
           "Men's Street Footwear"
          ],
          [
           "FL",
           1150,
           "Men's Street Footwear"
          ],
          [
           "SC",
           1150,
           "Men's Street Footwear"
          ],
          [
           "GA",
           1075,
           "Men's Street Footwear"
          ],
          [
           "WA",
           1050,
           "Men's Street Footwear"
          ],
          [
           "NC",
           1050,
           "Men's Street Footwear"
          ],
          [
           "CA",
           1025,
           "Men's Street Footwear"
          ],
          [
           "CA",
           950,
           "Men's Street Footwear"
          ],
          [
           "NY",
           950,
           "Men's Street Footwear"
          ],
          [
           "LA",
           900,
           "Men's Street Footwear"
          ],
          [
           "FL",
           900,
           "Men's Street Footwear"
          ],
          [
           "MI",
           900,
           "Men's Street Footwear"
          ],
          [
           "OH",
           900,
           "Men's Street Footwear"
          ],
          [
           "FL",
           900,
           "Men's Street Footwear"
          ],
          [
           "WY",
           875,
           "Men's Street Footwear"
          ],
          [
           "OR",
           850,
           "Men's Street Footwear"
          ],
          [
           "VA",
           850,
           "Men's Street Footwear"
          ],
          [
           "MS",
           850,
           "Men's Street Footwear"
          ],
          [
           "HI",
           800,
           "Men's Street Footwear"
          ],
          [
           "UT",
           800,
           "Men's Street Footwear"
          ],
          [
           "CO",
           775,
           "Men's Street Footwear"
          ],
          [
           "KY",
           775,
           "Men's Street Footwear"
          ],
          [
           "AR",
           775,
           "Men's Street Footwear"
          ],
          [
           "MO",
           750,
           "Men's Street Footwear"
          ],
          [
           "NV",
           750,
           "Men's Street Footwear"
          ],
          [
           "NM",
           750,
           "Men's Street Footwear"
          ],
          [
           "MT",
           750,
           "Men's Street Footwear"
          ],
          [
           "IL",
           725,
           "Men's Street Footwear"
          ],
          [
           "NH",
           700,
           "Men's Street Footwear"
          ],
          [
           "OK",
           700,
           "Men's Street Footwear"
          ],
          [
           "NE",
           675,
           "Men's Street Footwear"
          ],
          [
           "KS",
           675,
           "Men's Street Footwear"
          ],
          [
           "AK",
           675,
           "Men's Street Footwear"
          ],
          [
           "VT",
           675,
           "Men's Street Footwear"
          ],
          [
           "AZ",
           675,
           "Men's Street Footwear"
          ],
          [
           "DE",
           675,
           "Men's Street Footwear"
          ],
          [
           "CT",
           650,
           "Men's Street Footwear"
          ],
          [
           "NJ",
           625,
           "Men's Street Footwear"
          ],
          [
           "MA",
           600,
           "Men's Street Footwear"
          ],
          [
           "IN",
           600,
           "Men's Street Footwear"
          ],
          [
           "RI",
           575,
           "Men's Street Footwear"
          ],
          [
           "MD",
           575,
           "Men's Street Footwear"
          ],
          [
           "ND",
           550,
           "Men's Street Footwear"
          ],
          [
           "MN",
           550,
           "Men's Street Footwear"
          ],
          [
           "WI",
           550,
           "Men's Street Footwear"
          ],
          [
           "WI",
           550,
           "Men's Street Footwear"
          ],
          [
           "WI",
           550,
           "Men's Street Footwear"
          ],
          [
           "SD",
           550,
           "Men's Street Footwear"
          ],
          [
           "WI",
           550,
           "Men's Street Footwear"
          ],
          [
           "IA",
           550,
           "Men's Street Footwear"
          ],
          [
           "PA",
           525,
           "Men's Street Footwear"
          ]
         ],
         "geo": "geo",
         "hovertemplate": "<b>%{hovertext}</b><br><br>Product=%{customdata[2]}<br>Units Sold=%{customdata[1]}<br>Latitude=%{lat}<br>Longitude=%{lon}<br>State Abbreviation=%{customdata[0]}<extra></extra>",
         "hovertext": [
          "New York",
          "Miami",
          "Charleston",
          "Atlanta",
          "Seattle",
          "Charlotte",
          "San Francisco",
          "Los Angeles",
          "Albany",
          "New Orleans",
          "Orlando",
          "Detroit",
          "Columbus",
          "Orlando",
          "Cheyenne",
          "Portland",
          "Richmond",
          "Jackson",
          "Honolulu",
          "Salt Lake City",
          "Denver",
          "Louisville",
          "Little Rock",
          "St. Louis",
          "Las Vegas",
          "Albuquerque",
          "Billings",
          "Chicago",
          "Manchester",
          "Oklahoma City",
          "Omaha",
          "Wichita",
          "Anchorage",
          "Burlington",
          "Phoenix",
          "Wilmington",
          "Hartford",
          "Newark",
          "Boston",
          "Indianapolis",
          "Providence",
          "Baltimore",
          "Fargo",
          "Minneapolis",
          "Milwaukee",
          "Milwaukee",
          "Milwaukee",
          "Sioux Falls",
          "Milwaukee",
          "Des Moines",
          "Philadelphia"
         ],
         "lat": [
          42.165726,
          27.766279,
          33.856892,
          33.040619,
          47.400902,
          35.630066,
          36.116203,
          36.116203,
          42.165726,
          31.169546,
          27.766279,
          43.326618,
          40.388783,
          27.766279,
          42.755966,
          44.572021,
          37.769337,
          32.741646,
          21.094318,
          40.150032,
          39.059811,
          37.66814,
          34.969704,
          38.456085,
          38.313515,
          34.840515,
          46.921925,
          40.349457,
          43.452492,
          35.565342,
          41.12537,
          38.5266,
          61.370716,
          44.045876,
          33.729759,
          39.318523,
          41.597782,
          40.298904,
          42.230171,
          39.849426,
          41.680893,
          39.063946,
          47.528912,
          45.694454,
          44.268543,
          44.268543,
          44.268543,
          44.299782,
          44.268543,
          42.011539,
          40.590752
         ],
         "legendgroup": "Men's Street Footwear",
         "lon": [
          -74.948051,
          -81.686783,
          -80.945007,
          -83.643074,
          -121.490494,
          -79.806419,
          -119.681564,
          -119.681564,
          -74.948051,
          -91.867805,
          -81.686783,
          -84.536095,
          -82.764915,
          -81.686783,
          -107.30249,
          -122.070938,
          -78.169968,
          -89.678696,
          -157.498337,
          -111.862434,
          -105.311104,
          -84.670067,
          -92.373123,
          -92.288368,
          -117.055374,
          -106.248482,
          -110.454353,
          -88.986137,
          -71.563896,
          -96.928917,
          -98.268082,
          -96.726486,
          -152.404419,
          -72.710686,
          -111.431221,
          -75.507141,
          -72.755371,
          -74.521011,
          -71.530106,
          -86.258278,
          -71.51178,
          -76.802101,
          -99.784012,
          -93.900192,
          -89.616508,
          -89.616508,
          -89.616508,
          -99.438828,
          -89.616508,
          -93.210526,
          -77.209755
         ],
         "marker": {
          "color": "#636efa",
          "size": [
           1275,
           1150,
           1150,
           1075,
           1050,
           1050,
           1025,
           950,
           950,
           900,
           900,
           900,
           900,
           900,
           875,
           850,
           850,
           850,
           800,
           800,
           775,
           775,
           775,
           750,
           750,
           750,
           750,
           725,
           700,
           700,
           675,
           675,
           675,
           675,
           675,
           675,
           650,
           625,
           600,
           600,
           575,
           575,
           550,
           550,
           550,
           550,
           550,
           550,
           550,
           550,
           525
          ],
          "sizemode": "area",
          "sizeref": 3.1875,
          "symbol": "circle"
         },
         "mode": "markers",
         "name": "Men's Street Footwear",
         "showlegend": true,
         "type": "scattergeo"
        },
        {
         "customdata": [
          [
           "TX",
           1100,
           "Women's Street Footwear"
          ],
          [
           "TX",
           1100,
           "Women's Street Footwear"
          ],
          [
           "TN",
           975,
           "Women's Street Footwear"
          ],
          [
           "AL",
           975,
           "Women's Street Footwear"
          ],
          [
           "TX",
           975,
           "Women's Street Footwear"
          ],
          [
           "TX",
           975,
           "Women's Street Footwear"
          ],
          [
           "ID",
           925,
           "Women's Street Footwear"
          ],
          [
           "ID",
           925,
           "Women's Street Footwear"
          ]
         ],
         "geo": "geo",
         "hovertemplate": "<b>%{hovertext}</b><br><br>Product=%{customdata[2]}<br>Units Sold=%{customdata[1]}<br>Latitude=%{lat}<br>Longitude=%{lon}<br>State Abbreviation=%{customdata[0]}<extra></extra>",
         "hovertext": [
          "Houston",
          "Houston",
          "Knoxville",
          "Birmingham",
          "Dallas",
          "Dallas",
          "Boise",
          "Boise"
         ],
         "lat": [
          31.054487,
          31.054487,
          35.747845,
          32.806671,
          31.054487,
          31.054487,
          44.240459,
          44.240459
         ],
         "legendgroup": "Women's Street Footwear",
         "lon": [
          -97.563461,
          -97.563461,
          -86.692345,
          -86.79113,
          -97.563461,
          -97.563461,
          -114.478828,
          -114.478828
         ],
         "marker": {
          "color": "#EF553B",
          "size": [
           1100,
           1100,
           975,
           975,
           975,
           975,
           925,
           925
          ],
          "sizemode": "area",
          "sizeref": 3.1875,
          "symbol": "circle"
         },
         "mode": "markers",
         "name": "Women's Street Footwear",
         "showlegend": true,
         "type": "scattergeo"
        },
        {
         "customdata": [
          [
           "IL",
           725,
           "Men's Athletic Footwear"
          ],
          [
           "NE",
           675,
           "Men's Athletic Footwear"
          ]
         ],
         "geo": "geo",
         "hovertemplate": "<b>%{hovertext}</b><br><br>Product=%{customdata[2]}<br>Units Sold=%{customdata[1]}<br>Latitude=%{lat}<br>Longitude=%{lon}<br>State Abbreviation=%{customdata[0]}<extra></extra>",
         "hovertext": [
          "Chicago",
          "Omaha"
         ],
         "lat": [
          40.349457,
          41.12537
         ],
         "legendgroup": "Men's Athletic Footwear",
         "lon": [
          -88.986137,
          -98.268082
         ],
         "marker": {
          "color": "#00cc96",
          "size": [
           725,
           675
          ],
          "sizemode": "area",
          "sizeref": 3.1875,
          "symbol": "circle"
         },
         "mode": "markers",
         "name": "Men's Athletic Footwear",
         "showlegend": true,
         "type": "scattergeo"
        }
       ],
       "layout": {
        "geo": {
         "center": {},
         "domain": {
          "x": [
           0,
           1
          ],
          "y": [
           0,
           1
          ]
         },
         "scope": "usa"
        },
        "legend": {
         "itemsizing": "constant",
         "title": {
          "text": "Product"
         },
         "tracegroupgap": 0
        },
        "template": {
         "data": {
          "bar": [
           {
            "error_x": {
             "color": "#2a3f5f"
            },
            "error_y": {
             "color": "#2a3f5f"
            },
            "marker": {
             "line": {
              "color": "#E5ECF6",
              "width": 0.5
             },
             "pattern": {
              "fillmode": "overlay",
              "size": 10,
              "solidity": 0.2
             }
            },
            "type": "bar"
           }
          ],
          "barpolar": [
           {
            "marker": {
             "line": {
              "color": "#E5ECF6",
              "width": 0.5
             },
             "pattern": {
              "fillmode": "overlay",
              "size": 10,
              "solidity": 0.2
             }
            },
            "type": "barpolar"
           }
          ],
          "carpet": [
           {
            "aaxis": {
             "endlinecolor": "#2a3f5f",
             "gridcolor": "white",
             "linecolor": "white",
             "minorgridcolor": "white",
             "startlinecolor": "#2a3f5f"
            },
            "baxis": {
             "endlinecolor": "#2a3f5f",
             "gridcolor": "white",
             "linecolor": "white",
             "minorgridcolor": "white",
             "startlinecolor": "#2a3f5f"
            },
            "type": "carpet"
           }
          ],
          "choropleth": [
           {
            "colorbar": {
             "outlinewidth": 0,
             "ticks": ""
            },
            "type": "choropleth"
           }
          ],
          "contour": [
           {
            "colorbar": {
             "outlinewidth": 0,
             "ticks": ""
            },
            "colorscale": [
             [
              0,
              "#0d0887"
             ],
             [
              0.1111111111111111,
              "#46039f"
             ],
             [
              0.2222222222222222,
              "#7201a8"
             ],
             [
              0.3333333333333333,
              "#9c179e"
             ],
             [
              0.4444444444444444,
              "#bd3786"
             ],
             [
              0.5555555555555556,
              "#d8576b"
             ],
             [
              0.6666666666666666,
              "#ed7953"
             ],
             [
              0.7777777777777778,
              "#fb9f3a"
             ],
             [
              0.8888888888888888,
              "#fdca26"
             ],
             [
              1,
              "#f0f921"
             ]
            ],
            "type": "contour"
           }
          ],
          "contourcarpet": [
           {
            "colorbar": {
             "outlinewidth": 0,
             "ticks": ""
            },
            "type": "contourcarpet"
           }
          ],
          "heatmap": [
           {
            "colorbar": {
             "outlinewidth": 0,
             "ticks": ""
            },
            "colorscale": [
             [
              0,
              "#0d0887"
             ],
             [
              0.1111111111111111,
              "#46039f"
             ],
             [
              0.2222222222222222,
              "#7201a8"
             ],
             [
              0.3333333333333333,
              "#9c179e"
             ],
             [
              0.4444444444444444,
              "#bd3786"
             ],
             [
              0.5555555555555556,
              "#d8576b"
             ],
             [
              0.6666666666666666,
              "#ed7953"
             ],
             [
              0.7777777777777778,
              "#fb9f3a"
             ],
             [
              0.8888888888888888,
              "#fdca26"
             ],
             [
              1,
              "#f0f921"
             ]
            ],
            "type": "heatmap"
           }
          ],
          "heatmapgl": [
           {
            "colorbar": {
             "outlinewidth": 0,
             "ticks": ""
            },
            "colorscale": [
             [
              0,
              "#0d0887"
             ],
             [
              0.1111111111111111,
              "#46039f"
             ],
             [
              0.2222222222222222,
              "#7201a8"
             ],
             [
              0.3333333333333333,
              "#9c179e"
             ],
             [
              0.4444444444444444,
              "#bd3786"
             ],
             [
              0.5555555555555556,
              "#d8576b"
             ],
             [
              0.6666666666666666,
              "#ed7953"
             ],
             [
              0.7777777777777778,
              "#fb9f3a"
             ],
             [
              0.8888888888888888,
              "#fdca26"
             ],
             [
              1,
              "#f0f921"
             ]
            ],
            "type": "heatmapgl"
           }
          ],
          "histogram": [
           {
            "marker": {
             "pattern": {
              "fillmode": "overlay",
              "size": 10,
              "solidity": 0.2
             }
            },
            "type": "histogram"
           }
          ],
          "histogram2d": [
           {
            "colorbar": {
             "outlinewidth": 0,
             "ticks": ""
            },
            "colorscale": [
             [
              0,
              "#0d0887"
             ],
             [
              0.1111111111111111,
              "#46039f"
             ],
             [
              0.2222222222222222,
              "#7201a8"
             ],
             [
              0.3333333333333333,
              "#9c179e"
             ],
             [
              0.4444444444444444,
              "#bd3786"
             ],
             [
              0.5555555555555556,
              "#d8576b"
             ],
             [
              0.6666666666666666,
              "#ed7953"
             ],
             [
              0.7777777777777778,
              "#fb9f3a"
             ],
             [
              0.8888888888888888,
              "#fdca26"
             ],
             [
              1,
              "#f0f921"
             ]
            ],
            "type": "histogram2d"
           }
          ],
          "histogram2dcontour": [
           {
            "colorbar": {
             "outlinewidth": 0,
             "ticks": ""
            },
            "colorscale": [
             [
              0,
              "#0d0887"
             ],
             [
              0.1111111111111111,
              "#46039f"
             ],
             [
              0.2222222222222222,
              "#7201a8"
             ],
             [
              0.3333333333333333,
              "#9c179e"
             ],
             [
              0.4444444444444444,
              "#bd3786"
             ],
             [
              0.5555555555555556,
              "#d8576b"
             ],
             [
              0.6666666666666666,
              "#ed7953"
             ],
             [
              0.7777777777777778,
              "#fb9f3a"
             ],
             [
              0.8888888888888888,
              "#fdca26"
             ],
             [
              1,
              "#f0f921"
             ]
            ],
            "type": "histogram2dcontour"
           }
          ],
          "mesh3d": [
           {
            "colorbar": {
             "outlinewidth": 0,
             "ticks": ""
            },
            "type": "mesh3d"
           }
          ],
          "parcoords": [
           {
            "line": {
             "colorbar": {
              "outlinewidth": 0,
              "ticks": ""
             }
            },
            "type": "parcoords"
           }
          ],
          "pie": [
           {
            "automargin": true,
            "type": "pie"
           }
          ],
          "scatter": [
           {
            "fillpattern": {
             "fillmode": "overlay",
             "size": 10,
             "solidity": 0.2
            },
            "type": "scatter"
           }
          ],
          "scatter3d": [
           {
            "line": {
             "colorbar": {
              "outlinewidth": 0,
              "ticks": ""
             }
            },
            "marker": {
             "colorbar": {
              "outlinewidth": 0,
              "ticks": ""
             }
            },
            "type": "scatter3d"
           }
          ],
          "scattercarpet": [
           {
            "marker": {
             "colorbar": {
              "outlinewidth": 0,
              "ticks": ""
             }
            },
            "type": "scattercarpet"
           }
          ],
          "scattergeo": [
           {
            "marker": {
             "colorbar": {
              "outlinewidth": 0,
              "ticks": ""
             }
            },
            "type": "scattergeo"
           }
          ],
          "scattergl": [
           {
            "marker": {
             "colorbar": {
              "outlinewidth": 0,
              "ticks": ""
             }
            },
            "type": "scattergl"
           }
          ],
          "scattermapbox": [
           {
            "marker": {
             "colorbar": {
              "outlinewidth": 0,
              "ticks": ""
             }
            },
            "type": "scattermapbox"
           }
          ],
          "scatterpolar": [
           {
            "marker": {
             "colorbar": {
              "outlinewidth": 0,
              "ticks": ""
             }
            },
            "type": "scatterpolar"
           }
          ],
          "scatterpolargl": [
           {
            "marker": {
             "colorbar": {
              "outlinewidth": 0,
              "ticks": ""
             }
            },
            "type": "scatterpolargl"
           }
          ],
          "scatterternary": [
           {
            "marker": {
             "colorbar": {
              "outlinewidth": 0,
              "ticks": ""
             }
            },
            "type": "scatterternary"
           }
          ],
          "surface": [
           {
            "colorbar": {
             "outlinewidth": 0,
             "ticks": ""
            },
            "colorscale": [
             [
              0,
              "#0d0887"
             ],
             [
              0.1111111111111111,
              "#46039f"
             ],
             [
              0.2222222222222222,
              "#7201a8"
             ],
             [
              0.3333333333333333,
              "#9c179e"
             ],
             [
              0.4444444444444444,
              "#bd3786"
             ],
             [
              0.5555555555555556,
              "#d8576b"
             ],
             [
              0.6666666666666666,
              "#ed7953"
             ],
             [
              0.7777777777777778,
              "#fb9f3a"
             ],
             [
              0.8888888888888888,
              "#fdca26"
             ],
             [
              1,
              "#f0f921"
             ]
            ],
            "type": "surface"
           }
          ],
          "table": [
           {
            "cells": {
             "fill": {
              "color": "#EBF0F8"
             },
             "line": {
              "color": "white"
             }
            },
            "header": {
             "fill": {
              "color": "#C8D4E3"
             },
             "line": {
              "color": "white"
             }
            },
            "type": "table"
           }
          ]
         },
         "layout": {
          "annotationdefaults": {
           "arrowcolor": "#2a3f5f",
           "arrowhead": 0,
           "arrowwidth": 1
          },
          "autotypenumbers": "strict",
          "coloraxis": {
           "colorbar": {
            "outlinewidth": 0,
            "ticks": ""
           }
          },
          "colorscale": {
           "diverging": [
            [
             0,
             "#8e0152"
            ],
            [
             0.1,
             "#c51b7d"
            ],
            [
             0.2,
             "#de77ae"
            ],
            [
             0.3,
             "#f1b6da"
            ],
            [
             0.4,
             "#fde0ef"
            ],
            [
             0.5,
             "#f7f7f7"
            ],
            [
             0.6,
             "#e6f5d0"
            ],
            [
             0.7,
             "#b8e186"
            ],
            [
             0.8,
             "#7fbc41"
            ],
            [
             0.9,
             "#4d9221"
            ],
            [
             1,
             "#276419"
            ]
           ],
           "sequential": [
            [
             0,
             "#0d0887"
            ],
            [
             0.1111111111111111,
             "#46039f"
            ],
            [
             0.2222222222222222,
             "#7201a8"
            ],
            [
             0.3333333333333333,
             "#9c179e"
            ],
            [
             0.4444444444444444,
             "#bd3786"
            ],
            [
             0.5555555555555556,
             "#d8576b"
            ],
            [
             0.6666666666666666,
             "#ed7953"
            ],
            [
             0.7777777777777778,
             "#fb9f3a"
            ],
            [
             0.8888888888888888,
             "#fdca26"
            ],
            [
             1,
             "#f0f921"
            ]
           ],
           "sequentialminus": [
            [
             0,
             "#0d0887"
            ],
            [
             0.1111111111111111,
             "#46039f"
            ],
            [
             0.2222222222222222,
             "#7201a8"
            ],
            [
             0.3333333333333333,
             "#9c179e"
            ],
            [
             0.4444444444444444,
             "#bd3786"
            ],
            [
             0.5555555555555556,
             "#d8576b"
            ],
            [
             0.6666666666666666,
             "#ed7953"
            ],
            [
             0.7777777777777778,
             "#fb9f3a"
            ],
            [
             0.8888888888888888,
             "#fdca26"
            ],
            [
             1,
             "#f0f921"
            ]
           ]
          },
          "colorway": [
           "#636efa",
           "#EF553B",
           "#00cc96",
           "#ab63fa",
           "#FFA15A",
           "#19d3f3",
           "#FF6692",
           "#B6E880",
           "#FF97FF",
           "#FECB52"
          ],
          "font": {
           "color": "#2a3f5f"
          },
          "geo": {
           "bgcolor": "white",
           "lakecolor": "white",
           "landcolor": "#E5ECF6",
           "showlakes": true,
           "showland": true,
           "subunitcolor": "white"
          },
          "hoverlabel": {
           "align": "left"
          },
          "hovermode": "closest",
          "mapbox": {
           "style": "light"
          },
          "paper_bgcolor": "white",
          "plot_bgcolor": "#E5ECF6",
          "polar": {
           "angularaxis": {
            "gridcolor": "white",
            "linecolor": "white",
            "ticks": ""
           },
           "bgcolor": "#E5ECF6",
           "radialaxis": {
            "gridcolor": "white",
            "linecolor": "white",
            "ticks": ""
           }
          },
          "scene": {
           "xaxis": {
            "backgroundcolor": "#E5ECF6",
            "gridcolor": "white",
            "gridwidth": 2,
            "linecolor": "white",
            "showbackground": true,
            "ticks": "",
            "zerolinecolor": "white"
           },
           "yaxis": {
            "backgroundcolor": "#E5ECF6",
            "gridcolor": "white",
            "gridwidth": 2,
            "linecolor": "white",
            "showbackground": true,
            "ticks": "",
            "zerolinecolor": "white"
           },
           "zaxis": {
            "backgroundcolor": "#E5ECF6",
            "gridcolor": "white",
            "gridwidth": 2,
            "linecolor": "white",
            "showbackground": true,
            "ticks": "",
            "zerolinecolor": "white"
           }
          },
          "shapedefaults": {
           "line": {
            "color": "#2a3f5f"
           }
          },
          "ternary": {
           "aaxis": {
            "gridcolor": "white",
            "linecolor": "white",
            "ticks": ""
           },
           "baxis": {
            "gridcolor": "white",
            "linecolor": "white",
            "ticks": ""
           },
           "bgcolor": "#E5ECF6",
           "caxis": {
            "gridcolor": "white",
            "linecolor": "white",
            "ticks": ""
           }
          },
          "title": {
           "x": 0.05
          },
          "xaxis": {
           "automargin": true,
           "gridcolor": "white",
           "linecolor": "white",
           "ticks": "",
           "title": {
            "standoff": 15
           },
           "zerolinecolor": "white",
           "zerolinewidth": 2
          },
          "yaxis": {
           "automargin": true,
           "gridcolor": "white",
           "linecolor": "white",
           "ticks": "",
           "title": {
            "standoff": 15
           },
           "zerolinecolor": "white",
           "zerolinewidth": 2
          }
         }
        },
        "title": {
         "text": "Maximum Units Sold per State"
        }
       }
      }
     },
     "metadata": {},
     "output_type": "display_data"
    }
   ],
   "source": [
    "\n",
    "state_centroids = {\n",
    "    'AL': {'lat': 32.806671, 'lon': -86.791130},\n",
    "    'AK': {'lat': 61.370716, 'lon': -152.404419},\n",
    "    'AZ': {'lat': 33.729759, 'lon': -111.431221},\n",
    "    'AR': {'lat': 34.969704, 'lon': -92.373123},\n",
    "    'CA': {'lat': 36.116203, 'lon': -119.681564},\n",
    "    'CO': {'lat': 39.059811, 'lon': -105.311104},\n",
    "    'CT': {'lat': 41.597782, 'lon': -72.755371},\n",
    "    'DE': {'lat': 39.318523, 'lon': -75.507141},\n",
    "    'FL': {'lat': 27.766279, 'lon': -81.686783},\n",
    "    'GA': {'lat': 33.040619, 'lon': -83.643074},\n",
    "    'HI': {'lat': 21.094318, 'lon': -157.498337},\n",
    "    'ID': {'lat': 44.240459, 'lon': -114.478828},\n",
    "    'IL': {'lat': 40.349457, 'lon': -88.986137},\n",
    "    'IN': {'lat': 39.849426, 'lon': -86.258278},\n",
    "    'IA': {'lat': 42.011539, 'lon': -93.210526},\n",
    "    'KS': {'lat': 38.526600, 'lon': -96.726486},\n",
    "    'KY': {'lat': 37.668140, 'lon': -84.670067},\n",
    "    'LA': {'lat': 31.169546, 'lon': -91.867805},\n",
    "    'ME': {'lat': 44.693947, 'lon': -69.381927},\n",
    "    'MD': {'lat': 39.063946, 'lon': -76.802101},\n",
    "    'MA': {'lat': 42.230171, 'lon': -71.530106},\n",
    "    'MI': {'lat': 43.326618, 'lon': -84.536095},\n",
    "    'MN': {'lat': 45.694454, 'lon': -93.900192},\n",
    "    'MS': {'lat': 32.741646, 'lon': -89.678696},\n",
    "    'MO': {'lat': 38.456085, 'lon': -92.288368},\n",
    "    'MT': {'lat': 46.921925, 'lon': -110.454353},\n",
    "    'NE': {'lat': 41.125370, 'lon': -98.268082},\n",
    "    'NV': {'lat': 38.313515, 'lon': -117.055374},\n",
    "    'NH': {'lat': 43.452492, 'lon': -71.563896},\n",
    "    'NJ': {'lat': 40.298904, 'lon': -74.521011},\n",
    "    'NM': {'lat': 34.840515, 'lon': -106.248482},\n",
    "    'NY': {'lat': 42.165726, 'lon': -74.948051},\n",
    "    'NC': {'lat': 35.630066, 'lon': -79.806419},\n",
    "    'ND': {'lat': 47.528912, 'lon': -99.784012},\n",
    "    'OH': {'lat': 40.388783, 'lon': -82.764915},\n",
    "    'OK': {'lat': 35.565342, 'lon': -96.928917},\n",
    "    'OR': {'lat': 44.572021, 'lon': -122.070938},\n",
    "    'PA': {'lat': 40.590752, 'lon': -77.209755},\n",
    "    'RI': {'lat': 41.680893, 'lon': -71.511780},\n",
    "    'SC': {'lat': 33.856892, 'lon': -80.945007},\n",
    "    'SD': {'lat': 44.299782, 'lon': -99.438828},\n",
    "    'TN': {'lat': 35.747845, 'lon': -86.692345},\n",
    "    'TX': {'lat': 31.054487, 'lon': -97.563461},\n",
    "    'UT': {'lat': 40.150032, 'lon': -111.862434},\n",
    "    'VT': {'lat': 44.045876, 'lon': -72.710686},\n",
    "    'VA': {'lat': 37.769337, 'lon': -78.169968},\n",
    "    'WA': {'lat': 47.400902, 'lon': -121.490494},\n",
    "    'WV': {'lat': 38.491226, 'lon': -80.954570},\n",
    "    'WI': {'lat': 44.268543, 'lon': -89.616508},\n",
    "    'WY': {'lat': 42.755966, 'lon': -107.302490}\n",
    "}\n",
    "\n",
    "# Add latitude and longitude to your DataFrame\n",
    "question_5['Latitude'] = question_5['State Abbreviation'].apply(lambda x: state_centroids[x]['lat'] if x in state_centroids else None)\n",
    "question_5['Longitude'] = question_5['State Abbreviation'].apply(lambda x: state_centroids[x]['lon'] if x in state_centroids else None)\n",
    "\n",
    "fig = px.scatter_geo(question_5,\n",
    "                     lat='Latitude',\n",
    "                     lon='Longitude',\n",
    "                     color='Product',  # Color points by product\n",
    "                     size='Units Sold',  # Size points by units sold\n",
    "                     hover_name='City',  # Show city name on hover\n",
    "                     hover_data=['State Abbreviation', 'Units Sold', 'Product'],  # Additional hover info\n",
    "                     title='Maximum Units Sold per State',\n",
    "                     scope='usa')  # Focus on USA\n",
    "\n",
    "fig.show()\n"
   ]
  },
  {
   "cell_type": "markdown",
   "id": "95a872e3",
   "metadata": {},
   "source": [
    "Creating a map that is more aesthetically pleasing "
   ]
  },
  {
   "cell_type": "code",
   "execution_count": 40,
   "id": "08a3a20f",
   "metadata": {},
   "outputs": [
    {
     "data": {
      "application/vnd.plotly.v1+json": {
       "config": {
        "plotlyServerURL": "https://plot.ly"
       },
       "data": [
        {
         "customdata": [
          [
           "NY",
           1275,
           "Men's Street Footwear"
          ],
          [
           "FL",
           1150,
           "Men's Street Footwear"
          ],
          [
           "SC",
           1150,
           "Men's Street Footwear"
          ],
          [
           "GA",
           1075,
           "Men's Street Footwear"
          ],
          [
           "WA",
           1050,
           "Men's Street Footwear"
          ],
          [
           "NC",
           1050,
           "Men's Street Footwear"
          ],
          [
           "CA",
           1025,
           "Men's Street Footwear"
          ],
          [
           "CA",
           950,
           "Men's Street Footwear"
          ],
          [
           "NY",
           950,
           "Men's Street Footwear"
          ],
          [
           "LA",
           900,
           "Men's Street Footwear"
          ],
          [
           "FL",
           900,
           "Men's Street Footwear"
          ],
          [
           "MI",
           900,
           "Men's Street Footwear"
          ],
          [
           "OH",
           900,
           "Men's Street Footwear"
          ],
          [
           "FL",
           900,
           "Men's Street Footwear"
          ],
          [
           "WY",
           875,
           "Men's Street Footwear"
          ],
          [
           "OR",
           850,
           "Men's Street Footwear"
          ],
          [
           "VA",
           850,
           "Men's Street Footwear"
          ],
          [
           "MS",
           850,
           "Men's Street Footwear"
          ],
          [
           "HI",
           800,
           "Men's Street Footwear"
          ],
          [
           "UT",
           800,
           "Men's Street Footwear"
          ],
          [
           "CO",
           775,
           "Men's Street Footwear"
          ],
          [
           "KY",
           775,
           "Men's Street Footwear"
          ],
          [
           "AR",
           775,
           "Men's Street Footwear"
          ],
          [
           "MO",
           750,
           "Men's Street Footwear"
          ],
          [
           "NV",
           750,
           "Men's Street Footwear"
          ],
          [
           "NM",
           750,
           "Men's Street Footwear"
          ],
          [
           "MT",
           750,
           "Men's Street Footwear"
          ],
          [
           "IL",
           725,
           "Men's Street Footwear"
          ],
          [
           "NH",
           700,
           "Men's Street Footwear"
          ],
          [
           "OK",
           700,
           "Men's Street Footwear"
          ],
          [
           "NE",
           675,
           "Men's Street Footwear"
          ],
          [
           "KS",
           675,
           "Men's Street Footwear"
          ],
          [
           "AK",
           675,
           "Men's Street Footwear"
          ],
          [
           "VT",
           675,
           "Men's Street Footwear"
          ],
          [
           "AZ",
           675,
           "Men's Street Footwear"
          ],
          [
           "DE",
           675,
           "Men's Street Footwear"
          ],
          [
           "CT",
           650,
           "Men's Street Footwear"
          ],
          [
           "NJ",
           625,
           "Men's Street Footwear"
          ],
          [
           "MA",
           600,
           "Men's Street Footwear"
          ],
          [
           "IN",
           600,
           "Men's Street Footwear"
          ],
          [
           "RI",
           575,
           "Men's Street Footwear"
          ],
          [
           "MD",
           575,
           "Men's Street Footwear"
          ],
          [
           "ND",
           550,
           "Men's Street Footwear"
          ],
          [
           "MN",
           550,
           "Men's Street Footwear"
          ],
          [
           "WI",
           550,
           "Men's Street Footwear"
          ],
          [
           "WI",
           550,
           "Men's Street Footwear"
          ],
          [
           "WI",
           550,
           "Men's Street Footwear"
          ],
          [
           "SD",
           550,
           "Men's Street Footwear"
          ],
          [
           "WI",
           550,
           "Men's Street Footwear"
          ],
          [
           "IA",
           550,
           "Men's Street Footwear"
          ],
          [
           "PA",
           525,
           "Men's Street Footwear"
          ]
         ],
         "geo": "geo",
         "hovertemplate": "<b>%{hovertext}</b><br><br>Product=%{customdata[2]}<br>Units Sold=%{customdata[1]}<br>Latitude=%{lat}<br>Longitude=%{lon}<br>State Abbreviation=%{customdata[0]}<extra></extra>",
         "hovertext": [
          "New York",
          "Miami",
          "Charleston",
          "Atlanta",
          "Seattle",
          "Charlotte",
          "San Francisco",
          "Los Angeles",
          "Albany",
          "New Orleans",
          "Orlando",
          "Detroit",
          "Columbus",
          "Orlando",
          "Cheyenne",
          "Portland",
          "Richmond",
          "Jackson",
          "Honolulu",
          "Salt Lake City",
          "Denver",
          "Louisville",
          "Little Rock",
          "St. Louis",
          "Las Vegas",
          "Albuquerque",
          "Billings",
          "Chicago",
          "Manchester",
          "Oklahoma City",
          "Omaha",
          "Wichita",
          "Anchorage",
          "Burlington",
          "Phoenix",
          "Wilmington",
          "Hartford",
          "Newark",
          "Boston",
          "Indianapolis",
          "Providence",
          "Baltimore",
          "Fargo",
          "Minneapolis",
          "Milwaukee",
          "Milwaukee",
          "Milwaukee",
          "Sioux Falls",
          "Milwaukee",
          "Des Moines",
          "Philadelphia"
         ],
         "lat": [
          42.165726,
          27.766279,
          33.856892,
          33.040619,
          47.400902,
          35.630066,
          36.116203,
          36.116203,
          42.165726,
          31.169546,
          27.766279,
          43.326618,
          40.388783,
          27.766279,
          42.755966,
          44.572021,
          37.769337,
          32.741646,
          21.094318,
          40.150032,
          39.059811,
          37.66814,
          34.969704,
          38.456085,
          38.313515,
          34.840515,
          46.921925,
          40.349457,
          43.452492,
          35.565342,
          41.12537,
          38.5266,
          61.370716,
          44.045876,
          33.729759,
          39.318523,
          41.597782,
          40.298904,
          42.230171,
          39.849426,
          41.680893,
          39.063946,
          47.528912,
          45.694454,
          44.268543,
          44.268543,
          44.268543,
          44.299782,
          44.268543,
          42.011539,
          40.590752
         ],
         "legendgroup": "Men's Street Footwear",
         "lon": [
          -74.948051,
          -81.686783,
          -80.945007,
          -83.643074,
          -121.490494,
          -79.806419,
          -119.681564,
          -119.681564,
          -74.948051,
          -91.867805,
          -81.686783,
          -84.536095,
          -82.764915,
          -81.686783,
          -107.30249,
          -122.070938,
          -78.169968,
          -89.678696,
          -157.498337,
          -111.862434,
          -105.311104,
          -84.670067,
          -92.373123,
          -92.288368,
          -117.055374,
          -106.248482,
          -110.454353,
          -88.986137,
          -71.563896,
          -96.928917,
          -98.268082,
          -96.726486,
          -152.404419,
          -72.710686,
          -111.431221,
          -75.507141,
          -72.755371,
          -74.521011,
          -71.530106,
          -86.258278,
          -71.51178,
          -76.802101,
          -99.784012,
          -93.900192,
          -89.616508,
          -89.616508,
          -89.616508,
          -99.438828,
          -89.616508,
          -93.210526,
          -77.209755
         ],
         "marker": {
          "color": "#636efa",
          "size": [
           1275,
           1150,
           1150,
           1075,
           1050,
           1050,
           1025,
           950,
           950,
           900,
           900,
           900,
           900,
           900,
           875,
           850,
           850,
           850,
           800,
           800,
           775,
           775,
           775,
           750,
           750,
           750,
           750,
           725,
           700,
           700,
           675,
           675,
           675,
           675,
           675,
           675,
           650,
           625,
           600,
           600,
           575,
           575,
           550,
           550,
           550,
           550,
           550,
           550,
           550,
           550,
           525
          ],
          "sizemode": "area",
          "sizeref": 3.1875,
          "symbol": "circle"
         },
         "mode": "markers",
         "name": "Men's Street Footwear",
         "showlegend": true,
         "type": "scattergeo"
        },
        {
         "customdata": [
          [
           "TX",
           1100,
           "Women's Street Footwear"
          ],
          [
           "TX",
           1100,
           "Women's Street Footwear"
          ],
          [
           "TN",
           975,
           "Women's Street Footwear"
          ],
          [
           "AL",
           975,
           "Women's Street Footwear"
          ],
          [
           "TX",
           975,
           "Women's Street Footwear"
          ],
          [
           "TX",
           975,
           "Women's Street Footwear"
          ],
          [
           "ID",
           925,
           "Women's Street Footwear"
          ],
          [
           "ID",
           925,
           "Women's Street Footwear"
          ]
         ],
         "geo": "geo",
         "hovertemplate": "<b>%{hovertext}</b><br><br>Product=%{customdata[2]}<br>Units Sold=%{customdata[1]}<br>Latitude=%{lat}<br>Longitude=%{lon}<br>State Abbreviation=%{customdata[0]}<extra></extra>",
         "hovertext": [
          "Houston",
          "Houston",
          "Knoxville",
          "Birmingham",
          "Dallas",
          "Dallas",
          "Boise",
          "Boise"
         ],
         "lat": [
          31.054487,
          31.054487,
          35.747845,
          32.806671,
          31.054487,
          31.054487,
          44.240459,
          44.240459
         ],
         "legendgroup": "Women's Street Footwear",
         "lon": [
          -97.563461,
          -97.563461,
          -86.692345,
          -86.79113,
          -97.563461,
          -97.563461,
          -114.478828,
          -114.478828
         ],
         "marker": {
          "color": "#EF553B",
          "size": [
           1100,
           1100,
           975,
           975,
           975,
           975,
           925,
           925
          ],
          "sizemode": "area",
          "sizeref": 3.1875,
          "symbol": "circle"
         },
         "mode": "markers",
         "name": "Women's Street Footwear",
         "showlegend": true,
         "type": "scattergeo"
        },
        {
         "customdata": [
          [
           "IL",
           725,
           "Men's Athletic Footwear"
          ],
          [
           "NE",
           675,
           "Men's Athletic Footwear"
          ]
         ],
         "geo": "geo",
         "hovertemplate": "<b>%{hovertext}</b><br><br>Product=%{customdata[2]}<br>Units Sold=%{customdata[1]}<br>Latitude=%{lat}<br>Longitude=%{lon}<br>State Abbreviation=%{customdata[0]}<extra></extra>",
         "hovertext": [
          "Chicago",
          "Omaha"
         ],
         "lat": [
          40.349457,
          41.12537
         ],
         "legendgroup": "Men's Athletic Footwear",
         "lon": [
          -88.986137,
          -98.268082
         ],
         "marker": {
          "color": "#00cc96",
          "size": [
           725,
           675
          ],
          "sizemode": "area",
          "sizeref": 3.1875,
          "symbol": "circle"
         },
         "mode": "markers",
         "name": "Men's Athletic Footwear",
         "showlegend": true,
         "type": "scattergeo"
        }
       ],
       "layout": {
        "geo": {
         "center": {},
         "domain": {
          "x": [
           0,
           1
          ],
          "y": [
           0,
           1
          ]
         },
         "lakecolor": "Blue",
         "landcolor": "LightGreen",
         "oceancolor": "LightBlue",
         "rivercolor": "Blue",
         "scope": "usa",
         "showlakes": true,
         "showland": true,
         "showocean": true,
         "showrivers": true
        },
        "legend": {
         "itemsizing": "constant",
         "title": {
          "text": "Product"
         },
         "tracegroupgap": 0
        },
        "margin": {
         "b": 0,
         "l": 0,
         "r": 0,
         "t": 0
        },
        "template": {
         "data": {
          "bar": [
           {
            "error_x": {
             "color": "#f2f5fa"
            },
            "error_y": {
             "color": "#f2f5fa"
            },
            "marker": {
             "line": {
              "color": "rgb(17,17,17)",
              "width": 0.5
             },
             "pattern": {
              "fillmode": "overlay",
              "size": 10,
              "solidity": 0.2
             }
            },
            "type": "bar"
           }
          ],
          "barpolar": [
           {
            "marker": {
             "line": {
              "color": "rgb(17,17,17)",
              "width": 0.5
             },
             "pattern": {
              "fillmode": "overlay",
              "size": 10,
              "solidity": 0.2
             }
            },
            "type": "barpolar"
           }
          ],
          "carpet": [
           {
            "aaxis": {
             "endlinecolor": "#A2B1C6",
             "gridcolor": "#506784",
             "linecolor": "#506784",
             "minorgridcolor": "#506784",
             "startlinecolor": "#A2B1C6"
            },
            "baxis": {
             "endlinecolor": "#A2B1C6",
             "gridcolor": "#506784",
             "linecolor": "#506784",
             "minorgridcolor": "#506784",
             "startlinecolor": "#A2B1C6"
            },
            "type": "carpet"
           }
          ],
          "choropleth": [
           {
            "colorbar": {
             "outlinewidth": 0,
             "ticks": ""
            },
            "type": "choropleth"
           }
          ],
          "contour": [
           {
            "colorbar": {
             "outlinewidth": 0,
             "ticks": ""
            },
            "colorscale": [
             [
              0,
              "#0d0887"
             ],
             [
              0.1111111111111111,
              "#46039f"
             ],
             [
              0.2222222222222222,
              "#7201a8"
             ],
             [
              0.3333333333333333,
              "#9c179e"
             ],
             [
              0.4444444444444444,
              "#bd3786"
             ],
             [
              0.5555555555555556,
              "#d8576b"
             ],
             [
              0.6666666666666666,
              "#ed7953"
             ],
             [
              0.7777777777777778,
              "#fb9f3a"
             ],
             [
              0.8888888888888888,
              "#fdca26"
             ],
             [
              1,
              "#f0f921"
             ]
            ],
            "type": "contour"
           }
          ],
          "contourcarpet": [
           {
            "colorbar": {
             "outlinewidth": 0,
             "ticks": ""
            },
            "type": "contourcarpet"
           }
          ],
          "heatmap": [
           {
            "colorbar": {
             "outlinewidth": 0,
             "ticks": ""
            },
            "colorscale": [
             [
              0,
              "#0d0887"
             ],
             [
              0.1111111111111111,
              "#46039f"
             ],
             [
              0.2222222222222222,
              "#7201a8"
             ],
             [
              0.3333333333333333,
              "#9c179e"
             ],
             [
              0.4444444444444444,
              "#bd3786"
             ],
             [
              0.5555555555555556,
              "#d8576b"
             ],
             [
              0.6666666666666666,
              "#ed7953"
             ],
             [
              0.7777777777777778,
              "#fb9f3a"
             ],
             [
              0.8888888888888888,
              "#fdca26"
             ],
             [
              1,
              "#f0f921"
             ]
            ],
            "type": "heatmap"
           }
          ],
          "heatmapgl": [
           {
            "colorbar": {
             "outlinewidth": 0,
             "ticks": ""
            },
            "colorscale": [
             [
              0,
              "#0d0887"
             ],
             [
              0.1111111111111111,
              "#46039f"
             ],
             [
              0.2222222222222222,
              "#7201a8"
             ],
             [
              0.3333333333333333,
              "#9c179e"
             ],
             [
              0.4444444444444444,
              "#bd3786"
             ],
             [
              0.5555555555555556,
              "#d8576b"
             ],
             [
              0.6666666666666666,
              "#ed7953"
             ],
             [
              0.7777777777777778,
              "#fb9f3a"
             ],
             [
              0.8888888888888888,
              "#fdca26"
             ],
             [
              1,
              "#f0f921"
             ]
            ],
            "type": "heatmapgl"
           }
          ],
          "histogram": [
           {
            "marker": {
             "pattern": {
              "fillmode": "overlay",
              "size": 10,
              "solidity": 0.2
             }
            },
            "type": "histogram"
           }
          ],
          "histogram2d": [
           {
            "colorbar": {
             "outlinewidth": 0,
             "ticks": ""
            },
            "colorscale": [
             [
              0,
              "#0d0887"
             ],
             [
              0.1111111111111111,
              "#46039f"
             ],
             [
              0.2222222222222222,
              "#7201a8"
             ],
             [
              0.3333333333333333,
              "#9c179e"
             ],
             [
              0.4444444444444444,
              "#bd3786"
             ],
             [
              0.5555555555555556,
              "#d8576b"
             ],
             [
              0.6666666666666666,
              "#ed7953"
             ],
             [
              0.7777777777777778,
              "#fb9f3a"
             ],
             [
              0.8888888888888888,
              "#fdca26"
             ],
             [
              1,
              "#f0f921"
             ]
            ],
            "type": "histogram2d"
           }
          ],
          "histogram2dcontour": [
           {
            "colorbar": {
             "outlinewidth": 0,
             "ticks": ""
            },
            "colorscale": [
             [
              0,
              "#0d0887"
             ],
             [
              0.1111111111111111,
              "#46039f"
             ],
             [
              0.2222222222222222,
              "#7201a8"
             ],
             [
              0.3333333333333333,
              "#9c179e"
             ],
             [
              0.4444444444444444,
              "#bd3786"
             ],
             [
              0.5555555555555556,
              "#d8576b"
             ],
             [
              0.6666666666666666,
              "#ed7953"
             ],
             [
              0.7777777777777778,
              "#fb9f3a"
             ],
             [
              0.8888888888888888,
              "#fdca26"
             ],
             [
              1,
              "#f0f921"
             ]
            ],
            "type": "histogram2dcontour"
           }
          ],
          "mesh3d": [
           {
            "colorbar": {
             "outlinewidth": 0,
             "ticks": ""
            },
            "type": "mesh3d"
           }
          ],
          "parcoords": [
           {
            "line": {
             "colorbar": {
              "outlinewidth": 0,
              "ticks": ""
             }
            },
            "type": "parcoords"
           }
          ],
          "pie": [
           {
            "automargin": true,
            "type": "pie"
           }
          ],
          "scatter": [
           {
            "marker": {
             "line": {
              "color": "#283442"
             }
            },
            "type": "scatter"
           }
          ],
          "scatter3d": [
           {
            "line": {
             "colorbar": {
              "outlinewidth": 0,
              "ticks": ""
             }
            },
            "marker": {
             "colorbar": {
              "outlinewidth": 0,
              "ticks": ""
             }
            },
            "type": "scatter3d"
           }
          ],
          "scattercarpet": [
           {
            "marker": {
             "colorbar": {
              "outlinewidth": 0,
              "ticks": ""
             }
            },
            "type": "scattercarpet"
           }
          ],
          "scattergeo": [
           {
            "marker": {
             "colorbar": {
              "outlinewidth": 0,
              "ticks": ""
             }
            },
            "type": "scattergeo"
           }
          ],
          "scattergl": [
           {
            "marker": {
             "line": {
              "color": "#283442"
             }
            },
            "type": "scattergl"
           }
          ],
          "scattermapbox": [
           {
            "marker": {
             "colorbar": {
              "outlinewidth": 0,
              "ticks": ""
             }
            },
            "type": "scattermapbox"
           }
          ],
          "scatterpolar": [
           {
            "marker": {
             "colorbar": {
              "outlinewidth": 0,
              "ticks": ""
             }
            },
            "type": "scatterpolar"
           }
          ],
          "scatterpolargl": [
           {
            "marker": {
             "colorbar": {
              "outlinewidth": 0,
              "ticks": ""
             }
            },
            "type": "scatterpolargl"
           }
          ],
          "scatterternary": [
           {
            "marker": {
             "colorbar": {
              "outlinewidth": 0,
              "ticks": ""
             }
            },
            "type": "scatterternary"
           }
          ],
          "surface": [
           {
            "colorbar": {
             "outlinewidth": 0,
             "ticks": ""
            },
            "colorscale": [
             [
              0,
              "#0d0887"
             ],
             [
              0.1111111111111111,
              "#46039f"
             ],
             [
              0.2222222222222222,
              "#7201a8"
             ],
             [
              0.3333333333333333,
              "#9c179e"
             ],
             [
              0.4444444444444444,
              "#bd3786"
             ],
             [
              0.5555555555555556,
              "#d8576b"
             ],
             [
              0.6666666666666666,
              "#ed7953"
             ],
             [
              0.7777777777777778,
              "#fb9f3a"
             ],
             [
              0.8888888888888888,
              "#fdca26"
             ],
             [
              1,
              "#f0f921"
             ]
            ],
            "type": "surface"
           }
          ],
          "table": [
           {
            "cells": {
             "fill": {
              "color": "#506784"
             },
             "line": {
              "color": "rgb(17,17,17)"
             }
            },
            "header": {
             "fill": {
              "color": "#2a3f5f"
             },
             "line": {
              "color": "rgb(17,17,17)"
             }
            },
            "type": "table"
           }
          ]
         },
         "layout": {
          "annotationdefaults": {
           "arrowcolor": "#f2f5fa",
           "arrowhead": 0,
           "arrowwidth": 1
          },
          "autotypenumbers": "strict",
          "coloraxis": {
           "colorbar": {
            "outlinewidth": 0,
            "ticks": ""
           }
          },
          "colorscale": {
           "diverging": [
            [
             0,
             "#8e0152"
            ],
            [
             0.1,
             "#c51b7d"
            ],
            [
             0.2,
             "#de77ae"
            ],
            [
             0.3,
             "#f1b6da"
            ],
            [
             0.4,
             "#fde0ef"
            ],
            [
             0.5,
             "#f7f7f7"
            ],
            [
             0.6,
             "#e6f5d0"
            ],
            [
             0.7,
             "#b8e186"
            ],
            [
             0.8,
             "#7fbc41"
            ],
            [
             0.9,
             "#4d9221"
            ],
            [
             1,
             "#276419"
            ]
           ],
           "sequential": [
            [
             0,
             "#0d0887"
            ],
            [
             0.1111111111111111,
             "#46039f"
            ],
            [
             0.2222222222222222,
             "#7201a8"
            ],
            [
             0.3333333333333333,
             "#9c179e"
            ],
            [
             0.4444444444444444,
             "#bd3786"
            ],
            [
             0.5555555555555556,
             "#d8576b"
            ],
            [
             0.6666666666666666,
             "#ed7953"
            ],
            [
             0.7777777777777778,
             "#fb9f3a"
            ],
            [
             0.8888888888888888,
             "#fdca26"
            ],
            [
             1,
             "#f0f921"
            ]
           ],
           "sequentialminus": [
            [
             0,
             "#0d0887"
            ],
            [
             0.1111111111111111,
             "#46039f"
            ],
            [
             0.2222222222222222,
             "#7201a8"
            ],
            [
             0.3333333333333333,
             "#9c179e"
            ],
            [
             0.4444444444444444,
             "#bd3786"
            ],
            [
             0.5555555555555556,
             "#d8576b"
            ],
            [
             0.6666666666666666,
             "#ed7953"
            ],
            [
             0.7777777777777778,
             "#fb9f3a"
            ],
            [
             0.8888888888888888,
             "#fdca26"
            ],
            [
             1,
             "#f0f921"
            ]
           ]
          },
          "colorway": [
           "#636efa",
           "#EF553B",
           "#00cc96",
           "#ab63fa",
           "#FFA15A",
           "#19d3f3",
           "#FF6692",
           "#B6E880",
           "#FF97FF",
           "#FECB52"
          ],
          "font": {
           "color": "#f2f5fa"
          },
          "geo": {
           "bgcolor": "rgb(17,17,17)",
           "lakecolor": "rgb(17,17,17)",
           "landcolor": "rgb(17,17,17)",
           "showlakes": true,
           "showland": true,
           "subunitcolor": "#506784"
          },
          "hoverlabel": {
           "align": "left"
          },
          "hovermode": "closest",
          "mapbox": {
           "style": "dark"
          },
          "paper_bgcolor": "rgb(17,17,17)",
          "plot_bgcolor": "rgb(17,17,17)",
          "polar": {
           "angularaxis": {
            "gridcolor": "#506784",
            "linecolor": "#506784",
            "ticks": ""
           },
           "bgcolor": "rgb(17,17,17)",
           "radialaxis": {
            "gridcolor": "#506784",
            "linecolor": "#506784",
            "ticks": ""
           }
          },
          "scene": {
           "xaxis": {
            "backgroundcolor": "rgb(17,17,17)",
            "gridcolor": "#506784",
            "gridwidth": 2,
            "linecolor": "#506784",
            "showbackground": true,
            "ticks": "",
            "zerolinecolor": "#C8D4E3"
           },
           "yaxis": {
            "backgroundcolor": "rgb(17,17,17)",
            "gridcolor": "#506784",
            "gridwidth": 2,
            "linecolor": "#506784",
            "showbackground": true,
            "ticks": "",
            "zerolinecolor": "#C8D4E3"
           },
           "zaxis": {
            "backgroundcolor": "rgb(17,17,17)",
            "gridcolor": "#506784",
            "gridwidth": 2,
            "linecolor": "#506784",
            "showbackground": true,
            "ticks": "",
            "zerolinecolor": "#C8D4E3"
           }
          },
          "shapedefaults": {
           "line": {
            "color": "#f2f5fa"
           }
          },
          "sliderdefaults": {
           "bgcolor": "#C8D4E3",
           "bordercolor": "rgb(17,17,17)",
           "borderwidth": 1,
           "tickwidth": 0
          },
          "ternary": {
           "aaxis": {
            "gridcolor": "#506784",
            "linecolor": "#506784",
            "ticks": ""
           },
           "baxis": {
            "gridcolor": "#506784",
            "linecolor": "#506784",
            "ticks": ""
           },
           "bgcolor": "rgb(17,17,17)",
           "caxis": {
            "gridcolor": "#506784",
            "linecolor": "#506784",
            "ticks": ""
           }
          },
          "title": {
           "x": 0.05
          },
          "updatemenudefaults": {
           "bgcolor": "#506784",
           "borderwidth": 0
          },
          "xaxis": {
           "automargin": true,
           "gridcolor": "#283442",
           "linecolor": "#506784",
           "ticks": "",
           "title": {
            "standoff": 15
           },
           "zerolinecolor": "#283442",
           "zerolinewidth": 2
          },
          "yaxis": {
           "automargin": true,
           "gridcolor": "#283442",
           "linecolor": "#506784",
           "ticks": "",
           "title": {
            "standoff": 15
           },
           "zerolinecolor": "#283442",
           "zerolinewidth": 2
          }
         }
        },
        "title": {
         "text": "Maximum Units Sold per State"
        }
       }
      }
     },
     "metadata": {},
     "output_type": "display_data"
    }
   ],
   "source": [
    "fig = px.scatter_geo(question_5,\n",
    "                     lat='Latitude',\n",
    "                     lon='Longitude',\n",
    "                     color='Product',  # Color points by product\n",
    "                     size='Units Sold',  # Size points by units sold\n",
    "                     hover_name='City',  # Show city name on hover\n",
    "                     hover_data=['State Abbreviation', 'Units Sold', 'Product'],  # Additional hover info\n",
    "                     title='Maximum Units Sold per State',\n",
    "                     scope='usa',  # Focus on USA\n",
    "                     color_continuous_scale=px.colors.sequential.Viridis,  # A pleasing color scale\n",
    "                     template='plotly_dark',  # Dark theme for contrast and readability\n",
    "                     )\n",
    "\n",
    "fig.update_layout(\n",
    "    geo=dict(\n",
    "        showland=True,  # Show land\n",
    "        landcolor='LightGreen',  # Land color\n",
    "        showocean=True,  # Show ocean\n",
    "        oceancolor='LightBlue',  # Ocean color\n",
    "        showlakes=True,  # Show lakes\n",
    "        lakecolor='Blue',  # Lake color\n",
    "        showrivers=True,  # Show rivers\n",
    "        rivercolor='Blue'  # River color\n",
    "    ),\n",
    "    margin={\"r\":0,\"t\":0,\"l\":0,\"b\":0}\n",
    ")\n",
    "\n",
    "fig.show()\n"
   ]
  },
  {
   "cell_type": "markdown",
   "id": "5ba8746e",
   "metadata": {},
   "source": [
    "#### Question 6. Product Portfolio Optimization I: Understanding which products are most profitable location wise.\n",
    "\n",
    "1. I have created a table above, it shows all the cities with the product and its top sales. \n",
    "\n",
    "2. Aditionally, I have also created a map that gives quick insights of which product is sold the most. \n",
    "\n",
    "3. Overall, Only 2 products dominate the US market - Men's Street Footwear and Women's Street Footwear. But Men's Athletic Footware also dominate in some states."
   ]
  },
  {
   "cell_type": "markdown",
   "id": "c4188e82",
   "metadata": {},
   "source": [
    "### 7. Product Portfolio Optimization II:\n",
    "Understanding which products are worst performing regardless of the location."
   ]
  },
  {
   "cell_type": "code",
   "execution_count": 41,
   "id": "255eb252",
   "metadata": {},
   "outputs": [
    {
     "data": {
      "text/plain": [
       "array([\"Women's Athletic Footwear\", \"Men's Apparel\",\n",
       "       \"Women's Street Footwear\"], dtype=object)"
      ]
     },
     "execution_count": 41,
     "metadata": {},
     "output_type": "execute_result"
    }
   ],
   "source": [
    "worst_product_top30 = location_wise_columns.sort_values('Operating Profit', ascending=True).head(30)\n",
    "worst_product_top3 = worst_product_top30['Product'].unique()\n",
    "worst_product_top3"
   ]
  },
  {
   "cell_type": "markdown",
   "id": "ff0a8fd5",
   "metadata": {},
   "source": [
    "#### Question 7. Product Portfolio Optimization II: Understanding which products are worst performing regardless of the location.\n",
    "\n",
    "1. The Women's Athletic Footwear Product is the worst performing product regardless of the area/ city, followed by Men's Apparel.\n",
    "\n",
    "2. To go even deeper, we can also perform a location wise analysis."
   ]
  },
  {
   "cell_type": "markdown",
   "id": "8a56396b",
   "metadata": {},
   "source": [
    "### 8. Market Expansion Opportunities\n",
    "Finding out the best and worst performing store location wise."
   ]
  },
  {
   "cell_type": "code",
   "execution_count": 42,
   "id": "b991c257",
   "metadata": {},
   "outputs": [
    {
     "data": {
      "text/plain": [
       "array(['Foot Locker', 'West Gear', 'Amazon'], dtype=object)"
      ]
     },
     "execution_count": 42,
     "metadata": {},
     "output_type": "execute_result"
    }
   ],
   "source": [
    "# This gives us data of top 3 columns only.   \n",
    "store_analysis = df[['Retailer', 'City', 'Product', 'Units Sold']]\n",
    "store_analysis = store_analysis.sort_values('Units Sold', ascending=True).head(30)\n",
    "\n",
    "# This gives us unique values of the Retailer column\n",
    "store_analysis_unique_retailers = store_analysis['Retailer'].unique()\n",
    "store_analysis_unique_retailers"
   ]
  },
  {
   "cell_type": "markdown",
   "id": "417cdee3",
   "metadata": {},
   "source": [
    "These are the top 3 worst performing store regarless of the location. But this is not helpful. Because Amazon could be doing top sales in Arizona but poorly in New Mexico. It is very important to do a location-store analysis"
   ]
  },
  {
   "cell_type": "code",
   "execution_count": 43,
   "id": "a18e8ea0",
   "metadata": {},
   "outputs": [],
   "source": [
    "# Grouping by 'City' and 'Retailer' and calculating the total operating profit for each store\n",
    "store_performance = df.groupby(['City', 'Retailer'])['Operating Profit'].sum().reset_index()\n",
    "# Sorting to find the best performing stores\n",
    "best_performing_stores = store_performance.sort_values('Operating Profit', ascending=False)\n",
    "# Sorting to find the worst performing stores\n",
    "worst_performing_stores = store_performance.sort_values('Operating Profit', ascending=True)"
   ]
  },
  {
   "cell_type": "code",
   "execution_count": 44,
   "id": "f39aad40",
   "metadata": {},
   "outputs": [
    {
     "name": "stdout",
     "output_type": "stream",
     "text": [
      "Best Performing Stores:\n",
      "             City       Retailer  Operating Profit\n",
      "22     Charleston    Foot Locker       10921979.98\n",
      "97  San Francisco      West Gear        9843005.12\n",
      "14     Birmingham  Sports Direct        9000633.91\n",
      "73       New York    Foot Locker        8874829.38\n",
      "60    Los Angeles         Kohl's        8851301.95\n"
     ]
    },
    {
     "data": {
      "text/html": [
       "<div>\n",
       "<style scoped>\n",
       "    .dataframe tbody tr th:only-of-type {\n",
       "        vertical-align: middle;\n",
       "    }\n",
       "\n",
       "    .dataframe tbody tr th {\n",
       "        vertical-align: top;\n",
       "    }\n",
       "\n",
       "    .dataframe thead th {\n",
       "        text-align: right;\n",
       "    }\n",
       "</style>\n",
       "<table border=\"1\" class=\"dataframe\">\n",
       "  <thead>\n",
       "    <tr style=\"text-align: right;\">\n",
       "      <th></th>\n",
       "      <th>City</th>\n",
       "      <th>Retailer</th>\n",
       "      <th>Operating Profit</th>\n",
       "    </tr>\n",
       "  </thead>\n",
       "  <tbody>\n",
       "    <tr>\n",
       "      <th>22</th>\n",
       "      <td>Charleston</td>\n",
       "      <td>Foot Locker</td>\n",
       "      <td>10921979.98</td>\n",
       "    </tr>\n",
       "    <tr>\n",
       "      <th>97</th>\n",
       "      <td>San Francisco</td>\n",
       "      <td>West Gear</td>\n",
       "      <td>9843005.12</td>\n",
       "    </tr>\n",
       "    <tr>\n",
       "      <th>14</th>\n",
       "      <td>Birmingham</td>\n",
       "      <td>Sports Direct</td>\n",
       "      <td>9000633.91</td>\n",
       "    </tr>\n",
       "    <tr>\n",
       "      <th>73</th>\n",
       "      <td>New York</td>\n",
       "      <td>Foot Locker</td>\n",
       "      <td>8874829.38</td>\n",
       "    </tr>\n",
       "    <tr>\n",
       "      <th>60</th>\n",
       "      <td>Los Angeles</td>\n",
       "      <td>Kohl's</td>\n",
       "      <td>8851301.95</td>\n",
       "    </tr>\n",
       "  </tbody>\n",
       "</table>\n",
       "</div>"
      ],
      "text/plain": [
       "             City       Retailer  Operating Profit\n",
       "22     Charleston    Foot Locker       10921979.98\n",
       "97  San Francisco      West Gear        9843005.12\n",
       "14     Birmingham  Sports Direct        9000633.91\n",
       "73       New York    Foot Locker        8874829.38\n",
       "60    Los Angeles         Kohl's        8851301.95"
      ]
     },
     "execution_count": 44,
     "metadata": {},
     "output_type": "execute_result"
    }
   ],
   "source": [
    "# Displaying the results: Best performing stores\n",
    "print(\"Best Performing Stores:\")\n",
    "print(best_performing_stores.head())\n",
    "best_performing_stores.head()"
   ]
  },
  {
   "cell_type": "code",
   "execution_count": 45,
   "id": "aee09ffe",
   "metadata": {},
   "outputs": [
    {
     "name": "stdout",
     "output_type": "stream",
     "text": [
      "\n",
      "Worst Performing Stores:\n",
      "           City       Retailer  Operating Profit\n",
      "54    Knoxville    Foot Locker         122641.99\n",
      "13   Birmingham         Amazon         146947.48\n",
      "59  Los Angeles    Foot Locker         193618.89\n",
      "33       Dallas    Foot Locker         194888.42\n",
      "30      Chicago  Sports Direct         237591.94\n"
     ]
    },
    {
     "data": {
      "text/html": [
       "<div>\n",
       "<style scoped>\n",
       "    .dataframe tbody tr th:only-of-type {\n",
       "        vertical-align: middle;\n",
       "    }\n",
       "\n",
       "    .dataframe tbody tr th {\n",
       "        vertical-align: top;\n",
       "    }\n",
       "\n",
       "    .dataframe thead th {\n",
       "        text-align: right;\n",
       "    }\n",
       "</style>\n",
       "<table border=\"1\" class=\"dataframe\">\n",
       "  <thead>\n",
       "    <tr style=\"text-align: right;\">\n",
       "      <th></th>\n",
       "      <th>City</th>\n",
       "      <th>Retailer</th>\n",
       "      <th>Operating Profit</th>\n",
       "    </tr>\n",
       "  </thead>\n",
       "  <tbody>\n",
       "    <tr>\n",
       "      <th>54</th>\n",
       "      <td>Knoxville</td>\n",
       "      <td>Foot Locker</td>\n",
       "      <td>122641.99</td>\n",
       "    </tr>\n",
       "    <tr>\n",
       "      <th>13</th>\n",
       "      <td>Birmingham</td>\n",
       "      <td>Amazon</td>\n",
       "      <td>146947.48</td>\n",
       "    </tr>\n",
       "    <tr>\n",
       "      <th>59</th>\n",
       "      <td>Los Angeles</td>\n",
       "      <td>Foot Locker</td>\n",
       "      <td>193618.89</td>\n",
       "    </tr>\n",
       "    <tr>\n",
       "      <th>33</th>\n",
       "      <td>Dallas</td>\n",
       "      <td>Foot Locker</td>\n",
       "      <td>194888.42</td>\n",
       "    </tr>\n",
       "    <tr>\n",
       "      <th>30</th>\n",
       "      <td>Chicago</td>\n",
       "      <td>Sports Direct</td>\n",
       "      <td>237591.94</td>\n",
       "    </tr>\n",
       "  </tbody>\n",
       "</table>\n",
       "</div>"
      ],
      "text/plain": [
       "           City       Retailer  Operating Profit\n",
       "54    Knoxville    Foot Locker         122641.99\n",
       "13   Birmingham         Amazon         146947.48\n",
       "59  Los Angeles    Foot Locker         193618.89\n",
       "33       Dallas    Foot Locker         194888.42\n",
       "30      Chicago  Sports Direct         237591.94"
      ]
     },
     "execution_count": 45,
     "metadata": {},
     "output_type": "execute_result"
    }
   ],
   "source": [
    "# Displaying the results: Worst performing stores\n",
    "print(\"\\nWorst Performing Stores:\")\n",
    "print(worst_performing_stores.head())\n",
    "worst_performing_stores.head()"
   ]
  },
  {
   "cell_type": "markdown",
   "id": "cbafb46b",
   "metadata": {},
   "source": [
    "#### Question 8. Finding out the best and worst performing store location wise.\n",
    "\n",
    "1. Based on the analysis I performed, the retailers- foot lock, west gear, and sports direct are doing the most amount of sales in the cities Charletson, San Franciso, and Birmingham respectively.\n",
    "\n",
    "2. And, Foot locker at Knoxville, Amazon at Birmingham and Foot locker at Los Angeles are doing the poor sales."
   ]
  },
  {
   "cell_type": "markdown",
   "id": "85f42b5e",
   "metadata": {},
   "source": [
    "### 9. Time series analysis\n",
    "Observe the sales trend over time to find out if there exists any monthly trend."
   ]
  },
  {
   "cell_type": "code",
   "execution_count": 46,
   "id": "a00f5e8c",
   "metadata": {},
   "outputs": [
    {
     "data": {
      "image/png": "[encoded data removed]",
      "text/plain": [
       "<Figure size 1200x700 with 1 Axes>"
      ]
     },
     "metadata": {},
     "output_type": "display_data"
    }
   ],
   "source": [
    "# Group by month and calculate total sales for each month\n",
    "monthly_sales = df.groupby(df['Invoice Date'].dt.to_period('M'))['Total Sales'].sum()\n",
    "\n",
    "# Convert the index (which is of type 'Period') to DateTime objects\n",
    "monthly_sales.index = monthly_sales.index.to_timestamp()\n",
    "\n",
    "# Setting the style for a more aesthetic plot\n",
    "sns.set(style=\"whitegrid\")\n",
    "\n",
    "# Plotting the sales trends over time\n",
    "plt.figure(figsize=(12, 7))\n",
    "plt.plot(monthly_sales.index, monthly_sales.values, marker='o', color='teal', linestyle='-', linewidth=2)\n",
    "plt.xlabel('Month', fontsize=12)\n",
    "plt.ylabel('Total Sales', fontsize=12)\n",
    "plt.title('Monthly Sales Trends', fontsize=14)\n",
    "plt.xticks(rotation=0)\n",
    "plt.tick_params(axis='both', which='major', labelsize=10)\n",
    "plt.tight_layout()\n",
    "plt.show()"
   ]
  },
  {
   "cell_type": "code",
   "execution_count": 47,
   "id": "a715be0b",
   "metadata": {},
   "outputs": [
    {
     "name": "stdout",
     "output_type": "stream",
     "text": [
      "These sales follow a seasonality.\n",
      "There is no consistent trend in sales.\n"
     ]
    }
   ],
   "source": [
    "# Calculate the difference between consecutive months for trend analysis\n",
    "diff = monthly_sales.diff()\n",
    "\n",
    "# Define the threshold for significant change (seasonality)\n",
    "seasonality_threshold = 10000\n",
    "\n",
    "# Check for seasonality\n",
    "if (diff.abs() > seasonality_threshold).any():\n",
    "    print(\"These sales follow a seasonality.\")\n",
    "else:\n",
    "    print(\"These sales do not follow a seasonality.\")\n",
    "\n",
    "# Check for trend\n",
    "if (diff > 0).all():\n",
    "    print(\"There is an increasing trend in sales.\")\n",
    "elif (diff < 0).all():\n",
    "    print(\"There is a decreasing trend in sales.\")\n",
    "else:\n",
    "    print(\"There is no consistent trend in sales.\")\n"
   ]
  },
  {
   "cell_type": "markdown",
   "id": "d6b9f794",
   "metadata": {},
   "source": [
    "#### Question 9: Observe the sales trend over time to find out if there exists any monthly trend.\n",
    "\n",
    "1. If we observe the graph, we see a spike increase in sales in the month of December and it lasts till January. This is when Black Friday and Cyber Monday sales take place.\n",
    "\n",
    "2. Also, after analysis we see - These sales follow a seasonality clearly, and The is no consistent trend in sales."
   ]
  },
  {
   "cell_type": "markdown",
   "id": "e6ae8dc1",
   "metadata": {},
   "source": [
    "### 10. Predictive Sales Analysis\n",
    "Make a Prediction of monthly sales."
   ]
  },
  {
   "cell_type": "code",
   "execution_count": 48,
   "id": "826d51e1",
   "metadata": {},
   "outputs": [
    {
     "name": "stdout",
     "output_type": "stream",
     "text": [
      "Requirement already satisfied: pip in c:\\users\\padwa\\appdata\\local\\programs\\python\\python310\\lib\\site-packages (23.3.2)\n",
      "Note: you may need to restart the kernel to use updated packages.\n"
     ]
    }
   ],
   "source": [
    "pip install --upgrade pip"
   ]
  },
  {
   "cell_type": "code",
   "execution_count": 49,
   "id": "b63e241b",
   "metadata": {},
   "outputs": [],
   "source": [
    "from statsmodels.tsa.arima.model import ARIMA"
   ]
  },
  {
   "cell_type": "code",
   "execution_count": 50,
   "id": "e5e373a2",
   "metadata": {},
   "outputs": [
    {
     "data": {
      "image/png": "[encoded data removed]",
      "text/plain": [
       "<Figure size 1200x600 with 1 Axes>"
      ]
     },
     "metadata": {},
     "output_type": "display_data"
    }
   ],
   "source": [
    "# Fit the ARIMA model to the data\n",
    "model = ARIMA(monthly_sales, order=(2,1,2))  # Order: (p, d, q)\n",
    "model_fit = model.fit()\n",
    "\n",
    "# Make predictions for the next 12 months\n",
    "forecast_steps = 12\n",
    "forecast = model_fit.forecast(steps=forecast_steps)\n",
    "\n",
    "#Visualize the actual sales data and the forecasted values for the next months.\n",
    "plt.figure(figsize=(12, 6))\n",
    "plt.plot(monthly_sales.index, monthly_sales.values, marker='o', label='Actual Sales')\n",
    "plt.plot(pd.date_range(start=monthly_sales.index[-1], periods=forecast_steps+1, freq='M')[1:], forecast, marker='o', label='Forecasted Sales')\n",
    "plt.xlabel('Date')\n",
    "plt.ylabel('Total Sales')\n",
    "plt.title('Monthly Sales Forecast')\n",
    "plt.legend()\n",
    "plt.xticks(rotation=0)\n",
    "plt.grid(True)\n",
    "plt.show()"
   ]
  },
  {
   "cell_type": "code",
   "execution_count": null,
   "id": "b4764077",
   "metadata": {},
   "outputs": [],
   "source": []
  }
 ],
 "metadata": {
  "kernelspec": {
   "display_name": "Python 3 (ipykernel)",
   "language": "python",
   "name": "python3"
  },
  "language_info": {
   "codemirror_mode": {
    "name": "ipython",
    "version": 3
   },
   "file_extension": ".py",
   "mimetype": "text/x-python",
   "name": "python",
   "nbconvert_exporter": "python",
   "pygments_lexer": "ipython3",
   "version": "3.10.8"
  }
 },
 "nbformat": 4,
 "nbformat_minor": 5
}
